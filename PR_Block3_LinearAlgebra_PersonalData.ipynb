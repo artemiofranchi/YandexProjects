{
 "cells": [
  {
   "cell_type": "markdown",
   "metadata": {},
   "source": [
    "<div class=\"alert alert-info\">\n",
    "<font size=\"5\"><b>Комментарий ревьюера</b></font>\n",
    "\n",
    "Привет Артём! Меня зовут Марат, и я буду твоим ревьюером. Спешу сообщить что все ключевые этапы в работе выполнены,  с задачей тебе удалось справиться. По поводу обращения - в IT сфере принято общаться на «ты» :) Но, если привычней на «вы», дай знать. Как ревьюера моя задача помочь тебе в развитии, дав хорошие советы. Я внимательно посмотрю твой код, ознакомлюсь с твоими выводами и оставлю комментарии. Где то могу предложить небольшие исправление в коде, но ненавязчиво. Где потребуются уточнения, я оставлю много наводящих вопросов. Они помогут тебя с поиском верного решения.\n",
    "\n",
    "Все мои комментарии размечены по цветам, для лучшего восприятия. \n",
    "    \n",
    "<div class=\"alert alert-success\">Зеленым цветом и 👍, словом «Успех» отмечены особо удачные и элегантные решения, которыми ты можешь гордиться. </div>\n",
    "        \n",
    "<div class=\"alert alert-warning\">Желтым и 🤔, словом «Совет», помечены решения у которых есть альтернативные решения, более оптимальные. Ты можешь найти их сразу и доработать проект, или отложить это на потом, для будущих проектах. Проект будет принят и без их доработки. </div>\n",
    "        \n",
    "<div class=\"alert alert-danger\"> Красным цветом и значком ❌, словом «Ошибка» помечу твои решения, на которые стоит обратить внимание прежде всего. После их доработки проект будет принят. </div>\n",
    "        \n",
    "Залог успеха - работа сообща, взаимное уважение и работа в диалоге. Поэтому, помечай свои ответные комментарии на мои реплики заметным цветом или курсивом, так мне будет легче их отслеживать. Пожалуйста, не изменяй и не удаляй мои комментарии. Все это поможет выполнить повторную проверку быстрей.\n",
    "\n",
    "</div>"
   ]
  },
  {
   "cell_type": "markdown",
   "metadata": {
    "toc": true
   },
   "source": [
    "<h1>Содержание<span class=\"tocSkip\"></span></h1>\n",
    "<div class=\"toc\"><ul class=\"toc-item\"><li><span><a href=\"#Загрузка-данных\" data-toc-modified-id=\"Загрузка-данных-1\"><span class=\"toc-item-num\">1&nbsp;&nbsp;</span>Загрузка данных</a></span></li><li><span><a href=\"#Умножение-матриц\" data-toc-modified-id=\"Умножение-матриц-2\"><span class=\"toc-item-num\">2&nbsp;&nbsp;</span>Умножение матриц</a></span></li><li><span><a href=\"#Алгоритм-преобразования\" data-toc-modified-id=\"Алгоритм-преобразования-3\"><span class=\"toc-item-num\">3&nbsp;&nbsp;</span>Алгоритм преобразования</a></span></li><li><span><a href=\"#Проверка-алгоритма\" data-toc-modified-id=\"Проверка-алгоритма-4\"><span class=\"toc-item-num\">4&nbsp;&nbsp;</span>Проверка алгоритма</a></span></li><li><span><a href=\"#Выводы\" data-toc-modified-id=\"Выводы-5\"><span class=\"toc-item-num\">5&nbsp;&nbsp;</span>Выводы</a></span></li><li><span><a href=\"#Чек-лист-проверки\" data-toc-modified-id=\"Чек-лист-проверки-6\"><span class=\"toc-item-num\">6&nbsp;&nbsp;</span>Чек-лист проверки</a></span></li></ul></div>"
   ]
  },
  {
   "cell_type": "markdown",
   "metadata": {},
   "source": [
    "# Защита персональных данных клиентов"
   ]
  },
  {
   "cell_type": "markdown",
   "metadata": {},
   "source": [
    "Вам нужно защитить данные клиентов страховой компании «Хоть потоп». Разработайте такой метод преобразования данных, чтобы по ним было сложно восстановить персональную информацию. Обоснуйте корректность его работы.\n",
    "\n",
    "Нужно защитить данные, чтобы при преобразовании качество моделей машинного обучения не ухудшилось. Подбирать наилучшую модель не требуется."
   ]
  },
  {
   "cell_type": "markdown",
   "metadata": {},
   "source": [
    "<div class=\"alert alert-success\">\n",
    "<font size=\"5\"><b>Комментарий ревьюера</b></font>\n",
    "\n",
    "Успех 👍:\n",
    "\n",
    "\n",
    "Вступление в работу очень важно, так человек, который смотрит твой проект (и на работе в том числе) будет сразу введен в курс дела.\n",
    "\n",
    "\n",
    "\n",
    "\n",
    "\n",
    "</div>"
   ]
  },
  {
   "cell_type": "markdown",
   "metadata": {},
   "source": [
    "## Загрузка данных"
   ]
  },
  {
   "cell_type": "code",
   "execution_count": 1,
   "metadata": {},
   "outputs": [],
   "source": [
    "import pandas as pd\n",
    "import numpy as np\n",
    "import seaborn as sns\n",
    "import matplotlib.pyplot as plt\n",
    "from sklearn.model_selection import train_test_split\n",
    "from sklearn.linear_model import LinearRegression"
   ]
  },
  {
   "cell_type": "code",
   "execution_count": 2,
   "metadata": {},
   "outputs": [
    {
     "data": {
      "text/html": [
       "<div>\n",
       "<style scoped>\n",
       "    .dataframe tbody tr th:only-of-type {\n",
       "        vertical-align: middle;\n",
       "    }\n",
       "\n",
       "    .dataframe tbody tr th {\n",
       "        vertical-align: top;\n",
       "    }\n",
       "\n",
       "    .dataframe thead th {\n",
       "        text-align: right;\n",
       "    }\n",
       "</style>\n",
       "<table border=\"1\" class=\"dataframe\">\n",
       "  <thead>\n",
       "    <tr style=\"text-align: right;\">\n",
       "      <th></th>\n",
       "      <th>Пол</th>\n",
       "      <th>Возраст</th>\n",
       "      <th>Зарплата</th>\n",
       "      <th>Члены семьи</th>\n",
       "      <th>Страховые выплаты</th>\n",
       "    </tr>\n",
       "  </thead>\n",
       "  <tbody>\n",
       "    <tr>\n",
       "      <th>0</th>\n",
       "      <td>1</td>\n",
       "      <td>41.0</td>\n",
       "      <td>49600.0</td>\n",
       "      <td>1</td>\n",
       "      <td>0</td>\n",
       "    </tr>\n",
       "    <tr>\n",
       "      <th>1</th>\n",
       "      <td>0</td>\n",
       "      <td>46.0</td>\n",
       "      <td>38000.0</td>\n",
       "      <td>1</td>\n",
       "      <td>1</td>\n",
       "    </tr>\n",
       "    <tr>\n",
       "      <th>2</th>\n",
       "      <td>0</td>\n",
       "      <td>29.0</td>\n",
       "      <td>21000.0</td>\n",
       "      <td>0</td>\n",
       "      <td>0</td>\n",
       "    </tr>\n",
       "    <tr>\n",
       "      <th>3</th>\n",
       "      <td>0</td>\n",
       "      <td>21.0</td>\n",
       "      <td>41700.0</td>\n",
       "      <td>2</td>\n",
       "      <td>0</td>\n",
       "    </tr>\n",
       "    <tr>\n",
       "      <th>4</th>\n",
       "      <td>1</td>\n",
       "      <td>28.0</td>\n",
       "      <td>26100.0</td>\n",
       "      <td>0</td>\n",
       "      <td>0</td>\n",
       "    </tr>\n",
       "  </tbody>\n",
       "</table>\n",
       "</div>"
      ],
      "text/plain": [
       "   Пол  Возраст  Зарплата  Члены семьи  Страховые выплаты\n",
       "0    1     41.0   49600.0            1                  0\n",
       "1    0     46.0   38000.0            1                  1\n",
       "2    0     29.0   21000.0            0                  0\n",
       "3    0     21.0   41700.0            2                  0\n",
       "4    1     28.0   26100.0            0                  0"
      ]
     },
     "execution_count": 2,
     "metadata": {},
     "output_type": "execute_result"
    }
   ],
   "source": [
    "data = pd.read_csv('/datasets/insurance.csv')\n",
    "data.head()"
   ]
  },
  {
   "cell_type": "code",
   "execution_count": 3,
   "metadata": {},
   "outputs": [
    {
     "name": "stdout",
     "output_type": "stream",
     "text": [
      "<class 'pandas.core.frame.DataFrame'>\n",
      "RangeIndex: 5000 entries, 0 to 4999\n",
      "Data columns (total 5 columns):\n",
      " #   Column             Non-Null Count  Dtype  \n",
      "---  ------             --------------  -----  \n",
      " 0   Пол                5000 non-null   int64  \n",
      " 1   Возраст            5000 non-null   float64\n",
      " 2   Зарплата           5000 non-null   float64\n",
      " 3   Члены семьи        5000 non-null   int64  \n",
      " 4   Страховые выплаты  5000 non-null   int64  \n",
      "dtypes: float64(2), int64(3)\n",
      "memory usage: 195.4 KB\n"
     ]
    }
   ],
   "source": [
    "data.info()"
   ]
  },
  {
   "cell_type": "markdown",
   "metadata": {},
   "source": [
    "- Можно преоразовать столбцы 'Возраст' и 'Зарплата' в int"
   ]
  },
  {
   "cell_type": "code",
   "execution_count": 4,
   "metadata": {},
   "outputs": [
    {
     "name": "stdout",
     "output_type": "stream",
     "text": [
      "<class 'pandas.core.frame.DataFrame'>\n",
      "RangeIndex: 5000 entries, 0 to 4999\n",
      "Data columns (total 5 columns):\n",
      " #   Column             Non-Null Count  Dtype\n",
      "---  ------             --------------  -----\n",
      " 0   Пол                5000 non-null   int64\n",
      " 1   Возраст            5000 non-null   int64\n",
      " 2   Зарплата           5000 non-null   int64\n",
      " 3   Члены семьи        5000 non-null   int64\n",
      " 4   Страховые выплаты  5000 non-null   int64\n",
      "dtypes: int64(5)\n",
      "memory usage: 195.4 KB\n"
     ]
    }
   ],
   "source": [
    "data['Зарплата'] = data['Зарплата'].astype('int')\n",
    "data['Возраст'] = data['Возраст'].astype('int')\n",
    "data.info()"
   ]
  },
  {
   "cell_type": "markdown",
   "metadata": {},
   "source": [
    "- Посмотрим дубликаты"
   ]
  },
  {
   "cell_type": "code",
   "execution_count": 5,
   "metadata": {},
   "outputs": [
    {
     "data": {
      "text/plain": [
       "153"
      ]
     },
     "execution_count": 5,
     "metadata": {},
     "output_type": "execute_result"
    }
   ],
   "source": [
    "data.duplicated().sum()"
   ]
  },
  {
   "cell_type": "code",
   "execution_count": 6,
   "metadata": {},
   "outputs": [
    {
     "data": {
      "text/plain": [
       "0"
      ]
     },
     "execution_count": 6,
     "metadata": {},
     "output_type": "execute_result"
    }
   ],
   "source": [
    "data = data.drop_duplicates().reset_index(drop=True)\n",
    "data.duplicated().sum()"
   ]
  },
  {
   "cell_type": "markdown",
   "metadata": {},
   "source": [
    "- 153 дубликата убраны.\n",
    "- Посмотрим распределения признаков"
   ]
  },
  {
   "cell_type": "code",
   "execution_count": 7,
   "metadata": {},
   "outputs": [
    {
     "data": {
      "image/png": "[encoded data removed]",
      "text/plain": [
       "<Figure size 1440x360 with 2 Axes>"
      ]
     },
     "metadata": {},
     "output_type": "display_data"
    },
    {
     "data": {
      "image/png": "[encoded data removed]",
      "text/plain": [
       "<Figure size 1440x360 with 2 Axes>"
      ]
     },
     "metadata": {},
     "output_type": "display_data"
    },
    {
     "data": {
      "image/png": "[encoded data removed]",
      "text/plain": [
       "<Figure size 1440x360 with 2 Axes>"
      ]
     },
     "metadata": {},
     "output_type": "display_data"
    },
    {
     "data": {
      "image/png": "[encoded data removed]",
      "text/plain": [
       "<Figure size 1440x360 with 2 Axes>"
      ]
     },
     "metadata": {},
     "output_type": "display_data"
    },
    {
     "data": {
      "image/png": "[encoded data removed]",
      "text/plain": [
       "<Figure size 1440x360 with 2 Axes>"
      ]
     },
     "metadata": {},
     "output_type": "display_data"
    }
   ],
   "source": [
    "for column in data.columns:\n",
    "    sns.set()\n",
    "    plt.figure(figsize=(20,5))\n",
    "    ax1 = plt.subplot(1,2,1)\n",
    "    ax1 = sns.histplot(data=data[column], bins=40)\n",
    "    ax1.set_title(f'Плотность распределения {column}', fontsize=16)\n",
    "    ax2 = plt.subplot(1,2,2)\n",
    "    ax2 = sns.boxplot(data=data[column])\n",
    "    ax2.set_title(f'Плотность распределения {column}', fontsize=16)\n",
    "    "
   ]
  },
  {
   "cell_type": "markdown",
   "metadata": {},
   "source": [
    "- Возраст имеет Пуассоновское распределение со скачками в некоторых возрастах\n",
    "- Зарплата имеет нормальное распределение\n",
    "- Есть несколько выбросов в этих признаках, но их незначительное число"
   ]
  },
  {
   "cell_type": "code",
   "execution_count": 21,
   "metadata": {},
   "outputs": [
    {
     "data": {
      "text/html": [
       "<div>\n",
       "<style scoped>\n",
       "    .dataframe tbody tr th:only-of-type {\n",
       "        vertical-align: middle;\n",
       "    }\n",
       "\n",
       "    .dataframe tbody tr th {\n",
       "        vertical-align: top;\n",
       "    }\n",
       "\n",
       "    .dataframe thead th {\n",
       "        text-align: right;\n",
       "    }\n",
       "</style>\n",
       "<table border=\"1\" class=\"dataframe\">\n",
       "  <thead>\n",
       "    <tr style=\"text-align: right;\">\n",
       "      <th></th>\n",
       "      <th>Пол</th>\n",
       "      <th>Возраст</th>\n",
       "      <th>Зарплата</th>\n",
       "      <th>Члены семьи</th>\n",
       "      <th>Страховые выплаты</th>\n",
       "    </tr>\n",
       "  </thead>\n",
       "  <tbody>\n",
       "    <tr>\n",
       "      <th>count</th>\n",
       "      <td>4847.000000</td>\n",
       "      <td>4847.000000</td>\n",
       "      <td>4847.000000</td>\n",
       "      <td>4847.000000</td>\n",
       "      <td>4847.000000</td>\n",
       "    </tr>\n",
       "    <tr>\n",
       "      <th>mean</th>\n",
       "      <td>0.498453</td>\n",
       "      <td>31.023932</td>\n",
       "      <td>39895.811223</td>\n",
       "      <td>1.203425</td>\n",
       "      <td>0.152259</td>\n",
       "    </tr>\n",
       "    <tr>\n",
       "      <th>std</th>\n",
       "      <td>0.500049</td>\n",
       "      <td>8.487995</td>\n",
       "      <td>9972.952441</td>\n",
       "      <td>1.098664</td>\n",
       "      <td>0.468934</td>\n",
       "    </tr>\n",
       "    <tr>\n",
       "      <th>min</th>\n",
       "      <td>0.000000</td>\n",
       "      <td>18.000000</td>\n",
       "      <td>5300.000000</td>\n",
       "      <td>0.000000</td>\n",
       "      <td>0.000000</td>\n",
       "    </tr>\n",
       "    <tr>\n",
       "      <th>25%</th>\n",
       "      <td>0.000000</td>\n",
       "      <td>24.000000</td>\n",
       "      <td>33200.000000</td>\n",
       "      <td>0.000000</td>\n",
       "      <td>0.000000</td>\n",
       "    </tr>\n",
       "    <tr>\n",
       "      <th>50%</th>\n",
       "      <td>0.000000</td>\n",
       "      <td>30.000000</td>\n",
       "      <td>40200.000000</td>\n",
       "      <td>1.000000</td>\n",
       "      <td>0.000000</td>\n",
       "    </tr>\n",
       "    <tr>\n",
       "      <th>75%</th>\n",
       "      <td>1.000000</td>\n",
       "      <td>37.000000</td>\n",
       "      <td>46600.000000</td>\n",
       "      <td>2.000000</td>\n",
       "      <td>0.000000</td>\n",
       "    </tr>\n",
       "    <tr>\n",
       "      <th>max</th>\n",
       "      <td>1.000000</td>\n",
       "      <td>65.000000</td>\n",
       "      <td>79000.000000</td>\n",
       "      <td>6.000000</td>\n",
       "      <td>5.000000</td>\n",
       "    </tr>\n",
       "  </tbody>\n",
       "</table>\n",
       "</div>"
      ],
      "text/plain": [
       "               Пол      Возраст      Зарплата  Члены семьи  Страховые выплаты\n",
       "count  4847.000000  4847.000000   4847.000000  4847.000000        4847.000000\n",
       "mean      0.498453    31.023932  39895.811223     1.203425           0.152259\n",
       "std       0.500049     8.487995   9972.952441     1.098664           0.468934\n",
       "min       0.000000    18.000000   5300.000000     0.000000           0.000000\n",
       "25%       0.000000    24.000000  33200.000000     0.000000           0.000000\n",
       "50%       0.000000    30.000000  40200.000000     1.000000           0.000000\n",
       "75%       1.000000    37.000000  46600.000000     2.000000           0.000000\n",
       "max       1.000000    65.000000  79000.000000     6.000000           5.000000"
      ]
     },
     "execution_count": 21,
     "metadata": {},
     "output_type": "execute_result"
    }
   ],
   "source": [
    "data.describe()"
   ]
  },
  {
   "cell_type": "markdown",
   "metadata": {},
   "source": [
    "<div class=\"alert alert-success\">\n",
    "<font size=\"5\"><b>Комментарий ревьюераV2</b></font>\n",
    "\n",
    "\n",
    "\n",
    "Успех 👍:\n",
    "\n",
    "\n",
    "\n",
    "describe 👍\n",
    "\n",
    "\n",
    "\n",
    "Кстати по поводу дубликатов.  Можно посмотреть насколько вероятно что это никакие не дубликаты (Посчитать все возможные комбинации, и посмотреть вероятность того что на 5000 данных ничего не совпадет)\n",
    "\n",
    "\n"
   ]
  },
  {
   "cell_type": "markdown",
   "metadata": {},
   "source": [
    "<div class=\"alert alert-success\">\n",
    "<font size=\"5\"><b>Комментарий ревьюера</b></font>\n",
    "\n",
    "Успех 👍: \n",
    "    \n",
    "EDA проведено.  \n",
    "\n",
    "\n",
    "- Здорово чтоб обращено внимание на типы данных \n",
    "    \n",
    "- Использовал разные типы графика, для разных типов данных    \n",
    "    \n",
    "<div class=\"alert alert-warning\">\n",
    "\n",
    "\n",
    "Совет 🤔: \n",
    "    \n",
    "    \n",
    "- Джентльменский набор при разведочном анализе данных - это .info() + .describe()  .info (дает тебе информацию о пропусках и типах данных), .describe (медианы, квантили, max, min итд) \n",
    "\n",
    "\n"
   ]
  },
  {
   "cell_type": "markdown",
   "metadata": {},
   "source": [
    "## Умножение матриц"
   ]
  },
  {
   "cell_type": "markdown",
   "metadata": {},
   "source": [
    "В этом задании вы можете записывать формулы в *Jupyter Notebook.*\n",
    "\n",
    "Чтобы записать формулу внутри текста, окружите её символами доллара \\\\$; если снаружи —  двойными символами \\\\$\\\\$. Эти формулы записываются на языке вёрстки *LaTeX.* \n",
    "\n",
    "Для примера мы записали формулы линейной регрессии. Можете их скопировать и отредактировать, чтобы решить задачу.\n",
    "\n",
    "Работать в *LaTeX* необязательно."
   ]
  },
  {
   "cell_type": "markdown",
   "metadata": {},
   "source": [
    "Обозначения:\n",
    "\n",
    "- $X$ — матрица признаков (нулевой столбец состоит из единиц)\n",
    "\n",
    "- $y$ — вектор целевого признака\n",
    "\n",
    "- $P$ — матрица, на которую умножаются признаки\n",
    "\n",
    "- $w$ — вектор весов линейной регрессии (нулевой элемент равен сдвигу)"
   ]
  },
  {
   "cell_type": "markdown",
   "metadata": {},
   "source": [
    "Предсказания:\n",
    "\n",
    "$$\n",
    "a = Xw\n",
    "$$\n",
    "\n",
    "Задача обучения:\n",
    "\n",
    "$$\n",
    "w = \\arg\\min_w MSE(Xw, y)\n",
    "$$\n",
    "\n",
    "Формула обучения:\n",
    "\n",
    "$$\n",
    "w = (X^T X)^{-1} X^T y\n",
    "$$"
   ]
  },
  {
   "cell_type": "markdown",
   "metadata": {},
   "source": [
    "**Признаки умножают на обратимую матрицу. Изменится ли качество линейной регрессии?**"
   ]
  },
  {
   "cell_type": "markdown",
   "metadata": {},
   "source": [
    "**Ответ:** нет\n",
    "\n",
    "**Обоснование:** "
   ]
  },
  {
   "cell_type": "markdown",
   "metadata": {},
   "source": [
    "Пусть $ X' = XA $ (где А - обратимая матрица) - преобразованные признаки\n",
    "\n",
    "Тогда посмотрим что станет с формулой обучения:\n",
    "$$w' = (X'^{T}X')^{-1}X'^{T}y$$ \n",
    "Подставим X':\n",
    "\n",
    "$$w = ((XA)^{T}XA)^{-1}(XA)^Ty = (A^{T}X^{T}XA)^{-1}A^{T}X^{T}y = A^{-1}(X^{T}X)^{-1}(A^{T})^{-1}A^{T}X^{T}y =  A^{-1}(X^{T}X)^{-1}(A^{T})^{-1}A^{T}X^{T}y =\\\\\n",
    "= \\{(A^{T})^{-1}A^{T}=I\\} =A^{-1}(X^{T}X)^{-1}X^{T}y=A^{-1}w\n",
    "$$\n",
    "То есть формула веса отличается от исходной домножением на обратную матрицу данной обратимой.\n",
    "\n",
    "Теперь посмотрим, что происходит с предсказанием:\n",
    "$$a'=X'w'=XAA^{-1}w=Xw$$\n",
    "\n",
    "То есть качество ЛР не изменится. **ЧТД**"
   ]
  },
  {
   "cell_type": "markdown",
   "metadata": {},
   "source": [
    "<div class=\"alert alert-success\">\n",
    "<font size=\"5\"><b>Комментарий ревьюера</b></font>\n",
    "\n",
    "\n",
    "\n",
    "Успех 👍:\n",
    "\n",
    "\n",
    "\n",
    "\n",
    "Самая частая ошибка - не учитывают что обратная матрица может быть только у квадратной.  Часто не соблюдают правила матричного преобразования, или меняют матрицы местами при перемножении как цифры.  \n",
    "\n",
    "\n",
    "У тебя все ОК. \n",
    "    \n",
    "    \n",
    "\n",
    "\n"
   ]
  },
  {
   "cell_type": "markdown",
   "metadata": {},
   "source": [
    "## Алгоритм преобразования"
   ]
  },
  {
   "cell_type": "markdown",
   "metadata": {},
   "source": [
    "**Алгоритм**\n",
    "1. Подаем на вход признаки - матрицу X\n",
    "2. Далее генерируем квадратную матрицу А, которая будет состоять из рандомных значений.\n",
    "3. Проверяем матрицу на обратимость - если матрица обратима, то идем к п.4, иначе возвращаемся к п.2\n",
    "4. Преобразуем матрицу признаков X: получаем новую матрицу признаков X' = XA"
   ]
  },
  {
   "cell_type": "markdown",
   "metadata": {},
   "source": [
    "\n",
    "<div class=\"alert alert-success\">\n",
    "<font size=\"5\"><b>Комментарий ревьюера</b></font>\n",
    "\n",
    "Успех 👍:\n",
    "\n",
    "\n",
    "Принято\n",
    "\n",
    "<div class=\"alert alert-warning\">\n",
    "\n",
    "Совет 🤔:\n",
    "\n",
    "    \n",
    "    \n",
    "А еще можно взять единичную матрицу и применить  элементарный преобразования. или использовать [матрицу по принципу диагонального доминирования](https://question-it.com/questions/13911024/generatsija-obratimyh-matrits-v-numpytensorflow), и таким образом тоже получить обратимую матрицу \n",
    "\n"
   ]
  },
  {
   "cell_type": "markdown",
   "metadata": {},
   "source": [
    "**Обоснование**\n",
    "Матрица А должна быть квадратной, чтобы иметь обратную. Также она должна быть невырождена - если же вдруг случилось так, что определитель нулевой, то нужно сгенерировать новую матрицу\n",
    "\n",
    "Размер матрицы будет nxn, где n - количество признаков. То есть если матрица X имеет порядок $m \\times n$ (пусть m - количество объектов), то матрица A имеет порядок $n \\times n$, а результат их перемножения, матрица X', будет иметь порядок $(m \\times n) * (n \\times n) = (m \\times n)$\n",
    "\n",
    "Выше уже было доказано, что данное преобразование не меняет вектор предсказаний - следовательно это преобразование вполне \"легально\"."
   ]
  },
  {
   "cell_type": "markdown",
   "metadata": {},
   "source": [
    "## Проверка алгоритма"
   ]
  },
  {
   "cell_type": "markdown",
   "metadata": {},
   "source": [
    "Теперь настало время показать программную реализацию данного алгоритма."
   ]
  },
  {
   "cell_type": "code",
   "execution_count": 9,
   "metadata": {},
   "outputs": [],
   "source": [
    "rs = 12345"
   ]
  },
  {
   "cell_type": "code",
   "execution_count": 10,
   "metadata": {},
   "outputs": [],
   "source": [
    "def transform(features):\n",
    "    det = 0\n",
    "    while det==0:\n",
    "        np.random.seed(rs)\n",
    "        A = np.random.rand(features.shape[1], features.shape[1]) # матрица nxn со случайными значениями от 0 до 1\n",
    "        det = np.linalg.det(A)\n",
    "    new_X = features @ A\n",
    "    return new_X"
   ]
  },
  {
   "cell_type": "code",
   "execution_count": 11,
   "metadata": {},
   "outputs": [],
   "source": [
    "features = data.drop(columns=['Страховые выплаты'])\n",
    "target = data['Страховые выплаты']"
   ]
  },
  {
   "cell_type": "code",
   "execution_count": 12,
   "metadata": {},
   "outputs": [],
   "source": [
    "features_train, features_test, target_train, target_test = train_test_split(features, target, test_size=0.25, random_state=rs)\n",
    "features_train_new = transform(features_train)\n",
    "features_test_new = transform(features_test)"
   ]
  },
  {
   "cell_type": "markdown",
   "metadata": {},
   "source": [
    "1. Непреобразованные признаки"
   ]
  },
  {
   "cell_type": "code",
   "execution_count": 13,
   "metadata": {},
   "outputs": [
    {
     "name": "stdout",
     "output_type": "stream",
     "text": [
      "R2 score with original features:  0.42307727615837565\n",
      "weights of the model: [ 1.45766006e-02  3.64782925e-02  1.79476487e-07 -1.23345017e-02]\n"
     ]
    }
   ],
   "source": [
    "model = LinearRegression()\n",
    "model.fit(features_train, target_train)\n",
    "r2 = model.score(features_test, target_test)\n",
    "print('R2 score with original features: ', r2)\n",
    "print('weights of the model:', model.coef_)\n",
    "original_coef = model.coef_"
   ]
  },
  {
   "cell_type": "markdown",
   "metadata": {},
   "source": [
    "2. Преобразованные признаки"
   ]
  },
  {
   "cell_type": "code",
   "execution_count": 14,
   "metadata": {},
   "outputs": [
    {
     "name": "stdout",
     "output_type": "stream",
     "text": [
      "R2 score with original features:  0.4230772761582595\n",
      "weights of the model: [ 0.03302154 -0.07532717  0.10065084 -0.05279941]\n"
     ]
    }
   ],
   "source": [
    "model = LinearRegression()\n",
    "model.fit(features_train_new, target_train)\n",
    "r2 = model.score(features_test_new, target_test)\n",
    "print('R2 score with original features: ', r2)\n",
    "print('weights of the model:', model.coef_)\n",
    "modif_coef = model.coef_"
   ]
  },
  {
   "cell_type": "code",
   "execution_count": 15,
   "metadata": {},
   "outputs": [
    {
     "name": "stdout",
     "output_type": "stream",
     "text": [
      "[ 2.26537993e+00 -2.06498610e+00  5.60802393e+05  4.28062778e+00]\n"
     ]
    }
   ],
   "source": [
    "print(modif_coef / original_coef)"
   ]
  },
  {
   "cell_type": "markdown",
   "metadata": {},
   "source": [
    "3. Дополнительно можно проверить, что смещение признаков на какое-то число также не повлияет на качество прогноза"
   ]
  },
  {
   "cell_type": "code",
   "execution_count": 16,
   "metadata": {},
   "outputs": [
    {
     "name": "stdout",
     "output_type": "stream",
     "text": [
      "R2 score with original features:  0.42307727615836244\n",
      "weights of the model: [ 1.45766006e-02  3.64782925e-02  1.79476487e-07 -1.23345017e-02]\n"
     ]
    }
   ],
   "source": [
    "a = np.random.random(1) * np.random.randint(0,100,1)\n",
    "c0 = np.ones((features_train.shape[0], features_train.shape[1])) * a\n",
    "c1 = np.ones((features_test.shape[0], features_test.shape[1])) * a\n",
    "model = LinearRegression()\n",
    "model.fit(features_train+c0, target_train)\n",
    "r2 = model.score(features_test+c1, target_test)\n",
    "print('R2 score with original features: ', r2)\n",
    "print('weights of the model:', model.coef_)"
   ]
  },
  {
   "cell_type": "markdown",
   "metadata": {},
   "source": [
    "- R2 метрика не изменилась(есть мизерная погрешность)\n",
    "- Веса увеличились по модулю в несколько раз при умножении на обратную матрицу."
   ]
  },
  {
   "cell_type": "markdown",
   "metadata": {},
   "source": [
    "\n",
    "\n",
    "<div class=\"alert alert-success\">\n",
    "<font size=\"5\"><b>Комментарий ревьюера</b></font>\n",
    "\n",
    "Успех 👍:\n",
    "    \n",
    "Все сошлось. Отдельный плюс за: \n",
    "    \n",
    "    \n",
    "- универсальность кода: код отработает для любой размерности матрицы обьект-признак  \n",
    "\n",
    "    \n",
    "- использование конструкции while, чтобы гарантированно получить обратимую матрицу \n",
    "    \n",
    "    \n",
    "\n",
    "\n",
    "- использование train_test_split - все правильно, помним о стандартах ML при моделировании\n",
    "\n",
    "  "
   ]
  },
  {
   "cell_type": "markdown",
   "metadata": {},
   "source": [
    "## Выводы"
   ]
  },
  {
   "cell_type": "markdown",
   "metadata": {},
   "source": [
    "- Данные успешно загружены\n",
    "- Типы данных приведены к надлежащему виду\n",
    "- Удалены дубликаты\n",
    "- Проанализированы распределения признаков - значимых аномалий нет\n",
    "- Было выяснено, что качество линейной регрессии не меняется при умножении матрицы признаков на обратимую матрицу\n",
    "- Из этих соображений предложен алгоритм, который и заключается в умножении матрицы признаков на эту обратимую матрицу\n",
    "- Алгоритм проверен и реализован программно\n",
    "- Подтверждено, что качество прогноза не меняется, а следовательно шифрование успешно"
   ]
  },
  {
   "cell_type": "markdown",
   "metadata": {},
   "source": [
    "\n",
    "<div class=\"alert alert-success\">\n",
    "<font size=\"5\"><b>Комментарий ревьюера</b></font>\n",
    "\n",
    "Успех 👍:\n",
    "\n",
    "\n",
    "Артём, здорово что в конце расписана все этапы работы. Это важно потому что когда проект захочет посмотреть будущий работодатель (или начальник), у него может не быть времени на подробный разбор кода. Вероятнее всего он бегло просмотрит код, а из общего вывода захочет получить представление о всей работе.\n",
    "\n"
   ]
  },
  {
   "cell_type": "markdown",
   "metadata": {},
   "source": [
    "\n",
    "<div class=\"alert alert-info\">\n",
    "<font size=\"5\"><b>Комментарий ревьюера</b></font>\n",
    "\n",
    "\n",
    "Артём, у тебя старательно выполненная работа, все четко, осмысленно. Отмечаю уровень твоей программистской подготовки. \n",
    "\n",
    "\n",
    "\n",
    "Я оставил небольшие советы и вопросики (если есть время и желание можешь воспользоваться/ответить)\n",
    "    \n",
    "\n",
    "\n",
    "Посылаю на вторую итерацию, чтобы ответить на вопросы если они появятся. На связи\n",
    "    \n",
    "\n",
    "\n",
    "\n",
    "\n",
    "\n",
    "\n",
    "\n",
    "<div class=\"alert alert-warning\">\n",
    "<b>Комментарий ревьюера</b>\n",
    "\n",
    "\n",
    "\n",
    "На мой взгляд проект очень необычный, выделяющийся из остальных проектов потому что касается раздела математики лежащей в основе машинного обучения  (помимо производных, матанализа и теории вероятности с матстатистикой). Если в дальнейшем ты углубишься в изучении нейростетей, то понимание линейной алгебры будет очень полезным, потому что, по сути, все нейросети - это перемножение матриц и Линейная алгебра даёт очень компактный способ записи того что происходит в нейросетях. \n",
    "\n",
    "Кроме того языком линейной алгебра можно объяснить тематическое моделирование и pca (через сингулярное разложение)\n",
    "\n",
    "Мне не очень нравится эти ссылки, наверняка можно найти получше, но там вполне наглядно показывают связь между линейной алгебры и многослойным перцептроном\n",
    "    \n",
    "https://www.youtube.com/watch?v=kmdqBlls_HQ    \n",
    "https://www.youtube.com/watch?v=AOZZeTQl4Xc\n",
    "\n",
    "\n",
    "Это даже важно как \"понятийный язык\", вот здесь о модели word2vec (это NLP) рассказываться \"языком линейной алгебры\" с [22 минуты](https://www.youtube.com/watch?v=MBQdMQUZMQM&t=3340s) \n",
    "    \n",
    "\n",
    "Возможно будет полезно:\n",
    "    \n",
    "\n",
    "    \n",
    "- Если хочешь посмотреть вообще про линейную алгебру и матрицы, то мне нравится  вот это [видео](https://www.youtube.com/watch?v=RNTRYicPvWQ&list=PLVjLpKXnAGLXPaS7FRBjd5yZeXwJxZil2), рассказывается по существу и увлекательно.  \n",
    "\n",
    "\n",
    "- по применению криптографии в машинном обучении на английском: [тут](https://www.cs.cmu.edu/~rjhall/JOS_revised_May_31a.pdf)\n",
    "\n",
    "\n"
   ]
  },
  {
   "cell_type": "markdown",
   "metadata": {},
   "source": [
    "<div class=\"alert alert-info\">\n",
    "<font size=\"5\"><b>Комментарий студента</b></font>\n",
    "\n",
    "\n",
    "Спасибо за ревью!!! Учел замечания) Ссылки просмотрю.\n",
    "\n",
    "\n",
    "\n",
    "\n",
    "</div>"
   ]
  },
  {
   "cell_type": "markdown",
   "metadata": {},
   "source": [
    "\n",
    "<div class=\"alert alert-info\">\n",
    "<font size=\"5\"><b>Комментарий ревьюераV2</b></font>\n",
    "\n",
    "Спасибо за работу! Вижу добавил describe, надеюсь ссылки будут полезными    \n",
    "\n",
    "    \n",
    "\n",
    "  \n",
    "Отличная работа Артём. Желаю успехов в дальнейшей учебе!\n",
    "\n",
    "\n",
    "</div>"
   ]
  },
  {
   "cell_type": "markdown",
   "metadata": {},
   "source": [
    "## Чек-лист проверки"
   ]
  },
  {
   "cell_type": "markdown",
   "metadata": {},
   "source": [
    "Поставьте 'x' в выполненных пунктах. Далее нажмите Shift+Enter."
   ]
  },
  {
   "cell_type": "markdown",
   "metadata": {},
   "source": [
    "- [x]  Jupyter Notebook открыт\n",
    "- [x]  Весь код выполняется без ошибок\n",
    "- [x]  Ячейки с кодом расположены в порядке исполнения\n",
    "- [x]  Выполнен шаг 1: данные загружены\n",
    "- [x]  Выполнен шаг 2: получен ответ на вопрос об умножении матриц\n",
    "    - [x]  Указан правильный вариант ответа\n",
    "    - [x]  Вариант обоснован\n",
    "- [x]  Выполнен шаг 3: предложен алгоритм преобразования\n",
    "    - [x]  Алгоритм описан\n",
    "    - [x]  Алгоритм обоснован\n",
    "- [x]  Выполнен шаг 4: алгоритм проверен\n",
    "    - [x]  Алгоритм реализован\n",
    "    - [x]  Проведено сравнение качества моделей до и после преобразования"
   ]
  },
  {
   "cell_type": "code",
   "execution_count": null,
   "metadata": {},
   "outputs": [],
   "source": []
  }
 ],
 "metadata": {
  "ExecuteTimeLog": [
   {
    "duration": 506,
    "start_time": "2023-09-15T14:57:08.152Z"
   },
   {
    "duration": 97,
    "start_time": "2023-09-15T14:57:08.660Z"
   },
   {
    "duration": 42,
    "start_time": "2023-09-15T14:57:36.652Z"
   },
   {
    "duration": 12,
    "start_time": "2023-09-15T14:57:48.068Z"
   },
   {
    "duration": 5,
    "start_time": "2023-09-15T15:20:29.707Z"
   },
   {
    "duration": 12,
    "start_time": "2023-09-15T15:20:34.435Z"
   },
   {
    "duration": 7,
    "start_time": "2023-09-15T16:04:06.031Z"
   },
   {
    "duration": 8,
    "start_time": "2023-09-15T16:04:35.792Z"
   },
   {
    "duration": 8,
    "start_time": "2023-09-15T16:04:40.487Z"
   },
   {
    "duration": 73,
    "start_time": "2023-09-15T16:21:27.067Z"
   },
   {
    "duration": 1074,
    "start_time": "2023-09-15T16:21:36.507Z"
   },
   {
    "duration": 48,
    "start_time": "2023-09-15T16:21:41.747Z"
   },
   {
    "duration": 3,
    "start_time": "2023-09-15T16:22:03.151Z"
   },
   {
    "duration": 166,
    "start_time": "2023-09-15T16:22:06.363Z"
   },
   {
    "duration": 25,
    "start_time": "2023-09-15T16:23:49.739Z"
   },
   {
    "duration": 1542,
    "start_time": "2023-09-15T16:24:07.715Z"
   },
   {
    "duration": 1555,
    "start_time": "2023-09-15T16:24:21.975Z"
   },
   {
    "duration": 1284,
    "start_time": "2023-09-15T16:24:33.243Z"
   },
   {
    "duration": 1359,
    "start_time": "2023-09-15T16:24:58.867Z"
   },
   {
    "duration": 1131,
    "start_time": "2023-09-15T16:35:16.891Z"
   },
   {
    "duration": 1940,
    "start_time": "2023-09-15T16:35:43.504Z"
   },
   {
    "duration": 1531,
    "start_time": "2023-09-15T19:55:55.437Z"
   },
   {
    "duration": 42,
    "start_time": "2023-09-15T19:55:56.970Z"
   },
   {
    "duration": 13,
    "start_time": "2023-09-15T19:55:57.014Z"
   },
   {
    "duration": 13,
    "start_time": "2023-09-15T19:55:57.029Z"
   },
   {
    "duration": 16,
    "start_time": "2023-09-15T19:55:57.043Z"
   },
   {
    "duration": 8,
    "start_time": "2023-09-15T19:55:57.061Z"
   },
   {
    "duration": 1878,
    "start_time": "2023-09-15T19:55:57.071Z"
   },
   {
    "duration": 3,
    "start_time": "2023-09-15T20:05:54.805Z"
   },
   {
    "duration": 3,
    "start_time": "2023-09-15T20:05:56.315Z"
   },
   {
    "duration": 219,
    "start_time": "2023-09-15T20:05:58.394Z"
   },
   {
    "duration": 4,
    "start_time": "2023-09-15T20:06:18.699Z"
   },
   {
    "duration": 90352,
    "start_time": "2023-09-15T20:06:19.194Z"
   },
   {
    "duration": 5,
    "start_time": "2023-09-15T20:07:53.799Z"
   },
   {
    "duration": 4,
    "start_time": "2023-09-15T20:08:37.907Z"
   },
   {
    "duration": 5594,
    "start_time": "2023-09-15T20:08:38.339Z"
   },
   {
    "duration": 9,
    "start_time": "2023-09-15T20:09:03.808Z"
   },
   {
    "duration": 4,
    "start_time": "2023-09-15T20:09:08.206Z"
   },
   {
    "duration": 1543,
    "start_time": "2023-09-15T20:09:46.198Z"
   },
   {
    "duration": 42,
    "start_time": "2023-09-15T20:09:47.743Z"
   },
   {
    "duration": 13,
    "start_time": "2023-09-15T20:09:47.787Z"
   },
   {
    "duration": 25,
    "start_time": "2023-09-15T20:09:47.802Z"
   },
   {
    "duration": 9,
    "start_time": "2023-09-15T20:09:47.829Z"
   },
   {
    "duration": 16,
    "start_time": "2023-09-15T20:09:47.839Z"
   },
   {
    "duration": 1944,
    "start_time": "2023-09-15T20:09:47.856Z"
   },
   {
    "duration": 3,
    "start_time": "2023-09-15T20:09:49.809Z"
   },
   {
    "duration": 13,
    "start_time": "2023-09-15T20:09:49.813Z"
   },
   {
    "duration": 7,
    "start_time": "2023-09-15T20:09:49.828Z"
   },
   {
    "duration": 7,
    "start_time": "2023-09-15T20:10:02.606Z"
   },
   {
    "duration": 5,
    "start_time": "2023-09-15T20:10:03.158Z"
   },
   {
    "duration": 6,
    "start_time": "2023-09-15T20:10:06.132Z"
   },
   {
    "duration": 3,
    "start_time": "2023-09-15T20:12:37.669Z"
   },
   {
    "duration": 4,
    "start_time": "2023-09-15T20:12:38.225Z"
   },
   {
    "duration": 6,
    "start_time": "2023-09-15T20:12:38.673Z"
   },
   {
    "duration": 7,
    "start_time": "2023-09-15T20:12:45.090Z"
   },
   {
    "duration": 15,
    "start_time": "2023-09-15T20:12:56.563Z"
   },
   {
    "duration": 1466,
    "start_time": "2023-09-15T20:13:20.575Z"
   },
   {
    "duration": 42,
    "start_time": "2023-09-15T20:13:22.044Z"
   },
   {
    "duration": 12,
    "start_time": "2023-09-15T20:13:22.087Z"
   },
   {
    "duration": 15,
    "start_time": "2023-09-15T20:13:22.101Z"
   },
   {
    "duration": 7,
    "start_time": "2023-09-15T20:13:22.117Z"
   },
   {
    "duration": 10,
    "start_time": "2023-09-15T20:13:22.125Z"
   },
   {
    "duration": 2047,
    "start_time": "2023-09-15T20:13:22.137Z"
   },
   {
    "duration": 3,
    "start_time": "2023-09-15T20:13:24.186Z"
   },
   {
    "duration": 18,
    "start_time": "2023-09-15T20:13:24.191Z"
   },
   {
    "duration": 28,
    "start_time": "2023-09-15T20:13:24.212Z"
   },
   {
    "duration": 5,
    "start_time": "2023-09-15T20:13:24.242Z"
   },
   {
    "duration": 4,
    "start_time": "2023-09-15T20:37:10.746Z"
   },
   {
    "duration": 16,
    "start_time": "2023-09-15T20:37:12.166Z"
   },
   {
    "duration": 5,
    "start_time": "2023-09-15T20:37:16.053Z"
   },
   {
    "duration": 4,
    "start_time": "2023-09-15T20:37:58.201Z"
   },
   {
    "duration": 13,
    "start_time": "2023-09-15T20:37:58.985Z"
   },
   {
    "duration": 12,
    "start_time": "2023-09-15T20:37:59.893Z"
   },
   {
    "duration": 5,
    "start_time": "2023-09-15T20:38:44.439Z"
   },
   {
    "duration": 5,
    "start_time": "2023-09-15T20:38:44.801Z"
   },
   {
    "duration": 115,
    "start_time": "2023-09-15T20:56:49.889Z"
   },
   {
    "duration": 6,
    "start_time": "2023-09-15T20:56:58.124Z"
   },
   {
    "duration": 9,
    "start_time": "2023-09-15T20:57:01.351Z"
   },
   {
    "duration": 18,
    "start_time": "2023-09-15T20:58:19.390Z"
   },
   {
    "duration": 15,
    "start_time": "2023-09-15T20:58:26.487Z"
   },
   {
    "duration": 12,
    "start_time": "2023-09-15T20:58:39.111Z"
   },
   {
    "duration": 10,
    "start_time": "2023-09-15T21:01:43.703Z"
   },
   {
    "duration": 10,
    "start_time": "2023-09-15T21:05:36.752Z"
   },
   {
    "duration": 11,
    "start_time": "2023-09-15T21:05:40.977Z"
   },
   {
    "duration": 10,
    "start_time": "2023-09-15T21:05:42.788Z"
   },
   {
    "duration": 3,
    "start_time": "2023-09-15T21:05:43.910Z"
   },
   {
    "duration": 17,
    "start_time": "2023-09-15T21:14:39.792Z"
   },
   {
    "duration": 15,
    "start_time": "2023-09-15T21:14:57.420Z"
   },
   {
    "duration": 15,
    "start_time": "2023-09-15T21:15:21.377Z"
   },
   {
    "duration": 15,
    "start_time": "2023-09-15T21:17:38.248Z"
   },
   {
    "duration": 12,
    "start_time": "2023-09-15T21:20:31.682Z"
   },
   {
    "duration": 11,
    "start_time": "2023-09-15T21:21:24.328Z"
   },
   {
    "duration": 18,
    "start_time": "2023-09-15T21:21:35.482Z"
   },
   {
    "duration": 11,
    "start_time": "2023-09-15T21:22:19.286Z"
   },
   {
    "duration": 1572,
    "start_time": "2023-09-15T21:22:39.855Z"
   },
   {
    "duration": 42,
    "start_time": "2023-09-15T21:22:41.429Z"
   },
   {
    "duration": 13,
    "start_time": "2023-09-15T21:22:41.472Z"
   },
   {
    "duration": 21,
    "start_time": "2023-09-15T21:22:41.487Z"
   },
   {
    "duration": 8,
    "start_time": "2023-09-15T21:22:41.519Z"
   },
   {
    "duration": 15,
    "start_time": "2023-09-15T21:22:41.529Z"
   },
   {
    "duration": 1981,
    "start_time": "2023-09-15T21:22:41.545Z"
   },
   {
    "duration": 3,
    "start_time": "2023-09-15T21:22:43.528Z"
   },
   {
    "duration": 7,
    "start_time": "2023-09-15T21:22:43.532Z"
   },
   {
    "duration": 12,
    "start_time": "2023-09-15T21:22:43.541Z"
   },
   {
    "duration": 7,
    "start_time": "2023-09-15T21:22:43.554Z"
   },
   {
    "duration": 10,
    "start_time": "2023-09-15T21:22:43.563Z"
   },
   {
    "duration": 9,
    "start_time": "2023-09-15T21:22:43.575Z"
   },
   {
    "duration": 3,
    "start_time": "2023-09-15T21:22:43.585Z"
   },
   {
    "duration": 13,
    "start_time": "2023-09-15T21:22:43.611Z"
   },
   {
    "duration": 4,
    "start_time": "2023-09-15T21:22:56.831Z"
   },
   {
    "duration": 3493,
    "start_time": "2023-09-16T04:49:36.456Z"
   },
   {
    "duration": 95,
    "start_time": "2023-09-16T04:49:39.951Z"
   },
   {
    "duration": 17,
    "start_time": "2023-09-16T04:49:40.048Z"
   },
   {
    "duration": 25,
    "start_time": "2023-09-16T04:49:40.067Z"
   },
   {
    "duration": 19,
    "start_time": "2023-09-16T04:49:40.095Z"
   },
   {
    "duration": 19,
    "start_time": "2023-09-16T04:49:40.116Z"
   },
   {
    "duration": 1866,
    "start_time": "2023-09-16T04:49:40.137Z"
   },
   {
    "duration": 3,
    "start_time": "2023-09-16T04:49:42.005Z"
   },
   {
    "duration": 8,
    "start_time": "2023-09-16T04:49:42.009Z"
   },
   {
    "duration": 4,
    "start_time": "2023-09-16T04:49:42.020Z"
   },
   {
    "duration": 10,
    "start_time": "2023-09-16T04:49:42.026Z"
   },
   {
    "duration": 64,
    "start_time": "2023-09-16T04:49:42.038Z"
   },
   {
    "duration": 98,
    "start_time": "2023-09-16T04:49:42.104Z"
   },
   {
    "duration": 12,
    "start_time": "2023-09-16T04:49:42.206Z"
   },
   {
    "duration": 16,
    "start_time": "2023-09-16T04:49:42.220Z"
   },
   {
    "duration": 1676,
    "start_time": "2023-09-16T07:05:04.863Z"
   },
   {
    "duration": 105,
    "start_time": "2023-09-16T07:05:06.542Z"
   },
   {
    "duration": 149,
    "start_time": "2023-09-16T07:05:06.649Z"
   },
   {
    "duration": 140,
    "start_time": "2023-09-16T07:05:06.800Z"
   },
   {
    "duration": 25,
    "start_time": "2023-09-16T07:05:06.943Z"
   },
   {
    "duration": 16,
    "start_time": "2023-09-16T07:05:06.970Z"
   },
   {
    "duration": 1772,
    "start_time": "2023-09-16T07:05:06.988Z"
   },
   {
    "duration": 22,
    "start_time": "2023-09-16T07:05:08.762Z"
   },
   {
    "duration": 70,
    "start_time": "2023-09-16T07:05:08.786Z"
   },
   {
    "duration": 74,
    "start_time": "2023-09-16T07:05:08.858Z"
   },
   {
    "duration": 26,
    "start_time": "2023-09-16T07:05:08.934Z"
   },
   {
    "duration": 15,
    "start_time": "2023-09-16T07:05:08.962Z"
   },
   {
    "duration": 45,
    "start_time": "2023-09-16T07:05:08.979Z"
   },
   {
    "duration": 94,
    "start_time": "2023-09-16T07:05:09.031Z"
   },
   {
    "duration": 40,
    "start_time": "2023-09-16T07:05:09.127Z"
   },
   {
    "duration": 39,
    "start_time": "2023-09-16T07:05:09.169Z"
   },
   {
    "duration": 11,
    "start_time": "2023-09-16T07:05:42.195Z"
   },
   {
    "duration": 23,
    "start_time": "2023-09-16T07:05:52.914Z"
   },
   {
    "duration": 22,
    "start_time": "2023-09-16T07:06:04.295Z"
   },
   {
    "duration": 8,
    "start_time": "2023-09-16T07:06:18.999Z"
   },
   {
    "duration": 24,
    "start_time": "2023-09-16T07:06:26.495Z"
   }
  ],
  "kernelspec": {
   "display_name": "Python 3 (ipykernel)",
   "language": "python",
   "name": "python3"
  },
  "language_info": {
   "codemirror_mode": {
    "name": "ipython",
    "version": 3
   },
   "file_extension": ".py",
   "mimetype": "text/x-python",
   "name": "python",
   "nbconvert_exporter": "python",
   "pygments_lexer": "ipython3",
   "version": "3.9.5"
  },
  "toc": {
   "base_numbering": 1,
   "nav_menu": {},
   "number_sections": true,
   "sideBar": true,
   "skip_h1_title": true,
   "title_cell": "Содержание",
   "title_sidebar": "Contents",
   "toc_cell": true,
   "toc_position": {},
   "toc_section_display": true,
   "toc_window_display": false
  }
 },
 "nbformat": 4,
 "nbformat_minor": 2
}

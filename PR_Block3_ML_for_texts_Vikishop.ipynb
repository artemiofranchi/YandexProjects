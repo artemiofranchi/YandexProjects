{
 "cells": [
  {
   "cell_type": "markdown",
   "metadata": {},
   "source": [
    "<font color='blue'>Привет, Артём! Меня зовут Павел Григорьев, и я буду проверять этот проект.<br>Моя основная цель - не указать на совершённые тобой ошибки, а поделиться своим опытом и помочь тебе совершенствоваться как профессионалу.<br>Спасибо за проделанную работу! Предлагаю общаться на «ты».</font>\n",
    "<details>\n",
    "\t<summary><u>Инструкция по организационным моментам (кликабельно)</u></summary>\n",
    "<font color='blue'>Я буду использовать различные цвета, чтобы было удобнее воспринимать мои комментарии:</font>\n",
    "\n",
    "\n",
    "---\n",
    "\n",
    "\n",
    "<font color='blue'>синий текст - просто текст комментария</font>\n",
    "\n",
    "<font color='green'>✔️ и зеленый текст - все отлично</font>\n",
    "\n",
    "<font color='orange'>⚠️ и оранжевый текст - сделано все правильно, однако есть рекомендации, на что стоит обратить внимание</font>\n",
    "\n",
    "<font color='red'>❌ и красный текст - есть недочеты</font>\n",
    "\n",
    "\n",
    "</details>    \n",
    "    </br>\n",
    "<font color='blue'>Пожалуйста, не удаляй мои комментарии в случае возврата работы, так будет проще разобраться, какие были недочеты, а также сразу увидеть исправленное. </font>\n",
    "\n",
    "Ответы на мои комментарии лучше тоже помечать.\n",
    "Например: <font color='purple'><b>Комментарий студента</b></font>\n",
    "\n",
    "<font color='blue'><b>Давай смотреть, что получилось!</b></font>\n"
   ]
  },
  {
   "cell_type": "markdown",
   "metadata": {},
   "source": [
    "<font color='blue' size=3><b>Комментарий ревьюера 2</b></font>\n",
    "\n",
    "<font color='blue'>Привет еще раз. Спасибо, за исправления. Оформление комментариев по работе сохраняется. Только обозначим, что это вторая итерация.</font> "
   ]
  },
  {
   "cell_type": "markdown",
   "metadata": {
    "toc": true
   },
   "source": [
    "<h1>Содержание<span class=\"tocSkip\"></span></h1>\n",
    "<div class=\"toc\"><ul class=\"toc-item\"><li><span><a href=\"#Подготовка\" data-toc-modified-id=\"Подготовка-1\"><span class=\"toc-item-num\">1&nbsp;&nbsp;</span>Подготовка</a></span><ul class=\"toc-item\"><li><span><a href=\"#Загрузка-данных\" data-toc-modified-id=\"Загрузка-данных-1.1\"><span class=\"toc-item-num\">1.1&nbsp;&nbsp;</span>Загрузка данных</a></span></li><li><span><a href=\"#Лемматизация-и-токенизация\" data-toc-modified-id=\"Лемматизация-и-токенизация-1.2\"><span class=\"toc-item-num\">1.2&nbsp;&nbsp;</span>Лемматизация и токенизация</a></span></li><li><span><a href=\"#Разделение-на-обучающую-и-тестовую-выборки.-Векторизация\" data-toc-modified-id=\"Разделение-на-обучающую-и-тестовую-выборки.-Векторизация-1.3\"><span class=\"toc-item-num\">1.3&nbsp;&nbsp;</span>Разделение на обучающую и тестовую выборки. Векторизация</a></span></li></ul></li><li><span><a href=\"#Обучение\" data-toc-modified-id=\"Обучение-2\"><span class=\"toc-item-num\">2&nbsp;&nbsp;</span>Обучение</a></span><ul class=\"toc-item\"><li><span><a href=\"#Logistic-Regression\" data-toc-modified-id=\"Logistic-Regression-2.1\"><span class=\"toc-item-num\">2.1&nbsp;&nbsp;</span>Logistic Regression</a></span></li><li><span><a href=\"#Decision-Tree-Classifier\" data-toc-modified-id=\"Decision-Tree-Classifier-2.2\"><span class=\"toc-item-num\">2.2&nbsp;&nbsp;</span>Decision Tree Classifier</a></span></li><li><span><a href=\"#Тестирование\" data-toc-modified-id=\"Тестирование-2.3\"><span class=\"toc-item-num\">2.3&nbsp;&nbsp;</span>Тестирование</a></span></li></ul></li><li><span><a href=\"#Выводы\" data-toc-modified-id=\"Выводы-3\"><span class=\"toc-item-num\">3&nbsp;&nbsp;</span>Выводы</a></span></li><li><span><a href=\"#Чек-лист-проверки\" data-toc-modified-id=\"Чек-лист-проверки-4\"><span class=\"toc-item-num\">4&nbsp;&nbsp;</span>Чек-лист проверки</a></span></li></ul></div>"
   ]
  },
  {
   "cell_type": "markdown",
   "metadata": {},
   "source": [
    "# Проект для «Викишоп»"
   ]
  },
  {
   "cell_type": "markdown",
   "metadata": {},
   "source": [
    "Интернет-магазин «Викишоп» запускает новый сервис. Теперь пользователи могут редактировать и дополнять описания товаров, как в вики-сообществах. То есть клиенты предлагают свои правки и комментируют изменения других. Магазину нужен инструмент, который будет искать токсичные комментарии и отправлять их на модерацию. \n",
    "\n",
    "Обучите модель классифицировать комментарии на позитивные и негативные. В вашем распоряжении набор данных с разметкой о токсичности правок.\n",
    "\n",
    "Постройте модель со значением метрики качества *F1* не меньше 0.75. \n",
    "\n",
    "**Инструкция по выполнению проекта**\n",
    "\n",
    "1. Загрузите и подготовьте данные.\n",
    "2. Обучите разные модели. \n",
    "3. Сделайте выводы.\n",
    "\n",
    "Для выполнения проекта применять *BERT* необязательно, но вы можете попробовать.\n",
    "\n",
    "**Описание данных**\n",
    "\n",
    "Данные находятся в файле `toxic_comments.csv`. Столбец *text* в нём содержит текст комментария, а *toxic* — целевой признак."
   ]
  },
  {
   "cell_type": "markdown",
   "metadata": {},
   "source": [
    "## Подготовка"
   ]
  },
  {
   "cell_type": "markdown",
   "metadata": {},
   "source": [
    "### Загрузка данных"
   ]
  },
  {
   "cell_type": "code",
   "execution_count": 1,
   "metadata": {},
   "outputs": [],
   "source": [
    "import pandas as pd\n",
    "import numpy as np\n",
    "import re\n",
    "import nltk\n",
    "from nltk.stem import WordNetLemmatizer\n",
    "import matplotlib.pyplot as plt\n",
    "from catboost import CatBoostClassifier\n",
    "from sklearn.tree import DecisionTreeClassifier\n",
    "from nltk.tokenize import word_tokenize \n",
    "from pymystem3 import Mystem\n",
    "from sklearn.model_selection import train_test_split\n",
    "from sklearn.feature_extraction.text import TfidfVectorizer\n",
    "from sklearn.linear_model import LogisticRegression\n",
    "from sklearn.metrics import f1_score, accuracy_score\n",
    "from nltk.corpus import stopwords \n",
    "from sklearn.model_selection import GridSearchCV\n",
    "import seaborn as sns\n",
    "from sklearn.utils import shuffle\n",
    "from sklearn.dummy import DummyClassifier\n",
    "import warnings\n",
    "from sklearn.pipeline import Pipeline\n",
    "warnings.filterwarnings(\"ignore\")"
   ]
  },
  {
   "cell_type": "markdown",
   "metadata": {},
   "source": [
    "<font color='blue'><b>Комментарий ревьюера: </b></font> ✔️ <br>\n",
    "<font color='green'>Здорово, что все импорты находятся в одной ячейке.<br>\n",
    "Если хочешь сделать ещё лучше, соблюдай стандарт PEP-8, разбей импорты на функциональные группы, раздели группы пустой строкой. Можно в каждой группе отсортировать импорты в алфавитном порядке.<br>\n",
    "Ссылка для ознакомления: https://pythonworld.ru/osnovy/pep-8-rukovodstvo-po-napisaniyu-koda-na-python.html\n",
    "</font>"
   ]
  },
  {
   "cell_type": "code",
   "execution_count": 2,
   "metadata": {
    "scrolled": false
   },
   "outputs": [
    {
     "data": {
      "text/html": [
       "<div>\n",
       "<style scoped>\n",
       "    .dataframe tbody tr th:only-of-type {\n",
       "        vertical-align: middle;\n",
       "    }\n",
       "\n",
       "    .dataframe tbody tr th {\n",
       "        vertical-align: top;\n",
       "    }\n",
       "\n",
       "    .dataframe thead th {\n",
       "        text-align: right;\n",
       "    }\n",
       "</style>\n",
       "<table border=\"1\" class=\"dataframe\">\n",
       "  <thead>\n",
       "    <tr style=\"text-align: right;\">\n",
       "      <th></th>\n",
       "      <th>text</th>\n",
       "      <th>toxic</th>\n",
       "    </tr>\n",
       "  </thead>\n",
       "  <tbody>\n",
       "    <tr>\n",
       "      <th>0</th>\n",
       "      <td>Explanation\\nWhy the edits made under my usern...</td>\n",
       "      <td>0</td>\n",
       "    </tr>\n",
       "    <tr>\n",
       "      <th>1</th>\n",
       "      <td>D'aww! He matches this background colour I'm s...</td>\n",
       "      <td>0</td>\n",
       "    </tr>\n",
       "    <tr>\n",
       "      <th>2</th>\n",
       "      <td>Hey man, I'm really not trying to edit war. It...</td>\n",
       "      <td>0</td>\n",
       "    </tr>\n",
       "    <tr>\n",
       "      <th>3</th>\n",
       "      <td>\"\\nMore\\nI can't make any real suggestions on ...</td>\n",
       "      <td>0</td>\n",
       "    </tr>\n",
       "    <tr>\n",
       "      <th>4</th>\n",
       "      <td>You, sir, are my hero. Any chance you remember...</td>\n",
       "      <td>0</td>\n",
       "    </tr>\n",
       "  </tbody>\n",
       "</table>\n",
       "</div>"
      ],
      "text/plain": [
       "                                                text  toxic\n",
       "0  Explanation\\nWhy the edits made under my usern...      0\n",
       "1  D'aww! He matches this background colour I'm s...      0\n",
       "2  Hey man, I'm really not trying to edit war. It...      0\n",
       "3  \"\\nMore\\nI can't make any real suggestions on ...      0\n",
       "4  You, sir, are my hero. Any chance you remember...      0"
      ]
     },
     "metadata": {},
     "output_type": "display_data"
    },
    {
     "data": {
      "text/plain": [
       "'Дубликаты'"
      ]
     },
     "metadata": {},
     "output_type": "display_data"
    },
    {
     "data": {
      "text/plain": [
       "0"
      ]
     },
     "metadata": {},
     "output_type": "display_data"
    },
    {
     "data": {
      "text/html": [
       "<div>\n",
       "<style scoped>\n",
       "    .dataframe tbody tr th:only-of-type {\n",
       "        vertical-align: middle;\n",
       "    }\n",
       "\n",
       "    .dataframe tbody tr th {\n",
       "        vertical-align: top;\n",
       "    }\n",
       "\n",
       "    .dataframe thead th {\n",
       "        text-align: right;\n",
       "    }\n",
       "</style>\n",
       "<table border=\"1\" class=\"dataframe\">\n",
       "  <thead>\n",
       "    <tr style=\"text-align: right;\">\n",
       "      <th></th>\n",
       "      <th>toxic</th>\n",
       "    </tr>\n",
       "  </thead>\n",
       "  <tbody>\n",
       "    <tr>\n",
       "      <th>count</th>\n",
       "      <td>159292.000000</td>\n",
       "    </tr>\n",
       "    <tr>\n",
       "      <th>mean</th>\n",
       "      <td>0.101612</td>\n",
       "    </tr>\n",
       "    <tr>\n",
       "      <th>std</th>\n",
       "      <td>0.302139</td>\n",
       "    </tr>\n",
       "    <tr>\n",
       "      <th>min</th>\n",
       "      <td>0.000000</td>\n",
       "    </tr>\n",
       "    <tr>\n",
       "      <th>25%</th>\n",
       "      <td>0.000000</td>\n",
       "    </tr>\n",
       "    <tr>\n",
       "      <th>50%</th>\n",
       "      <td>0.000000</td>\n",
       "    </tr>\n",
       "    <tr>\n",
       "      <th>75%</th>\n",
       "      <td>0.000000</td>\n",
       "    </tr>\n",
       "    <tr>\n",
       "      <th>max</th>\n",
       "      <td>1.000000</td>\n",
       "    </tr>\n",
       "  </tbody>\n",
       "</table>\n",
       "</div>"
      ],
      "text/plain": [
       "               toxic\n",
       "count  159292.000000\n",
       "mean        0.101612\n",
       "std         0.302139\n",
       "min         0.000000\n",
       "25%         0.000000\n",
       "50%         0.000000\n",
       "75%         0.000000\n",
       "max         1.000000"
      ]
     },
     "metadata": {},
     "output_type": "display_data"
    },
    {
     "data": {
      "text/plain": [
       "text     0\n",
       "toxic    0\n",
       "dtype: int64"
      ]
     },
     "metadata": {},
     "output_type": "display_data"
    },
    {
     "data": {
      "text/plain": [
       "0    143106\n",
       "1     16186\n",
       "Name: toxic, dtype: int64"
      ]
     },
     "metadata": {},
     "output_type": "display_data"
    },
    {
     "name": "stdout",
     "output_type": "stream",
     "text": [
      "<class 'pandas.core.frame.DataFrame'>\n",
      "Int64Index: 159292 entries, 0 to 159450\n",
      "Data columns (total 2 columns):\n",
      " #   Column  Non-Null Count   Dtype \n",
      "---  ------  --------------   ----- \n",
      " 0   text    159292 non-null  object\n",
      " 1   toxic   159292 non-null  int64 \n",
      "dtypes: int64(1), object(1)\n",
      "memory usage: 3.6+ MB\n"
     ]
    }
   ],
   "source": [
    "data = pd.read_csv('/datasets/toxic_comments.csv', index_col=0)\n",
    "display(data.head())\n",
    "display('Дубликаты', data.duplicated().sum())\n",
    "display(data.describe())\n",
    "display(data.isnull().sum())\n",
    "display(data['toxic'].value_counts())\n",
    "data.info()\n"
   ]
  },
  {
   "cell_type": "markdown",
   "metadata": {},
   "source": [
    "<font color='blue'><b>Комментарий ревьюера: </b></font> ✔️\\\n",
    "<font color='green'>Данные загружены корректно, первичный осмотр проведен.</font>"
   ]
  },
  {
   "cell_type": "markdown",
   "metadata": {},
   "source": [
    "<font color='blue'><b>Комментарий ревьюера: </b></font> ⚠️\\\n",
    "<font color='darkorange'> Метод info() не нуждается в display(), и возвращает None.</font>"
   ]
  },
  {
   "cell_type": "markdown",
   "metadata": {},
   "source": [
    " <font color='purple'><b>Комментарий студента:</b></font>\n",
    "    \n",
    "Поправил"
   ]
  },
  {
   "cell_type": "markdown",
   "metadata": {},
   "source": [
    "<font color='blue'><b>Комментарий ревьюера 2: </b></font> ✔️\\\n",
    "<font color='green'>👍</font>"
   ]
  },
  {
   "cell_type": "code",
   "execution_count": 3,
   "metadata": {},
   "outputs": [
    {
     "data": {
      "image/png": "[encoded data removed]",
      "text/plain": [
       "<Figure size 864x576 with 1 Axes>"
      ]
     },
     "metadata": {
      "needs_background": "light"
     },
     "output_type": "display_data"
    }
   ],
   "source": [
    "plt.figure(figsize=(12,8))\n",
    "sns.histplot(data['toxic'])\n",
    "plt.show()"
   ]
  },
  {
   "cell_type": "markdown",
   "metadata": {},
   "source": [
    "<font color='blue'><b>Комментарий ревьюера: </b></font> ✔️\\\n",
    "<font color='green'> Мы обнаружили серьёзный дисбаланс при исследовании данных. Как дополнительные материалы, рекомендую статью <a href='https://dyakonov.org/2021/05/27/imbalance/'>Дисбаланс классов</a>, очень классная, как и весь блог Дьяконова. Ещё такой <a href='https://github.com/Dyakonov/ml_hacks/blob/master/book_disbalance_public_v1.ipynb'>ноутбук</a> есть.</font>"
   ]
  },
  {
   "cell_type": "markdown",
   "metadata": {},
   "source": [
    "### Лемматизация и токенизация"
   ]
  },
  {
   "cell_type": "code",
   "execution_count": 4,
   "metadata": {},
   "outputs": [
    {
     "name": "stderr",
     "output_type": "stream",
     "text": [
      "[nltk_data] Downloading package stopwords to /home/jovyan/nltk_data...\n",
      "[nltk_data]   Package stopwords is already up-to-date!\n"
     ]
    }
   ],
   "source": [
    "data_target = data['toxic']\n",
    "data_features = data.drop(['toxic'], axis=1)\n",
    "nltk.download('stopwords') \n",
    "stop_words = set(stopwords.words('english'))"
   ]
  },
  {
   "cell_type": "code",
   "execution_count": 5,
   "metadata": {},
   "outputs": [
    {
     "name": "stderr",
     "output_type": "stream",
     "text": [
      "[nltk_data] Downloading package averaged_perceptron_tagger to\n",
      "[nltk_data]     /home/jovyan/nltk_data...\n",
      "[nltk_data]   Package averaged_perceptron_tagger is already up-to-\n",
      "[nltk_data]       date!\n"
     ]
    }
   ],
   "source": [
    "import nltk\n",
    "nltk.download('averaged_perceptron_tagger')\n",
    "from nltk.corpus import wordnet\n",
    "def get_wordnet_pos(word):\n",
    "    \"\"\"Map POS tag to first character lemmatize() accepts\"\"\"\n",
    "    tag = nltk.pos_tag([word])[0][1][0].upper()\n",
    "    tag_dict = {\"J\": wordnet.ADJ,\n",
    "                \"N\": wordnet.NOUN,\n",
    "                \"V\": wordnet.VERB,\n",
    "                \"R\": wordnet.ADV}\n",
    "    return tag_dict.get(tag, wordnet.NOUN)"
   ]
  },
  {
   "cell_type": "code",
   "execution_count": 6,
   "metadata": {},
   "outputs": [],
   "source": [
    "l = WordNetLemmatizer()\n",
    "def lemmatize(text):\n",
    "    words = nltk.word_tokenize(text)\n",
    "    lemmatized = ' '.join([l.lemmatize(w, get_wordnet_pos(w)) for w in words])\n",
    "    return lemmatized"
   ]
  },
  {
   "cell_type": "code",
   "execution_count": 7,
   "metadata": {},
   "outputs": [],
   "source": [
    "def clear_text(text):\n",
    "    text = re.sub(r'[^a-zA-Z]', ' ', text)\n",
    "    text = ' '.join(text.split())\n",
    "    text = text.lower()\n",
    "    return text"
   ]
  },
  {
   "cell_type": "markdown",
   "metadata": {},
   "source": [
    "<font color='blue'><b>Комментарий ревьюера: </b></font> ✔️\\\n",
    "<font color='green'> Очистка сделана верно! Мы оставили только символы Латинского алфавита.</font> \\\n",
    "<font color='darkorange'>Можно ещё привести символы к одному регистру. Это уменьшит словарь уникальных слов.</font>"
   ]
  },
  {
   "cell_type": "code",
   "execution_count": 8,
   "metadata": {},
   "outputs": [],
   "source": [
    "corpus = data_features['text'].values\n",
    "lemm = [lemmatize(clear_text(corpus[i])) for i in range(len(corpus))]"
   ]
  },
  {
   "cell_type": "markdown",
   "metadata": {},
   "source": [
    "<font color='blue'><b>Комментарий ревьюера: </b></font> ❌\\\n",
    "<font color='red'><s> Метод .astype('U') кодирует текст в максимально широкий Юникод U32, содержащий все возможные символы и эмоджи. Такое форматирование здесь не имеет смысла, так как после очистки останется только латинница (тексты, в основном, и так уже в Юникоде \"utf-8\"). Ни одна из используемых в проекте моделей не требует кодировки в Юникод. Можно обойтись и без него.</s></font>"
   ]
  },
  {
   "cell_type": "markdown",
   "metadata": {},
   "source": [
    " <font color='purple'><b>Комментарий студента:</b></font>\n",
    "    \n",
    "Поправил"
   ]
  },
  {
   "cell_type": "markdown",
   "metadata": {},
   "source": [
    "<font color='blue'><b>Комментарий ревьюера 2: </b></font> ✔️\\\n",
    "<font color='green'>Класс! Убрали тяжёлый Юникод.</font>"
   ]
  },
  {
   "cell_type": "code",
   "execution_count": 9,
   "metadata": {
    "scrolled": true
   },
   "outputs": [
    {
     "data": {
      "text/plain": [
       "['explanation why the edits make under my username hardcore metallica fan be revert they weren t vandalism just closure on some gas after i vote at new york doll fac and please don t remove the template from the talk page since i m retire now',\n",
       " 'd aww he match this background colour i m seemingly stuck with thanks talk january utc',\n",
       " 'hey man i m really not try to edit war it s just that this guy be constantly remove relevant information and talk to me through edits instead of my talk page he seem to care more about the format than the actual info',\n",
       " 'more i can t make any real suggestion on improvement i wonder if the section statistic should be later on or a subsection of type of accident i think the reference may need tidy so that they be all in the exact same format ie date format etc i can do that later on if no one else do first if you have any preference for format style on reference or want to do it yourself please let me know there appear to be a backlog on article for review so i guess there may be a delay until a reviewer turn up it s list in the relevant form eg wikipedia good article nomination transport',\n",
       " 'you sir be my hero any chance you remember what page that s on']"
      ]
     },
     "execution_count": 9,
     "metadata": {},
     "output_type": "execute_result"
    }
   ],
   "source": [
    "lemm[:5]"
   ]
  },
  {
   "cell_type": "markdown",
   "metadata": {},
   "source": [
    "<font color='blue'><b>Комментарий ревьюера: </b></font> ❌\\\n",
    "<font color='red'><s>Обрати внимание, не все слова приведены к начальным формам. Чтобы корректно обработались все части речи, для WordNetLemmatizer() нужно использовать POS-теги (Part of Speech, части речи). Примеры работы с WordNetLemmatizer(), а также с другими инструментами для лемматизации, можно найти в [этой статье](https://webdevblog.ru/podhody-lemmatizacii-s-primerami-v-python/)</s></font>"
   ]
  },
  {
   "cell_type": "markdown",
   "metadata": {},
   "source": [
    " <font color='purple'><b>Комментарий студента:</b></font>\n",
    "    \n",
    "Поправил"
   ]
  },
  {
   "cell_type": "markdown",
   "metadata": {},
   "source": [
    "<font color='blue'><b>Комментарий ревьюера 2: </b></font> ✔️\\\n",
    "<font color='green'> Отлично! Теперь видно, что слова в начальных формах.</font>"
   ]
  },
  {
   "cell_type": "markdown",
   "metadata": {},
   "source": [
    "### Разделение на обучающую и тестовую выборки. Векторизация"
   ]
  },
  {
   "cell_type": "code",
   "execution_count": 10,
   "metadata": {},
   "outputs": [],
   "source": [
    "features_train, features_test, target_train, target_test = train_test_split(lemm, data_target, test_size=0.2, \n",
    "                                                                            random_state=12345)"
   ]
  },
  {
   "cell_type": "markdown",
   "metadata": {},
   "source": [
    "<font color='blue'><b>Комментарий ревьюера: </b></font> ✔️\\\n",
    "<font color='green'> Здорово , что у нас есть выборка для тестов!</font>"
   ]
  },
  {
   "cell_type": "code",
   "execution_count": 11,
   "metadata": {},
   "outputs": [],
   "source": [
    "#count_tf_idf = TfidfVectorizer(ngram_range=(1,1),stop_words=stop_words) \n",
    "count_tf_idf = Pipeline([\n",
    "                ('tfidf', TfidfVectorizer(stop_words = stop_words))\n",
    "            ])\n",
    "tf_idf_train = count_tf_idf.fit_transform(features_train)\n",
    "tf_idf_test = count_tf_idf.transform(features_test)"
   ]
  },
  {
   "cell_type": "markdown",
   "metadata": {},
   "source": [
    "<font color='blue'><b>Комментарий ревьюера: </b></font> ✔️\\\n",
    "<font color='green'> Убрали частые неинформативные слова!</font>"
   ]
  },
  {
   "cell_type": "markdown",
   "metadata": {},
   "source": [
    "<font color='blue'><b>Комментарий ревьюера: </b></font> ✔️\\\n",
    "<font color='green'> Классно, что векторизатор был обучен только на тренировочной части данных!</font>"
   ]
  },
  {
   "cell_type": "markdown",
   "metadata": {},
   "source": [
    "<font color='blue'><b>Комментарий ревьюера: </b></font> ⚠️\\\n",
    "<font color='darkorange'> Можно объединить Векторизатор с моделью через Pipeline. Так можно избежать утечек даже при кроссвалидации моделей.<br> Материалы по Pipeline:<br> [О Пайплайн](https://www.helenkapatsa.ru/paiplain/)<br>\n",
    "\n",
    "[Примеры работы с текстами](https://scikit-learn.org/stable/auto_examples/model_selection/plot_grid_search_text_feature_extraction.html)</font>"
   ]
  },
  {
   "cell_type": "markdown",
   "metadata": {},
   "source": [
    " <font color='purple'><b>Комментарий студента:</b></font>\n",
    "    \n",
    "Поправил"
   ]
  },
  {
   "cell_type": "markdown",
   "metadata": {},
   "source": [
    "<font color='blue'><b>Комментарий ревьюера 2: </b></font> ⚠️\\\n",
    "<font color='darkorange'>Pipeline из одной модели на имеет смысла. Это конвеер данных и должен объединять несколько моделей, точно более одной )).\\\n",
    "Нужно соеденить Векторизатор с Классификатором.</font>"
   ]
  },
  {
   "cell_type": "markdown",
   "metadata": {},
   "source": [
    "## Обучение"
   ]
  },
  {
   "cell_type": "markdown",
   "metadata": {},
   "source": [
    "<font color='blue'><b>Комментарий ревьюера: </b></font> ⚠️\\\n",
    "<font color='darkorange'>При таком дисбалансе и метрике F1, константная модель малоинформативна.</font>"
   ]
  },
  {
   "cell_type": "markdown",
   "metadata": {},
   "source": [
    " <font color='purple'><b>Комментарий студента:</b></font>\n",
    "    \n",
    "Убрал :)"
   ]
  },
  {
   "cell_type": "markdown",
   "metadata": {},
   "source": [
    "<font color='blue'><b>Комментарий ревьюера 2: </b></font> ✔️\\\n",
    "<font color='green'>👍</font>"
   ]
  },
  {
   "cell_type": "markdown",
   "metadata": {},
   "source": [
    "### Logistic Regression"
   ]
  },
  {
   "cell_type": "code",
   "execution_count": 12,
   "metadata": {},
   "outputs": [
    {
     "data": {
      "text/plain": [
       "{'C': 10, 'max_iter': 150}"
      ]
     },
     "metadata": {},
     "output_type": "display_data"
    },
    {
     "data": {
      "text/plain": [
       "0.761198557232962"
      ]
     },
     "metadata": {},
     "output_type": "display_data"
    },
    {
     "data": {
      "text/plain": [
       "{'mean_fit_time': array([42.46215038, 64.12092066, 43.33475795, 65.00266452]),\n",
       " 'std_fit_time': array([0.77401593, 0.92525367, 1.08208802, 1.45222397]),\n",
       " 'mean_score_time': array([0.09730897, 0.11775742, 0.06256771, 0.09848351]),\n",
       " 'std_score_time': array([0.00258398, 0.03453155, 0.0401752 , 0.05386883]),\n",
       " 'param_C': masked_array(data=[5, 5, 10, 10],\n",
       "              mask=[False, False, False, False],\n",
       "        fill_value='?',\n",
       "             dtype=object),\n",
       " 'param_max_iter': masked_array(data=[100, 150, 100, 150],\n",
       "              mask=[False, False, False, False],\n",
       "        fill_value='?',\n",
       "             dtype=object),\n",
       " 'params': [{'C': 5, 'max_iter': 100},\n",
       "  {'C': 5, 'max_iter': 150},\n",
       "  {'C': 10, 'max_iter': 100},\n",
       "  {'C': 10, 'max_iter': 150}],\n",
       " 'split0_test_score': array([0.75952752, 0.759251  , 0.76146588, 0.76167507]),\n",
       " 'split1_test_score': array([0.75268817, 0.75268817, 0.75795053, 0.75860547]),\n",
       " 'split2_test_score': array([0.75478416, 0.75467498, 0.75969332, 0.75816707]),\n",
       " 'split3_test_score': array([0.762882  , 0.76332813, 0.76790831, 0.76862054]),\n",
       " 'split4_test_score': array([0.75664804, 0.75620112, 0.75896984, 0.75892464]),\n",
       " 'mean_test_score': array([0.75730598, 0.75722868, 0.76119758, 0.76119856]),\n",
       " 'std_test_score': array([0.00358173, 0.00372791, 0.00354612, 0.0039089 ]),\n",
       " 'rank_test_score': array([3, 4, 2, 1], dtype=int32)}"
      ]
     },
     "metadata": {},
     "output_type": "display_data"
    },
    {
     "name": "stdout",
     "output_type": "stream",
     "text": [
      "CPU times: user 8min 33s, sys: 10min 30s, total: 19min 4s\n",
      "Wall time: 19min 5s\n"
     ]
    }
   ],
   "source": [
    "%%time\n",
    "lr_model = LogisticRegression(random_state=12345)\n",
    "parameters = {'max_iter': [100, 150], 'C': [5, 10],}\n",
    "gridsearch_model = GridSearchCV(n_jobs=-1, cv=5, estimator=lr_model, param_grid=parameters,\n",
    "                                scoring='f1')\n",
    "gridsearch_model.fit(tf_idf_train, target_train)\n",
    "display(gridsearch_model.best_params_)\n",
    "display(gridsearch_model.best_score_)\n",
    "display(gridsearch_model.cv_results_)"
   ]
  },
  {
   "cell_type": "markdown",
   "metadata": {},
   "source": [
    "<font color='blue'><b>Комментарий ревьюера : </b></font> ✔️\\\n",
    "<font color='green'>Подбор гиперпараметров проведён верно.</font>"
   ]
  },
  {
   "cell_type": "markdown",
   "metadata": {},
   "source": [
    "<font color='blue'><b>Комментарий ревьюера: </b></font> ✔️\\\n",
    "<font color='green'>Здорово что оценка кроссвалидацией.</font>"
   ]
  },
  {
   "cell_type": "markdown",
   "metadata": {},
   "source": [
    "### Decision Tree Classifier"
   ]
  },
  {
   "cell_type": "code",
   "execution_count": 13,
   "metadata": {
    "scrolled": false
   },
   "outputs": [
    {
     "data": {
      "text/plain": [
       "{'max_depth': 12, 'min_samples_leaf': 2}"
      ]
     },
     "metadata": {},
     "output_type": "display_data"
    },
    {
     "data": {
      "text/plain": [
       "0.6163196447520353"
      ]
     },
     "metadata": {},
     "output_type": "display_data"
    },
    {
     "data": {
      "text/plain": [
       "{'mean_fit_time': array([11.13015771, 10.8794138 , 13.12429142, 13.22649498]),\n",
       " 'std_fit_time': array([0.21801985, 0.12364328, 0.12851159, 0.1557681 ]),\n",
       " 'mean_score_time': array([0.02950745, 0.02800965, 0.02911696, 0.02817287]),\n",
       " 'std_score_time': array([0.00158154, 0.00050744, 0.00175172, 0.00064149]),\n",
       " 'param_max_depth': masked_array(data=[6, 6, 12, 12],\n",
       "              mask=[False, False, False, False],\n",
       "        fill_value='?',\n",
       "             dtype=object),\n",
       " 'param_min_samples_leaf': masked_array(data=[2, 3, 2, 3],\n",
       "              mask=[False, False, False, False],\n",
       "        fill_value='?',\n",
       "             dtype=object),\n",
       " 'params': [{'max_depth': 6, 'min_samples_leaf': 2},\n",
       "  {'max_depth': 6, 'min_samples_leaf': 3},\n",
       "  {'max_depth': 12, 'min_samples_leaf': 2},\n",
       "  {'max_depth': 12, 'min_samples_leaf': 3}],\n",
       " 'split0_test_score': array([0.54302103, 0.54376368, 0.61271381, 0.60579636]),\n",
       " 'split1_test_score': array([0.55323703, 0.55091104, 0.61694571, 0.61381596]),\n",
       " 'split2_test_score': array([0.56668452, 0.56499598, 0.62635202, 0.62712282]),\n",
       " 'split3_test_score': array([0.55460842, 0.55605859, 0.61733401, 0.62032356]),\n",
       " 'split4_test_score': array([0.54678204, 0.5437788 , 0.60825267, 0.60818713]),\n",
       " 'mean_test_score': array([0.55286661, 0.55190162, 0.61631964, 0.61504916]),\n",
       " 'std_test_score': array([0.00810016, 0.00802409, 0.00600246, 0.00784621]),\n",
       " 'rank_test_score': array([3, 4, 1, 2], dtype=int32)}"
      ]
     },
     "metadata": {},
     "output_type": "display_data"
    },
    {
     "name": "stdout",
     "output_type": "stream",
     "text": [
      "CPU times: user 4min 6s, sys: 1.65 s, total: 4min 8s\n",
      "Wall time: 4min 8s\n"
     ]
    }
   ],
   "source": [
    "%%time\n",
    "dt_model = DecisionTreeClassifier(random_state=12345)\n",
    "parameters = {'max_depth': [6, 12], 'min_samples_leaf':[2, 3]}\n",
    "gridsearch_model = GridSearchCV(n_jobs=-1, cv=5, estimator=dt_model, param_grid=parameters,\n",
    "                                scoring='f1')\n",
    "gridsearch_model.fit(tf_idf_train, target_train)\n",
    "display(gridsearch_model.best_params_)\n",
    "display(gridsearch_model.best_score_)\n",
    "display(gridsearch_model.cv_results_)"
   ]
  },
  {
   "cell_type": "markdown",
   "metadata": {},
   "source": [
    "<font color='blue'><b>Комментарий ревьюера: </b></font> ✔️\\\n",
    "<font color='green'>👍</font>"
   ]
  },
  {
   "cell_type": "markdown",
   "metadata": {},
   "source": [
    "### Тестирование"
   ]
  },
  {
   "cell_type": "code",
   "execution_count": 14,
   "metadata": {},
   "outputs": [
    {
     "name": "stdout",
     "output_type": "stream",
     "text": [
      "F1:  0.7799999999999999\n"
     ]
    }
   ],
   "source": [
    "lr_model = LogisticRegression(C=5, max_iter=150, random_state=12345)\n",
    "lr_model.fit(tf_idf_train, target_train)\n",
    "predict = lr_model.predict(tf_idf_test)\n",
    "print('F1: ', f1_score(predict, target_test))"
   ]
  },
  {
   "cell_type": "markdown",
   "metadata": {},
   "source": [
    "<font color='blue'><b>Комментарий ревьюера: </b></font> ✔️\\\n",
    "<font color='green'>Тестирование проведено верно.</font>"
   ]
  },
  {
   "cell_type": "markdown",
   "metadata": {},
   "source": [
    "## Выводы"
   ]
  },
  {
   "cell_type": "markdown",
   "metadata": {},
   "source": [
    "- Данные успешно загружены\n",
    "- Проведена предобработка\n",
    "- Проведена лемматизация и токенизация\n",
    "- Данные были векторизированы, убраны лишние символы\n",
    "- Были обучены две модели: логистическая регрессия и решающее дерево. Логистическая регрессия показал лучшее качество.\n",
    "- Качество на тестовой выборке оказалось **0.78**, что выше порога в 0.75. Модель обучена успешно."
   ]
  },
  {
   "cell_type": "markdown",
   "metadata": {},
   "source": [
    "<font color='blue'><b>Комментарий ревьюера: </b></font> ✔️\\\n",
    "<font color='green'> Очень приятно видеть вывод в конце проекта!\\\n",
    "Приведены ответы на главные вопросы проекта.</font>"
   ]
  },
  {
   "cell_type": "markdown",
   "metadata": {},
   "source": [
    "<font color='blue'><b>Итоговый комментарий ревьюера</b></font>\\\n",
    "<font color='green'>Артём, хороший проект получился!\n",
    "Большое спасибо за проделанную работу. Видно, что приложено много усилий.\n",
    "</font>\n",
    "\n",
    "<font color='blue'>Что нужно исправить:</font>\n",
    "<ul><font color='red'>Не применяй метод .astype('U') для текстов на латинице.</font></ul>\n",
    "<ul><font color='red'>Поправь Лемматизацию.</font></ul>\n",
    "\n",
    "<font color='blue'>Что можно сделать лучше:</font>\n",
    "<font color='orange'>В работе я оставил несколько советов. Буду рад, если ты учтешь их.</font></ul>\n",
    "\n",
    "<font color='blue'><b>Жду новую версию проекта :)</b></font>"
   ]
  },
  {
   "cell_type": "markdown",
   "metadata": {},
   "source": [
    "<font color='blue'><b>Итоговый комментарий ревьюера 2</b></font>\\\n",
    "<font color='green'> Артём, проект принят! \\\n",
    "Все этапы пройдены. Все рекомендации учтены.\\\n",
    "Надеюсь, тебе понравился процесс выполнения и результат.</font> \\\n",
    "<font color='blue'><b>Спасибо, удачи в освоении профессии!</b></font>"
   ]
  },
  {
   "cell_type": "markdown",
   "metadata": {},
   "source": [
    "<font color='green'><b>Полезные (и просто интересные) материалы:</b> \\\n",
    "Для работы с текстами используют и другие подходы. Например, сейчас активно используются RNN (LSTM) и трансформеры (BERT и другие с улицы Сезам, например, ELMO). НО! Они не являются панацеей, не всегда они нужны, так как и TF-IDF или Word2Vec + модели из классического ML тоже могут справляться. \\\n",
    "BERT тяжелый, существует много его вариаций для разных задач, есть готовые модели, есть надстройки над библиотекой transformers. Если, обучать BERT на GPU (можно в Google Colab или Kaggle), то должно быть побыстрее.\\\n",
    "https://huggingface.co/transformers/model_doc/bert.html \\\n",
    "https://colah.github.io/posts/2015-08-Understanding-LSTMs/ - Про LSTM \\\n",
    "https://web.stanford.edu/~jurafsky/slp3/10.pdf - про энкодер-декодер модели, этеншены\\\n",
    "https://pytorch.org/tutorials/beginner/transformer_tutorial.html - официальный гайд\n",
    "по трансформеру от создателей pytorch\\\n",
    "Библиотеки: allennlp, fairseq, transformers, tensorflow-text — множествореализованных\n",
    "методов для трансформеров методов NLP \\\n",
    "Word2Vec https://radimrehurek.com/gensim/models/word2vec.html\n",
    "\n",
    "<font color='green'>Пример BERT с GPU:\n",
    "```python\n",
    "%%time\n",
    "from tqdm import notebook\n",
    "batch_size = 2 # для примера возьмем такой батч, где будет всего две строки датасета\n",
    "embeddings = []\n",
    "model.cuda()   # закидываем модель на GPU\n",
    "for i in notebook.tqdm(range(input_ids.shape[0] // batch_size)):\n",
    "        batch = torch.LongTensor(input_ids[batch_size*i:batch_size*(i+1)]).cuda() # закидываем тензор на GPU\n",
    "        attention_mask_batch = torch.LongTensor(attention_mask[batch_size*i:batch_size*(i+1)]).cuda()\n",
    "\n",
    "        with torch.no_grad():\n",
    "            batch_embeddings = model(batch, attention_mask=attention_mask_batch)\n",
    "\n",
    "        embeddings.append(batch_embeddings[0][:,0,:].cpu().numpy()) # перевод обратно на проц, чтобы в нумпай кинуть\n",
    "        del batch\n",
    "        del attention_mask_batch\n",
    "        del batch_embeddings\n",
    "\n",
    "features = np.concatenate(embeddings)\n",
    "```\n",
    "Можно сделать предварительную проверку на наличие GPU.\\\n",
    "Например, так: ```device = torch.device(\"cuda:0\") if torch.cuda.is_available() else torch.device(\"cpu\")```\\\n",
    "Тогда вместо .cuda() нужно писать .to(device)\n",
    "\n",
    "Если понравилась работа с текстами, то можешь посмотреть очень интересный (но очень-очень сложный) курс лекций: https://github.com/yandexdataschool/nlp_course .\n",
    "\n",
    "\n",
    "NLP от Samsung https://stepik.org/course/54098/promo \\\n",
    "NLP от Huawei https://ods.ai/tracks/nlp-course-autumn-23 \\\n",
    "Transformers от Hugging Face https://huggingface.co/learn/nlp-course/chapter1/1\n",
    "</font>"
   ]
  },
  {
   "cell_type": "markdown",
   "metadata": {},
   "source": [
    "## Чек-лист проверки"
   ]
  },
  {
   "cell_type": "markdown",
   "metadata": {},
   "source": [
    "- [x]  Jupyter Notebook открыт\n",
    "- [x]  Весь код выполняется без ошибок\n",
    "- [x]  Ячейки с кодом расположены в порядке исполнения\n",
    "- [x]  Данные загружены и подготовлены\n",
    "- [x]  Модели обучены\n",
    "- [x]  Значение метрики *F1* не меньше 0.75\n",
    "- [x]  Выводы написаны"
   ]
  }
 ],
 "metadata": {
  "ExecuteTimeLog": [
   {
    "duration": 2013,
    "start_time": "2023-09-27T17:35:15.858Z"
   },
   {
    "duration": 219,
    "start_time": "2023-09-27T17:35:17.874Z"
   },
   {
    "duration": 2713,
    "start_time": "2023-09-27T17:35:34.735Z"
   },
   {
    "duration": 1180,
    "start_time": "2023-09-27T17:35:56.731Z"
   },
   {
    "duration": 1196,
    "start_time": "2023-09-27T17:36:22.790Z"
   },
   {
    "duration": 10,
    "start_time": "2023-09-27T17:38:25.423Z"
   },
   {
    "duration": 28,
    "start_time": "2023-09-27T17:38:43.506Z"
   },
   {
    "duration": 201,
    "start_time": "2023-09-27T17:38:57.320Z"
   },
   {
    "duration": 234,
    "start_time": "2023-09-27T17:39:19.647Z"
   },
   {
    "duration": 11,
    "start_time": "2023-09-27T17:57:46.117Z"
   },
   {
    "duration": 67,
    "start_time": "2023-09-27T21:38:34.358Z"
   },
   {
    "duration": 2487,
    "start_time": "2023-09-27T21:38:41.302Z"
   },
   {
    "duration": 3560,
    "start_time": "2023-09-27T21:38:43.792Z"
   },
   {
    "duration": 320,
    "start_time": "2023-09-27T21:38:47.355Z"
   },
   {
    "duration": 12,
    "start_time": "2023-09-27T21:38:47.678Z"
   },
   {
    "duration": 3502,
    "start_time": "2023-09-27T21:38:47.693Z"
   },
   {
    "duration": 1966,
    "start_time": "2023-09-28T09:02:47.055Z"
   },
   {
    "duration": 2714,
    "start_time": "2023-09-28T09:02:49.024Z"
   },
   {
    "duration": 228,
    "start_time": "2023-09-28T09:02:51.749Z"
   },
   {
    "duration": 10,
    "start_time": "2023-09-28T09:02:51.979Z"
   },
   {
    "duration": 38,
    "start_time": "2023-09-28T09:02:51.991Z"
   },
   {
    "duration": 9,
    "start_time": "2023-09-28T09:02:52.031Z"
   },
   {
    "duration": 1977,
    "start_time": "2023-09-28T09:02:57.551Z"
   },
   {
    "duration": 1719,
    "start_time": "2023-09-28T09:03:39.015Z"
   },
   {
    "duration": 2674,
    "start_time": "2023-09-28T09:03:40.736Z"
   },
   {
    "duration": 235,
    "start_time": "2023-09-28T09:03:43.412Z"
   },
   {
    "duration": 11,
    "start_time": "2023-09-28T09:03:43.650Z"
   },
   {
    "duration": 27,
    "start_time": "2023-09-28T09:03:43.662Z"
   },
   {
    "duration": 25,
    "start_time": "2023-09-28T09:03:43.690Z"
   },
   {
    "duration": 2037,
    "start_time": "2023-09-28T09:03:45.903Z"
   },
   {
    "duration": 2995,
    "start_time": "2023-09-28T09:06:52.399Z"
   },
   {
    "duration": 2341,
    "start_time": "2023-09-28T09:06:55.450Z"
   },
   {
    "duration": 593,
    "start_time": "2023-09-28T09:06:57.793Z"
   },
   {
    "duration": 66,
    "start_time": "2023-09-28T09:06:58.388Z"
   },
   {
    "duration": 5,
    "start_time": "2023-09-28T09:06:58.457Z"
   },
   {
    "duration": 4,
    "start_time": "2023-09-28T09:06:58.464Z"
   },
   {
    "duration": 44159,
    "start_time": "2023-09-28T09:06:58.470Z"
   },
   {
    "duration": 67,
    "start_time": "2023-09-28T09:08:54.347Z"
   },
   {
    "duration": 1793,
    "start_time": "2023-09-28T10:57:33.554Z"
   },
   {
    "duration": 1323,
    "start_time": "2023-09-28T10:57:35.349Z"
   },
   {
    "duration": 255,
    "start_time": "2023-09-28T10:57:36.674Z"
   },
   {
    "duration": 258,
    "start_time": "2023-09-28T10:57:36.931Z"
   },
   {
    "duration": 179,
    "start_time": "2023-09-28T10:57:37.191Z"
   },
   {
    "duration": 18,
    "start_time": "2023-09-28T10:58:25.751Z"
   },
   {
    "duration": 8,
    "start_time": "2023-09-28T10:58:31.573Z"
   },
   {
    "duration": 3,
    "start_time": "2023-09-28T10:58:34.091Z"
   },
   {
    "duration": 3985,
    "start_time": "2023-09-28T10:59:21.593Z"
   },
   {
    "duration": 54,
    "start_time": "2023-09-28T11:03:20.065Z"
   },
   {
    "duration": 2013,
    "start_time": "2023-09-28T11:03:24.120Z"
   },
   {
    "duration": 3159,
    "start_time": "2023-09-28T11:03:26.136Z"
   },
   {
    "duration": 280,
    "start_time": "2023-09-28T11:03:29.297Z"
   },
   {
    "duration": 226,
    "start_time": "2023-09-28T11:03:29.579Z"
   },
   {
    "duration": 4,
    "start_time": "2023-09-28T11:03:29.806Z"
   },
   {
    "duration": 22,
    "start_time": "2023-09-28T11:03:29.812Z"
   },
   {
    "duration": 76966,
    "start_time": "2023-09-28T11:03:29.836Z"
   },
   {
    "duration": 5211,
    "start_time": "2023-09-28T11:04:52.411Z"
   },
   {
    "duration": 1672,
    "start_time": "2023-09-28T11:04:57.624Z"
   },
   {
    "duration": 269,
    "start_time": "2023-09-28T11:04:59.298Z"
   },
   {
    "duration": 269,
    "start_time": "2023-09-28T11:04:59.570Z"
   },
   {
    "duration": 5,
    "start_time": "2023-09-28T11:04:59.841Z"
   },
   {
    "duration": 18,
    "start_time": "2023-09-28T11:04:59.848Z"
   },
   {
    "duration": 101100,
    "start_time": "2023-09-28T11:04:59.869Z"
   },
   {
    "duration": 5725,
    "start_time": "2023-09-28T11:09:05.779Z"
   },
   {
    "duration": 3565,
    "start_time": "2023-09-28T11:09:11.506Z"
   },
   {
    "duration": 305,
    "start_time": "2023-09-28T11:09:15.074Z"
   },
   {
    "duration": 254,
    "start_time": "2023-09-28T11:09:15.383Z"
   },
   {
    "duration": 5,
    "start_time": "2023-09-28T11:09:15.639Z"
   },
   {
    "duration": 32,
    "start_time": "2023-09-28T11:09:15.646Z"
   },
   {
    "duration": 103826,
    "start_time": "2023-09-28T11:09:15.681Z"
   },
   {
    "duration": 52,
    "start_time": "2023-09-28T11:10:59.509Z"
   },
   {
    "duration": 60,
    "start_time": "2023-09-28T14:10:52.391Z"
   },
   {
    "duration": 267,
    "start_time": "2023-09-28T14:16:24.351Z"
   },
   {
    "duration": 6982,
    "start_time": "2023-09-28T14:45:18.637Z"
   },
   {
    "duration": 5,
    "start_time": "2023-09-28T14:51:08.124Z"
   },
   {
    "duration": 7758,
    "start_time": "2023-09-28T14:52:45.834Z"
   },
   {
    "duration": 13,
    "start_time": "2023-09-28T14:53:51.073Z"
   },
   {
    "duration": 11,
    "start_time": "2023-09-28T14:53:58.083Z"
   },
   {
    "duration": 12,
    "start_time": "2023-09-28T14:54:02.778Z"
   },
   {
    "duration": 19,
    "start_time": "2023-09-28T14:59:06.482Z"
   },
   {
    "duration": 41,
    "start_time": "2023-09-28T14:59:47.189Z"
   },
   {
    "duration": 12,
    "start_time": "2023-09-28T15:01:05.026Z"
   },
   {
    "duration": 50,
    "start_time": "2023-09-28T15:01:09.897Z"
   },
   {
    "duration": 4,
    "start_time": "2023-09-28T15:01:47.303Z"
   },
   {
    "duration": 20,
    "start_time": "2023-09-28T15:01:52.315Z"
   },
   {
    "duration": 137,
    "start_time": "2023-09-28T15:08:58.993Z"
   },
   {
    "duration": 133,
    "start_time": "2023-09-28T15:09:09.245Z"
   },
   {
    "duration": 125,
    "start_time": "2023-09-28T15:09:25.905Z"
   },
   {
    "duration": 3006,
    "start_time": "2023-09-28T15:24:04.836Z"
   },
   {
    "duration": 2300,
    "start_time": "2023-09-28T15:24:15.039Z"
   },
   {
    "duration": 1896,
    "start_time": "2023-09-28T15:24:17.341Z"
   },
   {
    "duration": 291,
    "start_time": "2023-09-28T15:24:19.238Z"
   },
   {
    "duration": 232,
    "start_time": "2023-09-28T15:24:19.531Z"
   },
   {
    "duration": 6,
    "start_time": "2023-09-28T15:24:19.765Z"
   },
   {
    "duration": 5,
    "start_time": "2023-09-28T15:24:19.773Z"
   },
   {
    "duration": 126605,
    "start_time": "2023-09-28T15:24:19.779Z"
   },
   {
    "duration": 93,
    "start_time": "2023-09-28T15:26:26.386Z"
   },
   {
    "duration": 9240,
    "start_time": "2023-09-28T15:26:26.484Z"
   },
   {
    "duration": 14,
    "start_time": "2023-09-28T15:26:35.727Z"
   },
   {
    "duration": 1856502,
    "start_time": "2023-09-28T15:26:35.752Z"
   },
   {
    "duration": 425318,
    "start_time": "2023-09-28T15:57:32.264Z"
   },
   {
    "duration": 1390,
    "start_time": "2023-09-28T16:04:37.584Z"
   },
   {
    "duration": 15,
    "start_time": "2023-09-28T16:20:15.884Z"
   },
   {
    "duration": 463908,
    "start_time": "2023-09-28T16:23:47.932Z"
   },
   {
    "duration": 222,
    "start_time": "2023-09-28T16:31:31.842Z"
   },
   {
    "duration": 1968743,
    "start_time": "2023-09-28T16:31:32.070Z"
   },
   {
    "duration": 141,
    "start_time": "2023-09-28T17:13:59.886Z"
   },
   {
    "duration": 2968,
    "start_time": "2023-09-28T17:14:29.916Z"
   },
   {
    "duration": 5440,
    "start_time": "2023-09-28T17:14:32.886Z"
   },
   {
    "duration": 389,
    "start_time": "2023-09-28T17:14:38.332Z"
   },
   {
    "duration": 219,
    "start_time": "2023-09-28T17:14:38.723Z"
   },
   {
    "duration": 8,
    "start_time": "2023-09-28T17:14:38.946Z"
   },
   {
    "duration": 6,
    "start_time": "2023-09-28T17:14:38.956Z"
   },
   {
    "duration": 108467,
    "start_time": "2023-09-28T17:14:38.970Z"
   },
   {
    "duration": 61,
    "start_time": "2023-09-28T17:16:27.439Z"
   },
   {
    "duration": 7265,
    "start_time": "2023-09-28T17:16:27.502Z"
   },
   {
    "duration": 20,
    "start_time": "2023-09-28T17:16:34.769Z"
   },
   {
    "duration": 1879373,
    "start_time": "2023-09-28T17:16:34.792Z"
   },
   {
    "duration": 309405,
    "start_time": "2023-09-28T17:47:54.170Z"
   },
   {
    "duration": 47,
    "start_time": "2023-09-28T19:08:26.985Z"
   },
   {
    "duration": 2037,
    "start_time": "2023-09-28T19:08:39.053Z"
   },
   {
    "duration": 108,
    "start_time": "2023-09-28T19:08:50.140Z"
   },
   {
    "duration": 2173,
    "start_time": "2023-09-28T19:09:46.400Z"
   },
   {
    "duration": 3547,
    "start_time": "2023-09-28T19:09:48.578Z"
   },
   {
    "duration": 283,
    "start_time": "2023-09-28T19:09:52.127Z"
   },
   {
    "duration": 277,
    "start_time": "2023-09-28T19:09:52.412Z"
   },
   {
    "duration": 4,
    "start_time": "2023-09-28T19:09:52.691Z"
   },
   {
    "duration": 8,
    "start_time": "2023-09-28T19:09:52.697Z"
   },
   {
    "duration": 112709,
    "start_time": "2023-09-28T19:09:52.707Z"
   },
   {
    "duration": 78,
    "start_time": "2023-09-28T19:11:45.418Z"
   },
   {
    "duration": 8410,
    "start_time": "2023-09-28T19:11:45.498Z"
   },
   {
    "duration": 20,
    "start_time": "2023-09-28T19:11:53.910Z"
   },
   {
    "duration": 1393903,
    "start_time": "2023-09-28T19:11:53.932Z"
   },
   {
    "duration": 418392,
    "start_time": "2023-09-28T19:35:07.850Z"
   },
   {
    "duration": 85053,
    "start_time": "2023-09-28T19:42:06.243Z"
   },
   {
    "duration": 3848,
    "start_time": "2023-09-29T06:32:59.800Z"
   },
   {
    "duration": 2905,
    "start_time": "2023-09-29T06:33:03.651Z"
   },
   {
    "duration": 263,
    "start_time": "2023-09-29T06:33:06.558Z"
   },
   {
    "duration": 150,
    "start_time": "2023-09-29T06:33:06.825Z"
   },
   {
    "duration": 4,
    "start_time": "2023-09-29T06:33:06.978Z"
   },
   {
    "duration": 48,
    "start_time": "2023-09-29T06:33:06.984Z"
   },
   {
    "duration": 1398,
    "start_time": "2023-09-29T06:33:07.035Z"
   },
   {
    "duration": 6,
    "start_time": "2023-09-29T06:33:08.435Z"
   },
   {
    "duration": 1928,
    "start_time": "2023-09-29T07:08:34.563Z"
   },
   {
    "duration": 2546,
    "start_time": "2023-09-29T07:08:38.012Z"
   },
   {
    "duration": 207,
    "start_time": "2023-09-29T07:14:02.995Z"
   },
   {
    "duration": 133,
    "start_time": "2023-09-29T07:14:07.684Z"
   },
   {
    "duration": 3,
    "start_time": "2023-09-29T07:14:12.460Z"
   },
   {
    "duration": 3,
    "start_time": "2023-09-29T07:14:13.076Z"
   },
   {
    "duration": 37667,
    "start_time": "2023-09-29T07:14:14.707Z"
   },
   {
    "duration": 77946,
    "start_time": "2023-09-29T07:14:54.787Z"
   },
   {
    "duration": 4,
    "start_time": "2023-09-29T08:36:33.792Z"
   },
   {
    "duration": 1863,
    "start_time": "2023-09-29T11:34:33.911Z"
   },
   {
    "duration": 2674,
    "start_time": "2023-09-29T11:34:35.776Z"
   },
   {
    "duration": 223,
    "start_time": "2023-09-29T11:34:38.452Z"
   },
   {
    "duration": 332,
    "start_time": "2023-09-29T11:34:38.677Z"
   },
   {
    "duration": 3,
    "start_time": "2023-09-29T11:34:39.011Z"
   },
   {
    "duration": 3,
    "start_time": "2023-09-29T11:34:41.475Z"
   },
   {
    "duration": 3,
    "start_time": "2023-09-29T11:34:42.359Z"
   },
   {
    "duration": 139,
    "start_time": "2023-09-29T11:34:44.614Z"
   },
   {
    "duration": 1536,
    "start_time": "2023-09-29T11:37:51.875Z"
   },
   {
    "duration": 1095,
    "start_time": "2023-09-29T11:37:53.413Z"
   },
   {
    "duration": 230,
    "start_time": "2023-09-29T11:37:54.509Z"
   },
   {
    "duration": 137,
    "start_time": "2023-09-29T11:37:54.741Z"
   },
   {
    "duration": 4,
    "start_time": "2023-09-29T11:37:54.880Z"
   },
   {
    "duration": 5,
    "start_time": "2023-09-29T11:37:54.885Z"
   },
   {
    "duration": 9,
    "start_time": "2023-09-29T11:37:54.892Z"
   },
   {
    "duration": 159,
    "start_time": "2023-09-29T11:37:54.902Z"
   },
   {
    "duration": 0,
    "start_time": "2023-09-29T11:37:55.063Z"
   },
   {
    "duration": 0,
    "start_time": "2023-09-29T11:37:55.064Z"
   },
   {
    "duration": 0,
    "start_time": "2023-09-29T11:37:55.065Z"
   },
   {
    "duration": 0,
    "start_time": "2023-09-29T11:37:55.066Z"
   },
   {
    "duration": 0,
    "start_time": "2023-09-29T11:37:55.067Z"
   },
   {
    "duration": 0,
    "start_time": "2023-09-29T11:37:55.068Z"
   },
   {
    "duration": 0,
    "start_time": "2023-09-29T11:37:55.069Z"
   },
   {
    "duration": 1694,
    "start_time": "2023-09-29T11:38:39.522Z"
   },
   {
    "duration": 1091,
    "start_time": "2023-09-29T11:38:41.218Z"
   },
   {
    "duration": 230,
    "start_time": "2023-09-29T11:38:42.311Z"
   },
   {
    "duration": 129,
    "start_time": "2023-09-29T11:38:44.706Z"
   },
   {
    "duration": 4,
    "start_time": "2023-09-29T11:38:45.642Z"
   },
   {
    "duration": 3,
    "start_time": "2023-09-29T11:38:47.642Z"
   },
   {
    "duration": 3,
    "start_time": "2023-09-29T11:38:48.755Z"
   },
   {
    "duration": 135,
    "start_time": "2023-09-29T11:38:50.207Z"
   },
   {
    "duration": 263,
    "start_time": "2023-09-29T11:41:16.595Z"
   },
   {
    "duration": 3,
    "start_time": "2023-09-29T11:41:17.035Z"
   },
   {
    "duration": 3,
    "start_time": "2023-09-29T11:41:18.546Z"
   },
   {
    "duration": 1096655,
    "start_time": "2023-09-29T11:41:19.606Z"
   },
   {
    "duration": 4,
    "start_time": "2023-09-29T11:59:36.263Z"
   },
   {
    "duration": 93,
    "start_time": "2023-09-29T11:59:36.269Z"
   },
   {
    "duration": 6595,
    "start_time": "2023-09-29T11:59:36.364Z"
   },
   {
    "duration": 16,
    "start_time": "2023-09-29T11:59:42.961Z"
   },
   {
    "duration": 28,
    "start_time": "2023-09-29T12:13:37.959Z"
   },
   {
    "duration": 6,
    "start_time": "2023-09-29T12:13:52.062Z"
   },
   {
    "duration": 6634,
    "start_time": "2023-09-29T12:13:57.263Z"
   },
   {
    "duration": 5,
    "start_time": "2023-09-29T12:16:51.927Z"
   },
   {
    "duration": 1758,
    "start_time": "2023-09-29T12:40:59.398Z"
   },
   {
    "duration": 1142,
    "start_time": "2023-09-29T12:41:13.567Z"
   },
   {
    "duration": 55,
    "start_time": "2023-09-29T12:44:41.147Z"
   },
   {
    "duration": 6335,
    "start_time": "2023-09-29T12:44:44.015Z"
   },
   {
    "duration": 31,
    "start_time": "2023-09-29T12:44:52.903Z"
   },
   {
    "duration": 1660,
    "start_time": "2023-09-29T12:47:43.028Z"
   },
   {
    "duration": 1105,
    "start_time": "2023-09-29T12:47:44.689Z"
   },
   {
    "duration": 277,
    "start_time": "2023-09-29T12:47:45.795Z"
   },
   {
    "duration": 140,
    "start_time": "2023-09-29T12:47:46.075Z"
   },
   {
    "duration": 10,
    "start_time": "2023-09-29T12:47:46.216Z"
   },
   {
    "duration": 15,
    "start_time": "2023-09-29T12:47:46.227Z"
   },
   {
    "duration": 17,
    "start_time": "2023-09-29T12:47:46.244Z"
   },
   {
    "duration": 1079207,
    "start_time": "2023-09-29T12:47:46.262Z"
   },
   {
    "duration": 4,
    "start_time": "2023-09-29T13:05:45.470Z"
   },
   {
    "duration": 71,
    "start_time": "2023-09-29T13:05:45.476Z"
   },
   {
    "duration": 6295,
    "start_time": "2023-09-29T13:05:45.548Z"
   },
   {
    "duration": 1145604,
    "start_time": "2023-09-29T13:05:51.845Z"
   },
   {
    "duration": 248331,
    "start_time": "2023-09-29T13:24:57.451Z"
   },
   {
    "duration": 68766,
    "start_time": "2023-09-29T13:29:05.784Z"
   },
   {
    "duration": 109,
    "start_time": "2023-09-29T13:30:14.552Z"
   },
   {
    "duration": 0,
    "start_time": "2023-09-29T13:30:14.662Z"
   }
  ],
  "kernelspec": {
   "display_name": "Python 3 (ipykernel)",
   "language": "python",
   "name": "python3"
  },
  "language_info": {
   "codemirror_mode": {
    "name": "ipython",
    "version": 3
   },
   "file_extension": ".py",
   "mimetype": "text/x-python",
   "name": "python",
   "nbconvert_exporter": "python",
   "pygments_lexer": "ipython3",
   "version": "3.9.5"
  },
  "toc": {
   "base_numbering": 1,
   "nav_menu": {},
   "number_sections": true,
   "sideBar": true,
   "skip_h1_title": true,
   "title_cell": "Содержание",
   "title_sidebar": "Contents",
   "toc_cell": true,
   "toc_position": {
    "height": "calc(100% - 180px)",
    "left": "10px",
    "top": "150px",
    "width": "302.391px"
   },
   "toc_section_display": true,
   "toc_window_display": false
  }
 },
 "nbformat": 4,
 "nbformat_minor": 2
}

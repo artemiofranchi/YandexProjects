{
 "cells": [
  {
   "cell_type": "markdown",
   "metadata": {},
   "source": [
    "\n",
    "Привет еще раз, меня зовут Люман Аблаев. Сегодня я проверю твой проект.\n",
    "<br> Дальнейшее общение будет происходить на \"ты\" если это не вызывает никаких проблем.\n",
    "<br> Желательно реагировать на красные комментарии ('исправил', 'не понятно как исправить ошибку', ...)\n",
    "<br> Пожалуйста, не удаляй комментарии ревьюера, так как они повышают качество повторного ревью.\n",
    "\n",
    "Комментарии будут в <font color='green'>зеленой</font>, <font color='blue'>синей</font> или <font color='red'>красной</font> рамках:\n",
    "\n",
    "\n",
    "<div class=\"alert alert-block alert-success\">\n",
    "<b>Успех:</b> Если все сделано отлично\n",
    "</div>\n",
    "\n",
    "<div class=\"alert alert-block alert-info\">\n",
    "<b>Совет: </b> Если можно немного улучшить\n",
    "</div>\n",
    "\n",
    "<div class=\"alert alert-block alert-danger\">\n",
    "<b>Ошибка:</b> Если требуются исправления. Работа не может быть принята с красными комментариями.\n",
    "</div>\n",
    "\n",
    "-------------------\n",
    "\n",
    "Будет очень хорошо, если ты будешь помечать свои действия следующим образом:\n",
    "<div class=\"alert alert-block alert-warning\">\n",
    "<b>Комментарий студента:</b> ...\n",
    "</div>\n",
    "\n",
    "<div class=\"alert alert-block alert-warning\">\n",
    "<b>Изменения:</b> Были внесены следующие изменения ...\n",
    "</div>\n",
    "\n",
    "\n",
    "\n",
    "\n",
    "\n",
    "\n",
    "\n",
    "<font color='orange' style='font-size:24px; font-weight:bold'>Общее впечатление</font>\n",
    "* Спасибо за очередную качественную работу - видно, что приложено много усилий,\n",
    "- Я оставил некоторые советы, надеюсь они будут полезными и интересными\n",
    "- Есть некоторые недочеты, которые нужно поправить, но у тебя это не должно занять много времени)\n",
    "- Жду обновленную работу"
   ]
  },
  {
   "cell_type": "markdown",
   "metadata": {},
   "source": [
    "<font color='orange' style='font-size:24px; font-weight:bold'>Общее впечатление[2]</font>\n",
    "* Спасибо за усердность!\n",
    "- Было приятно с тобой сотрудничать.\n",
    "- Недочеты исправлены - работа полностью корректна\n",
    "- Не буду больше задерживать, продолжай в том же духе.\n"
   ]
  },
  {
   "cell_type": "markdown",
   "metadata": {},
   "source": [
    "# Определение стоимости автомобилей"
   ]
  },
  {
   "cell_type": "markdown",
   "metadata": {},
   "source": [
    "Сервис по продаже автомобилей с пробегом «Не бит, не крашен» разрабатывает приложение для привлечения новых клиентов. В нём можно быстро узнать рыночную стоимость своего автомобиля. В вашем распоряжении исторические данные: технические характеристики, комплектации и цены автомобилей. Вам нужно построить модель для определения стоимости. \n",
    "\n",
    "Заказчику важны:\n",
    "\n",
    "- качество предсказания;\n",
    "- скорость предсказания;\n",
    "- время обучения."
   ]
  },
  {
   "cell_type": "markdown",
   "metadata": {},
   "source": [
    "## Подготовка данных"
   ]
  },
  {
   "cell_type": "markdown",
   "metadata": {},
   "source": [
    "###  Загрузка данных"
   ]
  },
  {
   "cell_type": "code",
   "execution_count": 1,
   "metadata": {},
   "outputs": [],
   "source": [
    "import pandas as pd\n",
    "import numpy as np\n",
    "import matplotlib.pyplot as plt\n",
    "import seaborn as sns\n",
    "import warnings\n",
    "from sklearn.metrics import make_scorer\n",
    "from sklearn.model_selection import train_test_split, cross_val_score\n",
    "from sklearn.preprocessing import OrdinalEncoder, OneHotEncoder \n",
    "from sklearn.linear_model import LinearRegression\n",
    "from catboost import CatBoostRegressor\n",
    "from lightgbm import LGBMRegressor\n",
    "from sklearn.metrics import mean_squared_error as mse\n",
    "from sklearn.preprocessing import StandardScaler\n",
    "from sklearn.model_selection import GridSearchCV\n",
    "from sklearn.dummy import DummyRegressor\n",
    "\n",
    "warnings.filterwarnings('ignore')"
   ]
  },
  {
   "cell_type": "markdown",
   "metadata": {},
   "source": [
    "<div class=\"alert alert-block alert-success\">\n",
    "<b>Успех:</b> Импорты  на месте\n",
    "</div>\n"
   ]
  },
  {
   "cell_type": "code",
   "execution_count": 2,
   "metadata": {},
   "outputs": [
    {
     "data": {
      "text/html": [
       "<div>\n",
       "<style scoped>\n",
       "    .dataframe tbody tr th:only-of-type {\n",
       "        vertical-align: middle;\n",
       "    }\n",
       "\n",
       "    .dataframe tbody tr th {\n",
       "        vertical-align: top;\n",
       "    }\n",
       "\n",
       "    .dataframe thead th {\n",
       "        text-align: right;\n",
       "    }\n",
       "</style>\n",
       "<table border=\"1\" class=\"dataframe\">\n",
       "  <thead>\n",
       "    <tr style=\"text-align: right;\">\n",
       "      <th></th>\n",
       "      <th>DateCrawled</th>\n",
       "      <th>Price</th>\n",
       "      <th>VehicleType</th>\n",
       "      <th>RegistrationYear</th>\n",
       "      <th>Gearbox</th>\n",
       "      <th>Power</th>\n",
       "      <th>Model</th>\n",
       "      <th>Kilometer</th>\n",
       "      <th>RegistrationMonth</th>\n",
       "      <th>FuelType</th>\n",
       "      <th>Brand</th>\n",
       "      <th>Repaired</th>\n",
       "      <th>DateCreated</th>\n",
       "      <th>NumberOfPictures</th>\n",
       "      <th>PostalCode</th>\n",
       "      <th>LastSeen</th>\n",
       "    </tr>\n",
       "  </thead>\n",
       "  <tbody>\n",
       "    <tr>\n",
       "      <th>0</th>\n",
       "      <td>2016-03-24 11:52:17</td>\n",
       "      <td>480</td>\n",
       "      <td>NaN</td>\n",
       "      <td>1993</td>\n",
       "      <td>manual</td>\n",
       "      <td>0</td>\n",
       "      <td>golf</td>\n",
       "      <td>150000</td>\n",
       "      <td>0</td>\n",
       "      <td>petrol</td>\n",
       "      <td>volkswagen</td>\n",
       "      <td>NaN</td>\n",
       "      <td>2016-03-24 00:00:00</td>\n",
       "      <td>0</td>\n",
       "      <td>70435</td>\n",
       "      <td>2016-04-07 03:16:57</td>\n",
       "    </tr>\n",
       "    <tr>\n",
       "      <th>1</th>\n",
       "      <td>2016-03-24 10:58:45</td>\n",
       "      <td>18300</td>\n",
       "      <td>coupe</td>\n",
       "      <td>2011</td>\n",
       "      <td>manual</td>\n",
       "      <td>190</td>\n",
       "      <td>NaN</td>\n",
       "      <td>125000</td>\n",
       "      <td>5</td>\n",
       "      <td>gasoline</td>\n",
       "      <td>audi</td>\n",
       "      <td>yes</td>\n",
       "      <td>2016-03-24 00:00:00</td>\n",
       "      <td>0</td>\n",
       "      <td>66954</td>\n",
       "      <td>2016-04-07 01:46:50</td>\n",
       "    </tr>\n",
       "    <tr>\n",
       "      <th>2</th>\n",
       "      <td>2016-03-14 12:52:21</td>\n",
       "      <td>9800</td>\n",
       "      <td>suv</td>\n",
       "      <td>2004</td>\n",
       "      <td>auto</td>\n",
       "      <td>163</td>\n",
       "      <td>grand</td>\n",
       "      <td>125000</td>\n",
       "      <td>8</td>\n",
       "      <td>gasoline</td>\n",
       "      <td>jeep</td>\n",
       "      <td>NaN</td>\n",
       "      <td>2016-03-14 00:00:00</td>\n",
       "      <td>0</td>\n",
       "      <td>90480</td>\n",
       "      <td>2016-04-05 12:47:46</td>\n",
       "    </tr>\n",
       "    <tr>\n",
       "      <th>3</th>\n",
       "      <td>2016-03-17 16:54:04</td>\n",
       "      <td>1500</td>\n",
       "      <td>small</td>\n",
       "      <td>2001</td>\n",
       "      <td>manual</td>\n",
       "      <td>75</td>\n",
       "      <td>golf</td>\n",
       "      <td>150000</td>\n",
       "      <td>6</td>\n",
       "      <td>petrol</td>\n",
       "      <td>volkswagen</td>\n",
       "      <td>no</td>\n",
       "      <td>2016-03-17 00:00:00</td>\n",
       "      <td>0</td>\n",
       "      <td>91074</td>\n",
       "      <td>2016-03-17 17:40:17</td>\n",
       "    </tr>\n",
       "    <tr>\n",
       "      <th>4</th>\n",
       "      <td>2016-03-31 17:25:20</td>\n",
       "      <td>3600</td>\n",
       "      <td>small</td>\n",
       "      <td>2008</td>\n",
       "      <td>manual</td>\n",
       "      <td>69</td>\n",
       "      <td>fabia</td>\n",
       "      <td>90000</td>\n",
       "      <td>7</td>\n",
       "      <td>gasoline</td>\n",
       "      <td>skoda</td>\n",
       "      <td>no</td>\n",
       "      <td>2016-03-31 00:00:00</td>\n",
       "      <td>0</td>\n",
       "      <td>60437</td>\n",
       "      <td>2016-04-06 10:17:21</td>\n",
       "    </tr>\n",
       "  </tbody>\n",
       "</table>\n",
       "</div>"
      ],
      "text/plain": [
       "           DateCrawled  Price VehicleType  RegistrationYear Gearbox  Power  \\\n",
       "0  2016-03-24 11:52:17    480         NaN              1993  manual      0   \n",
       "1  2016-03-24 10:58:45  18300       coupe              2011  manual    190   \n",
       "2  2016-03-14 12:52:21   9800         suv              2004    auto    163   \n",
       "3  2016-03-17 16:54:04   1500       small              2001  manual     75   \n",
       "4  2016-03-31 17:25:20   3600       small              2008  manual     69   \n",
       "\n",
       "   Model  Kilometer  RegistrationMonth  FuelType       Brand Repaired  \\\n",
       "0   golf     150000                  0    petrol  volkswagen      NaN   \n",
       "1    NaN     125000                  5  gasoline        audi      yes   \n",
       "2  grand     125000                  8  gasoline        jeep      NaN   \n",
       "3   golf     150000                  6    petrol  volkswagen       no   \n",
       "4  fabia      90000                  7  gasoline       skoda       no   \n",
       "\n",
       "           DateCreated  NumberOfPictures  PostalCode             LastSeen  \n",
       "0  2016-03-24 00:00:00                 0       70435  2016-04-07 03:16:57  \n",
       "1  2016-03-24 00:00:00                 0       66954  2016-04-07 01:46:50  \n",
       "2  2016-03-14 00:00:00                 0       90480  2016-04-05 12:47:46  \n",
       "3  2016-03-17 00:00:00                 0       91074  2016-03-17 17:40:17  \n",
       "4  2016-03-31 00:00:00                 0       60437  2016-04-06 10:17:21  "
      ]
     },
     "execution_count": 2,
     "metadata": {},
     "output_type": "execute_result"
    }
   ],
   "source": [
    "data = pd.read_csv('/datasets/autos.csv')\n",
    "data.head()"
   ]
  },
  {
   "cell_type": "code",
   "execution_count": 3,
   "metadata": {},
   "outputs": [
    {
     "name": "stdout",
     "output_type": "stream",
     "text": [
      "<class 'pandas.core.frame.DataFrame'>\n",
      "RangeIndex: 354369 entries, 0 to 354368\n",
      "Data columns (total 16 columns):\n",
      " #   Column             Non-Null Count   Dtype \n",
      "---  ------             --------------   ----- \n",
      " 0   DateCrawled        354369 non-null  object\n",
      " 1   Price              354369 non-null  int64 \n",
      " 2   VehicleType        316879 non-null  object\n",
      " 3   RegistrationYear   354369 non-null  int64 \n",
      " 4   Gearbox            334536 non-null  object\n",
      " 5   Power              354369 non-null  int64 \n",
      " 6   Model              334664 non-null  object\n",
      " 7   Kilometer          354369 non-null  int64 \n",
      " 8   RegistrationMonth  354369 non-null  int64 \n",
      " 9   FuelType           321474 non-null  object\n",
      " 10  Brand              354369 non-null  object\n",
      " 11  Repaired           283215 non-null  object\n",
      " 12  DateCreated        354369 non-null  object\n",
      " 13  NumberOfPictures   354369 non-null  int64 \n",
      " 14  PostalCode         354369 non-null  int64 \n",
      " 15  LastSeen           354369 non-null  object\n",
      "dtypes: int64(7), object(9)\n",
      "memory usage: 43.3+ MB\n"
     ]
    }
   ],
   "source": [
    "data.info()"
   ]
  },
  {
   "cell_type": "code",
   "execution_count": 4,
   "metadata": {},
   "outputs": [
    {
     "data": {
      "text/html": [
       "<div>\n",
       "<style scoped>\n",
       "    .dataframe tbody tr th:only-of-type {\n",
       "        vertical-align: middle;\n",
       "    }\n",
       "\n",
       "    .dataframe tbody tr th {\n",
       "        vertical-align: top;\n",
       "    }\n",
       "\n",
       "    .dataframe thead th {\n",
       "        text-align: right;\n",
       "    }\n",
       "</style>\n",
       "<table border=\"1\" class=\"dataframe\">\n",
       "  <thead>\n",
       "    <tr style=\"text-align: right;\">\n",
       "      <th></th>\n",
       "      <th>Price</th>\n",
       "      <th>RegistrationYear</th>\n",
       "      <th>Power</th>\n",
       "      <th>Kilometer</th>\n",
       "      <th>RegistrationMonth</th>\n",
       "      <th>NumberOfPictures</th>\n",
       "      <th>PostalCode</th>\n",
       "    </tr>\n",
       "  </thead>\n",
       "  <tbody>\n",
       "    <tr>\n",
       "      <th>count</th>\n",
       "      <td>354369.000000</td>\n",
       "      <td>354369.000000</td>\n",
       "      <td>354369.000000</td>\n",
       "      <td>354369.000000</td>\n",
       "      <td>354369.000000</td>\n",
       "      <td>354369.0</td>\n",
       "      <td>354369.000000</td>\n",
       "    </tr>\n",
       "    <tr>\n",
       "      <th>mean</th>\n",
       "      <td>4416.656776</td>\n",
       "      <td>2004.234448</td>\n",
       "      <td>110.094337</td>\n",
       "      <td>128211.172535</td>\n",
       "      <td>5.714645</td>\n",
       "      <td>0.0</td>\n",
       "      <td>50508.689087</td>\n",
       "    </tr>\n",
       "    <tr>\n",
       "      <th>std</th>\n",
       "      <td>4514.158514</td>\n",
       "      <td>90.227958</td>\n",
       "      <td>189.850405</td>\n",
       "      <td>37905.341530</td>\n",
       "      <td>3.726421</td>\n",
       "      <td>0.0</td>\n",
       "      <td>25783.096248</td>\n",
       "    </tr>\n",
       "    <tr>\n",
       "      <th>min</th>\n",
       "      <td>0.000000</td>\n",
       "      <td>1000.000000</td>\n",
       "      <td>0.000000</td>\n",
       "      <td>5000.000000</td>\n",
       "      <td>0.000000</td>\n",
       "      <td>0.0</td>\n",
       "      <td>1067.000000</td>\n",
       "    </tr>\n",
       "    <tr>\n",
       "      <th>25%</th>\n",
       "      <td>1050.000000</td>\n",
       "      <td>1999.000000</td>\n",
       "      <td>69.000000</td>\n",
       "      <td>125000.000000</td>\n",
       "      <td>3.000000</td>\n",
       "      <td>0.0</td>\n",
       "      <td>30165.000000</td>\n",
       "    </tr>\n",
       "    <tr>\n",
       "      <th>50%</th>\n",
       "      <td>2700.000000</td>\n",
       "      <td>2003.000000</td>\n",
       "      <td>105.000000</td>\n",
       "      <td>150000.000000</td>\n",
       "      <td>6.000000</td>\n",
       "      <td>0.0</td>\n",
       "      <td>49413.000000</td>\n",
       "    </tr>\n",
       "    <tr>\n",
       "      <th>75%</th>\n",
       "      <td>6400.000000</td>\n",
       "      <td>2008.000000</td>\n",
       "      <td>143.000000</td>\n",
       "      <td>150000.000000</td>\n",
       "      <td>9.000000</td>\n",
       "      <td>0.0</td>\n",
       "      <td>71083.000000</td>\n",
       "    </tr>\n",
       "    <tr>\n",
       "      <th>max</th>\n",
       "      <td>20000.000000</td>\n",
       "      <td>9999.000000</td>\n",
       "      <td>20000.000000</td>\n",
       "      <td>150000.000000</td>\n",
       "      <td>12.000000</td>\n",
       "      <td>0.0</td>\n",
       "      <td>99998.000000</td>\n",
       "    </tr>\n",
       "  </tbody>\n",
       "</table>\n",
       "</div>"
      ],
      "text/plain": [
       "               Price  RegistrationYear          Power      Kilometer  \\\n",
       "count  354369.000000     354369.000000  354369.000000  354369.000000   \n",
       "mean     4416.656776       2004.234448     110.094337  128211.172535   \n",
       "std      4514.158514         90.227958     189.850405   37905.341530   \n",
       "min         0.000000       1000.000000       0.000000    5000.000000   \n",
       "25%      1050.000000       1999.000000      69.000000  125000.000000   \n",
       "50%      2700.000000       2003.000000     105.000000  150000.000000   \n",
       "75%      6400.000000       2008.000000     143.000000  150000.000000   \n",
       "max     20000.000000       9999.000000   20000.000000  150000.000000   \n",
       "\n",
       "       RegistrationMonth  NumberOfPictures     PostalCode  \n",
       "count      354369.000000          354369.0  354369.000000  \n",
       "mean            5.714645               0.0   50508.689087  \n",
       "std             3.726421               0.0   25783.096248  \n",
       "min             0.000000               0.0    1067.000000  \n",
       "25%             3.000000               0.0   30165.000000  \n",
       "50%             6.000000               0.0   49413.000000  \n",
       "75%             9.000000               0.0   71083.000000  \n",
       "max            12.000000               0.0   99998.000000  "
      ]
     },
     "execution_count": 4,
     "metadata": {},
     "output_type": "execute_result"
    }
   ],
   "source": [
    "data.describe()"
   ]
  },
  {
   "cell_type": "markdown",
   "metadata": {},
   "source": [
    "- DateCrawled, DateCreated можно убрать, не влияет на обучение\n",
    "- NumberOfPictures имеет лишь нулевые значения. Иррелевантный признак, можно убрать.\n",
    "- PostalCode не будет иметь ценности для обучения\n",
    "- RegistrationMonth тоже лишняя информация, года достаточно\n",
    "- LastSeen активность пользователя не влияет на формирование цены"
   ]
  },
  {
   "cell_type": "code",
   "execution_count": 5,
   "metadata": {},
   "outputs": [],
   "source": [
    "data_ml = data.drop(['DateCreated', 'DateCrawled', 'NumberOfPictures', 'PostalCode', 'RegistrationMonth', 'LastSeen'], axis=1)"
   ]
  },
  {
   "cell_type": "markdown",
   "metadata": {},
   "source": [
    "<div class=\"alert alert-block alert-success\">\n",
    "<b>Успех:</b> Удалить неинформативные признаки - верное решение.\n",
    "</div>\n"
   ]
  },
  {
   "cell_type": "markdown",
   "metadata": {},
   "source": [
    "### Предобработка данных"
   ]
  },
  {
   "cell_type": "markdown",
   "metadata": {},
   "source": [
    "Посмотрим на дубликаты(явные и неявные):"
   ]
  },
  {
   "cell_type": "code",
   "execution_count": 6,
   "metadata": {
    "scrolled": false
   },
   "outputs": [
    {
     "data": {
      "text/plain": [
       "45040"
      ]
     },
     "metadata": {},
     "output_type": "display_data"
    }
   ],
   "source": [
    "display(data_ml.duplicated().sum())\n",
    "data_ml = data_ml.drop_duplicates()"
   ]
  },
  {
   "cell_type": "code",
   "execution_count": 7,
   "metadata": {},
   "outputs": [
    {
     "data": {
      "text/plain": [
       "<seaborn.axisgrid.PairGrid at 0x7f0a05af6190>"
      ]
     },
     "execution_count": 7,
     "metadata": {},
     "output_type": "execute_result"
    },
    {
     "data": {
      "image/png": "[encoded data removed]",
      "text/plain": [
       "<Figure size 720x720 with 20 Axes>"
      ]
     },
     "metadata": {
      "needs_background": "light"
     },
     "output_type": "display_data"
    }
   ],
   "source": [
    "sns.pairplot(data_ml)"
   ]
  },
  {
   "cell_type": "markdown",
   "metadata": {},
   "source": [
    "- Явных зависимостей нет"
   ]
  },
  {
   "cell_type": "code",
   "execution_count": 8,
   "metadata": {},
   "outputs": [],
   "source": [
    "features = ['Price','RegistrationYear','Power','Kilometer']"
   ]
  },
  {
   "cell_type": "code",
   "execution_count": 9,
   "metadata": {},
   "outputs": [],
   "source": [
    "def histprint(feature):\n",
    "    plt.figure(figsize=(20,5))\n",
    "    ax1 = plt.subplot(1,2,1)\n",
    "    ax1.set_title(f'Диаграмма размаха {feature}')\n",
    "    ax1 = sns.boxplot(data_ml[feature])\n",
    "    ax2 = plt.subplot(1,2,2)\n",
    "    ax2.set_title(f'Распределение {feature}')\n",
    "    ax2 = sns.histplot(data_ml[feature], kde=True, bins=30)"
   ]
  },
  {
   "cell_type": "code",
   "execution_count": 10,
   "metadata": {
    "scrolled": false
   },
   "outputs": [
    {
     "data": {
      "image/png": "[encoded data removed]",
      "text/plain": [
       "<Figure size 1440x360 with 2 Axes>"
      ]
     },
     "metadata": {
      "needs_background": "light"
     },
     "output_type": "display_data"
    },
    {
     "data": {
      "image/png": "[encoded data removed]",
      "text/plain": [
       "<Figure size 1440x360 with 2 Axes>"
      ]
     },
     "metadata": {
      "needs_background": "light"
     },
     "output_type": "display_data"
    },
    {
     "data": {
      "image/png": "[encoded data removed]",
      "text/plain": [
       "<Figure size 1440x360 with 2 Axes>"
      ]
     },
     "metadata": {
      "needs_background": "light"
     },
     "output_type": "display_data"
    },
    {
     "data": {
      "image/png": "[encoded data removed]",
      "text/plain": [
       "<Figure size 1440x360 with 2 Axes>"
      ]
     },
     "metadata": {
      "needs_background": "light"
     },
     "output_type": "display_data"
    }
   ],
   "source": [
    "for i in features:\n",
    "    histprint(i)"
   ]
  },
  {
   "cell_type": "code",
   "execution_count": 11,
   "metadata": {},
   "outputs": [
    {
     "data": {
      "text/html": [
       "<div>\n",
       "<style scoped>\n",
       "    .dataframe tbody tr th:only-of-type {\n",
       "        vertical-align: middle;\n",
       "    }\n",
       "\n",
       "    .dataframe tbody tr th {\n",
       "        vertical-align: top;\n",
       "    }\n",
       "\n",
       "    .dataframe thead th {\n",
       "        text-align: right;\n",
       "    }\n",
       "</style>\n",
       "<table border=\"1\" class=\"dataframe\">\n",
       "  <thead>\n",
       "    <tr style=\"text-align: right;\">\n",
       "      <th></th>\n",
       "      <th>Price</th>\n",
       "      <th>RegistrationYear</th>\n",
       "      <th>Power</th>\n",
       "      <th>Kilometer</th>\n",
       "    </tr>\n",
       "  </thead>\n",
       "  <tbody>\n",
       "    <tr>\n",
       "      <th>count</th>\n",
       "      <td>309329.000000</td>\n",
       "      <td>309329.000000</td>\n",
       "      <td>309329.000000</td>\n",
       "      <td>309329.000000</td>\n",
       "    </tr>\n",
       "    <tr>\n",
       "      <th>mean</th>\n",
       "      <td>4486.937196</td>\n",
       "      <td>2004.360105</td>\n",
       "      <td>110.976908</td>\n",
       "      <td>127217.735809</td>\n",
       "    </tr>\n",
       "    <tr>\n",
       "      <th>std</th>\n",
       "      <td>4564.852796</td>\n",
       "      <td>92.541399</td>\n",
       "      <td>200.969473</td>\n",
       "      <td>38532.941010</td>\n",
       "    </tr>\n",
       "    <tr>\n",
       "      <th>min</th>\n",
       "      <td>0.000000</td>\n",
       "      <td>1000.000000</td>\n",
       "      <td>0.000000</td>\n",
       "      <td>5000.000000</td>\n",
       "    </tr>\n",
       "    <tr>\n",
       "      <th>25%</th>\n",
       "      <td>1100.000000</td>\n",
       "      <td>1999.000000</td>\n",
       "      <td>69.000000</td>\n",
       "      <td>125000.000000</td>\n",
       "    </tr>\n",
       "    <tr>\n",
       "      <th>50%</th>\n",
       "      <td>2800.000000</td>\n",
       "      <td>2003.000000</td>\n",
       "      <td>105.000000</td>\n",
       "      <td>150000.000000</td>\n",
       "    </tr>\n",
       "    <tr>\n",
       "      <th>75%</th>\n",
       "      <td>6500.000000</td>\n",
       "      <td>2008.000000</td>\n",
       "      <td>143.000000</td>\n",
       "      <td>150000.000000</td>\n",
       "    </tr>\n",
       "    <tr>\n",
       "      <th>max</th>\n",
       "      <td>20000.000000</td>\n",
       "      <td>9999.000000</td>\n",
       "      <td>20000.000000</td>\n",
       "      <td>150000.000000</td>\n",
       "    </tr>\n",
       "  </tbody>\n",
       "</table>\n",
       "</div>"
      ],
      "text/plain": [
       "               Price  RegistrationYear          Power      Kilometer\n",
       "count  309329.000000     309329.000000  309329.000000  309329.000000\n",
       "mean     4486.937196       2004.360105     110.976908  127217.735809\n",
       "std      4564.852796         92.541399     200.969473   38532.941010\n",
       "min         0.000000       1000.000000       0.000000    5000.000000\n",
       "25%      1100.000000       1999.000000      69.000000  125000.000000\n",
       "50%      2800.000000       2003.000000     105.000000  150000.000000\n",
       "75%      6500.000000       2008.000000     143.000000  150000.000000\n",
       "max     20000.000000       9999.000000   20000.000000  150000.000000"
      ]
     },
     "execution_count": 11,
     "metadata": {},
     "output_type": "execute_result"
    }
   ],
   "source": [
    "data_ml.describe()"
   ]
  },
  {
   "cell_type": "code",
   "execution_count": 12,
   "metadata": {},
   "outputs": [
    {
     "data": {
      "text/plain": [
       "Price                   0\n",
       "VehicleType         34559\n",
       "RegistrationYear        0\n",
       "Gearbox             17207\n",
       "Power                   0\n",
       "Model               18361\n",
       "Kilometer               0\n",
       "FuelType            30764\n",
       "Brand                   0\n",
       "Repaired            64558\n",
       "dtype: int64"
      ]
     },
     "execution_count": 12,
     "metadata": {},
     "output_type": "execute_result"
    }
   ],
   "source": [
    "data_ml.isna().sum()"
   ]
  },
  {
   "cell_type": "markdown",
   "metadata": {},
   "source": [
    "- Вызывают опасения некоторые признаки: например, у целевого признака Price есть нулевые значения - не может же машина продаваться бесплатно? Да и наверняка все, что дешевле 50 евро - нерелевантно(5000 рублей? Что это за машина такая...).\n",
    "- Registration Year имеет странные минимумы и максимумы.\n",
    "- Power тоже.\n",
    "- VehicleType, Gearbox, Model, FuelType, Repaired - все эти признаки имеют пропущенные значения."
   ]
  },
  {
   "cell_type": "markdown",
   "metadata": {},
   "source": [
    "\n",
    "<div class=\"alert alert-block alert-info\">\n",
    "<b>Совет </b>  Советую обратить внимание на библиотеки sweetviz и pandas_profiling помогут в проведении более тщательного EDA анализа. Исследовательский анализ можно делать и с помощью ручного вызова функций дефолтных библиотек. Данные библиотеки хороши для максимизации комфорта презентации результатов анализа бизнес-пользователям. \n",
    "    \n",
    "Очень просты в использоовании, на вход кладется датафрейм: pandas_profiling.ProfileReport(df) \n",
    "\n",
    "</div>"
   ]
  },
  {
   "cell_type": "markdown",
   "metadata": {},
   "source": [
    "<div class=\"alert alert-block alert-warning\">\n",
    "<b>Комментарий студента:</b> Оки\n",
    "</div>"
   ]
  },
  {
   "cell_type": "markdown",
   "metadata": {},
   "source": [
    "\n",
    "<div class=\"alert alert-block alert-success\">\n",
    "<b>Ревьювер[2]:</b> Спасибо за оперативность, приятно видеть фидбек. Рад был быть полезен. Удачи в дальнейшем обучении!\n",
    "</div>\n"
   ]
  },
  {
   "cell_type": "markdown",
   "metadata": {},
   "source": [
    "- Price"
   ]
  },
  {
   "cell_type": "code",
   "execution_count": 13,
   "metadata": {},
   "outputs": [
    {
     "data": {
      "text/plain": [
       "10739"
      ]
     },
     "execution_count": 13,
     "metadata": {},
     "output_type": "execute_result"
    }
   ],
   "source": [
    "data_ml.loc[data_ml['Price'] <= 50, 'Price'].count()"
   ]
  },
  {
   "cell_type": "code",
   "execution_count": 14,
   "metadata": {},
   "outputs": [
    {
     "name": "stdout",
     "output_type": "stream",
     "text": [
      "3.4717081166007713 %\n"
     ]
    }
   ],
   "source": [
    "print(10739 / 309329 * 100, '%')"
   ]
  },
  {
   "cell_type": "markdown",
   "metadata": {},
   "source": [
    "12220 значений меньше или равных 100 в признаке \"Price\". Есть несколько опций - заменить мединными значениями(более устойчиво к выбросам, чем то же среднее) или просто удалить данные объекты. Последний вариант более предпочтителен, так как объектов с такой ценой всего около 3.5%."
   ]
  },
  {
   "cell_type": "code",
   "execution_count": 15,
   "metadata": {},
   "outputs": [
    {
     "data": {
      "text/plain": [
       "0"
      ]
     },
     "execution_count": 15,
     "metadata": {},
     "output_type": "execute_result"
    }
   ],
   "source": [
    "data_ml = data_ml.loc[data_ml['Price'] > 50]\n",
    "data_ml.loc[data['Price'] <= 50, 'Price'].count()"
   ]
  },
  {
   "cell_type": "markdown",
   "metadata": {},
   "source": [
    "\n",
    "<div class=\"alert alert-block alert-success\">\n",
    "<b>Успех:</b>  Самое интересное, что на нескольких сайтов по продажам подержанных автомобилей в Германии (страну можно определить по почтовым индексам, большинство из них из Германии) показало, что цены начинаются действительно с 0 и 1 евро, но это единичные объявления и не понятно, то ли это ошибка при заполнении формы, то ли машины на металлолом. Но я  все-таки склоняюсь к тому, чтобы избавиться от таких данных\n",
    "</div>\n"
   ]
  },
  {
   "cell_type": "markdown",
   "metadata": {},
   "source": [
    "- Model"
   ]
  },
  {
   "cell_type": "code",
   "execution_count": 16,
   "metadata": {},
   "outputs": [
    {
     "data": {
      "text/plain": [
       "16322"
      ]
     },
     "execution_count": 16,
     "metadata": {},
     "output_type": "execute_result"
    }
   ],
   "source": [
    "data_ml.loc[data['Model'].isna(), 'Price'].count()"
   ]
  },
  {
   "cell_type": "code",
   "execution_count": 17,
   "metadata": {},
   "outputs": [
    {
     "name": "stdout",
     "output_type": "stream",
     "text": [
      "5.276582538332972 %\n"
     ]
    }
   ],
   "source": [
    "print(16322 / 309329 * 100, '%')"
   ]
  },
  {
   "cell_type": "markdown",
   "metadata": {},
   "source": [
    "Имеем 16322 пропусков в столбце 'Model'. Чуть больше 5%. Опять же, лучше удалить эти признаки, сильно на качество обучения не повлияет."
   ]
  },
  {
   "cell_type": "code",
   "execution_count": 18,
   "metadata": {},
   "outputs": [
    {
     "data": {
      "text/plain": [
       "0"
      ]
     },
     "execution_count": 18,
     "metadata": {},
     "output_type": "execute_result"
    }
   ],
   "source": [
    "data_ml = data_ml.loc[~data['Model'].isna()]\n",
    "data_ml.loc[data['Model'].isna(), 'Price'].count()"
   ]
  },
  {
   "cell_type": "markdown",
   "metadata": {},
   "source": [
    "- Power"
   ]
  },
  {
   "cell_type": "markdown",
   "metadata": {},
   "source": [
    "Уберем объекты с мощностью меньше 10 л.с. и больше 1000 л.с.(1000 сил у Вейрона, к примеру, но при максимальной цене в датасете 20к евро...)"
   ]
  },
  {
   "cell_type": "code",
   "execution_count": 19,
   "metadata": {},
   "outputs": [
    {
     "data": {
      "text/plain": [
       "27915"
      ]
     },
     "execution_count": 19,
     "metadata": {},
     "output_type": "execute_result"
    }
   ],
   "source": [
    "data_ml.loc[(data_ml['Power'] <= 10) | (data_ml['Power'] > 1000), 'Price'].count()"
   ]
  },
  {
   "cell_type": "code",
   "execution_count": 20,
   "metadata": {},
   "outputs": [
    {
     "name": "stdout",
     "output_type": "stream",
     "text": [
      "9.024372108661005 %\n"
     ]
    }
   ],
   "source": [
    "print(27915 / 309329 * 100, '%')"
   ]
  },
  {
   "cell_type": "code",
   "execution_count": 21,
   "metadata": {},
   "outputs": [
    {
     "data": {
      "text/plain": [
       "0"
      ]
     },
     "execution_count": 21,
     "metadata": {},
     "output_type": "execute_result"
    }
   ],
   "source": [
    "data_ml = data_ml.loc[~((data_ml['Power'] <= 10) | (data_ml['Power'] > 1000))]\n",
    "data_ml.loc[(data_ml['Power'] <= 10) | (data_ml['Power'] > 1000), 'Price'].count()"
   ]
  },
  {
   "cell_type": "markdown",
   "metadata": {},
   "source": [
    "\n",
    "\n",
    "<div class=\"alert alert-block alert-info\">\n",
    "<b>Совет:</b>  Вопрос на подумать: Как думаешь а машины с 0-ой мощностью могут быть просто без двигателя?\n",
    "</div>\n"
   ]
  },
  {
   "cell_type": "markdown",
   "metadata": {},
   "source": [
    "<div class=\"alert alert-block alert-warning\">\n",
    "<b>Комментарий студента:</b> В теории да, но я сомневаюсь, что их аж 27 тысяч. Я лично ни разу на сайтах по продаже автомобилей не видел авто без двигателей.\n",
    "</div>"
   ]
  },
  {
   "cell_type": "markdown",
   "metadata": {},
   "source": [
    "\n",
    "<div class=\"alert alert-block alert-success\">\n",
    "<b>Успех[2]:</b> Да, наверное это уже больше к разделу автозапчасти подходит\n",
    "</div>\n"
   ]
  },
  {
   "cell_type": "markdown",
   "metadata": {},
   "source": [
    "- Registration Year"
   ]
  },
  {
   "cell_type": "markdown",
   "metadata": {},
   "source": [
    "Ограничимся текущим годом и началом второй половины 20-го века"
   ]
  },
  {
   "cell_type": "code",
   "execution_count": 22,
   "metadata": {},
   "outputs": [
    {
     "data": {
      "text/plain": [
       "'2016-04-07 00:00:00'"
      ]
     },
     "execution_count": 22,
     "metadata": {},
     "output_type": "execute_result"
    }
   ],
   "source": [
    "data['DateCreated'].max()"
   ]
  },
  {
   "cell_type": "code",
   "execution_count": 23,
   "metadata": {},
   "outputs": [
    {
     "data": {
      "text/plain": [
       "8408"
      ]
     },
     "execution_count": 23,
     "metadata": {},
     "output_type": "execute_result"
    }
   ],
   "source": [
    "data_ml.loc[(data_ml['RegistrationYear'] > 2016) | (data_ml['RegistrationYear'] < 1950), 'Price'].count()"
   ]
  },
  {
   "cell_type": "code",
   "execution_count": 24,
   "metadata": {},
   "outputs": [
    {
     "data": {
      "text/plain": [
       "0"
      ]
     },
     "execution_count": 24,
     "metadata": {},
     "output_type": "execute_result"
    }
   ],
   "source": [
    "data_ml = data_ml.loc[(data_ml['RegistrationYear'] <= 2016) & (data_ml['RegistrationYear'] >= 1950)]\n",
    "data_ml.loc[(data_ml['RegistrationYear'] > 2016) | (data_ml['RegistrationYear'] < 1950), 'Price'].count()"
   ]
  },
  {
   "cell_type": "markdown",
   "metadata": {},
   "source": [
    "<div class=\"alert alert-block alert-info\">\n",
    "<b>Совет:</b> Советую посмотреть на дату выгрузки анкет - там тоже можно увидеть полезную информацию по поводу границ года регистраци.\n",
    "</div>\n"
   ]
  },
  {
   "cell_type": "markdown",
   "metadata": {},
   "source": [
    "<div class=\"alert alert-block alert-warning\">\n",
    "<b>Комментарий студента:</b> Вижу, что анкеты максимум в 2016 году. Можно ограничиться этим годом.\n",
    "</div>"
   ]
  },
  {
   "cell_type": "markdown",
   "metadata": {},
   "source": [
    "\n",
    "<div class=\"alert alert-block alert-success\">\n",
    "<b>Успех[2]:</b> Верно\n"
   ]
  },
  {
   "cell_type": "markdown",
   "metadata": {},
   "source": [
    "- VehicleType, Gearbox и FuelType"
   ]
  },
  {
   "cell_type": "code",
   "execution_count": 25,
   "metadata": {},
   "outputs": [
    {
     "data": {
      "text/html": [
       "<div>\n",
       "<style scoped>\n",
       "    .dataframe tbody tr th:only-of-type {\n",
       "        vertical-align: middle;\n",
       "    }\n",
       "\n",
       "    .dataframe tbody tr th {\n",
       "        vertical-align: top;\n",
       "    }\n",
       "\n",
       "    .dataframe thead th {\n",
       "        text-align: right;\n",
       "    }\n",
       "</style>\n",
       "<table border=\"1\" class=\"dataframe\">\n",
       "  <thead>\n",
       "    <tr style=\"text-align: right;\">\n",
       "      <th></th>\n",
       "      <th>Price</th>\n",
       "      <th>VehicleType</th>\n",
       "      <th>RegistrationYear</th>\n",
       "      <th>Gearbox</th>\n",
       "      <th>Power</th>\n",
       "      <th>Model</th>\n",
       "      <th>Kilometer</th>\n",
       "      <th>FuelType</th>\n",
       "      <th>Brand</th>\n",
       "      <th>Repaired</th>\n",
       "    </tr>\n",
       "  </thead>\n",
       "  <tbody>\n",
       "    <tr>\n",
       "      <th>16</th>\n",
       "      <td>300</td>\n",
       "      <td>NaN</td>\n",
       "      <td>2016</td>\n",
       "      <td>NaN</td>\n",
       "      <td>60</td>\n",
       "      <td>polo</td>\n",
       "      <td>150000</td>\n",
       "      <td>petrol</td>\n",
       "      <td>volkswagen</td>\n",
       "      <td>NaN</td>\n",
       "    </tr>\n",
       "    <tr>\n",
       "      <th>31</th>\n",
       "      <td>899</td>\n",
       "      <td>NaN</td>\n",
       "      <td>2016</td>\n",
       "      <td>manual</td>\n",
       "      <td>60</td>\n",
       "      <td>clio</td>\n",
       "      <td>150000</td>\n",
       "      <td>petrol</td>\n",
       "      <td>renault</td>\n",
       "      <td>NaN</td>\n",
       "    </tr>\n",
       "    <tr>\n",
       "      <th>35</th>\n",
       "      <td>350</td>\n",
       "      <td>NaN</td>\n",
       "      <td>2016</td>\n",
       "      <td>manual</td>\n",
       "      <td>75</td>\n",
       "      <td>golf</td>\n",
       "      <td>150000</td>\n",
       "      <td>petrol</td>\n",
       "      <td>volkswagen</td>\n",
       "      <td>no</td>\n",
       "    </tr>\n",
       "    <tr>\n",
       "      <th>52</th>\n",
       "      <td>1400</td>\n",
       "      <td>NaN</td>\n",
       "      <td>2016</td>\n",
       "      <td>manual</td>\n",
       "      <td>55</td>\n",
       "      <td>other</td>\n",
       "      <td>5000</td>\n",
       "      <td>NaN</td>\n",
       "      <td>hyundai</td>\n",
       "      <td>NaN</td>\n",
       "    </tr>\n",
       "    <tr>\n",
       "      <th>71</th>\n",
       "      <td>2300</td>\n",
       "      <td>NaN</td>\n",
       "      <td>1997</td>\n",
       "      <td>manual</td>\n",
       "      <td>150</td>\n",
       "      <td>5er</td>\n",
       "      <td>150000</td>\n",
       "      <td>NaN</td>\n",
       "      <td>bmw</td>\n",
       "      <td>no</td>\n",
       "    </tr>\n",
       "    <tr>\n",
       "      <th>...</th>\n",
       "      <td>...</td>\n",
       "      <td>...</td>\n",
       "      <td>...</td>\n",
       "      <td>...</td>\n",
       "      <td>...</td>\n",
       "      <td>...</td>\n",
       "      <td>...</td>\n",
       "      <td>...</td>\n",
       "      <td>...</td>\n",
       "      <td>...</td>\n",
       "    </tr>\n",
       "    <tr>\n",
       "      <th>354068</th>\n",
       "      <td>3700</td>\n",
       "      <td>NaN</td>\n",
       "      <td>2016</td>\n",
       "      <td>manual</td>\n",
       "      <td>90</td>\n",
       "      <td>golf</td>\n",
       "      <td>150000</td>\n",
       "      <td>gasoline</td>\n",
       "      <td>volkswagen</td>\n",
       "      <td>NaN</td>\n",
       "    </tr>\n",
       "    <tr>\n",
       "      <th>354100</th>\n",
       "      <td>600</td>\n",
       "      <td>NaN</td>\n",
       "      <td>2016</td>\n",
       "      <td>manual</td>\n",
       "      <td>170</td>\n",
       "      <td>vectra</td>\n",
       "      <td>150000</td>\n",
       "      <td>petrol</td>\n",
       "      <td>opel</td>\n",
       "      <td>yes</td>\n",
       "    </tr>\n",
       "    <tr>\n",
       "      <th>354107</th>\n",
       "      <td>395</td>\n",
       "      <td>NaN</td>\n",
       "      <td>2016</td>\n",
       "      <td>manual</td>\n",
       "      <td>60</td>\n",
       "      <td>golf</td>\n",
       "      <td>150000</td>\n",
       "      <td>petrol</td>\n",
       "      <td>volkswagen</td>\n",
       "      <td>NaN</td>\n",
       "    </tr>\n",
       "    <tr>\n",
       "      <th>354115</th>\n",
       "      <td>299</td>\n",
       "      <td>NaN</td>\n",
       "      <td>2016</td>\n",
       "      <td>manual</td>\n",
       "      <td>60</td>\n",
       "      <td>astra</td>\n",
       "      <td>150000</td>\n",
       "      <td>petrol</td>\n",
       "      <td>opel</td>\n",
       "      <td>yes</td>\n",
       "    </tr>\n",
       "    <tr>\n",
       "      <th>354361</th>\n",
       "      <td>5250</td>\n",
       "      <td>NaN</td>\n",
       "      <td>2016</td>\n",
       "      <td>auto</td>\n",
       "      <td>150</td>\n",
       "      <td>159</td>\n",
       "      <td>150000</td>\n",
       "      <td>NaN</td>\n",
       "      <td>alfa_romeo</td>\n",
       "      <td>no</td>\n",
       "    </tr>\n",
       "  </tbody>\n",
       "</table>\n",
       "<p>8839 rows × 10 columns</p>\n",
       "</div>"
      ],
      "text/plain": [
       "        Price VehicleType  RegistrationYear Gearbox  Power   Model  Kilometer  \\\n",
       "16        300         NaN              2016     NaN     60    polo     150000   \n",
       "31        899         NaN              2016  manual     60    clio     150000   \n",
       "35        350         NaN              2016  manual     75    golf     150000   \n",
       "52       1400         NaN              2016  manual     55   other       5000   \n",
       "71       2300         NaN              1997  manual    150     5er     150000   \n",
       "...       ...         ...               ...     ...    ...     ...        ...   \n",
       "354068   3700         NaN              2016  manual     90    golf     150000   \n",
       "354100    600         NaN              2016  manual    170  vectra     150000   \n",
       "354107    395         NaN              2016  manual     60    golf     150000   \n",
       "354115    299         NaN              2016  manual     60   astra     150000   \n",
       "354361   5250         NaN              2016    auto    150     159     150000   \n",
       "\n",
       "        FuelType       Brand Repaired  \n",
       "16        petrol  volkswagen      NaN  \n",
       "31        petrol     renault      NaN  \n",
       "35        petrol  volkswagen       no  \n",
       "52           NaN     hyundai      NaN  \n",
       "71           NaN         bmw       no  \n",
       "...          ...         ...      ...  \n",
       "354068  gasoline  volkswagen      NaN  \n",
       "354100    petrol        opel      yes  \n",
       "354107    petrol  volkswagen      NaN  \n",
       "354115    petrol        opel      yes  \n",
       "354361       NaN  alfa_romeo       no  \n",
       "\n",
       "[8839 rows x 10 columns]"
      ]
     },
     "metadata": {},
     "output_type": "display_data"
    },
    {
     "data": {
      "text/plain": [
       "4436"
      ]
     },
     "metadata": {},
     "output_type": "display_data"
    },
    {
     "data": {
      "text/plain": [
       "12325"
      ]
     },
     "execution_count": 25,
     "metadata": {},
     "output_type": "execute_result"
    }
   ],
   "source": [
    "display(data_ml.loc[data['VehicleType'].isna()])\n",
    "display(data_ml.loc[data['Gearbox'].isna(), 'Price'].count())\n",
    "data_ml.loc[data['FuelType'].isna(), 'Price'].count()"
   ]
  },
  {
   "cell_type": "markdown",
   "metadata": {},
   "source": [
    "Значения этих трех признаков можно заполнить по моделям - самые встречающиеся данные по моделям внести в соответствующие признаки."
   ]
  },
  {
   "cell_type": "markdown",
   "metadata": {},
   "source": [
    "- VehicleType, Gearbox, Model, FuelType, Repaired"
   ]
  },
  {
   "cell_type": "markdown",
   "metadata": {},
   "source": [
    "Все эти признаки имеют довольно большое количество пропусков. В теории можно было бы удалить пропущенные модели(18к пропусков приемлемо), а остальные признаки заполнить самым часто встречающимся значением среди модели. Но это будет искажать информацию, так как остальные значения будут еще больше перекрываться. На примере модели 'golf' видно, что к седану добавятся лишние 2483 объекта, что примерно равно числу объектов во второй и в третьей категориях(small, wagon). Поэтому оптимальным будет все пропуски заполнить значением 'unknown'(что эквивалентно NaN, но читается лучше + с NaN, в отличие от None, можно работать численно, так как тип у этой штуки float64)"
   ]
  },
  {
   "cell_type": "code",
   "execution_count": 26,
   "metadata": {},
   "outputs": [
    {
     "data": {
      "text/plain": [
       "sedan          10513\n",
       "small           2763\n",
       "wagon           2455\n",
       "convertible     1527\n",
       "bus              680\n",
       "coupe            356\n",
       "other            153\n",
       "suv               21\n",
       "Name: VehicleType, dtype: int64"
      ]
     },
     "execution_count": 26,
     "metadata": {},
     "output_type": "execute_result"
    }
   ],
   "source": [
    "data_ml.loc[data['Model'] == 'golf', 'VehicleType'].value_counts()"
   ]
  },
  {
   "cell_type": "code",
   "execution_count": 27,
   "metadata": {},
   "outputs": [
    {
     "data": {
      "text/plain": [
       "1348"
      ]
     },
     "execution_count": 27,
     "metadata": {},
     "output_type": "execute_result"
    }
   ],
   "source": [
    "data_ml.loc[(data_ml['Model'] == 'golf') & (data_ml['VehicleType'].isna()), 'Price'].count()"
   ]
  },
  {
   "cell_type": "code",
   "execution_count": 28,
   "metadata": {},
   "outputs": [],
   "source": [
    "for i in ['VehicleType', 'Gearbox', 'Model', 'FuelType', 'Repaired', 'Brand']:\n",
    "    data_ml[i] = data_ml[i].fillna('unknown')"
   ]
  },
  {
   "cell_type": "code",
   "execution_count": 29,
   "metadata": {},
   "outputs": [
    {
     "name": "stdout",
     "output_type": "stream",
     "text": [
      "<class 'pandas.core.frame.DataFrame'>\n",
      "Int64Index: 245945 entries, 2 to 354368\n",
      "Data columns (total 10 columns):\n",
      " #   Column            Non-Null Count   Dtype \n",
      "---  ------            --------------   ----- \n",
      " 0   Price             245945 non-null  int64 \n",
      " 1   VehicleType       245945 non-null  object\n",
      " 2   RegistrationYear  245945 non-null  int64 \n",
      " 3   Gearbox           245945 non-null  object\n",
      " 4   Power             245945 non-null  int64 \n",
      " 5   Model             245945 non-null  object\n",
      " 6   Kilometer         245945 non-null  int64 \n",
      " 7   FuelType          245945 non-null  object\n",
      " 8   Brand             245945 non-null  object\n",
      " 9   Repaired          245945 non-null  object\n",
      "dtypes: int64(4), object(6)\n",
      "memory usage: 20.6+ MB\n",
      "None\n"
     ]
    }
   ],
   "source": [
    "print(data_ml.info())"
   ]
  },
  {
   "cell_type": "code",
   "execution_count": 30,
   "metadata": {},
   "outputs": [
    {
     "data": {
      "text/plain": [
       "array(['gasoline', 'petrol', 'unknown', 'lpg', 'other', 'hybrid', 'cng',\n",
       "       'electric'], dtype=object)"
      ]
     },
     "execution_count": 30,
     "metadata": {},
     "output_type": "execute_result"
    }
   ],
   "source": [
    "data_ml['FuelType'].unique()"
   ]
  },
  {
   "cell_type": "code",
   "execution_count": 31,
   "metadata": {},
   "outputs": [
    {
     "data": {
      "text/plain": [
       "array(['petrol', 'unknown', 'lpg', 'other', 'hybrid', 'cng', 'electric'],\n",
       "      dtype=object)"
      ]
     },
     "execution_count": 31,
     "metadata": {},
     "output_type": "execute_result"
    }
   ],
   "source": [
    "data_ml.loc[data['FuelType'] == 'gasoline', 'FuelType'] = 'petrol'\n",
    "data_ml['FuelType'].unique()"
   ]
  },
  {
   "cell_type": "markdown",
   "metadata": {},
   "source": [
    "<div class=\"alert alert-block alert-success\">\n",
    "<b>Успех:</b> Пропуски обработаны хорошим образом\n",
    "</div>\n",
    "\n",
    "\n",
    "<div class=\"alert alert-block alert-info\">\n",
    "<b>Совет:</b> У fuel_type есть категории, которые означают одно и тоже - их можно объединить, либо подумать может они действительно означают, что-то разное.\n",
    "</div>"
   ]
  },
  {
   "cell_type": "markdown",
   "metadata": {},
   "source": [
    "<div class=\"alert alert-block alert-warning\">\n",
    "<b>Исправил:</b> Gasoline и Petrol - одно и то же. Можно объединить.\n",
    "</div>"
   ]
  },
  {
   "cell_type": "markdown",
   "metadata": {},
   "source": [
    "<div class=\"alert alert-block alert-success\">\n",
    "    \n",
    "<b>Успех[2]:</b> Да-да\n",
    "</div>"
   ]
  },
  {
   "cell_type": "code",
   "execution_count": 32,
   "metadata": {},
   "outputs": [
    {
     "name": "stdout",
     "output_type": "stream",
     "text": [
      "71.76304925092207 % данных осталось от изначального количества\n"
     ]
    }
   ],
   "source": [
    "print(254306 / 354369 * 100, '% данных осталось от изначального количества')"
   ]
  },
  {
   "cell_type": "markdown",
   "metadata": {},
   "source": [
    "**Выводы:**\n",
    "- Данные успешно загружены\n",
    "- Удалены ненужные для обучения столбцы\n",
    "- Исследованы распредления признаков и их зависимость от целевого\n",
    "- Удалены дубликаты\n",
    "- Данные очищены от \"мусора\" - заведомо неверных.\n",
    "- Несмотря на то, что удалено 30% данных, все стало сильно лучше. Удаленные данные были заведомо плохими и могли испортить обучение. "
   ]
  },
  {
   "cell_type": "markdown",
   "metadata": {},
   "source": [
    "\n",
    "<div class=\"alert alert-block alert-success\">\n",
    "<b>Успех:</b> В целом хорошая, детальная предобработка - идем дальше\n",
    "</div>"
   ]
  },
  {
   "cell_type": "markdown",
   "metadata": {},
   "source": [
    "## Обучение моделей"
   ]
  },
  {
   "cell_type": "markdown",
   "metadata": {},
   "source": [
    "### Разделение выборки на обучающую, валидационную и тестовую"
   ]
  },
  {
   "cell_type": "code",
   "execution_count": 33,
   "metadata": {},
   "outputs": [],
   "source": [
    "state = 12345"
   ]
  },
  {
   "cell_type": "code",
   "execution_count": 34,
   "metadata": {},
   "outputs": [],
   "source": [
    "features = data_ml.drop(['Price'], axis=1)\n",
    "target = data_ml['Price']\n",
    "\n",
    "features_train, features_test, target_train, target_test = train_test_split(features, target, \n",
    "                                                                      test_size=0.25, train_size=0.75, random_state = state)"
   ]
  },
  {
   "cell_type": "markdown",
   "metadata": {},
   "source": [
    "### Преобразование категориальных признаков"
   ]
  },
  {
   "cell_type": "markdown",
   "metadata": {},
   "source": [
    "Преобразуем категориальные признаки."
   ]
  },
  {
   "cell_type": "code",
   "execution_count": 35,
   "metadata": {},
   "outputs": [],
   "source": [
    "data_before_ml = data_ml.copy() # сохраним на всякий случай до кодирования признаков"
   ]
  },
  {
   "cell_type": "code",
   "execution_count": 36,
   "metadata": {},
   "outputs": [
    {
     "data": {
      "text/plain": [
       "9"
      ]
     },
     "metadata": {},
     "output_type": "display_data"
    },
    {
     "data": {
      "text/plain": [
       "3"
      ]
     },
     "metadata": {},
     "output_type": "display_data"
    },
    {
     "data": {
      "text/plain": [
       "249"
      ]
     },
     "metadata": {},
     "output_type": "display_data"
    },
    {
     "data": {
      "text/plain": [
       "7"
      ]
     },
     "metadata": {},
     "output_type": "display_data"
    },
    {
     "data": {
      "text/plain": [
       "3"
      ]
     },
     "metadata": {},
     "output_type": "display_data"
    }
   ],
   "source": [
    "for i in ['VehicleType', 'Gearbox', 'Model', 'FuelType', 'Repaired']: \n",
    "    display(len(data_ml[i].unique()))"
   ]
  },
  {
   "cell_type": "markdown",
   "metadata": {},
   "source": [
    "В 'Model' много признаков. Если мы применим OHE, то размер нашего датасета сильно вырастет. Преобразуем с помощью OrdinalEncoding. Модели будут занумерованы в алфавитном порядке."
   ]
  },
  {
   "cell_type": "markdown",
   "metadata": {},
   "source": [
    "<div class=\"alert alert-block alert-success\">\n",
    "<b>Успех:</b> Хороший выбор"
   ]
  },
  {
   "cell_type": "code",
   "execution_count": 37,
   "metadata": {},
   "outputs": [
    {
     "data": {
      "text/html": [
       "<div>\n",
       "<style scoped>\n",
       "    .dataframe tbody tr th:only-of-type {\n",
       "        vertical-align: middle;\n",
       "    }\n",
       "\n",
       "    .dataframe tbody tr th {\n",
       "        vertical-align: top;\n",
       "    }\n",
       "\n",
       "    .dataframe thead th {\n",
       "        text-align: right;\n",
       "    }\n",
       "</style>\n",
       "<table border=\"1\" class=\"dataframe\">\n",
       "  <thead>\n",
       "    <tr style=\"text-align: right;\">\n",
       "      <th></th>\n",
       "      <th>VehicleType</th>\n",
       "      <th>RegistrationYear</th>\n",
       "      <th>Gearbox</th>\n",
       "      <th>Power</th>\n",
       "      <th>Model</th>\n",
       "      <th>Kilometer</th>\n",
       "      <th>FuelType</th>\n",
       "      <th>Brand</th>\n",
       "      <th>Repaired</th>\n",
       "    </tr>\n",
       "  </thead>\n",
       "  <tbody>\n",
       "    <tr>\n",
       "      <th>98958</th>\n",
       "      <td>unknown</td>\n",
       "      <td>2016</td>\n",
       "      <td>manual</td>\n",
       "      <td>75</td>\n",
       "      <td>50.0</td>\n",
       "      <td>150000</td>\n",
       "      <td>petrol</td>\n",
       "      <td>citroen</td>\n",
       "      <td>yes</td>\n",
       "    </tr>\n",
       "    <tr>\n",
       "      <th>110141</th>\n",
       "      <td>sedan</td>\n",
       "      <td>1996</td>\n",
       "      <td>manual</td>\n",
       "      <td>235</td>\n",
       "      <td>15.0</td>\n",
       "      <td>150000</td>\n",
       "      <td>petrol</td>\n",
       "      <td>bmw</td>\n",
       "      <td>no</td>\n",
       "    </tr>\n",
       "    <tr>\n",
       "      <th>87002</th>\n",
       "      <td>wagon</td>\n",
       "      <td>2004</td>\n",
       "      <td>manual</td>\n",
       "      <td>110</td>\n",
       "      <td>166.0</td>\n",
       "      <td>150000</td>\n",
       "      <td>petrol</td>\n",
       "      <td>peugeot</td>\n",
       "      <td>no</td>\n",
       "    </tr>\n",
       "    <tr>\n",
       "      <th>162263</th>\n",
       "      <td>wagon</td>\n",
       "      <td>2004</td>\n",
       "      <td>manual</td>\n",
       "      <td>130</td>\n",
       "      <td>154.0</td>\n",
       "      <td>150000</td>\n",
       "      <td>petrol</td>\n",
       "      <td>ford</td>\n",
       "      <td>no</td>\n",
       "    </tr>\n",
       "    <tr>\n",
       "      <th>13955</th>\n",
       "      <td>small</td>\n",
       "      <td>2003</td>\n",
       "      <td>manual</td>\n",
       "      <td>109</td>\n",
       "      <td>28.0</td>\n",
       "      <td>150000</td>\n",
       "      <td>petrol</td>\n",
       "      <td>audi</td>\n",
       "      <td>no</td>\n",
       "    </tr>\n",
       "    <tr>\n",
       "      <th>...</th>\n",
       "      <td>...</td>\n",
       "      <td>...</td>\n",
       "      <td>...</td>\n",
       "      <td>...</td>\n",
       "      <td>...</td>\n",
       "      <td>...</td>\n",
       "      <td>...</td>\n",
       "      <td>...</td>\n",
       "      <td>...</td>\n",
       "    </tr>\n",
       "    <tr>\n",
       "      <th>112840</th>\n",
       "      <td>sedan</td>\n",
       "      <td>1992</td>\n",
       "      <td>manual</td>\n",
       "      <td>116</td>\n",
       "      <td>166.0</td>\n",
       "      <td>150000</td>\n",
       "      <td>lpg</td>\n",
       "      <td>ford</td>\n",
       "      <td>yes</td>\n",
       "    </tr>\n",
       "    <tr>\n",
       "      <th>180676</th>\n",
       "      <td>convertible</td>\n",
       "      <td>2007</td>\n",
       "      <td>manual</td>\n",
       "      <td>105</td>\n",
       "      <td>42.0</td>\n",
       "      <td>125000</td>\n",
       "      <td>petrol</td>\n",
       "      <td>opel</td>\n",
       "      <td>no</td>\n",
       "    </tr>\n",
       "    <tr>\n",
       "      <th>176414</th>\n",
       "      <td>wagon</td>\n",
       "      <td>2006</td>\n",
       "      <td>manual</td>\n",
       "      <td>105</td>\n",
       "      <td>170.0</td>\n",
       "      <td>150000</td>\n",
       "      <td>petrol</td>\n",
       "      <td>volkswagen</td>\n",
       "      <td>no</td>\n",
       "    </tr>\n",
       "    <tr>\n",
       "      <th>101482</th>\n",
       "      <td>small</td>\n",
       "      <td>2001</td>\n",
       "      <td>manual</td>\n",
       "      <td>60</td>\n",
       "      <td>176.0</td>\n",
       "      <td>30000</td>\n",
       "      <td>petrol</td>\n",
       "      <td>fiat</td>\n",
       "      <td>unknown</td>\n",
       "    </tr>\n",
       "    <tr>\n",
       "      <th>308926</th>\n",
       "      <td>coupe</td>\n",
       "      <td>2000</td>\n",
       "      <td>manual</td>\n",
       "      <td>192</td>\n",
       "      <td>11.0</td>\n",
       "      <td>150000</td>\n",
       "      <td>petrol</td>\n",
       "      <td>bmw</td>\n",
       "      <td>no</td>\n",
       "    </tr>\n",
       "  </tbody>\n",
       "</table>\n",
       "<p>184458 rows × 9 columns</p>\n",
       "</div>"
      ],
      "text/plain": [
       "        VehicleType  RegistrationYear Gearbox  Power  Model  Kilometer  \\\n",
       "98958       unknown              2016  manual     75   50.0     150000   \n",
       "110141        sedan              1996  manual    235   15.0     150000   \n",
       "87002         wagon              2004  manual    110  166.0     150000   \n",
       "162263        wagon              2004  manual    130  154.0     150000   \n",
       "13955         small              2003  manual    109   28.0     150000   \n",
       "...             ...               ...     ...    ...    ...        ...   \n",
       "112840        sedan              1992  manual    116  166.0     150000   \n",
       "180676  convertible              2007  manual    105   42.0     125000   \n",
       "176414        wagon              2006  manual    105  170.0     150000   \n",
       "101482        small              2001  manual     60  176.0      30000   \n",
       "308926        coupe              2000  manual    192   11.0     150000   \n",
       "\n",
       "       FuelType       Brand Repaired  \n",
       "98958    petrol     citroen      yes  \n",
       "110141   petrol         bmw       no  \n",
       "87002    petrol     peugeot       no  \n",
       "162263   petrol        ford       no  \n",
       "13955    petrol        audi       no  \n",
       "...         ...         ...      ...  \n",
       "112840      lpg        ford      yes  \n",
       "180676   petrol        opel       no  \n",
       "176414   petrol  volkswagen       no  \n",
       "101482   petrol        fiat  unknown  \n",
       "308926   petrol         bmw       no  \n",
       "\n",
       "[184458 rows x 9 columns]"
      ]
     },
     "execution_count": 37,
     "metadata": {},
     "output_type": "execute_result"
    }
   ],
   "source": [
    "encoder = OrdinalEncoder(handle_unknown='ignore')\n",
    "encoder.fit(features_train[['Model']])\n",
    "features_train['Model'] = encoder.transform(features_train[['Model']])\n",
    "features_test['Model'] = encoder.transform(features_test[['Model']])\n",
    "features_train"
   ]
  },
  {
   "cell_type": "markdown",
   "metadata": {},
   "source": [
    "<div class=\"alert alert-block alert-danger\">\n",
    "\n",
    "<b>Ошибка:</b> Отмечу, что encoder правильно применять после разбиения данных и обучать только на обучающей выборке, для остальных выборок просто использовать transform. Примеры использования с объяснениями можно найти посмотреь https://colab.research.google.com/drive/1_gAMXcQKoCShB_l8FNtYEejMnosm9mvt?usp=sharing \n",
    "\n",
    "И не забывай использовать параметр `handle_unknown`\n",
    "  \n",
    "</div>"
   ]
  },
  {
   "cell_type": "markdown",
   "metadata": {},
   "source": [
    "<div class=\"alert alert-block alert-warning\">\n",
    "<b>Изменения:</b> Поправил\n",
    "</div>"
   ]
  },
  {
   "cell_type": "markdown",
   "metadata": {},
   "source": [
    "<div class=\"alert alert-block alert-success\">\n",
    "    \n",
    "<b>Успех[2]:</b> Есть контакт\n",
    "</div>"
   ]
  },
  {
   "cell_type": "markdown",
   "metadata": {},
   "source": [
    "Остальные признаки можно спокойно закодировать OHE"
   ]
  },
  {
   "cell_type": "code",
   "execution_count": 38,
   "metadata": {},
   "outputs": [],
   "source": [
    "features_train = pd.get_dummies(features_train, drop_first=True)\n",
    "features_test = pd.get_dummies(features_test, drop_first=True)\n",
    "features_test = features_test.reindex(columns = features_train.columns, fill_value=0)"
   ]
  },
  {
   "cell_type": "markdown",
   "metadata": {},
   "source": [
    "<div class=\"alert alert-block alert-info\">\n",
    "    \n",
    "<b>Совет:</b> Также как аналог pd.get_dummies хочу посоветовать обратить внимание на OneHotEncoder от sklearn (это более сложный и продвинутый инструмент). Здесь можно посмотреть примеры https://colab.research.google.com/drive/1_gAMXcQKoCShB_l8FNtYEejMnosm9mvt?usp=sharing\n",
    "</div>"
   ]
  },
  {
   "cell_type": "markdown",
   "metadata": {},
   "source": [
    "<div class=\"alert alert-block alert-warning\">\n",
    "<b>Комментарий:</b> попытался поправить, но выдает разнообразные ошибки. Можете, пожалуйста, привести пример рабочего кода? Я на досуге попытаюсь разобраться.\n",
    "</div>"
   ]
  },
  {
   "cell_type": "markdown",
   "metadata": {},
   "source": [
    "<div class=\"alert alert-block alert-success\">\n",
    "    \n",
    "<b>Успех[2]:</b> Так, по ссылке же рабочий код. Ошибки, которые ты встретил могли возникнуть с версией используемого тобою пакета\n",
    "    \n",
    "Пропиши в начале проекта перед импортами `!pip install scikit-learn==1.1.3` - команду, чтобы у тебя правильно работала нужная библиотека.\n",
    "</div>"
   ]
  },
  {
   "cell_type": "markdown",
   "metadata": {},
   "source": [
    "Масштабирование"
   ]
  },
  {
   "cell_type": "code",
   "execution_count": 39,
   "metadata": {},
   "outputs": [],
   "source": [
    "scaler = StandardScaler()\n",
    "scaler.fit(features_train)\n",
    "features_train = scaler.transform(features_train)\n",
    "features_test = scaler.transform(features_test)"
   ]
  },
  {
   "cell_type": "markdown",
   "metadata": {},
   "source": [
    "\n",
    "<div class=\"alert alert-block alert-success\">\n",
    "<b>Успех:</b> Отлично, что scaler обучен только на трейне\n",
    "</div>"
   ]
  },
  {
   "cell_type": "markdown",
   "metadata": {},
   "source": [
    "**Мини-выводы:**\n",
    "- Разделили выборку на обучающую, валидационную и тестовую в соотношении 60:20:20\n",
    "- Отмасштабировали признаки StandardScaler'ом"
   ]
  },
  {
   "cell_type": "markdown",
   "metadata": {},
   "source": [
    "## Анализ моделей"
   ]
  },
  {
   "cell_type": "code",
   "execution_count": 40,
   "metadata": {},
   "outputs": [],
   "source": [
    "def rmse(target, prediction):\n",
    "    return mse(target, prediction, squared=False)\n",
    "rmse_scorer = make_scorer(rmse, greater_is_better=False)"
   ]
  },
  {
   "cell_type": "markdown",
   "metadata": {},
   "source": [
    "### Дамми-модель"
   ]
  },
  {
   "cell_type": "code",
   "execution_count": 41,
   "metadata": {},
   "outputs": [
    {
     "name": "stdout",
     "output_type": "stream",
     "text": [
      "RMSE Dummy: 4650.057238925401\n",
      "CPU times: user 2.33 ms, sys: 57 µs, total: 2.38 ms\n",
      "Wall time: 1.87 ms\n"
     ]
    }
   ],
   "source": [
    "%%time\n",
    "dummy = DummyRegressor()\n",
    "dummy.fit(features_train, target_train)\n",
    "dummy_pred = dummy.predict(features_test)\n",
    "print('RMSE Dummy:', rmse(target_test, dummy_pred))"
   ]
  },
  {
   "cell_type": "markdown",
   "metadata": {},
   "source": [
    "### Линейная регрессия"
   ]
  },
  {
   "cell_type": "markdown",
   "metadata": {},
   "source": [
    "Для поиска лучшей модели воспользуемся кросс-валидацией."
   ]
  },
  {
   "cell_type": "code",
   "execution_count": 42,
   "metadata": {},
   "outputs": [
    {
     "name": "stdout",
     "output_type": "stream",
     "text": [
      "CPU times: user 7.41 s, sys: 4.81 s, total: 12.2 s\n",
      "Wall time: 12.4 s\n"
     ]
    },
    {
     "data": {
      "text/plain": [
       "2837.276838344142"
      ]
     },
     "execution_count": 42,
     "metadata": {},
     "output_type": "execute_result"
    }
   ],
   "source": [
    "%%time\n",
    "lg_model = LinearRegression()\n",
    "cross_val_score(lg_model, features_train, target_train, cv=5, scoring=rmse_scorer).mean()*(-1)"
   ]
  },
  {
   "cell_type": "markdown",
   "metadata": {},
   "source": [
    "- RMSE больше 2500, цель не достигнута, двигаемся дальше."
   ]
  },
  {
   "cell_type": "markdown",
   "metadata": {},
   "source": [
    "### LightGBM"
   ]
  },
  {
   "cell_type": "code",
   "execution_count": 43,
   "metadata": {},
   "outputs": [
    {
     "data": {
      "text/plain": [
       "{'learning_rate': 0.3, 'max_depth': 12}"
      ]
     },
     "metadata": {},
     "output_type": "display_data"
    },
    {
     "data": {
      "text/plain": [
       "-1634.1107698633184"
      ]
     },
     "metadata": {},
     "output_type": "display_data"
    },
    {
     "data": {
      "text/plain": [
       "{'mean_fit_time': array([415.29299526, 112.68315639,   4.93258424,   5.1051158 ]),\n",
       " 'std_fit_time': array([ 50.65534527, 146.57890129,   0.23270359,   0.19469971]),\n",
       " 'mean_score_time': array([0.40398054, 0.39715066, 0.24811349, 0.29403806]),\n",
       " 'std_score_time': array([0.00103725, 0.00296331, 0.04219195, 0.00394176]),\n",
       " 'param_learning_rate': masked_array(data=[0.1, 0.1, 0.3, 0.3],\n",
       "              mask=[False, False, False, False],\n",
       "        fill_value='?',\n",
       "             dtype=object),\n",
       " 'param_max_depth': masked_array(data=[12, 15, 12, 15],\n",
       "              mask=[False, False, False, False],\n",
       "        fill_value='?',\n",
       "             dtype=object),\n",
       " 'params': [{'learning_rate': 0.1, 'max_depth': 12},\n",
       "  {'learning_rate': 0.1, 'max_depth': 15},\n",
       "  {'learning_rate': 0.3, 'max_depth': 12},\n",
       "  {'learning_rate': 0.3, 'max_depth': 15}],\n",
       " 'split0_test_score': array([-1659.78046137, -1655.71515432, -1604.33287492, -1611.24542795]),\n",
       " 'split1_test_score': array([-1686.54785714, -1688.18561335, -1638.63073095, -1633.37341021]),\n",
       " 'split2_test_score': array([-1694.08311786, -1693.98078371, -1641.491637  , -1641.99580875]),\n",
       " 'split3_test_score': array([-1685.47667553, -1683.6435448 , -1634.06819377, -1633.92244494]),\n",
       " 'split4_test_score': array([-1715.42188979, -1714.40559794, -1652.03041268, -1658.23670583]),\n",
       " 'mean_test_score': array([-1688.26200034, -1687.18613882, -1634.11076986, -1635.75475953]),\n",
       " 'std_test_score': array([17.85183121, 18.92637282, 16.01715135, 15.19292033]),\n",
       " 'rank_test_score': array([4, 3, 1, 2], dtype=int32)}"
      ]
     },
     "metadata": {},
     "output_type": "display_data"
    },
    {
     "name": "stdout",
     "output_type": "stream",
     "text": [
      "CPU times: user 44min 27s, sys: 15.2 s, total: 44min 42s\n",
      "Wall time: 45min 2s\n"
     ]
    }
   ],
   "source": [
    "%%time\n",
    "lgbm_model = LGBMRegressor(n_jobs=-1, random_state=state)\n",
    "parameters = {'learning_rate': [0.1, 0.3], 'max_depth': [12, 15]}\n",
    "gridsearch_model = GridSearchCV(n_jobs=-1, cv=5, estimator=lgbm_model, param_grid=parameters, scoring=rmse_scorer)\n",
    "gridsearch_model.fit(features_train, target_train)\n",
    "display(gridsearch_model.best_params_)\n",
    "display(gridsearch_model.best_score_)\n",
    "display(gridsearch_model.cv_results_)"
   ]
  },
  {
   "cell_type": "markdown",
   "metadata": {},
   "source": [
    "- Порог в 2500 RMSE преодолен"
   ]
  },
  {
   "cell_type": "markdown",
   "metadata": {},
   "source": [
    "### Catboost\n"
   ]
  },
  {
   "cell_type": "code",
   "execution_count": 44,
   "metadata": {},
   "outputs": [
    {
     "data": {
      "text/plain": [
       "{'depth': 12, 'learning_rate': 0.1}"
      ]
     },
     "metadata": {},
     "output_type": "display_data"
    },
    {
     "data": {
      "text/plain": [
       "-1566.627699028347"
      ]
     },
     "metadata": {},
     "output_type": "display_data"
    },
    {
     "data": {
      "text/plain": [
       "{'mean_fit_time': array([23.79615555, 23.36545458, 82.58641567, 82.50509243]),\n",
       " 'std_fit_time': array([0.36429281, 0.21331258, 1.90685691, 2.32189275]),\n",
       " 'mean_score_time': array([0.59383564, 0.5942842 , 0.81072364, 0.8809443 ]),\n",
       " 'std_score_time': array([0.00901312, 0.00827004, 0.01509325, 0.05015103]),\n",
       " 'param_depth': masked_array(data=[6, 6, 12, 12],\n",
       "              mask=[False, False, False, False],\n",
       "        fill_value='?',\n",
       "             dtype=object),\n",
       " 'param_learning_rate': masked_array(data=[0.05, 0.1, 0.05, 0.1],\n",
       "              mask=[False, False, False, False],\n",
       "        fill_value='?',\n",
       "             dtype=object),\n",
       " 'params': [{'depth': 6, 'learning_rate': 0.05},\n",
       "  {'depth': 6, 'learning_rate': 0.1},\n",
       "  {'depth': 12, 'learning_rate': 0.05},\n",
       "  {'depth': 12, 'learning_rate': 0.1}],\n",
       " 'split0_test_score': array([-1614.29738072, -1578.98752749, -1550.66337144, -1549.28188845]),\n",
       " 'split1_test_score': array([-1637.27405846, -1600.78907906, -1571.92651448, -1561.98499706]),\n",
       " 'split2_test_score': array([-1648.43798599, -1612.56290526, -1578.54815668, -1568.93708511]),\n",
       " 'split3_test_score': array([-1639.97596696, -1606.83655274, -1560.37461265, -1554.24340937]),\n",
       " 'split4_test_score': array([-1669.04001638, -1633.34181998, -1601.43652033, -1598.69111515]),\n",
       " 'mean_test_score': array([-1641.8050817 , -1606.5035769 , -1572.58983512, -1566.62769903]),\n",
       " 'std_test_score': array([17.69907643, 17.58923583, 17.30927097, 17.37353374]),\n",
       " 'rank_test_score': array([4, 3, 2, 1], dtype=int32)}"
      ]
     },
     "metadata": {},
     "output_type": "display_data"
    },
    {
     "name": "stdout",
     "output_type": "stream",
     "text": [
      "CPU times: user 18min 56s, sys: 4.51 s, total: 19min 1s\n",
      "Wall time: 19min 28s\n"
     ]
    }
   ],
   "source": [
    "%%time\n",
    "parameters = {'learning_rate': [0.05, 0.1],\n",
    "        'depth': [6, 12]}\n",
    "cat_model = CatBoostRegressor(random_state=state, logging_level='Silent')\n",
    "gridsearch_model_cat = GridSearchCV(n_jobs=-1, cv=5, estimator=cat_model, param_grid=parameters, scoring=rmse_scorer)\n",
    "gridsearch_model_cat.fit(features_train, target_train)\n",
    "display(gridsearch_model_cat.best_params_)\n",
    "display(gridsearch_model_cat.best_score_)\n",
    "display(gridsearch_model_cat.cv_results_)"
   ]
  },
  {
   "cell_type": "markdown",
   "metadata": {},
   "source": [
    "\n",
    "<div class=\"alert alert-block alert-danger\">\n",
    "   \n",
    "<b>Ошибка:</b>\n",
    "   \n",
    "- Тестовую выборку мы не должны использовать при вычислении метрик для анализа. Она должна использоваться только для единственной лучшей модели после анализа  в шаге с тестированием.\n",
    "- У нас заданы 3 метрики интересующие заказчика: `время обучения: .fit()`, `скорость предсказания: .predict()` и `качество: RMSE`. Эти метрики мы получаем и анализируем отдельно друг от друга (не на тестовой выборке и без учета времени подбора  гиперпаметров) \n",
    "- Получить их можем либо с помощью валидационной выборки либо используя кросс-валидационные методы (в GridSearchCV например есть все данные метрики в аттрибуте cv_results_).   В случае если не используется ни gridsearch ни валидационная выборка, то можно время предсказания замерить на тренировочной (качество так замерить нельзя).\n",
    "- Потом проводится анализ и выбирается ОДНА наилучшая модель.\n",
    "- И только затем для ОДНОЙ наилучшей модели  проводится тестирование.\n",
    "  \n",
    "Исправь пожалуйста это здесь и везде внизу\n",
    "</div>"
   ]
  },
  {
   "cell_type": "markdown",
   "metadata": {},
   "source": [
    "<div class=\"alert alert-block alert-warning\">\n",
    "<b>Изменения:</b> Исправил.\n",
    "</div>"
   ]
  },
  {
   "cell_type": "markdown",
   "metadata": {},
   "source": [
    "\n",
    "<div class=\"alert alert-block alert-success\">\n",
    "    \n",
    "<b>Успех[2]:</b> 👍\n",
    "</div>"
   ]
  },
  {
   "cell_type": "markdown",
   "metadata": {},
   "source": [
    "- Catboost оказался немного получше LightGBM на данных выборках, но покзатели очень близки: **1566** против 1634\n",
    "- Линейная регрессия не смогла преодолеть даже порог RMSE 2500, поэтому исключаем ее из дальнейшего исследования\n",
    "- Время:\n",
    "    - LGBMRegressor обучение: в среднем 134 сек(для каждого из 4-х гиперпараметров), предсказание **0.34 сек**\n",
    "    - CatBoostRegressor обучение в среднем  **52.5 сек**, предсказание 0.72 сек\n",
    "- RMSE:\n",
    "    - LinearRegression 2837\n",
    "    - LGBMRegressor обучение: 1637\n",
    "    - CatBoostRegressor обучение **1566**\n",
    "    \n",
    "**Итого: лучшей моделю будет CatBoostRegressor, т.к. время обучения и RMSE лучше, чем у конкурентов**"
   ]
  },
  {
   "cell_type": "markdown",
   "metadata": {},
   "source": [
    "\n",
    "<div class=\"alert alert-block alert-success\">\n",
    "<b>Успех[2]:</b> Все метрики посчитаны корректно, выбор модели обоснован!\n",
    "</div>\n"
   ]
  },
  {
   "cell_type": "markdown",
   "metadata": {},
   "source": [
    "### Тестирование"
   ]
  },
  {
   "cell_type": "markdown",
   "metadata": {},
   "source": [
    "<div class=\"alert alert-block alert-danger\">\n",
    "<b>Ошибка:</b> После анализа и выбора одной наилучшей модели, должно идти  ее тестирование. Другие модели тестовую выборку использовать не должны.\n",
    "</div>"
   ]
  },
  {
   "cell_type": "markdown",
   "metadata": {},
   "source": [
    "<div class=\"alert alert-block alert-warning\">\n",
    "<b>Изменения:</b> Исправил.\n",
    "</div>"
   ]
  },
  {
   "cell_type": "code",
   "execution_count": 47,
   "metadata": {},
   "outputs": [
    {
     "name": "stderr",
     "output_type": "stream",
     "text": [
      "Custom logger is already specified. Specify more than one logger at same time is not thread safe."
     ]
    },
    {
     "name": "stdout",
     "output_type": "stream",
     "text": [
      "1532.0902669995214\n"
     ]
    }
   ],
   "source": [
    "model = CatBoostRegressor(depth=12, learning_rate=0.1, random_state=state, logging_level='Silent')\n",
    "model.fit(features_train, target_train)\n",
    "prediction = model.predict(features_test)\n",
    "print(rmse(target_test, prediction))"
   ]
  },
  {
   "cell_type": "markdown",
   "metadata": {},
   "source": [
    "\n",
    "<div class=\"alert alert-block alert-success\">\n",
    "<b>Успех[2]:</b> На тестовой получено хорошее качество!\n",
    "</div>\n"
   ]
  },
  {
   "cell_type": "markdown",
   "metadata": {},
   "source": [
    "## Выводы:"
   ]
  },
  {
   "cell_type": "markdown",
   "metadata": {},
   "source": [
    "- Данные успешно загружены и изучены\n",
    "- Произведена предобработка данных: удалены явные и неявные дубликаты, удалены выбросы, удалены ненужные признаки\n",
    "- Выборка разбита на тренировочную и тестовую в соотношении 3:1\n",
    "- Данные отмасштабированы\n",
    "- Дамми модель показала крайне плохой RMSE\n",
    "- Линейная регрессия не смогла преодолеть 2500 RMSE\n",
    "- Лучшей с точки зрения RMSE оказалась CatBoost: 1566\n",
    "- LGBM оказалась очень близко - 1637\n",
    "- Их этих двух моделей(обе приемлемые) лучшей по времени обучения оказалась CatBoost, а вот по времени предсказания LGBM несколько опередила конкурента. \n",
    "- По итогу выбор сделан в пользу **CatBoost**\n",
    "- На тестовой выборке RMSE 1532\n"
   ]
  },
  {
   "cell_type": "markdown",
   "metadata": {},
   "source": [
    "\n",
    "<div class=\"alert alert-block alert-info\">\n",
    "<b>Совет:</b> \n",
    "\n",
    "Также если говорить, что можно ещё улучшить в подобных проектах, то я бы выделил такие моменты:<br>\n",
    "    \n",
    "1) Для понимания, а какие в итоге факторы важны при моделировании, можно выводить их важность, использую feature_importances_, ну и график заодно. Это будет смотреться очнь здорово: результативная метрика и график важности факторов)))\n",
    "    \n",
    "2) У нас разный возраст машин. Есть гипотеза, что для разных возрастов - своё ценообразование. Поэтому, можно попробовать ввести фактор \"тип возраста\" (ретро, супер-ретро, старая, новая... надо подумать..)..<br>\n",
    "\n",
    "3) У некоторых моделей семейства бустингов, есть внутренний метод кодировки данных, который хорошо было бы попробовать\n",
    "</div>"
   ]
  },
  {
   "cell_type": "markdown",
   "metadata": {},
   "source": [
    "## Чек-лист проверки"
   ]
  },
  {
   "cell_type": "markdown",
   "metadata": {},
   "source": [
    "Поставьте 'x' в выполненных пунктах. Далее нажмите Shift+Enter."
   ]
  },
  {
   "cell_type": "markdown",
   "metadata": {},
   "source": [
    "- [x]  Jupyter Notebook открыт\n",
    "- [x]  Весь код выполняется без ошибок\n",
    "- [x]  Ячейки с кодом расположены в порядке исполнения\n",
    "- [x]  Выполнена загрузка и подготовка данных\n",
    "- [x]  Выполнено обучение моделей\n",
    "- [x]  Есть анализ скорости работы и качества моделей"
   ]
  },
  {
   "cell_type": "code",
   "execution_count": null,
   "metadata": {},
   "outputs": [],
   "source": []
  }
 ],
 "metadata": {
  "ExecuteTimeLog": [
   {
    "duration": 1339,
    "start_time": "2023-09-21T22:25:34.819Z"
   },
   {
    "duration": 1266,
    "start_time": "2023-09-21T22:26:07.691Z"
   },
   {
    "duration": 957,
    "start_time": "2023-09-21T22:26:18.299Z"
   },
   {
    "duration": 62,
    "start_time": "2023-09-22T06:59:51.926Z"
   },
   {
    "duration": 1405,
    "start_time": "2023-09-22T06:59:54.801Z"
   },
   {
    "duration": 3648,
    "start_time": "2023-09-22T06:59:56.208Z"
   },
   {
    "duration": 177,
    "start_time": "2023-09-22T06:59:59.858Z"
   },
   {
    "duration": 594,
    "start_time": "2023-09-22T07:04:03.165Z"
   },
   {
    "duration": 1273,
    "start_time": "2023-09-22T07:05:14.102Z"
   },
   {
    "duration": 127,
    "start_time": "2023-09-22T07:16:14.042Z"
   },
   {
    "duration": 3,
    "start_time": "2023-09-22T07:51:04.422Z"
   },
   {
    "duration": 13,
    "start_time": "2023-09-22T07:51:04.941Z"
   },
   {
    "duration": 86022,
    "start_time": "2023-09-22T07:51:05.445Z"
   },
   {
    "duration": 3,
    "start_time": "2023-09-22T07:52:57.933Z"
   },
   {
    "duration": 11085,
    "start_time": "2023-09-22T07:52:58.525Z"
   },
   {
    "duration": 3,
    "start_time": "2023-09-22T07:53:13.989Z"
   },
   {
    "duration": 10921,
    "start_time": "2023-09-22T07:53:14.177Z"
   },
   {
    "duration": 3,
    "start_time": "2023-09-22T08:26:31.475Z"
   },
   {
    "duration": 11564,
    "start_time": "2023-09-22T08:26:31.867Z"
   },
   {
    "duration": 1128,
    "start_time": "2023-09-22T08:29:08.169Z"
   },
   {
    "duration": 939,
    "start_time": "2023-09-22T08:29:09.299Z"
   },
   {
    "duration": 164,
    "start_time": "2023-09-22T08:29:10.246Z"
   },
   {
    "duration": 99,
    "start_time": "2023-09-22T08:29:10.412Z"
   },
   {
    "duration": 150,
    "start_time": "2023-09-22T08:29:10.512Z"
   },
   {
    "duration": 0,
    "start_time": "2023-09-22T08:29:10.667Z"
   },
   {
    "duration": 0,
    "start_time": "2023-09-22T08:29:10.669Z"
   },
   {
    "duration": 0,
    "start_time": "2023-09-22T08:29:10.671Z"
   },
   {
    "duration": 0,
    "start_time": "2023-09-22T08:29:10.672Z"
   },
   {
    "duration": 0,
    "start_time": "2023-09-22T08:29:10.674Z"
   },
   {
    "duration": 31,
    "start_time": "2023-09-22T08:36:51.298Z"
   },
   {
    "duration": 1084,
    "start_time": "2023-09-22T08:36:52.342Z"
   },
   {
    "duration": 3,
    "start_time": "2023-09-22T08:36:53.427Z"
   },
   {
    "duration": 18,
    "start_time": "2023-09-22T08:36:53.431Z"
   },
   {
    "duration": 10533,
    "start_time": "2023-09-22T08:36:53.461Z"
   },
   {
    "duration": 108710,
    "start_time": "2023-09-22T08:37:03.996Z"
   },
   {
    "duration": 94167,
    "start_time": "2023-09-22T08:41:41.719Z"
   },
   {
    "duration": 53,
    "start_time": "2023-09-22T12:26:08.024Z"
   },
   {
    "duration": 1499,
    "start_time": "2023-09-22T12:26:12.373Z"
   },
   {
    "duration": 1292,
    "start_time": "2023-09-22T12:26:13.875Z"
   },
   {
    "duration": 180,
    "start_time": "2023-09-22T12:26:15.169Z"
   },
   {
    "duration": 119,
    "start_time": "2023-09-22T12:26:15.352Z"
   },
   {
    "duration": 45,
    "start_time": "2023-09-22T12:26:15.473Z"
   },
   {
    "duration": 1099,
    "start_time": "2023-09-22T12:26:15.520Z"
   },
   {
    "duration": 94322,
    "start_time": "2023-09-22T12:26:16.621Z"
   },
   {
    "duration": 3,
    "start_time": "2023-09-22T12:27:50.972Z"
   },
   {
    "duration": 21,
    "start_time": "2023-09-22T12:27:50.977Z"
   },
   {
    "duration": 10700,
    "start_time": "2023-09-22T12:27:51.000Z"
   },
   {
    "duration": 93,
    "start_time": "2023-09-22T12:28:01.709Z"
   },
   {
    "duration": 146,
    "start_time": "2023-09-22T12:55:03.421Z"
   },
   {
    "duration": 154,
    "start_time": "2023-09-22T12:58:56.740Z"
   },
   {
    "duration": 21,
    "start_time": "2023-09-22T12:59:03.203Z"
   },
   {
    "duration": 6,
    "start_time": "2023-09-22T12:59:23.671Z"
   },
   {
    "duration": 4,
    "start_time": "2023-09-22T13:20:13.340Z"
   },
   {
    "duration": 1218,
    "start_time": "2023-09-22T13:21:40.473Z"
   },
   {
    "duration": 1083,
    "start_time": "2023-09-22T13:21:41.693Z"
   },
   {
    "duration": 173,
    "start_time": "2023-09-22T13:21:42.778Z"
   },
   {
    "duration": 117,
    "start_time": "2023-09-22T13:21:42.953Z"
   },
   {
    "duration": 119,
    "start_time": "2023-09-22T13:21:43.072Z"
   },
   {
    "duration": 0,
    "start_time": "2023-09-22T13:21:43.194Z"
   },
   {
    "duration": 0,
    "start_time": "2023-09-22T13:21:43.195Z"
   },
   {
    "duration": 0,
    "start_time": "2023-09-22T13:21:43.196Z"
   },
   {
    "duration": 0,
    "start_time": "2023-09-22T13:21:43.197Z"
   },
   {
    "duration": 0,
    "start_time": "2023-09-22T13:21:43.199Z"
   },
   {
    "duration": 0,
    "start_time": "2023-09-22T13:21:43.200Z"
   },
   {
    "duration": 0,
    "start_time": "2023-09-22T13:21:43.210Z"
   },
   {
    "duration": 0,
    "start_time": "2023-09-22T13:21:43.211Z"
   },
   {
    "duration": 0,
    "start_time": "2023-09-22T13:21:43.212Z"
   },
   {
    "duration": 0,
    "start_time": "2023-09-22T13:21:43.213Z"
   },
   {
    "duration": 45,
    "start_time": "2023-09-22T13:22:35.441Z"
   },
   {
    "duration": 1108,
    "start_time": "2023-09-22T13:22:41.177Z"
   },
   {
    "duration": 95083,
    "start_time": "2023-09-22T13:22:42.408Z"
   },
   {
    "duration": 3,
    "start_time": "2023-09-22T13:24:17.494Z"
   },
   {
    "duration": 18,
    "start_time": "2023-09-22T13:24:17.498Z"
   },
   {
    "duration": 10690,
    "start_time": "2023-09-22T13:24:17.519Z"
   },
   {
    "duration": 107,
    "start_time": "2023-09-22T13:24:28.211Z"
   },
   {
    "duration": 150,
    "start_time": "2023-09-22T13:24:28.320Z"
   },
   {
    "duration": 28,
    "start_time": "2023-09-22T13:24:28.473Z"
   },
   {
    "duration": 24,
    "start_time": "2023-09-22T13:24:28.503Z"
   },
   {
    "duration": 91,
    "start_time": "2023-09-22T13:24:28.530Z"
   },
   {
    "duration": 62,
    "start_time": "2023-09-22T13:25:32.726Z"
   },
   {
    "duration": 1364,
    "start_time": "2023-09-22T13:27:34.867Z"
   },
   {
    "duration": 1089,
    "start_time": "2023-09-22T13:27:36.233Z"
   },
   {
    "duration": 186,
    "start_time": "2023-09-22T13:27:37.324Z"
   },
   {
    "duration": 390,
    "start_time": "2023-09-22T13:27:37.512Z"
   },
   {
    "duration": 38,
    "start_time": "2023-09-22T13:27:37.904Z"
   },
   {
    "duration": 907,
    "start_time": "2023-09-22T13:27:37.944Z"
   },
   {
    "duration": 97818,
    "start_time": "2023-09-22T13:27:38.853Z"
   },
   {
    "duration": 3,
    "start_time": "2023-09-22T13:29:16.673Z"
   },
   {
    "duration": 29,
    "start_time": "2023-09-22T13:29:16.678Z"
   },
   {
    "duration": 9483,
    "start_time": "2023-09-22T13:29:16.709Z"
   },
   {
    "duration": 84,
    "start_time": "2023-09-22T13:29:26.195Z"
   },
   {
    "duration": 146,
    "start_time": "2023-09-22T13:29:26.281Z"
   },
   {
    "duration": 22,
    "start_time": "2023-09-22T13:29:26.429Z"
   },
   {
    "duration": 21,
    "start_time": "2023-09-22T13:29:26.454Z"
   },
   {
    "duration": 60,
    "start_time": "2023-09-22T13:29:26.476Z"
   },
   {
    "duration": 48,
    "start_time": "2023-09-22T13:37:41.583Z"
   },
   {
    "duration": 41,
    "start_time": "2023-09-22T13:38:25.096Z"
   },
   {
    "duration": 4,
    "start_time": "2023-09-22T13:39:33.539Z"
   },
   {
    "duration": 85,
    "start_time": "2023-09-22T13:40:35.920Z"
   },
   {
    "duration": 84,
    "start_time": "2023-09-22T13:40:41.468Z"
   },
   {
    "duration": 85,
    "start_time": "2023-09-22T14:28:32.060Z"
   },
   {
    "duration": 1270,
    "start_time": "2023-09-22T15:06:16.524Z"
   },
   {
    "duration": 1118,
    "start_time": "2023-09-22T15:06:17.796Z"
   },
   {
    "duration": 174,
    "start_time": "2023-09-22T15:06:18.916Z"
   },
   {
    "duration": 119,
    "start_time": "2023-09-22T15:06:19.092Z"
   },
   {
    "duration": 45,
    "start_time": "2023-09-22T15:06:19.213Z"
   },
   {
    "duration": 724,
    "start_time": "2023-09-22T15:06:19.260Z"
   },
   {
    "duration": 90889,
    "start_time": "2023-09-22T15:06:19.986Z"
   },
   {
    "duration": 4,
    "start_time": "2023-09-22T15:07:50.896Z"
   },
   {
    "duration": 34,
    "start_time": "2023-09-22T15:07:50.901Z"
   },
   {
    "duration": 9263,
    "start_time": "2023-09-22T15:07:50.939Z"
   },
   {
    "duration": 0,
    "start_time": "2023-09-22T15:08:00.203Z"
   },
   {
    "duration": 0,
    "start_time": "2023-09-22T15:08:00.209Z"
   },
   {
    "duration": 0,
    "start_time": "2023-09-22T15:08:00.211Z"
   },
   {
    "duration": 0,
    "start_time": "2023-09-22T15:08:00.213Z"
   },
   {
    "duration": 0,
    "start_time": "2023-09-22T15:08:00.215Z"
   },
   {
    "duration": 0,
    "start_time": "2023-09-22T15:08:00.216Z"
   },
   {
    "duration": 0,
    "start_time": "2023-09-22T15:08:00.217Z"
   },
   {
    "duration": 0,
    "start_time": "2023-09-22T15:08:00.219Z"
   },
   {
    "duration": 0,
    "start_time": "2023-09-22T15:08:00.220Z"
   },
   {
    "duration": 0,
    "start_time": "2023-09-22T15:08:00.222Z"
   },
   {
    "duration": 1251,
    "start_time": "2023-09-22T15:13:18.706Z"
   },
   {
    "duration": 1004,
    "start_time": "2023-09-22T15:13:19.959Z"
   },
   {
    "duration": 166,
    "start_time": "2023-09-22T15:13:20.964Z"
   },
   {
    "duration": 119,
    "start_time": "2023-09-22T15:13:21.133Z"
   },
   {
    "duration": 29,
    "start_time": "2023-09-22T15:13:21.253Z"
   },
   {
    "duration": 513,
    "start_time": "2023-09-22T15:13:21.284Z"
   },
   {
    "duration": 86053,
    "start_time": "2023-09-22T15:13:21.799Z"
   },
   {
    "duration": 4,
    "start_time": "2023-09-22T15:14:47.854Z"
   },
   {
    "duration": 7,
    "start_time": "2023-09-22T15:14:47.861Z"
   },
   {
    "duration": 9094,
    "start_time": "2023-09-22T15:14:47.871Z"
   },
   {
    "duration": 0,
    "start_time": "2023-09-22T15:14:56.967Z"
   },
   {
    "duration": 0,
    "start_time": "2023-09-22T15:14:56.968Z"
   },
   {
    "duration": 0,
    "start_time": "2023-09-22T15:14:56.968Z"
   },
   {
    "duration": 0,
    "start_time": "2023-09-22T15:14:56.969Z"
   },
   {
    "duration": 0,
    "start_time": "2023-09-22T15:14:56.971Z"
   },
   {
    "duration": 0,
    "start_time": "2023-09-22T15:14:56.972Z"
   },
   {
    "duration": 0,
    "start_time": "2023-09-22T15:14:56.973Z"
   },
   {
    "duration": 0,
    "start_time": "2023-09-22T15:14:56.974Z"
   },
   {
    "duration": 0,
    "start_time": "2023-09-22T15:14:56.975Z"
   },
   {
    "duration": 0,
    "start_time": "2023-09-22T15:14:56.976Z"
   },
   {
    "duration": 2,
    "start_time": "2023-09-22T15:15:08.275Z"
   },
   {
    "duration": 4,
    "start_time": "2023-09-22T15:15:08.570Z"
   },
   {
    "duration": 8803,
    "start_time": "2023-09-22T15:15:09.094Z"
   },
   {
    "duration": 0,
    "start_time": "2023-09-22T15:15:17.899Z"
   },
   {
    "duration": 0,
    "start_time": "2023-09-22T15:15:17.900Z"
   },
   {
    "duration": 0,
    "start_time": "2023-09-22T15:15:17.901Z"
   },
   {
    "duration": 0,
    "start_time": "2023-09-22T15:15:17.909Z"
   },
   {
    "duration": 0,
    "start_time": "2023-09-22T15:15:17.911Z"
   },
   {
    "duration": 0,
    "start_time": "2023-09-22T15:15:17.912Z"
   },
   {
    "duration": 0,
    "start_time": "2023-09-22T15:15:17.913Z"
   },
   {
    "duration": 7007,
    "start_time": "2023-09-22T15:15:19.362Z"
   },
   {
    "duration": 69,
    "start_time": "2023-09-22T15:15:26.371Z"
   },
   {
    "duration": 91,
    "start_time": "2023-09-22T15:15:26.442Z"
   },
   {
    "duration": 28,
    "start_time": "2023-09-22T15:15:26.536Z"
   },
   {
    "duration": 4,
    "start_time": "2023-09-22T15:19:36.134Z"
   },
   {
    "duration": 7,
    "start_time": "2023-09-22T15:20:50.181Z"
   },
   {
    "duration": 8,
    "start_time": "2023-09-22T15:20:54.710Z"
   },
   {
    "duration": 7,
    "start_time": "2023-09-22T15:22:11.953Z"
   },
   {
    "duration": 3,
    "start_time": "2023-09-22T15:22:18.797Z"
   },
   {
    "duration": 40,
    "start_time": "2023-09-22T15:23:28.261Z"
   },
   {
    "duration": 48,
    "start_time": "2023-09-22T15:23:45.284Z"
   },
   {
    "duration": 30,
    "start_time": "2023-09-22T15:23:50.948Z"
   },
   {
    "duration": 5,
    "start_time": "2023-09-22T15:24:12.453Z"
   },
   {
    "duration": 67,
    "start_time": "2023-09-22T15:24:23.605Z"
   },
   {
    "duration": 7,
    "start_time": "2023-09-22T15:27:16.249Z"
   },
   {
    "duration": 7,
    "start_time": "2023-09-22T15:27:21.396Z"
   },
   {
    "duration": 7,
    "start_time": "2023-09-22T15:27:24.688Z"
   },
   {
    "duration": 1353,
    "start_time": "2023-09-22T15:31:03.983Z"
   },
   {
    "duration": 1067,
    "start_time": "2023-09-22T15:31:05.338Z"
   },
   {
    "duration": 183,
    "start_time": "2023-09-22T15:31:06.408Z"
   },
   {
    "duration": 124,
    "start_time": "2023-09-22T15:31:06.594Z"
   },
   {
    "duration": 26,
    "start_time": "2023-09-22T15:31:06.720Z"
   },
   {
    "duration": 551,
    "start_time": "2023-09-22T15:31:06.748Z"
   },
   {
    "duration": 90898,
    "start_time": "2023-09-22T15:31:07.301Z"
   },
   {
    "duration": 4,
    "start_time": "2023-09-22T15:32:38.201Z"
   },
   {
    "duration": 15,
    "start_time": "2023-09-22T15:32:38.207Z"
   },
   {
    "duration": 7040,
    "start_time": "2023-09-22T15:32:38.225Z"
   },
   {
    "duration": 85,
    "start_time": "2023-09-22T15:32:45.268Z"
   },
   {
    "duration": 109,
    "start_time": "2023-09-22T15:32:45.355Z"
   },
   {
    "duration": 7,
    "start_time": "2023-09-22T15:36:26.700Z"
   },
   {
    "duration": 5,
    "start_time": "2023-09-22T15:36:40.400Z"
   },
   {
    "duration": 33,
    "start_time": "2023-09-22T15:36:53.464Z"
   },
   {
    "duration": 39,
    "start_time": "2023-09-22T15:36:56.816Z"
   },
   {
    "duration": 5,
    "start_time": "2023-09-22T15:37:03.236Z"
   },
   {
    "duration": 78,
    "start_time": "2023-09-22T15:37:11.053Z"
   },
   {
    "duration": 7,
    "start_time": "2023-09-22T15:37:13.284Z"
   },
   {
    "duration": 10,
    "start_time": "2023-09-22T15:37:24.116Z"
   },
   {
    "duration": 5,
    "start_time": "2023-09-22T15:37:37.212Z"
   },
   {
    "duration": 8,
    "start_time": "2023-09-22T15:38:03.195Z"
   },
   {
    "duration": 9,
    "start_time": "2023-09-22T15:38:15.464Z"
   },
   {
    "duration": 4,
    "start_time": "2023-09-22T15:38:16.956Z"
   },
   {
    "duration": 23,
    "start_time": "2023-09-22T15:38:18.360Z"
   },
   {
    "duration": 30,
    "start_time": "2023-09-22T15:38:26.596Z"
   },
   {
    "duration": 25,
    "start_time": "2023-09-22T15:38:39.971Z"
   },
   {
    "duration": 9,
    "start_time": "2023-09-22T15:40:45.143Z"
   },
   {
    "duration": 11,
    "start_time": "2023-09-22T15:40:54.291Z"
   },
   {
    "duration": 10,
    "start_time": "2023-09-22T15:41:11.148Z"
   },
   {
    "duration": 8,
    "start_time": "2023-09-22T15:41:20.848Z"
   },
   {
    "duration": 8,
    "start_time": "2023-09-22T15:42:07.931Z"
   },
   {
    "duration": 9,
    "start_time": "2023-09-22T15:42:23.371Z"
   },
   {
    "duration": 8,
    "start_time": "2023-09-22T15:42:29.263Z"
   },
   {
    "duration": 24,
    "start_time": "2023-09-22T15:43:08.327Z"
   },
   {
    "duration": 77,
    "start_time": "2023-09-22T15:43:32.126Z"
   },
   {
    "duration": 34,
    "start_time": "2023-09-22T15:58:19.720Z"
   },
   {
    "duration": 160,
    "start_time": "2023-09-22T16:00:12.842Z"
   },
   {
    "duration": 39,
    "start_time": "2023-09-22T16:00:18.855Z"
   },
   {
    "duration": 40,
    "start_time": "2023-09-22T16:00:29.704Z"
   },
   {
    "duration": 41,
    "start_time": "2023-09-22T16:00:52.072Z"
   },
   {
    "duration": 46,
    "start_time": "2023-09-22T16:01:23.128Z"
   },
   {
    "duration": 31,
    "start_time": "2023-09-22T16:04:11.160Z"
   },
   {
    "duration": 35,
    "start_time": "2023-09-22T16:04:19.592Z"
   },
   {
    "duration": 33,
    "start_time": "2023-09-22T16:04:25.096Z"
   },
   {
    "duration": 33,
    "start_time": "2023-09-22T16:04:30.887Z"
   },
   {
    "duration": 44,
    "start_time": "2023-09-22T16:05:08.860Z"
   },
   {
    "duration": 48,
    "start_time": "2023-09-22T16:05:26.059Z"
   },
   {
    "duration": 41,
    "start_time": "2023-09-22T16:05:36.606Z"
   },
   {
    "duration": 37,
    "start_time": "2023-09-22T16:05:42.359Z"
   },
   {
    "duration": 37,
    "start_time": "2023-09-22T16:06:14.326Z"
   },
   {
    "duration": 38,
    "start_time": "2023-09-22T16:06:16.502Z"
   },
   {
    "duration": 33,
    "start_time": "2023-09-22T16:06:22.901Z"
   },
   {
    "duration": 36,
    "start_time": "2023-09-22T16:07:26.857Z"
   },
   {
    "duration": 46,
    "start_time": "2023-09-22T16:07:33.029Z"
   },
   {
    "duration": 34,
    "start_time": "2023-09-22T16:07:39.901Z"
   },
   {
    "duration": 94,
    "start_time": "2023-09-22T16:10:07.475Z"
   },
   {
    "duration": 91,
    "start_time": "2023-09-22T16:10:11.107Z"
   },
   {
    "duration": 94,
    "start_time": "2023-09-22T16:10:44.959Z"
   },
   {
    "duration": 120,
    "start_time": "2023-09-22T16:11:21.315Z"
   },
   {
    "duration": 103,
    "start_time": "2023-09-22T16:11:24.613Z"
   },
   {
    "duration": 92,
    "start_time": "2023-09-22T16:12:13.426Z"
   },
   {
    "duration": 91,
    "start_time": "2023-09-22T16:12:13.642Z"
   },
   {
    "duration": 18,
    "start_time": "2023-09-22T16:12:33.535Z"
   },
   {
    "duration": 21,
    "start_time": "2023-09-22T16:12:52.137Z"
   },
   {
    "duration": 70,
    "start_time": "2023-09-22T16:13:11.402Z"
   },
   {
    "duration": 102,
    "start_time": "2023-09-22T16:19:10.666Z"
   },
   {
    "duration": 110,
    "start_time": "2023-09-22T16:19:23.474Z"
   },
   {
    "duration": 102,
    "start_time": "2023-09-22T16:19:48.132Z"
   },
   {
    "duration": 5,
    "start_time": "2023-09-22T16:20:49.626Z"
   },
   {
    "duration": 1770,
    "start_time": "2023-09-22T16:30:46.394Z"
   },
   {
    "duration": 13,
    "start_time": "2023-09-22T16:31:19.885Z"
   },
   {
    "duration": 1304,
    "start_time": "2023-09-22T16:31:25.602Z"
   },
   {
    "duration": 82,
    "start_time": "2023-09-22T16:31:53.762Z"
   },
   {
    "duration": 136,
    "start_time": "2023-09-22T16:32:04.930Z"
   },
   {
    "duration": 35,
    "start_time": "2023-09-22T16:32:20.202Z"
   },
   {
    "duration": 122,
    "start_time": "2023-09-22T16:32:29.339Z"
   },
   {
    "duration": 30,
    "start_time": "2023-09-22T16:32:34.835Z"
   },
   {
    "duration": 110,
    "start_time": "2023-09-22T16:32:43.910Z"
   },
   {
    "duration": 2913,
    "start_time": "2023-09-22T16:55:10.143Z"
   },
   {
    "duration": 153,
    "start_time": "2023-09-22T16:55:50.579Z"
   },
   {
    "duration": 64,
    "start_time": "2023-09-22T16:56:20.766Z"
   },
   {
    "duration": 87,
    "start_time": "2023-09-22T16:56:25.870Z"
   },
   {
    "duration": 95,
    "start_time": "2023-09-22T16:56:43.330Z"
   },
   {
    "duration": 91,
    "start_time": "2023-09-22T16:56:54.547Z"
   },
   {
    "duration": 81,
    "start_time": "2023-09-22T17:00:25.781Z"
   },
   {
    "duration": 80,
    "start_time": "2023-09-22T17:01:07.181Z"
   },
   {
    "duration": 196,
    "start_time": "2023-09-22T17:07:06.782Z"
   },
   {
    "duration": 212,
    "start_time": "2023-09-22T17:07:26.733Z"
   },
   {
    "duration": 234,
    "start_time": "2023-09-22T17:08:31.590Z"
   },
   {
    "duration": 7,
    "start_time": "2023-09-22T17:13:55.230Z"
   },
   {
    "duration": 151,
    "start_time": "2023-09-22T17:13:57.939Z"
   },
   {
    "duration": 42,
    "start_time": "2023-09-22T17:15:37.339Z"
   },
   {
    "duration": 374,
    "start_time": "2023-09-22T17:15:44.696Z"
   },
   {
    "duration": 5,
    "start_time": "2023-09-22T17:15:49.680Z"
   },
   {
    "duration": 51,
    "start_time": "2023-09-22T17:19:26.088Z"
   },
   {
    "duration": 8,
    "start_time": "2023-09-22T17:19:47.172Z"
   },
   {
    "duration": 6,
    "start_time": "2023-09-22T17:19:52.663Z"
   },
   {
    "duration": 18,
    "start_time": "2023-09-22T17:26:41.036Z"
   },
   {
    "duration": 18,
    "start_time": "2023-09-22T17:27:01.341Z"
   },
   {
    "duration": 6,
    "start_time": "2023-09-22T17:27:21.446Z"
   },
   {
    "duration": 8,
    "start_time": "2023-09-22T17:31:55.031Z"
   },
   {
    "duration": 128,
    "start_time": "2023-09-22T17:40:28.144Z"
   },
   {
    "duration": 3,
    "start_time": "2023-09-22T17:40:31.982Z"
   },
   {
    "duration": 179,
    "start_time": "2023-09-22T17:40:32.711Z"
   },
   {
    "duration": 5,
    "start_time": "2023-09-22T17:40:48.139Z"
   },
   {
    "duration": 8,
    "start_time": "2023-09-22T17:40:48.777Z"
   },
   {
    "duration": 10686,
    "start_time": "2023-09-22T17:40:53.173Z"
   },
   {
    "duration": 9875,
    "start_time": "2023-09-22T17:41:15.933Z"
   },
   {
    "duration": 3,
    "start_time": "2023-09-22T17:42:43.047Z"
   },
   {
    "duration": 13,
    "start_time": "2023-09-22T17:42:45.332Z"
   },
   {
    "duration": 11076,
    "start_time": "2023-09-22T17:42:55.153Z"
   },
   {
    "duration": 13003,
    "start_time": "2023-09-22T17:43:33.307Z"
   },
   {
    "duration": 22457,
    "start_time": "2023-09-22T18:01:28.760Z"
   },
   {
    "duration": 507686,
    "start_time": "2023-09-22T18:01:52.616Z"
   },
   {
    "duration": 2190,
    "start_time": "2023-09-22T18:21:41.688Z"
   },
   {
    "duration": 1412,
    "start_time": "2023-09-22T18:21:43.885Z"
   },
   {
    "duration": 284,
    "start_time": "2023-09-22T18:21:45.299Z"
   },
   {
    "duration": 140,
    "start_time": "2023-09-22T18:21:45.586Z"
   },
   {
    "duration": 42,
    "start_time": "2023-09-22T18:21:45.730Z"
   },
   {
    "duration": 618,
    "start_time": "2023-09-22T18:21:45.777Z"
   },
   {
    "duration": 121668,
    "start_time": "2023-09-22T18:21:46.397Z"
   },
   {
    "duration": 4,
    "start_time": "2023-09-22T18:23:48.067Z"
   },
   {
    "duration": 5,
    "start_time": "2023-09-22T18:23:48.073Z"
   },
   {
    "duration": 10504,
    "start_time": "2023-09-22T18:23:48.080Z"
   },
   {
    "duration": 92,
    "start_time": "2023-09-22T18:23:58.586Z"
   },
   {
    "duration": 126,
    "start_time": "2023-09-22T18:23:58.681Z"
   },
   {
    "duration": 23,
    "start_time": "2023-09-22T18:23:58.818Z"
   },
   {
    "duration": 21,
    "start_time": "2023-09-22T18:23:58.856Z"
   },
   {
    "duration": 70,
    "start_time": "2023-09-22T18:23:58.879Z"
   },
   {
    "duration": 47,
    "start_time": "2023-09-22T18:23:58.952Z"
   },
   {
    "duration": 9,
    "start_time": "2023-09-22T18:23:59.002Z"
   },
   {
    "duration": 150,
    "start_time": "2023-09-22T18:23:59.013Z"
   },
   {
    "duration": 9,
    "start_time": "2023-09-22T18:23:59.172Z"
   },
   {
    "duration": 15,
    "start_time": "2023-09-22T18:23:59.183Z"
   },
   {
    "duration": 58,
    "start_time": "2023-09-22T18:23:59.200Z"
   },
   {
    "duration": 9,
    "start_time": "2023-09-22T18:23:59.260Z"
   },
   {
    "duration": 35,
    "start_time": "2023-09-22T18:23:59.270Z"
   },
   {
    "duration": 154,
    "start_time": "2023-09-22T18:23:59.307Z"
   },
   {
    "duration": 63,
    "start_time": "2023-09-22T18:23:59.464Z"
   },
   {
    "duration": 50,
    "start_time": "2023-09-22T18:23:59.532Z"
   },
   {
    "duration": 123,
    "start_time": "2023-09-22T18:23:59.584Z"
   },
   {
    "duration": 141,
    "start_time": "2023-09-22T18:23:59.708Z"
   },
   {
    "duration": 32,
    "start_time": "2023-09-22T18:23:59.851Z"
   },
   {
    "duration": 162,
    "start_time": "2023-09-22T18:23:59.886Z"
   },
   {
    "duration": 13,
    "start_time": "2023-09-22T18:24:00.053Z"
   },
   {
    "duration": 177,
    "start_time": "2023-09-22T18:24:00.069Z"
   },
   {
    "duration": 303,
    "start_time": "2023-09-22T18:24:00.248Z"
   },
   {
    "duration": 14,
    "start_time": "2023-09-22T18:24:00.556Z"
   },
   {
    "duration": 149,
    "start_time": "2023-09-22T18:24:00.576Z"
   },
   {
    "duration": 397,
    "start_time": "2023-09-22T18:24:00.731Z"
   },
   {
    "duration": 10,
    "start_time": "2023-09-22T18:24:01.130Z"
   },
   {
    "duration": 112,
    "start_time": "2023-09-22T18:24:01.142Z"
   },
   {
    "duration": 17276,
    "start_time": "2023-09-22T18:24:01.260Z"
   },
   {
    "duration": 4031483,
    "start_time": "2023-09-22T18:24:18.541Z"
   },
   {
    "duration": 0,
    "start_time": "2023-09-22T19:31:30.027Z"
   },
   {
    "duration": 2060936,
    "start_time": "2023-09-22T19:34:34.787Z"
   },
   {
    "duration": 94,
    "start_time": "2023-09-22T20:08:55.726Z"
   },
   {
    "duration": 11825,
    "start_time": "2023-09-22T20:11:22.793Z"
   },
   {
    "duration": 375585,
    "start_time": "2023-09-22T20:11:35.266Z"
   },
   {
    "duration": 18209,
    "start_time": "2023-09-22T20:18:02.769Z"
   },
   {
    "duration": 615261,
    "start_time": "2023-09-22T20:18:26.759Z"
   },
   {
    "duration": 2076853,
    "start_time": "2023-09-22T20:32:32.072Z"
   },
   {
    "duration": 225,
    "start_time": "2023-09-22T21:52:09.687Z"
   },
   {
    "duration": 1649,
    "start_time": "2023-09-22T21:52:15.550Z"
   },
   {
    "duration": 1306,
    "start_time": "2023-09-22T21:52:17.201Z"
   },
   {
    "duration": 179,
    "start_time": "2023-09-22T21:52:18.509Z"
   },
   {
    "duration": 119,
    "start_time": "2023-09-22T21:52:18.691Z"
   },
   {
    "duration": 28,
    "start_time": "2023-09-22T21:52:18.813Z"
   },
   {
    "duration": 489,
    "start_time": "2023-09-22T21:52:18.843Z"
   },
   {
    "duration": 84808,
    "start_time": "2023-09-22T21:52:19.334Z"
   },
   {
    "duration": 3,
    "start_time": "2023-09-22T21:53:44.160Z"
   },
   {
    "duration": 13,
    "start_time": "2023-09-22T21:53:44.166Z"
   },
   {
    "duration": 6553,
    "start_time": "2023-09-22T21:53:44.181Z"
   },
   {
    "duration": 52,
    "start_time": "2023-09-22T21:53:50.735Z"
   },
   {
    "duration": 97,
    "start_time": "2023-09-22T21:53:50.789Z"
   },
   {
    "duration": 17,
    "start_time": "2023-09-22T21:53:50.888Z"
   },
   {
    "duration": 16,
    "start_time": "2023-09-22T21:53:50.912Z"
   },
   {
    "duration": 59,
    "start_time": "2023-09-22T21:53:50.929Z"
   },
   {
    "duration": 30,
    "start_time": "2023-09-22T21:53:50.989Z"
   },
   {
    "duration": 25,
    "start_time": "2023-09-22T21:53:51.021Z"
   },
   {
    "duration": 97,
    "start_time": "2023-09-22T21:53:51.048Z"
   },
   {
    "duration": 7,
    "start_time": "2023-09-22T21:53:51.147Z"
   },
   {
    "duration": 15,
    "start_time": "2023-09-22T21:53:51.156Z"
   },
   {
    "duration": 33,
    "start_time": "2023-09-22T21:53:51.173Z"
   },
   {
    "duration": 23,
    "start_time": "2023-09-22T21:53:51.210Z"
   },
   {
    "duration": 48,
    "start_time": "2023-09-22T21:53:51.235Z"
   },
   {
    "duration": 93,
    "start_time": "2023-09-22T21:53:51.285Z"
   },
   {
    "duration": 40,
    "start_time": "2023-09-22T21:53:51.379Z"
   },
   {
    "duration": 35,
    "start_time": "2023-09-22T21:53:51.422Z"
   },
   {
    "duration": 111,
    "start_time": "2023-09-22T21:53:51.459Z"
   },
   {
    "duration": 78,
    "start_time": "2023-09-22T21:53:51.571Z"
   },
   {
    "duration": 6,
    "start_time": "2023-09-22T21:53:51.651Z"
   },
   {
    "duration": 95,
    "start_time": "2023-09-22T21:53:51.658Z"
   },
   {
    "duration": 10,
    "start_time": "2023-09-22T21:53:51.755Z"
   },
   {
    "duration": 107,
    "start_time": "2023-09-22T21:53:51.767Z"
   },
   {
    "duration": 210,
    "start_time": "2023-09-22T21:53:51.876Z"
   },
   {
    "duration": 3,
    "start_time": "2023-09-22T21:53:52.088Z"
   },
   {
    "duration": 101,
    "start_time": "2023-09-22T21:53:52.092Z"
   },
   {
    "duration": 382,
    "start_time": "2023-09-22T21:53:52.195Z"
   },
   {
    "duration": 4,
    "start_time": "2023-09-22T21:53:52.580Z"
   },
   {
    "duration": 12,
    "start_time": "2023-09-22T21:53:52.586Z"
   },
   {
    "duration": 10003,
    "start_time": "2023-09-22T21:53:52.610Z"
   },
   {
    "duration": 136604,
    "start_time": "2023-09-22T21:54:02.615Z"
   },
   {
    "duration": 1668611,
    "start_time": "2023-09-22T21:56:19.222Z"
   },
   {
    "duration": 1183367,
    "start_time": "2023-09-22T22:24:09.144Z"
   },
   {
    "duration": 112,
    "start_time": "2023-09-22T23:01:47.963Z"
   },
   {
    "duration": 2300,
    "start_time": "2023-09-22T23:02:41.018Z"
   },
   {
    "duration": 2245,
    "start_time": "2023-09-22T23:03:38.470Z"
   },
   {
    "duration": 79,
    "start_time": "2023-09-22T23:03:58.222Z"
   },
   {
    "duration": 444,
    "start_time": "2023-09-22T23:04:14.570Z"
   },
   {
    "duration": 98100,
    "start_time": "2023-09-22T23:04:43.122Z"
   },
   {
    "duration": 103,
    "start_time": "2023-09-22T23:06:21.224Z"
   },
   {
    "duration": 22666,
    "start_time": "2023-09-22T23:06:35.699Z"
   },
   {
    "duration": 91556,
    "start_time": "2023-09-22T23:07:05.885Z"
   },
   {
    "duration": 2751,
    "start_time": "2023-09-22T23:10:41.160Z"
   },
   {
    "duration": 101,
    "start_time": "2023-09-22T23:10:43.914Z"
   },
   {
    "duration": 41504,
    "start_time": "2023-09-22T23:10:44.017Z"
   },
   {
    "duration": 911,
    "start_time": "2023-09-22T23:11:25.523Z"
   },
   {
    "duration": 90658,
    "start_time": "2023-09-22T23:11:26.435Z"
   },
   {
    "duration": 886,
    "start_time": "2023-09-22T23:12:57.096Z"
   },
   {
    "duration": 2138,
    "start_time": "2023-09-23T08:18:15.413Z"
   },
   {
    "duration": 1676,
    "start_time": "2023-09-23T08:18:17.554Z"
   },
   {
    "duration": 167,
    "start_time": "2023-09-23T08:18:19.232Z"
   },
   {
    "duration": 108,
    "start_time": "2023-09-23T08:18:19.402Z"
   },
   {
    "duration": 47,
    "start_time": "2023-09-23T08:18:19.513Z"
   },
   {
    "duration": 1030,
    "start_time": "2023-09-23T08:18:19.562Z"
   },
   {
    "duration": 84920,
    "start_time": "2023-09-23T08:18:20.594Z"
   },
   {
    "duration": 3,
    "start_time": "2023-09-23T08:19:45.517Z"
   },
   {
    "duration": 6,
    "start_time": "2023-09-23T08:19:45.522Z"
   },
   {
    "duration": 6935,
    "start_time": "2023-09-23T08:19:45.532Z"
   },
   {
    "duration": 57,
    "start_time": "2023-09-23T08:19:52.469Z"
   },
   {
    "duration": 103,
    "start_time": "2023-09-23T08:19:52.527Z"
   },
   {
    "duration": 28,
    "start_time": "2023-09-23T08:19:52.632Z"
   },
   {
    "duration": 29,
    "start_time": "2023-09-23T08:19:52.662Z"
   },
   {
    "duration": 51,
    "start_time": "2023-09-23T08:19:52.694Z"
   },
   {
    "duration": 29,
    "start_time": "2023-09-23T08:19:52.747Z"
   },
   {
    "duration": 11,
    "start_time": "2023-09-23T08:19:52.778Z"
   },
   {
    "duration": 85,
    "start_time": "2023-09-23T08:19:52.791Z"
   },
   {
    "duration": 8,
    "start_time": "2023-09-23T08:19:52.878Z"
   },
   {
    "duration": 26,
    "start_time": "2023-09-23T08:19:52.888Z"
   },
   {
    "duration": 46,
    "start_time": "2023-09-23T08:19:52.916Z"
   },
   {
    "duration": 15,
    "start_time": "2023-09-23T08:19:52.964Z"
   },
   {
    "duration": 38,
    "start_time": "2023-09-23T08:19:52.981Z"
   },
   {
    "duration": 138,
    "start_time": "2023-09-23T08:19:53.021Z"
   },
   {
    "duration": 36,
    "start_time": "2023-09-23T08:19:53.162Z"
   },
   {
    "duration": 53,
    "start_time": "2023-09-23T08:19:53.200Z"
   },
   {
    "duration": 111,
    "start_time": "2023-09-23T08:19:53.255Z"
   },
   {
    "duration": 115,
    "start_time": "2023-09-23T08:19:53.370Z"
   },
   {
    "duration": 6,
    "start_time": "2023-09-23T08:19:53.487Z"
   },
   {
    "duration": 22,
    "start_time": "2023-09-23T08:19:53.494Z"
   },
   {
    "duration": 78,
    "start_time": "2023-09-23T08:19:53.518Z"
   },
   {
    "duration": 24,
    "start_time": "2023-09-23T08:19:53.598Z"
   },
   {
    "duration": 95,
    "start_time": "2023-09-23T08:19:53.624Z"
   },
   {
    "duration": 145,
    "start_time": "2023-09-23T08:19:53.720Z"
   },
   {
    "duration": 0,
    "start_time": "2023-09-23T08:19:53.867Z"
   },
   {
    "duration": 0,
    "start_time": "2023-09-23T08:19:53.868Z"
   },
   {
    "duration": 107,
    "start_time": "2023-09-23T08:21:27.166Z"
   },
   {
    "duration": 87,
    "start_time": "2023-09-23T08:22:24.133Z"
   },
   {
    "duration": 13,
    "start_time": "2023-09-23T08:22:29.201Z"
   },
   {
    "duration": 2597,
    "start_time": "2023-09-23T08:23:13.621Z"
   },
   {
    "duration": 5,
    "start_time": "2023-09-23T08:23:37.901Z"
   },
   {
    "duration": 8487,
    "start_time": "2023-09-23T08:24:12.029Z"
   },
   {
    "duration": 11,
    "start_time": "2023-09-23T08:28:59.104Z"
   },
   {
    "duration": 12,
    "start_time": "2023-09-23T08:30:46.878Z"
   },
   {
    "duration": 1530,
    "start_time": "2023-09-23T08:31:21.536Z"
   },
   {
    "duration": 938,
    "start_time": "2023-09-23T08:31:23.068Z"
   },
   {
    "duration": 187,
    "start_time": "2023-09-23T08:31:24.008Z"
   },
   {
    "duration": 109,
    "start_time": "2023-09-23T08:31:24.198Z"
   },
   {
    "duration": 37,
    "start_time": "2023-09-23T08:31:24.312Z"
   },
   {
    "duration": 481,
    "start_time": "2023-09-23T08:31:24.350Z"
   },
   {
    "duration": 85493,
    "start_time": "2023-09-23T08:31:24.833Z"
   },
   {
    "duration": 4,
    "start_time": "2023-09-23T08:32:50.328Z"
   },
   {
    "duration": 17,
    "start_time": "2023-09-23T08:32:50.334Z"
   },
   {
    "duration": 7883,
    "start_time": "2023-09-23T08:32:50.353Z"
   },
   {
    "duration": 56,
    "start_time": "2023-09-23T08:32:58.237Z"
   },
   {
    "duration": 105,
    "start_time": "2023-09-23T08:32:58.297Z"
   },
   {
    "duration": 24,
    "start_time": "2023-09-23T08:32:58.404Z"
   },
   {
    "duration": 19,
    "start_time": "2023-09-23T08:32:58.431Z"
   },
   {
    "duration": 47,
    "start_time": "2023-09-23T08:32:58.452Z"
   },
   {
    "duration": 30,
    "start_time": "2023-09-23T08:32:58.501Z"
   },
   {
    "duration": 3,
    "start_time": "2023-09-23T08:32:58.533Z"
   },
   {
    "duration": 79,
    "start_time": "2023-09-23T08:32:58.538Z"
   },
   {
    "duration": 7,
    "start_time": "2023-09-23T08:32:58.619Z"
   },
   {
    "duration": 21,
    "start_time": "2023-09-23T08:32:58.647Z"
   },
   {
    "duration": 27,
    "start_time": "2023-09-23T08:32:58.670Z"
   },
   {
    "duration": 6,
    "start_time": "2023-09-23T08:32:58.699Z"
   },
   {
    "duration": 33,
    "start_time": "2023-09-23T08:32:58.707Z"
   },
   {
    "duration": 108,
    "start_time": "2023-09-23T08:32:58.742Z"
   },
   {
    "duration": 37,
    "start_time": "2023-09-23T08:32:58.852Z"
   },
   {
    "duration": 33,
    "start_time": "2023-09-23T08:32:58.891Z"
   },
   {
    "duration": 105,
    "start_time": "2023-09-23T08:32:58.947Z"
   },
   {
    "duration": 105,
    "start_time": "2023-09-23T08:32:59.054Z"
   },
   {
    "duration": 5,
    "start_time": "2023-09-23T08:32:59.161Z"
   },
   {
    "duration": 10,
    "start_time": "2023-09-23T08:32:59.168Z"
   },
   {
    "duration": 80,
    "start_time": "2023-09-23T08:32:59.180Z"
   },
   {
    "duration": 25,
    "start_time": "2023-09-23T08:32:59.262Z"
   },
   {
    "duration": 102,
    "start_time": "2023-09-23T08:32:59.289Z"
   },
   {
    "duration": 134,
    "start_time": "2023-09-23T08:32:59.393Z"
   },
   {
    "duration": 127,
    "start_time": "2023-09-23T08:34:29.685Z"
   },
   {
    "duration": 273,
    "start_time": "2023-09-23T08:36:57.137Z"
   },
   {
    "duration": 439,
    "start_time": "2023-09-23T08:39:38.773Z"
   },
   {
    "duration": 147,
    "start_time": "2023-09-23T08:48:33.265Z"
   },
   {
    "duration": 30,
    "start_time": "2023-09-23T08:55:35.481Z"
   },
   {
    "duration": 24,
    "start_time": "2023-09-23T08:57:50.994Z"
   },
   {
    "duration": 20,
    "start_time": "2023-09-23T08:59:53.449Z"
   },
   {
    "duration": 48,
    "start_time": "2023-09-23T09:00:02.553Z"
   },
   {
    "duration": 5,
    "start_time": "2023-09-23T09:00:22.937Z"
   },
   {
    "duration": 3,
    "start_time": "2023-09-23T09:00:29.937Z"
   },
   {
    "duration": 77,
    "start_time": "2023-09-23T09:00:30.225Z"
   },
   {
    "duration": 29,
    "start_time": "2023-09-23T09:00:31.436Z"
   },
   {
    "duration": 80,
    "start_time": "2023-09-23T09:00:31.961Z"
   },
   {
    "duration": 124,
    "start_time": "2023-09-23T09:00:36.781Z"
   },
   {
    "duration": 166,
    "start_time": "2023-09-23T09:00:45.185Z"
   },
   {
    "duration": 358,
    "start_time": "2023-09-23T09:00:49.362Z"
   },
   {
    "duration": 4,
    "start_time": "2023-09-23T09:00:54.337Z"
   },
   {
    "duration": 8,
    "start_time": "2023-09-23T09:00:55.402Z"
   },
   {
    "duration": 12816,
    "start_time": "2023-09-23T09:01:21.548Z"
   },
   {
    "duration": 1707,
    "start_time": "2023-09-23T09:14:55.893Z"
   },
   {
    "duration": 1021,
    "start_time": "2023-09-23T09:14:57.602Z"
   },
   {
    "duration": 217,
    "start_time": "2023-09-23T09:14:58.625Z"
   },
   {
    "duration": 115,
    "start_time": "2023-09-23T09:14:58.847Z"
   },
   {
    "duration": 31,
    "start_time": "2023-09-23T09:14:58.963Z"
   },
   {
    "duration": 526,
    "start_time": "2023-09-23T09:14:58.996Z"
   },
   {
    "duration": 91086,
    "start_time": "2023-09-23T09:14:59.524Z"
   },
   {
    "duration": 3,
    "start_time": "2023-09-23T09:16:30.630Z"
   },
   {
    "duration": 40,
    "start_time": "2023-09-23T09:16:30.635Z"
   },
   {
    "duration": 7308,
    "start_time": "2023-09-23T09:16:30.678Z"
   },
   {
    "duration": 66,
    "start_time": "2023-09-23T09:16:37.988Z"
   },
   {
    "duration": 108,
    "start_time": "2023-09-23T09:16:38.056Z"
   },
   {
    "duration": 14,
    "start_time": "2023-09-23T09:16:38.166Z"
   },
   {
    "duration": 6,
    "start_time": "2023-09-23T09:16:38.182Z"
   },
   {
    "duration": 48,
    "start_time": "2023-09-23T09:16:38.190Z"
   },
   {
    "duration": 34,
    "start_time": "2023-09-23T09:16:38.240Z"
   },
   {
    "duration": 4,
    "start_time": "2023-09-23T09:16:38.276Z"
   },
   {
    "duration": 95,
    "start_time": "2023-09-23T09:16:38.282Z"
   },
   {
    "duration": 10,
    "start_time": "2023-09-23T09:16:38.379Z"
   },
   {
    "duration": 9,
    "start_time": "2023-09-23T09:16:38.391Z"
   },
   {
    "duration": 44,
    "start_time": "2023-09-23T09:16:38.403Z"
   },
   {
    "duration": 47,
    "start_time": "2023-09-23T09:16:38.449Z"
   },
   {
    "duration": 9,
    "start_time": "2023-09-23T09:16:38.498Z"
   },
   {
    "duration": 47,
    "start_time": "2023-09-23T09:16:38.509Z"
   },
   {
    "duration": 168,
    "start_time": "2023-09-23T09:16:38.558Z"
   },
   {
    "duration": 66,
    "start_time": "2023-09-23T09:16:38.728Z"
   },
   {
    "duration": 33,
    "start_time": "2023-09-23T09:16:38.795Z"
   },
   {
    "duration": 89,
    "start_time": "2023-09-23T09:16:38.848Z"
   },
   {
    "duration": 90,
    "start_time": "2023-09-23T09:16:38.938Z"
   },
   {
    "duration": 34,
    "start_time": "2023-09-23T09:16:39.030Z"
   },
   {
    "duration": 97,
    "start_time": "2023-09-23T09:16:39.066Z"
   },
   {
    "duration": 4,
    "start_time": "2023-09-23T09:16:39.166Z"
   },
   {
    "duration": 10,
    "start_time": "2023-09-23T09:16:39.171Z"
   },
   {
    "duration": 83,
    "start_time": "2023-09-23T09:16:39.182Z"
   },
   {
    "duration": 24,
    "start_time": "2023-09-23T09:16:39.267Z"
   },
   {
    "duration": 89,
    "start_time": "2023-09-23T09:16:39.293Z"
   },
   {
    "duration": 146,
    "start_time": "2023-09-23T09:16:39.384Z"
   },
   {
    "duration": 157,
    "start_time": "2023-09-23T09:16:39.533Z"
   },
   {
    "duration": 390,
    "start_time": "2023-09-23T09:16:39.692Z"
   },
   {
    "duration": 4,
    "start_time": "2023-09-23T09:16:40.084Z"
   },
   {
    "duration": 28,
    "start_time": "2023-09-23T09:16:40.089Z"
   },
   {
    "duration": 12432,
    "start_time": "2023-09-23T09:16:40.119Z"
   },
   {
    "duration": 2702705,
    "start_time": "2023-09-23T09:16:52.553Z"
   },
   {
    "duration": 1168957,
    "start_time": "2023-09-23T10:01:55.261Z"
   },
   {
    "duration": 159,
    "start_time": "2023-09-23T10:21:24.222Z"
   },
   {
    "duration": 16677,
    "start_time": "2023-09-23T13:52:27.099Z"
   },
   {
    "duration": 91191,
    "start_time": "2023-09-23T13:52:44.709Z"
   },
   {
    "duration": 80,
    "start_time": "2023-09-23T13:58:34.279Z"
   },
   {
    "duration": 14,
    "start_time": "2023-09-23T14:10:39.767Z"
   },
   {
    "duration": 13,
    "start_time": "2023-09-23T14:12:51.878Z"
   }
  ],
  "kernelspec": {
   "display_name": "Python 3 (ipykernel)",
   "language": "python",
   "name": "python3"
  },
  "language_info": {
   "codemirror_mode": {
    "name": "ipython",
    "version": 3
   },
   "file_extension": ".py",
   "mimetype": "text/x-python",
   "name": "python",
   "nbconvert_exporter": "python",
   "pygments_lexer": "ipython3",
   "version": "3.9.5"
  },
  "toc": {
   "base_numbering": 1,
   "nav_menu": {},
   "number_sections": true,
   "sideBar": true,
   "skip_h1_title": true,
   "title_cell": "Table of Contents",
   "title_sidebar": "Contents",
   "toc_cell": false,
   "toc_position": {},
   "toc_section_display": true,
   "toc_window_display": true
  }
 },
 "nbformat": 4,
 "nbformat_minor": 2
}

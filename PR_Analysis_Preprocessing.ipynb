{
 "cells": [
  {
   "cell_type": "markdown",
   "id": "0f2f39d6",
   "metadata": {},
   "source": [
    "# КОММЕНТАРИЙ РЕВЬЮВЕРА\n",
    "Привет Артем👋!)\n",
    "\n",
    "Меня зовут Сибирев Владислав, я осуществлял проверку проекта. Может перейдем сразу на <b>ты</b>? Если это неприемлемо, то обязательно дай знать)\n",
    "\n",
    "Далее по ходу работы ты сможешь встретить мои комментарии, они будут отмечены разными цветами:\n",
    "\n",
    "<div class=\"alert alert-block alert-success\">\n",
    " ✔️ Похвала и возможности развития\n",
    "</div>\n",
    "<div class=\"alert alert-block alert-warning\">\n",
    "⚠️ Некритичные замечания, но стоит обратить внимание\n",
    "</div>\n",
    "<div class=\"alert alert-block alert-danger\">\n",
    "❌ Грубая ошибка, необходимо исправить\n",
    "</div>\n",
    "\n",
    "\n",
    "Заранее прошу не удалять мои комментарии, это важно. Если у тебя возникнут вопросы, обозначь их, я с радостью тебе помогу!)\n",
    "\n",
    "Как вариант, можешь обозначить их так:\n",
    "<div class=\"alert alert-block alert-info\">\n",
    "<b>КОММЕНТАРИЙ СТУДЕНТА:</b>\n",
    "</div>"
   ]
  },
  {
   "cell_type": "markdown",
   "id": "aa308f49",
   "metadata": {
    "deletable": false,
    "editable": false,
    "id": "c81daeeb"
   },
   "source": [
    "# Исследование надежности заемщиков\n"
   ]
  },
  {
   "cell_type": "markdown",
   "id": "d3dde276",
   "metadata": {
    "deletable": false,
    "editable": false,
    "id": "827c20bf"
   },
   "source": [
    "Во второй части проекта вы выполните шаги 3 и 4. Их вручную проверит ревьюер.\n",
    "Чтобы вам не пришлось писать код заново для шагов 1 и 2, мы добавили авторские решения в ячейки с кодом. \n",
    "\n"
   ]
  },
  {
   "cell_type": "markdown",
   "id": "a172565c",
   "metadata": {
    "deletable": false,
    "editable": false,
    "id": "744d7639"
   },
   "source": [
    "## Откройте таблицу и изучите общую информацию о данных"
   ]
  },
  {
   "cell_type": "markdown",
   "id": "250301b1",
   "metadata": {
    "deletable": false,
    "editable": false,
    "id": "e7a14c31"
   },
   "source": [
    "**Задание 1. Импортируйте библиотеку pandas. Считайте данные из csv-файла в датафрейм и сохраните в переменную `data`. Путь к файлу:**\n",
    "\n",
    "`/datasets/data.csv`"
   ]
  },
  {
   "cell_type": "code",
   "execution_count": 1,
   "id": "9ade74c2",
   "metadata": {
    "deletable": false,
    "id": "7bcf75c9"
   },
   "outputs": [],
   "source": [
    "import pandas as pd\n",
    "\n",
    "try:\n",
    "    data = pd.read_csv('/datasets/data.csv')\n",
    "except:\n",
    "    data = pd.read_csv('https://code.s3.yandex.net/datasets/data.csv')"
   ]
  },
  {
   "cell_type": "markdown",
   "id": "511f1725",
   "metadata": {
    "deletable": false,
    "editable": false,
    "id": "b8038fe3"
   },
   "source": [
    "**Задание 2. Выведите первые 20 строчек датафрейма `data` на экран.**"
   ]
  },
  {
   "cell_type": "code",
   "execution_count": 2,
   "id": "27354616",
   "metadata": {
    "deletable": false,
    "id": "2a7cab99",
    "outputId": "1a8f3ef2-d323-4ec2-ddf7-89670b5944c4"
   },
   "outputs": [
    {
     "data": {
      "text/html": [
       "<div>\n",
       "<style scoped>\n",
       "    .dataframe tbody tr th:only-of-type {\n",
       "        vertical-align: middle;\n",
       "    }\n",
       "\n",
       "    .dataframe tbody tr th {\n",
       "        vertical-align: top;\n",
       "    }\n",
       "\n",
       "    .dataframe thead th {\n",
       "        text-align: right;\n",
       "    }\n",
       "</style>\n",
       "<table border=\"1\" class=\"dataframe\">\n",
       "  <thead>\n",
       "    <tr style=\"text-align: right;\">\n",
       "      <th></th>\n",
       "      <th>children</th>\n",
       "      <th>days_employed</th>\n",
       "      <th>dob_years</th>\n",
       "      <th>education</th>\n",
       "      <th>education_id</th>\n",
       "      <th>family_status</th>\n",
       "      <th>family_status_id</th>\n",
       "      <th>gender</th>\n",
       "      <th>income_type</th>\n",
       "      <th>debt</th>\n",
       "      <th>total_income</th>\n",
       "      <th>purpose</th>\n",
       "    </tr>\n",
       "  </thead>\n",
       "  <tbody>\n",
       "    <tr>\n",
       "      <th>0</th>\n",
       "      <td>1</td>\n",
       "      <td>-8437.673028</td>\n",
       "      <td>42</td>\n",
       "      <td>высшее</td>\n",
       "      <td>0</td>\n",
       "      <td>женат / замужем</td>\n",
       "      <td>0</td>\n",
       "      <td>F</td>\n",
       "      <td>сотрудник</td>\n",
       "      <td>0</td>\n",
       "      <td>253875.639453</td>\n",
       "      <td>покупка жилья</td>\n",
       "    </tr>\n",
       "    <tr>\n",
       "      <th>1</th>\n",
       "      <td>1</td>\n",
       "      <td>-4024.803754</td>\n",
       "      <td>36</td>\n",
       "      <td>среднее</td>\n",
       "      <td>1</td>\n",
       "      <td>женат / замужем</td>\n",
       "      <td>0</td>\n",
       "      <td>F</td>\n",
       "      <td>сотрудник</td>\n",
       "      <td>0</td>\n",
       "      <td>112080.014102</td>\n",
       "      <td>приобретение автомобиля</td>\n",
       "    </tr>\n",
       "    <tr>\n",
       "      <th>2</th>\n",
       "      <td>0</td>\n",
       "      <td>-5623.422610</td>\n",
       "      <td>33</td>\n",
       "      <td>Среднее</td>\n",
       "      <td>1</td>\n",
       "      <td>женат / замужем</td>\n",
       "      <td>0</td>\n",
       "      <td>M</td>\n",
       "      <td>сотрудник</td>\n",
       "      <td>0</td>\n",
       "      <td>145885.952297</td>\n",
       "      <td>покупка жилья</td>\n",
       "    </tr>\n",
       "    <tr>\n",
       "      <th>3</th>\n",
       "      <td>3</td>\n",
       "      <td>-4124.747207</td>\n",
       "      <td>32</td>\n",
       "      <td>среднее</td>\n",
       "      <td>1</td>\n",
       "      <td>женат / замужем</td>\n",
       "      <td>0</td>\n",
       "      <td>M</td>\n",
       "      <td>сотрудник</td>\n",
       "      <td>0</td>\n",
       "      <td>267628.550329</td>\n",
       "      <td>дополнительное образование</td>\n",
       "    </tr>\n",
       "    <tr>\n",
       "      <th>4</th>\n",
       "      <td>0</td>\n",
       "      <td>340266.072047</td>\n",
       "      <td>53</td>\n",
       "      <td>среднее</td>\n",
       "      <td>1</td>\n",
       "      <td>гражданский брак</td>\n",
       "      <td>1</td>\n",
       "      <td>F</td>\n",
       "      <td>пенсионер</td>\n",
       "      <td>0</td>\n",
       "      <td>158616.077870</td>\n",
       "      <td>сыграть свадьбу</td>\n",
       "    </tr>\n",
       "    <tr>\n",
       "      <th>5</th>\n",
       "      <td>0</td>\n",
       "      <td>-926.185831</td>\n",
       "      <td>27</td>\n",
       "      <td>высшее</td>\n",
       "      <td>0</td>\n",
       "      <td>гражданский брак</td>\n",
       "      <td>1</td>\n",
       "      <td>M</td>\n",
       "      <td>компаньон</td>\n",
       "      <td>0</td>\n",
       "      <td>255763.565419</td>\n",
       "      <td>покупка жилья</td>\n",
       "    </tr>\n",
       "    <tr>\n",
       "      <th>6</th>\n",
       "      <td>0</td>\n",
       "      <td>-2879.202052</td>\n",
       "      <td>43</td>\n",
       "      <td>высшее</td>\n",
       "      <td>0</td>\n",
       "      <td>женат / замужем</td>\n",
       "      <td>0</td>\n",
       "      <td>F</td>\n",
       "      <td>компаньон</td>\n",
       "      <td>0</td>\n",
       "      <td>240525.971920</td>\n",
       "      <td>операции с жильем</td>\n",
       "    </tr>\n",
       "    <tr>\n",
       "      <th>7</th>\n",
       "      <td>0</td>\n",
       "      <td>-152.779569</td>\n",
       "      <td>50</td>\n",
       "      <td>СРЕДНЕЕ</td>\n",
       "      <td>1</td>\n",
       "      <td>женат / замужем</td>\n",
       "      <td>0</td>\n",
       "      <td>M</td>\n",
       "      <td>сотрудник</td>\n",
       "      <td>0</td>\n",
       "      <td>135823.934197</td>\n",
       "      <td>образование</td>\n",
       "    </tr>\n",
       "    <tr>\n",
       "      <th>8</th>\n",
       "      <td>2</td>\n",
       "      <td>-6929.865299</td>\n",
       "      <td>35</td>\n",
       "      <td>ВЫСШЕЕ</td>\n",
       "      <td>0</td>\n",
       "      <td>гражданский брак</td>\n",
       "      <td>1</td>\n",
       "      <td>F</td>\n",
       "      <td>сотрудник</td>\n",
       "      <td>0</td>\n",
       "      <td>95856.832424</td>\n",
       "      <td>на проведение свадьбы</td>\n",
       "    </tr>\n",
       "    <tr>\n",
       "      <th>9</th>\n",
       "      <td>0</td>\n",
       "      <td>-2188.756445</td>\n",
       "      <td>41</td>\n",
       "      <td>среднее</td>\n",
       "      <td>1</td>\n",
       "      <td>женат / замужем</td>\n",
       "      <td>0</td>\n",
       "      <td>M</td>\n",
       "      <td>сотрудник</td>\n",
       "      <td>0</td>\n",
       "      <td>144425.938277</td>\n",
       "      <td>покупка жилья для семьи</td>\n",
       "    </tr>\n",
       "    <tr>\n",
       "      <th>10</th>\n",
       "      <td>2</td>\n",
       "      <td>-4171.483647</td>\n",
       "      <td>36</td>\n",
       "      <td>высшее</td>\n",
       "      <td>0</td>\n",
       "      <td>женат / замужем</td>\n",
       "      <td>0</td>\n",
       "      <td>M</td>\n",
       "      <td>компаньон</td>\n",
       "      <td>0</td>\n",
       "      <td>113943.491460</td>\n",
       "      <td>покупка недвижимости</td>\n",
       "    </tr>\n",
       "    <tr>\n",
       "      <th>11</th>\n",
       "      <td>0</td>\n",
       "      <td>-792.701887</td>\n",
       "      <td>40</td>\n",
       "      <td>среднее</td>\n",
       "      <td>1</td>\n",
       "      <td>женат / замужем</td>\n",
       "      <td>0</td>\n",
       "      <td>F</td>\n",
       "      <td>сотрудник</td>\n",
       "      <td>0</td>\n",
       "      <td>77069.234271</td>\n",
       "      <td>покупка коммерческой недвижимости</td>\n",
       "    </tr>\n",
       "    <tr>\n",
       "      <th>12</th>\n",
       "      <td>0</td>\n",
       "      <td>NaN</td>\n",
       "      <td>65</td>\n",
       "      <td>среднее</td>\n",
       "      <td>1</td>\n",
       "      <td>гражданский брак</td>\n",
       "      <td>1</td>\n",
       "      <td>M</td>\n",
       "      <td>пенсионер</td>\n",
       "      <td>0</td>\n",
       "      <td>NaN</td>\n",
       "      <td>сыграть свадьбу</td>\n",
       "    </tr>\n",
       "    <tr>\n",
       "      <th>13</th>\n",
       "      <td>0</td>\n",
       "      <td>-1846.641941</td>\n",
       "      <td>54</td>\n",
       "      <td>неоконченное высшее</td>\n",
       "      <td>2</td>\n",
       "      <td>женат / замужем</td>\n",
       "      <td>0</td>\n",
       "      <td>F</td>\n",
       "      <td>сотрудник</td>\n",
       "      <td>0</td>\n",
       "      <td>130458.228857</td>\n",
       "      <td>приобретение автомобиля</td>\n",
       "    </tr>\n",
       "    <tr>\n",
       "      <th>14</th>\n",
       "      <td>0</td>\n",
       "      <td>-1844.956182</td>\n",
       "      <td>56</td>\n",
       "      <td>высшее</td>\n",
       "      <td>0</td>\n",
       "      <td>гражданский брак</td>\n",
       "      <td>1</td>\n",
       "      <td>F</td>\n",
       "      <td>компаньон</td>\n",
       "      <td>1</td>\n",
       "      <td>165127.911772</td>\n",
       "      <td>покупка жилой недвижимости</td>\n",
       "    </tr>\n",
       "    <tr>\n",
       "      <th>15</th>\n",
       "      <td>1</td>\n",
       "      <td>-972.364419</td>\n",
       "      <td>26</td>\n",
       "      <td>среднее</td>\n",
       "      <td>1</td>\n",
       "      <td>женат / замужем</td>\n",
       "      <td>0</td>\n",
       "      <td>F</td>\n",
       "      <td>сотрудник</td>\n",
       "      <td>0</td>\n",
       "      <td>116820.904450</td>\n",
       "      <td>строительство собственной недвижимости</td>\n",
       "    </tr>\n",
       "    <tr>\n",
       "      <th>16</th>\n",
       "      <td>0</td>\n",
       "      <td>-1719.934226</td>\n",
       "      <td>35</td>\n",
       "      <td>среднее</td>\n",
       "      <td>1</td>\n",
       "      <td>женат / замужем</td>\n",
       "      <td>0</td>\n",
       "      <td>F</td>\n",
       "      <td>сотрудник</td>\n",
       "      <td>0</td>\n",
       "      <td>289202.704229</td>\n",
       "      <td>недвижимость</td>\n",
       "    </tr>\n",
       "    <tr>\n",
       "      <th>17</th>\n",
       "      <td>0</td>\n",
       "      <td>-2369.999720</td>\n",
       "      <td>33</td>\n",
       "      <td>высшее</td>\n",
       "      <td>0</td>\n",
       "      <td>гражданский брак</td>\n",
       "      <td>1</td>\n",
       "      <td>M</td>\n",
       "      <td>сотрудник</td>\n",
       "      <td>0</td>\n",
       "      <td>90410.586745</td>\n",
       "      <td>строительство недвижимости</td>\n",
       "    </tr>\n",
       "    <tr>\n",
       "      <th>18</th>\n",
       "      <td>0</td>\n",
       "      <td>400281.136913</td>\n",
       "      <td>53</td>\n",
       "      <td>среднее</td>\n",
       "      <td>1</td>\n",
       "      <td>вдовец / вдова</td>\n",
       "      <td>2</td>\n",
       "      <td>F</td>\n",
       "      <td>пенсионер</td>\n",
       "      <td>0</td>\n",
       "      <td>56823.777243</td>\n",
       "      <td>на покупку подержанного автомобиля</td>\n",
       "    </tr>\n",
       "    <tr>\n",
       "      <th>19</th>\n",
       "      <td>0</td>\n",
       "      <td>-10038.818549</td>\n",
       "      <td>48</td>\n",
       "      <td>СРЕДНЕЕ</td>\n",
       "      <td>1</td>\n",
       "      <td>в разводе</td>\n",
       "      <td>3</td>\n",
       "      <td>F</td>\n",
       "      <td>сотрудник</td>\n",
       "      <td>0</td>\n",
       "      <td>242831.107982</td>\n",
       "      <td>на покупку своего автомобиля</td>\n",
       "    </tr>\n",
       "  </tbody>\n",
       "</table>\n",
       "</div>"
      ],
      "text/plain": [
       "    children  days_employed  dob_years            education  education_id  \\\n",
       "0          1   -8437.673028         42               высшее             0   \n",
       "1          1   -4024.803754         36              среднее             1   \n",
       "2          0   -5623.422610         33              Среднее             1   \n",
       "3          3   -4124.747207         32              среднее             1   \n",
       "4          0  340266.072047         53              среднее             1   \n",
       "5          0    -926.185831         27               высшее             0   \n",
       "6          0   -2879.202052         43               высшее             0   \n",
       "7          0    -152.779569         50              СРЕДНЕЕ             1   \n",
       "8          2   -6929.865299         35               ВЫСШЕЕ             0   \n",
       "9          0   -2188.756445         41              среднее             1   \n",
       "10         2   -4171.483647         36               высшее             0   \n",
       "11         0    -792.701887         40              среднее             1   \n",
       "12         0            NaN         65              среднее             1   \n",
       "13         0   -1846.641941         54  неоконченное высшее             2   \n",
       "14         0   -1844.956182         56               высшее             0   \n",
       "15         1    -972.364419         26              среднее             1   \n",
       "16         0   -1719.934226         35              среднее             1   \n",
       "17         0   -2369.999720         33               высшее             0   \n",
       "18         0  400281.136913         53              среднее             1   \n",
       "19         0  -10038.818549         48              СРЕДНЕЕ             1   \n",
       "\n",
       "       family_status  family_status_id gender income_type  debt  \\\n",
       "0    женат / замужем                 0      F   сотрудник     0   \n",
       "1    женат / замужем                 0      F   сотрудник     0   \n",
       "2    женат / замужем                 0      M   сотрудник     0   \n",
       "3    женат / замужем                 0      M   сотрудник     0   \n",
       "4   гражданский брак                 1      F   пенсионер     0   \n",
       "5   гражданский брак                 1      M   компаньон     0   \n",
       "6    женат / замужем                 0      F   компаньон     0   \n",
       "7    женат / замужем                 0      M   сотрудник     0   \n",
       "8   гражданский брак                 1      F   сотрудник     0   \n",
       "9    женат / замужем                 0      M   сотрудник     0   \n",
       "10   женат / замужем                 0      M   компаньон     0   \n",
       "11   женат / замужем                 0      F   сотрудник     0   \n",
       "12  гражданский брак                 1      M   пенсионер     0   \n",
       "13   женат / замужем                 0      F   сотрудник     0   \n",
       "14  гражданский брак                 1      F   компаньон     1   \n",
       "15   женат / замужем                 0      F   сотрудник     0   \n",
       "16   женат / замужем                 0      F   сотрудник     0   \n",
       "17  гражданский брак                 1      M   сотрудник     0   \n",
       "18    вдовец / вдова                 2      F   пенсионер     0   \n",
       "19         в разводе                 3      F   сотрудник     0   \n",
       "\n",
       "     total_income                                 purpose  \n",
       "0   253875.639453                           покупка жилья  \n",
       "1   112080.014102                 приобретение автомобиля  \n",
       "2   145885.952297                           покупка жилья  \n",
       "3   267628.550329              дополнительное образование  \n",
       "4   158616.077870                         сыграть свадьбу  \n",
       "5   255763.565419                           покупка жилья  \n",
       "6   240525.971920                       операции с жильем  \n",
       "7   135823.934197                             образование  \n",
       "8    95856.832424                   на проведение свадьбы  \n",
       "9   144425.938277                 покупка жилья для семьи  \n",
       "10  113943.491460                    покупка недвижимости  \n",
       "11   77069.234271       покупка коммерческой недвижимости  \n",
       "12            NaN                         сыграть свадьбу  \n",
       "13  130458.228857                 приобретение автомобиля  \n",
       "14  165127.911772              покупка жилой недвижимости  \n",
       "15  116820.904450  строительство собственной недвижимости  \n",
       "16  289202.704229                            недвижимость  \n",
       "17   90410.586745              строительство недвижимости  \n",
       "18   56823.777243      на покупку подержанного автомобиля  \n",
       "19  242831.107982            на покупку своего автомобиля  "
      ]
     },
     "execution_count": 2,
     "metadata": {},
     "output_type": "execute_result"
    }
   ],
   "source": [
    "data.head(20)"
   ]
  },
  {
   "cell_type": "markdown",
   "id": "8bbe1679",
   "metadata": {
    "deletable": false,
    "editable": false,
    "id": "1c12e233"
   },
   "source": [
    "**Задание 3. Выведите основную информацию о датафрейме с помощью метода `info()`.**"
   ]
  },
  {
   "cell_type": "code",
   "execution_count": 3,
   "id": "848c93d4",
   "metadata": {
    "deletable": false,
    "id": "2b757bca",
    "outputId": "15376089-8dad-46c9-b520-c05248d43158"
   },
   "outputs": [
    {
     "name": "stdout",
     "output_type": "stream",
     "text": [
      "<class 'pandas.core.frame.DataFrame'>\n",
      "RangeIndex: 21525 entries, 0 to 21524\n",
      "Data columns (total 12 columns):\n",
      " #   Column            Non-Null Count  Dtype  \n",
      "---  ------            --------------  -----  \n",
      " 0   children          21525 non-null  int64  \n",
      " 1   days_employed     19351 non-null  float64\n",
      " 2   dob_years         21525 non-null  int64  \n",
      " 3   education         21525 non-null  object \n",
      " 4   education_id      21525 non-null  int64  \n",
      " 5   family_status     21525 non-null  object \n",
      " 6   family_status_id  21525 non-null  int64  \n",
      " 7   gender            21525 non-null  object \n",
      " 8   income_type       21525 non-null  object \n",
      " 9   debt              21525 non-null  int64  \n",
      " 10  total_income      19351 non-null  float64\n",
      " 11  purpose           21525 non-null  object \n",
      "dtypes: float64(2), int64(5), object(5)\n",
      "memory usage: 2.0+ MB\n"
     ]
    }
   ],
   "source": [
    "data.info()"
   ]
  },
  {
   "cell_type": "markdown",
   "id": "c067fdf5",
   "metadata": {
    "deletable": false,
    "editable": false,
    "id": "333ec665"
   },
   "source": [
    "## Предобработка данных"
   ]
  },
  {
   "cell_type": "markdown",
   "id": "02f084c3",
   "metadata": {
    "deletable": false,
    "editable": false,
    "id": "02d92d53"
   },
   "source": [
    "### Удаление пропусков"
   ]
  },
  {
   "cell_type": "markdown",
   "id": "b66923b4",
   "metadata": {
    "deletable": false,
    "editable": false,
    "id": "cd84967c"
   },
   "source": [
    "**Задание 4. Выведите количество пропущенных значений для каждого столбца. Используйте комбинацию двух методов.**"
   ]
  },
  {
   "cell_type": "code",
   "execution_count": 4,
   "id": "60964e2a",
   "metadata": {
    "deletable": false,
    "id": "7f9b2309",
    "outputId": "81f4d817-781c-465c-ed15-91ce4446810d"
   },
   "outputs": [
    {
     "data": {
      "text/plain": [
       "children               0\n",
       "days_employed       2174\n",
       "dob_years              0\n",
       "education              0\n",
       "education_id           0\n",
       "family_status          0\n",
       "family_status_id       0\n",
       "gender                 0\n",
       "income_type            0\n",
       "debt                   0\n",
       "total_income        2174\n",
       "purpose                0\n",
       "dtype: int64"
      ]
     },
     "execution_count": 4,
     "metadata": {},
     "output_type": "execute_result"
    }
   ],
   "source": [
    "data.isna().sum()"
   ]
  },
  {
   "cell_type": "markdown",
   "id": "02cb367a",
   "metadata": {
    "deletable": false,
    "editable": false,
    "id": "db86e27b"
   },
   "source": [
    "**Задание 5. В двух столбцах есть пропущенные значения. Один из них — `days_employed`. Пропуски в этом столбце вы обработаете на следующем этапе. Другой столбец с пропущенными значениями — `total_income` — хранит данные о доходах. На сумму дохода сильнее всего влияет тип занятости, поэтому заполнить пропуски в этом столбце нужно медианным значением по каждому типу из столбца `income_type`. Например, у человека с типом занятости `сотрудник` пропуск в столбце `total_income` должен быть заполнен медианным доходом среди всех записей с тем же типом.**"
   ]
  },
  {
   "cell_type": "code",
   "execution_count": 5,
   "id": "5c616d5a",
   "metadata": {
    "deletable": false,
    "id": "42006a93"
   },
   "outputs": [],
   "source": [
    "for t in data['income_type'].unique():\n",
    "    data.loc[(data['income_type'] == t) & (data['total_income'].isna()), 'total_income'] = \\\n",
    "    data.loc[(data['income_type'] == t), 'total_income'].median()"
   ]
  },
  {
   "cell_type": "markdown",
   "id": "0eda51d8",
   "metadata": {
    "deletable": false,
    "editable": false,
    "id": "89da5ece"
   },
   "source": [
    "### Обработка аномальных значений"
   ]
  },
  {
   "cell_type": "markdown",
   "id": "70e99bea",
   "metadata": {
    "deletable": false,
    "editable": false,
    "id": "57964554"
   },
   "source": [
    "**Задание 6. В данных могут встречаться артефакты (аномалии) — значения, которые не отражают действительность и появились по какой-то ошибке. таким артефактом будет отрицательное количество дней трудового стажа в столбце `days_employed`. Для реальных данных это нормально. Обработайте значения в этом столбце: замените все отрицательные значения положительными с помощью метода `abs()`.**"
   ]
  },
  {
   "cell_type": "code",
   "execution_count": 6,
   "id": "86978c0c",
   "metadata": {
    "deletable": false,
    "id": "f6f055bf"
   },
   "outputs": [],
   "source": [
    "data['days_employed'] = data['days_employed'].abs()"
   ]
  },
  {
   "cell_type": "markdown",
   "id": "d8c11f77",
   "metadata": {
    "deletable": false,
    "editable": false,
    "id": "6107dd2f"
   },
   "source": [
    "**Задание 7. Для каждого типа занятости выведите медианное значение трудового стажа `days_employed` в днях.**"
   ]
  },
  {
   "cell_type": "code",
   "execution_count": 7,
   "id": "d7deee0b",
   "metadata": {
    "deletable": false,
    "id": "85a5faf6",
    "outputId": "801ef80e-522b-4668-f34e-565af7432bcf"
   },
   "outputs": [
    {
     "data": {
      "text/plain": [
       "income_type\n",
       "безработный        366413.652744\n",
       "в декрете            3296.759962\n",
       "госслужащий          2689.368353\n",
       "компаньон            1547.382223\n",
       "пенсионер          365213.306266\n",
       "предприниматель       520.848083\n",
       "сотрудник            1574.202821\n",
       "студент               578.751554\n",
       "Name: days_employed, dtype: float64"
      ]
     },
     "execution_count": 7,
     "metadata": {},
     "output_type": "execute_result"
    }
   ],
   "source": [
    "data.groupby('income_type')['days_employed'].agg('median')"
   ]
  },
  {
   "cell_type": "markdown",
   "id": "6604f950",
   "metadata": {
    "deletable": false,
    "editable": false,
    "id": "38d1a030"
   },
   "source": [
    "У двух типов (безработные и пенсионеры) получатся аномально большие значения. Исправить такие значения сложно, поэтому оставьте их как есть. Тем более этот столбец не понадобится вам для исследования."
   ]
  },
  {
   "cell_type": "markdown",
   "id": "7063e536",
   "metadata": {
    "deletable": false,
    "editable": false,
    "id": "d8a9f147"
   },
   "source": [
    "**Задание 8. Выведите перечень уникальных значений столбца `children`.**"
   ]
  },
  {
   "cell_type": "code",
   "execution_count": 8,
   "id": "f374efa7",
   "metadata": {
    "deletable": false,
    "id": "ef5056eb",
    "outputId": "6975b15c-7f95-4697-d16d-a0c79b657b03"
   },
   "outputs": [
    {
     "data": {
      "text/plain": [
       "array([ 1,  0,  3,  2, -1,  4, 20,  5])"
      ]
     },
     "execution_count": 8,
     "metadata": {},
     "output_type": "execute_result"
    }
   ],
   "source": [
    "data['children'].unique()"
   ]
  },
  {
   "cell_type": "markdown",
   "id": "7b964da3",
   "metadata": {
    "deletable": false,
    "editable": false,
    "id": "40b9ebf2"
   },
   "source": [
    "**Задание 9. В столбце `children` есть два аномальных значения. Удалите строки, в которых встречаются такие аномальные значения из датафрейма `data`.**"
   ]
  },
  {
   "cell_type": "code",
   "execution_count": 9,
   "id": "e152e2e1",
   "metadata": {
    "deletable": false,
    "id": "3ff9801d"
   },
   "outputs": [],
   "source": [
    "data = data[(data['children'] != -1) & (data['children'] != 20)]"
   ]
  },
  {
   "cell_type": "markdown",
   "id": "2196b226",
   "metadata": {
    "deletable": false,
    "editable": false,
    "id": "bbc4d0ce"
   },
   "source": [
    "**Задание 10. Ещё раз выведите перечень уникальных значений столбца `children`, чтобы убедиться, что артефакты удалены.**"
   ]
  },
  {
   "cell_type": "code",
   "execution_count": 10,
   "id": "85439ec2",
   "metadata": {
    "deletable": false,
    "id": "ad4fa8b7",
    "outputId": "b2097101-d49d-44d9-901b-32a65c9463d1"
   },
   "outputs": [
    {
     "data": {
      "text/plain": [
       "array([1, 0, 3, 2, 4, 5])"
      ]
     },
     "execution_count": 10,
     "metadata": {},
     "output_type": "execute_result"
    }
   ],
   "source": [
    "data['children'].unique()"
   ]
  },
  {
   "cell_type": "markdown",
   "id": "fcc882f2",
   "metadata": {
    "deletable": false,
    "editable": false,
    "id": "75440b63"
   },
   "source": [
    "### Удаление пропусков (продолжение)"
   ]
  },
  {
   "cell_type": "markdown",
   "id": "15f9d3a6",
   "metadata": {
    "deletable": false,
    "editable": false,
    "id": "f4ea573f"
   },
   "source": [
    "**Задание 11. Заполните пропуски в столбце `days_employed` медианными значениями по каждого типа занятости `income_type`.**"
   ]
  },
  {
   "cell_type": "code",
   "execution_count": 11,
   "id": "3b446dd1",
   "metadata": {
    "deletable": false,
    "id": "af6b1a7e"
   },
   "outputs": [],
   "source": [
    "for t in data['income_type'].unique():\n",
    "    data.loc[(data['income_type'] == t) & (data['days_employed'].isna()), 'days_employed'] = \\\n",
    "    data.loc[(data['income_type'] == t), 'days_employed'].median()"
   ]
  },
  {
   "cell_type": "markdown",
   "id": "4c7a61e2",
   "metadata": {
    "deletable": false,
    "editable": false,
    "id": "2753f40d"
   },
   "source": [
    "**Задание 12. Убедитесь, что все пропуски заполнены. Проверьте себя и ещё раз выведите количество пропущенных значений для каждого столбца с помощью двух методов.**"
   ]
  },
  {
   "cell_type": "code",
   "execution_count": 12,
   "id": "3047d8be",
   "metadata": {
    "deletable": false,
    "id": "55f78bc2",
    "outputId": "8da1e4e1-358e-4e87-98c9-f261bce0a7b2"
   },
   "outputs": [
    {
     "data": {
      "text/plain": [
       "children            0\n",
       "days_employed       0\n",
       "dob_years           0\n",
       "education           0\n",
       "education_id        0\n",
       "family_status       0\n",
       "family_status_id    0\n",
       "gender              0\n",
       "income_type         0\n",
       "debt                0\n",
       "total_income        0\n",
       "purpose             0\n",
       "dtype: int64"
      ]
     },
     "execution_count": 12,
     "metadata": {},
     "output_type": "execute_result"
    }
   ],
   "source": [
    "data.isna().sum()"
   ]
  },
  {
   "cell_type": "markdown",
   "id": "90086cc0",
   "metadata": {
    "deletable": false,
    "editable": false,
    "id": "ddc81e43"
   },
   "source": [
    "### Изменение типов данных"
   ]
  },
  {
   "cell_type": "markdown",
   "id": "9f947f5b",
   "metadata": {
    "deletable": false,
    "editable": false,
    "id": "42d19d24"
   },
   "source": [
    "**Задание 13. Замените вещественный тип данных в столбце `total_income` на целочисленный с помощью метода `astype()`.**"
   ]
  },
  {
   "cell_type": "code",
   "execution_count": 13,
   "id": "3df12fa3",
   "metadata": {
    "deletable": false,
    "id": "920b65ad"
   },
   "outputs": [],
   "source": [
    "data['total_income'] = data['total_income'].astype(int)"
   ]
  },
  {
   "cell_type": "markdown",
   "id": "87cf7ddd",
   "metadata": {
    "deletable": false,
    "editable": false,
    "id": "80c420ba"
   },
   "source": [
    "### Обработка дубликатов"
   ]
  },
  {
   "cell_type": "markdown",
   "id": "43938cba",
   "metadata": {
    "deletable": false,
    "editable": false
   },
   "source": [
    "**Задание 14. Обработайте неявные дубликаты в столбце `education`. В этом столбце есть одни и те же значения, но записанные по-разному: с использованием заглавных и строчных букв. Приведите их к нижнему регистру. Проверьте остальные столбцы.**"
   ]
  },
  {
   "cell_type": "code",
   "execution_count": 14,
   "id": "2fc031f2",
   "metadata": {
    "deletable": false
   },
   "outputs": [],
   "source": [
    "data['education'] = data['education'].str.lower()"
   ]
  },
  {
   "cell_type": "markdown",
   "id": "3ef81c4c",
   "metadata": {
    "deletable": false,
    "editable": false,
    "id": "dc587695"
   },
   "source": [
    "**Задание 15. Выведите на экран количество строк-дубликатов в данных. Если такие строки присутствуют, удалите их.**"
   ]
  },
  {
   "cell_type": "code",
   "execution_count": 15,
   "id": "c6bfac38",
   "metadata": {
    "deletable": false,
    "id": "3ee445e4",
    "outputId": "9684deba-1934-42d1-99e1-cda61740f822"
   },
   "outputs": [
    {
     "data": {
      "text/plain": [
       "71"
      ]
     },
     "execution_count": 15,
     "metadata": {},
     "output_type": "execute_result"
    }
   ],
   "source": [
    "data.duplicated().sum()"
   ]
  },
  {
   "cell_type": "code",
   "execution_count": 16,
   "id": "82aeb1af",
   "metadata": {
    "deletable": false,
    "id": "8575fe05"
   },
   "outputs": [],
   "source": [
    "data = data.drop_duplicates()"
   ]
  },
  {
   "cell_type": "markdown",
   "id": "85598dc3",
   "metadata": {
    "deletable": false,
    "editable": false,
    "id": "9904cf55"
   },
   "source": [
    "### Категоризация данных"
   ]
  },
  {
   "cell_type": "markdown",
   "id": "3757c185",
   "metadata": {
    "deletable": false,
    "editable": false,
    "id": "72fcc8a2"
   },
   "source": [
    "**Задание 16. На основании диапазонов, указанных ниже, создайте в датафрейме `data` столбец `total_income_category` с категориями:**\n",
    "\n",
    "- 0–30000 — `'E'`;\n",
    "- 30001–50000 — `'D'`;\n",
    "- 50001–200000 — `'C'`;\n",
    "- 200001–1000000 — `'B'`;\n",
    "- 1000001 и выше — `'A'`.\n",
    "\n",
    "\n",
    "**Например, кредитополучателю с доходом 25000 нужно назначить категорию `'E'`, а клиенту, получающему 235000, — `'B'`. Используйте собственную функцию с именем `categorize_income()` и метод `apply()`.**"
   ]
  },
  {
   "cell_type": "code",
   "execution_count": 17,
   "id": "6d94371f",
   "metadata": {
    "deletable": false,
    "id": "e1771346"
   },
   "outputs": [],
   "source": [
    "def categorize_income(income):\n",
    "    try:\n",
    "        if 0 <= income <= 30000:\n",
    "            return 'E'\n",
    "        elif 30001 <= income <= 50000:\n",
    "            return 'D'\n",
    "        elif 50001 <= income <= 200000:\n",
    "            return 'C'\n",
    "        elif 200001 <= income <= 1000000:\n",
    "            return 'B'\n",
    "        elif income >= 1000001:\n",
    "            return 'A'\n",
    "    except:\n",
    "        pass"
   ]
  },
  {
   "cell_type": "code",
   "execution_count": 18,
   "id": "940d9d4d",
   "metadata": {
    "deletable": false,
    "id": "d5f3586d"
   },
   "outputs": [],
   "source": [
    "data['total_income_category'] = data['total_income'].apply(categorize_income)"
   ]
  },
  {
   "cell_type": "markdown",
   "id": "16b8c9fb",
   "metadata": {
    "deletable": false,
    "editable": false,
    "id": "dde49b5c"
   },
   "source": [
    "**Задание 17. Выведите на экран перечень уникальных целей взятия кредита из столбца `purpose`.**"
   ]
  },
  {
   "cell_type": "code",
   "execution_count": 19,
   "id": "1c4c353a",
   "metadata": {
    "deletable": false,
    "id": "f67ce9b3",
    "outputId": "673c12d9-7d7e-4ae0-9812-c622c89dd244"
   },
   "outputs": [
    {
     "data": {
      "text/plain": [
       "array(['покупка жилья', 'приобретение автомобиля',\n",
       "       'дополнительное образование', 'сыграть свадьбу',\n",
       "       'операции с жильем', 'образование', 'на проведение свадьбы',\n",
       "       'покупка жилья для семьи', 'покупка недвижимости',\n",
       "       'покупка коммерческой недвижимости', 'покупка жилой недвижимости',\n",
       "       'строительство собственной недвижимости', 'недвижимость',\n",
       "       'строительство недвижимости', 'на покупку подержанного автомобиля',\n",
       "       'на покупку своего автомобиля',\n",
       "       'операции с коммерческой недвижимостью',\n",
       "       'строительство жилой недвижимости', 'жилье',\n",
       "       'операции со своей недвижимостью', 'автомобили',\n",
       "       'заняться образованием', 'сделка с подержанным автомобилем',\n",
       "       'получение образования', 'автомобиль', 'свадьба',\n",
       "       'получение дополнительного образования', 'покупка своего жилья',\n",
       "       'операции с недвижимостью', 'получение высшего образования',\n",
       "       'свой автомобиль', 'сделка с автомобилем',\n",
       "       'профильное образование', 'высшее образование',\n",
       "       'покупка жилья для сдачи', 'на покупку автомобиля', 'ремонт жилью',\n",
       "       'заняться высшим образованием'], dtype=object)"
      ]
     },
     "execution_count": 19,
     "metadata": {},
     "output_type": "execute_result"
    }
   ],
   "source": [
    "data['purpose'].unique()"
   ]
  },
  {
   "cell_type": "markdown",
   "id": "1848ebb8",
   "metadata": {
    "deletable": false,
    "editable": false,
    "id": "85d0aef0"
   },
   "source": [
    "**Задание 18. Создайте функцию, которая на основании данных из столбца `purpose` сформирует новый столбец `purpose_category`, в который войдут следующие категории:**\n",
    "\n",
    "- `'операции с автомобилем'`,\n",
    "- `'операции с недвижимостью'`,\n",
    "- `'проведение свадьбы'`,\n",
    "- `'получение образования'`.\n",
    "\n",
    "**Например, если в столбце `purpose` находится подстрока `'на покупку автомобиля'`, то в столбце `purpose_category` должна появиться строка `'операции с автомобилем'`.**\n",
    "\n",
    "**Используйте собственную функцию с именем `categorize_purpose()` и метод `apply()`. Изучите данные в столбце `purpose` и определите, какие подстроки помогут вам правильно определить категорию.**"
   ]
  },
  {
   "cell_type": "code",
   "execution_count": 20,
   "id": "461e62a5",
   "metadata": {
    "deletable": false,
    "id": "e149fab4"
   },
   "outputs": [],
   "source": [
    "def categorize_purpose(row):\n",
    "    try:\n",
    "        if 'автом' in row:\n",
    "            return 'операции с автомобилем'\n",
    "        elif 'жил' in row or 'недвиж' in row:\n",
    "            return 'операции с недвижимостью'\n",
    "        elif 'свад' in row:\n",
    "            return 'проведение свадьбы'\n",
    "        elif 'образов' in row:\n",
    "            return 'получение образования'\n",
    "    except:\n",
    "        return 'нет категории'"
   ]
  },
  {
   "cell_type": "code",
   "execution_count": 21,
   "id": "d07b4702",
   "metadata": {
    "deletable": false,
    "id": "bf36e69b"
   },
   "outputs": [],
   "source": [
    "data['purpose_category'] = data['purpose'].apply(categorize_purpose)"
   ]
  },
  {
   "cell_type": "markdown",
   "id": "296c8852",
   "metadata": {
    "deletable": false,
    "editable": false,
    "id": "09b242bf"
   },
   "source": [
    "### Шаг 3. Исследуйте данные и ответьте на вопросы"
   ]
  },
  {
   "cell_type": "markdown",
   "id": "387f438d",
   "metadata": {
    "deletable": false,
    "editable": false,
    "id": "c5d66278"
   },
   "source": [
    "#### 3.1 Есть ли зависимость между количеством детей и возвратом кредита в срок?"
   ]
  },
  {
   "cell_type": "code",
   "execution_count": 31,
   "id": "22faa56b",
   "metadata": {
    "deletable": false,
    "id": "2cacfc4a"
   },
   "outputs": [
    {
     "data": {
      "text/html": [
       "<div>\n",
       "<style scoped>\n",
       "    .dataframe tbody tr th:only-of-type {\n",
       "        vertical-align: middle;\n",
       "    }\n",
       "\n",
       "    .dataframe tbody tr th {\n",
       "        vertical-align: top;\n",
       "    }\n",
       "\n",
       "    .dataframe thead th {\n",
       "        text-align: right;\n",
       "    }\n",
       "</style>\n",
       "<table border=\"1\" class=\"dataframe\">\n",
       "  <thead>\n",
       "    <tr style=\"text-align: right;\">\n",
       "      <th></th>\n",
       "      <th>children</th>\n",
       "      <th>amount of people in this category</th>\n",
       "      <th>percentage of debtors</th>\n",
       "      <th>debtors</th>\n",
       "    </tr>\n",
       "  </thead>\n",
       "  <tbody>\n",
       "    <tr>\n",
       "      <th>0</th>\n",
       "      <td>0</td>\n",
       "      <td>14091.0</td>\n",
       "      <td>7.543822</td>\n",
       "      <td>1063.0</td>\n",
       "    </tr>\n",
       "    <tr>\n",
       "      <th>1</th>\n",
       "      <td>1</td>\n",
       "      <td>4808.0</td>\n",
       "      <td>9.234609</td>\n",
       "      <td>444.0</td>\n",
       "    </tr>\n",
       "    <tr>\n",
       "      <th>2</th>\n",
       "      <td>2</td>\n",
       "      <td>2052.0</td>\n",
       "      <td>9.454191</td>\n",
       "      <td>194.0</td>\n",
       "    </tr>\n",
       "    <tr>\n",
       "      <th>3</th>\n",
       "      <td>3</td>\n",
       "      <td>330.0</td>\n",
       "      <td>8.181818</td>\n",
       "      <td>27.0</td>\n",
       "    </tr>\n",
       "    <tr>\n",
       "      <th>4</th>\n",
       "      <td>4</td>\n",
       "      <td>41.0</td>\n",
       "      <td>9.756098</td>\n",
       "      <td>4.0</td>\n",
       "    </tr>\n",
       "    <tr>\n",
       "      <th>5</th>\n",
       "      <td>5</td>\n",
       "      <td>9.0</td>\n",
       "      <td>0.000000</td>\n",
       "      <td>0.0</td>\n",
       "    </tr>\n",
       "  </tbody>\n",
       "</table>\n",
       "</div>"
      ],
      "text/plain": [
       "   children  amount of people in this category  percentage of debtors  debtors\n",
       "0         0                            14091.0               7.543822   1063.0\n",
       "1         1                             4808.0               9.234609    444.0\n",
       "2         2                             2052.0               9.454191    194.0\n",
       "3         3                              330.0               8.181818     27.0\n",
       "4         4                               41.0               9.756098      4.0\n",
       "5         5                                9.0               0.000000      0.0"
      ]
     },
     "execution_count": 31,
     "metadata": {},
     "output_type": "execute_result"
    }
   ],
   "source": [
    "# Ваш код будет здесь. Вы можете создавать новые ячейки.\n",
    "#mydata1 = data.loc[data['debt'] == 1]['children']\n",
    "#mydata1 = mydata1.value_counts(sort = False).reset_index(name = 'debtors')\n",
    "#mydata1 = mydata1.rename(columns = {'index':'children'})\n",
    "#mydata2 = data.loc[data['debt'] == 0]['children']\n",
    "#mydata2 = mydata2.value_counts(sort = False).reset_index(name = 'non-debtors')\n",
    "#mydata2 = mydata2.rename(columns = {'index':'children'})\n",
    "#ratio = pd.DataFrame(columns={'children', 'ratio'})\n",
    "#ratio['children'] = mydata1['children']\n",
    "#ratio['ratio'] = mydata1['debtors'] / mydata2['non-debtors']\n",
    "#print('Amount of debtors with corresponding amount of children\\n', mydata1, '\\n')\n",
    "#print('Amount of people without a debt with corresponding amount of children\\n',mydata2, '\\n')\n",
    "#print('Ratio of the number of debtors to the number of people without a debt')\n",
    "#print(ratio)\n",
    "table = pd.pivot_table(data, index=['children'], values=['debt'], aggfunc={'sum','count','mean'})\n",
    "table.loc[:,'debt']['mean']*=100\n",
    "table = table.reset_index(drop=False,col_fill='children').droplevel(0, axis=1)\n",
    "table = table.rename(columns={'count':'amount of people in this category', 'mean':'percentage of debtors', 'sum':'debtors'})\n",
    "table\n",
    "    \n",
    "    "
   ]
  },
  {
   "cell_type": "markdown",
   "id": "36dd6f65",
   "metadata": {},
   "source": [
    "<div class=\"alert alert-block alert-warning\">\n",
    "<b>Комментарий ревьюер:</b> \n",
    "\n",
    "⚠️ Здесь, молодец, логика правильная, но давай все данные объединим в одну таблицу. Что здесь нужно сделать (это касается изучение всех взаимосвязей):\n",
    "1) Сделать одну таблицу, используй для этого `pivot_table`, индекс это будут дети, значение должники, а функции будут `sum (количество должников), count (количество кредиторов), mean (доля должников)`.<br>\n",
    "2) Столбец `mean` можно умножить на 100<br>\n",
    "3) Для красоты лучше избавляться от мультииндексов, после сброса `reset_index()` поставь `droplevel(1, axis=1)`, названия столбцов сразу же станут красивыми;<br>\n",
    "P.S. С помощью `Print()`  не нужно выводить таблицу, просто название прописываешь и все выведется<br>"
   ]
  },
  {
   "cell_type": "markdown",
   "id": "69aa63ed",
   "metadata": {},
   "source": [
    "<div class=\"alert alert-block alert-success\">\n",
    "<b>Комментарий ревьюера_V2:</b>\n",
    "\n",
    "✔️  Здесь все отлично стало)) Все замечания исправил)) \n",
    "\n",
    "  </div>"
   ]
  },
  {
   "cell_type": "markdown",
   "id": "33eba84b",
   "metadata": {
    "deletable": false,
    "id": "3a6b99ec"
   },
   "source": [
    "**Вывод:** \n",
    "Люди без детей лучше всего отдают кредит, доля должников здесь составляет 7,5%. Несколько хуже все у группы с 1-м и 2-мя детьми: доля невозврата составляет соответственно 9,2% и 9,4%. Остальные категории уже некорректно сравнивать, так как в них очень маленькая выборка."
   ]
  },
  {
   "cell_type": "markdown",
   "id": "08bb1d75",
   "metadata": {},
   "source": [
    "<div class=\"alert alert-block alert-warning\">\n",
    "<b>Комментарий ревьюер:</b> \n",
    "\n",
    "⚠️ Не бойся использовать в выводах цифры, также нужно сделать акцент на сбалансированности выборок. Примерно выводы будут выглядеть так: \n",
    "`люди, которые не имеют детей, лучше всего отдают кредит, доля должников здесь составляет с 7,5%, хуже обстоит дело с должниками, кто имеет одного или двух детей, здесь доля невозврата составляет соответственно 9,2% и 9,4%. Остальные категории уже некорректно сравнивать, так как в них очень маленькая выборка`)) <br>"
   ]
  },
  {
   "cell_type": "markdown",
   "id": "6b274db0",
   "metadata": {},
   "source": [
    "<div class=\"alert alert-block alert-success\">\n",
    "<b>Комментарий ревьюера_V2:</b>\n",
    "\n",
    "✔️  Выводы переработал, молодец)) \n",
    "\n",
    "  </div>"
   ]
  },
  {
   "cell_type": "markdown",
   "id": "022422cd",
   "metadata": {
    "deletable": false,
    "editable": false,
    "id": "97be82ca"
   },
   "source": [
    "#### 3.2 Есть ли зависимость между семейным положением и возвратом кредита в срок?"
   ]
  },
  {
   "cell_type": "code",
   "execution_count": 32,
   "id": "88b9af51",
   "metadata": {
    "deletable": false,
    "id": "dc3f7ee8"
   },
   "outputs": [
    {
     "data": {
      "text/html": [
       "<div>\n",
       "<style scoped>\n",
       "    .dataframe tbody tr th:only-of-type {\n",
       "        vertical-align: middle;\n",
       "    }\n",
       "\n",
       "    .dataframe tbody tr th {\n",
       "        vertical-align: top;\n",
       "    }\n",
       "\n",
       "    .dataframe thead th {\n",
       "        text-align: right;\n",
       "    }\n",
       "</style>\n",
       "<table border=\"1\" class=\"dataframe\">\n",
       "  <thead>\n",
       "    <tr style=\"text-align: right;\">\n",
       "      <th></th>\n",
       "      <th>family_status</th>\n",
       "      <th>amount of people in this category</th>\n",
       "      <th>percentage of debtors</th>\n",
       "      <th>debtors</th>\n",
       "    </tr>\n",
       "  </thead>\n",
       "  <tbody>\n",
       "    <tr>\n",
       "      <th>0</th>\n",
       "      <td>Не женат / не замужем</td>\n",
       "      <td>2796.0</td>\n",
       "      <td>9.763948</td>\n",
       "      <td>273.0</td>\n",
       "    </tr>\n",
       "    <tr>\n",
       "      <th>1</th>\n",
       "      <td>в разводе</td>\n",
       "      <td>1189.0</td>\n",
       "      <td>7.064760</td>\n",
       "      <td>84.0</td>\n",
       "    </tr>\n",
       "    <tr>\n",
       "      <th>2</th>\n",
       "      <td>вдовец / вдова</td>\n",
       "      <td>951.0</td>\n",
       "      <td>6.624606</td>\n",
       "      <td>63.0</td>\n",
       "    </tr>\n",
       "    <tr>\n",
       "      <th>3</th>\n",
       "      <td>гражданский брак</td>\n",
       "      <td>4134.0</td>\n",
       "      <td>9.313014</td>\n",
       "      <td>385.0</td>\n",
       "    </tr>\n",
       "    <tr>\n",
       "      <th>4</th>\n",
       "      <td>женат / замужем</td>\n",
       "      <td>12261.0</td>\n",
       "      <td>7.560558</td>\n",
       "      <td>927.0</td>\n",
       "    </tr>\n",
       "  </tbody>\n",
       "</table>\n",
       "</div>"
      ],
      "text/plain": [
       "           family_status  amount of people in this category  \\\n",
       "0  Не женат / не замужем                             2796.0   \n",
       "1              в разводе                             1189.0   \n",
       "2         вдовец / вдова                              951.0   \n",
       "3       гражданский брак                             4134.0   \n",
       "4        женат / замужем                            12261.0   \n",
       "\n",
       "   percentage of debtors  debtors  \n",
       "0               9.763948    273.0  \n",
       "1               7.064760     84.0  \n",
       "2               6.624606     63.0  \n",
       "3               9.313014    385.0  \n",
       "4               7.560558    927.0  "
      ]
     },
     "execution_count": 32,
     "metadata": {},
     "output_type": "execute_result"
    }
   ],
   "source": [
    "# Ваш код будет здесь. Вы можете создавать новые ячейки.\n",
    "#mydata1 = data.loc[data['debt'] == 1]['family_status']\n",
    "#mydata1 = mydata1.value_counts().reset_index(name = 'debtors')\n",
    "#mydata1 = mydata1.rename(columns = {'index':'family_status'})\n",
    "#mydata2 = data.loc[data['debt'] == 0]['family_status']\n",
    "#mydata2 = mydata2.value_counts().reset_index(name = 'non-debtors')\n",
    "#mydata2 = mydata2.rename(columns = {'index':'family_status'})\n",
    "#ratio = pd.DataFrame(columns={'family_status', 'ratio'})\n",
    "#ratio['family_status'] = mydata1['family_status']\n",
    "#ratio['ratio'] = mydata1['debtors'] / mydata2['non-debtors']\n",
    "#print('Amount of debtors with corresponding family status\\n', mydata1, '\\n')\n",
    "#print('Amount of people without a debt with corresponding family status\\n',mydata2, '\\n')\n",
    "#print('Ratio of the number of debtors to the number of people without a debt')\n",
    "#print(ratio)\n",
    "table = pd.pivot_table(data, index=['family_status'], values=['debt'], aggfunc={'sum','count','mean'})\n",
    "table.loc[:,'debt']['mean']*=100\n",
    "table = table.reset_index(drop=False,col_fill='family_status').droplevel(0, axis=1)\n",
    "table = table.rename(columns={'count':'amount of people in this category', 'mean':'percentage of debtors', 'sum':'debtors'})\n",
    "table\n",
    "    \n"
   ]
  },
  {
   "cell_type": "markdown",
   "id": "f2a8e86f",
   "metadata": {
    "deletable": false,
    "id": "1cef7837"
   },
   "source": [
    "**Вывод:** Доля должников среди женатых/замужних людей составляет 7,56%. Хуже все с людьми в гражданском браке - там этот показатель составляет целых 9,31%. Еще хуже все у не женатых/не замужних - 9,76%. У остальных категорий выборка слишком мала относительно категории \"женат/замужем\", так что сравнивать доли будет некорректно."
   ]
  },
  {
   "cell_type": "markdown",
   "id": "12f916ba",
   "metadata": {},
   "source": [
    "<div class=\"alert alert-block alert-warning\">\n",
    "<b>Комментарий ревьюер:</b> \n",
    "\n",
    "⚠️ В выводах давай будет использовать цифры, также  удели здесь внимание тоже сбалансированности выборок))"
   ]
  },
  {
   "cell_type": "markdown",
   "id": "5406ee39",
   "metadata": {},
   "source": [
    "<div class=\"alert alert-block alert-success\">\n",
    "<b>Комментарий ревьюера_V2:</b>\n",
    "\n",
    "✔️  Здесь тоже все отлично по выводам))\n",
    "\n",
    "  </div>"
   ]
  },
  {
   "cell_type": "markdown",
   "id": "06b61ce6",
   "metadata": {
    "deletable": false,
    "editable": false,
    "id": "1e8b2fca"
   },
   "source": [
    "#### 3.3 Есть ли зависимость между уровнем дохода и возвратом кредита в срок?"
   ]
  },
  {
   "cell_type": "code",
   "execution_count": 35,
   "id": "71e0cee4",
   "metadata": {
    "deletable": false,
    "id": "cd7e3720"
   },
   "outputs": [
    {
     "data": {
      "text/html": [
       "<div>\n",
       "<style scoped>\n",
       "    .dataframe tbody tr th:only-of-type {\n",
       "        vertical-align: middle;\n",
       "    }\n",
       "\n",
       "    .dataframe tbody tr th {\n",
       "        vertical-align: top;\n",
       "    }\n",
       "\n",
       "    .dataframe thead th {\n",
       "        text-align: right;\n",
       "    }\n",
       "</style>\n",
       "<table border=\"1\" class=\"dataframe\">\n",
       "  <thead>\n",
       "    <tr style=\"text-align: right;\">\n",
       "      <th></th>\n",
       "      <th>total_income_category</th>\n",
       "      <th>amount of people in this category</th>\n",
       "      <th>percentage of debtors</th>\n",
       "      <th>debtors</th>\n",
       "    </tr>\n",
       "  </thead>\n",
       "  <tbody>\n",
       "    <tr>\n",
       "      <th>0</th>\n",
       "      <td>A</td>\n",
       "      <td>25.0</td>\n",
       "      <td>8.000000</td>\n",
       "      <td>2.0</td>\n",
       "    </tr>\n",
       "    <tr>\n",
       "      <th>1</th>\n",
       "      <td>B</td>\n",
       "      <td>5014.0</td>\n",
       "      <td>7.060231</td>\n",
       "      <td>354.0</td>\n",
       "    </tr>\n",
       "    <tr>\n",
       "      <th>2</th>\n",
       "      <td>C</td>\n",
       "      <td>15921.0</td>\n",
       "      <td>8.498210</td>\n",
       "      <td>1353.0</td>\n",
       "    </tr>\n",
       "    <tr>\n",
       "      <th>3</th>\n",
       "      <td>D</td>\n",
       "      <td>349.0</td>\n",
       "      <td>6.017192</td>\n",
       "      <td>21.0</td>\n",
       "    </tr>\n",
       "    <tr>\n",
       "      <th>4</th>\n",
       "      <td>E</td>\n",
       "      <td>22.0</td>\n",
       "      <td>9.090909</td>\n",
       "      <td>2.0</td>\n",
       "    </tr>\n",
       "  </tbody>\n",
       "</table>\n",
       "</div>"
      ],
      "text/plain": [
       "  total_income_category  amount of people in this category  \\\n",
       "0                     A                               25.0   \n",
       "1                     B                             5014.0   \n",
       "2                     C                            15921.0   \n",
       "3                     D                              349.0   \n",
       "4                     E                               22.0   \n",
       "\n",
       "   percentage of debtors  debtors  \n",
       "0               8.000000      2.0  \n",
       "1               7.060231    354.0  \n",
       "2               8.498210   1353.0  \n",
       "3               6.017192     21.0  \n",
       "4               9.090909      2.0  "
      ]
     },
     "execution_count": 35,
     "metadata": {},
     "output_type": "execute_result"
    }
   ],
   "source": [
    "# Ваш код будет здесь. Вы можете создавать новые ячейки.\n",
    "#mydata1 = data.loc[data['debt'] == 1]['total_income_category']\n",
    "#mydata1 = mydata1.value_counts().reset_index(name='debtors').sort_values(by='index')\n",
    "#mydata1 = mydata1.rename(columns = {'index':'total_income_category'})\n",
    "#mydata1.reset_index(drop=True,inplace=True)\n",
    "#mydata2 = data.loc[data['debt'] == 0]['total_income_category']\n",
    "#mydata2 = mydata2.value_counts().reset_index(name='non-debtors').sort_values(by='index')\n",
    "#mydata2 = mydata2.rename(columns = {'index':'total_income_category'})\n",
    "#mydata2.reset_index(drop=True,inplace=True)\n",
    "#ratio = pd.DataFrame(columns={'total_income_category', 'ratio'})\n",
    "#ratio['total_income_category'] = mydata1['total_income_category']\n",
    "#ratio['ratio'] = mydata1['debtors'] / mydata2['non-debtors']\n",
    "#print('Amount of debtors with corresponding income category\\n', mydata1, '\\n')\n",
    "#print('Amount of people without a debt with corresponding income category\\n',mydata2, '\\n')\n",
    "#print('Ratio of the number of debtors to the number of people without a debt')\n",
    "#print(ratio)\n",
    "table = pd.pivot_table(data, index=['total_income_category'], values=['debt'], aggfunc={'sum','count','mean'})\n",
    "table.loc[:,'debt']['mean']*=100\n",
    "table = table.reset_index(drop=False,col_fill='total_income_category').droplevel(0, axis=1)\n",
    "table = table.rename(columns={'count':'amount of people in this category', 'mean':'percentage of debtors', 'sum':'debtors'})\n",
    "table\n",
    "    "
   ]
  },
  {
   "cell_type": "markdown",
   "id": "7efe11ed",
   "metadata": {
    "deletable": false,
    "id": "e8593def"
   },
   "source": [
    "**Вывод:** Так как выборка должна быть сбалансированной, то корректно будет сравнивать только категроии B(200001-1000000) и C(50001-200000). В категории B доля должников составляет 7,06%, в то время как в категории C этот показатель существенно выше и составялет 8,5%. Из чего можно сделать вывод, что люди из категории B более надежные."
   ]
  },
  {
   "cell_type": "markdown",
   "id": "079ee0eb",
   "metadata": {},
   "source": [
    "<div class=\"alert alert-block alert-warning\">\n",
    "<b>Комментарий ревьюер:</b> \n",
    "\n",
    "⚠️ Здесь сравниваем только две группы B и С, не забываем про сбалансированость выборки))<br>"
   ]
  },
  {
   "cell_type": "markdown",
   "id": "f6872288",
   "metadata": {},
   "source": [
    "<div class=\"alert alert-block alert-success\">\n",
    "<b>Комментарий ревьюера_V2:</b>\n",
    "\n",
    "✔️  Здесь сравнил две самые большие группы))\n",
    "\n",
    "  </div>"
   ]
  },
  {
   "cell_type": "markdown",
   "id": "d4fbe4ca",
   "metadata": {
    "deletable": false,
    "editable": false,
    "id": "99ecbd1f"
   },
   "source": [
    "#### 3.4 Как разные цели кредита влияют на его возврат в срок?"
   ]
  },
  {
   "cell_type": "code",
   "execution_count": 34,
   "id": "0d45dd94",
   "metadata": {
    "deletable": false,
    "id": "2b687290"
   },
   "outputs": [
    {
     "data": {
      "text/html": [
       "<div>\n",
       "<style scoped>\n",
       "    .dataframe tbody tr th:only-of-type {\n",
       "        vertical-align: middle;\n",
       "    }\n",
       "\n",
       "    .dataframe tbody tr th {\n",
       "        vertical-align: top;\n",
       "    }\n",
       "\n",
       "    .dataframe thead th {\n",
       "        text-align: right;\n",
       "    }\n",
       "</style>\n",
       "<table border=\"1\" class=\"dataframe\">\n",
       "  <thead>\n",
       "    <tr style=\"text-align: right;\">\n",
       "      <th></th>\n",
       "      <th>purpose_category</th>\n",
       "      <th>amount of people in this category</th>\n",
       "      <th>percentage of debtors</th>\n",
       "      <th>debtors</th>\n",
       "    </tr>\n",
       "  </thead>\n",
       "  <tbody>\n",
       "    <tr>\n",
       "      <th>0</th>\n",
       "      <td>операции с автомобилем</td>\n",
       "      <td>4279.0</td>\n",
       "      <td>9.347978</td>\n",
       "      <td>400.0</td>\n",
       "    </tr>\n",
       "    <tr>\n",
       "      <th>1</th>\n",
       "      <td>операции с недвижимостью</td>\n",
       "      <td>10751.0</td>\n",
       "      <td>7.255139</td>\n",
       "      <td>780.0</td>\n",
       "    </tr>\n",
       "    <tr>\n",
       "      <th>2</th>\n",
       "      <td>получение образования</td>\n",
       "      <td>3988.0</td>\n",
       "      <td>9.252758</td>\n",
       "      <td>369.0</td>\n",
       "    </tr>\n",
       "    <tr>\n",
       "      <th>3</th>\n",
       "      <td>проведение свадьбы</td>\n",
       "      <td>2313.0</td>\n",
       "      <td>7.911803</td>\n",
       "      <td>183.0</td>\n",
       "    </tr>\n",
       "  </tbody>\n",
       "</table>\n",
       "</div>"
      ],
      "text/plain": [
       "           purpose_category  amount of people in this category  \\\n",
       "0    операции с автомобилем                             4279.0   \n",
       "1  операции с недвижимостью                            10751.0   \n",
       "2     получение образования                             3988.0   \n",
       "3        проведение свадьбы                             2313.0   \n",
       "\n",
       "   percentage of debtors  debtors  \n",
       "0               9.347978    400.0  \n",
       "1               7.255139    780.0  \n",
       "2               9.252758    369.0  \n",
       "3               7.911803    183.0  "
      ]
     },
     "execution_count": 34,
     "metadata": {},
     "output_type": "execute_result"
    }
   ],
   "source": [
    "# Ваш код будет здесь. Вы можете создавать новые ячейки.\n",
    "#mydata1 = data.loc[data['debt'] == 1]['purpose_category']\n",
    "#mydata1 = mydata1.value_counts().reset_index(name='debtors').sort_values(by='index')\n",
    "#mydata1 = mydata1.rename(columns = {'index':'purpose_category'})\n",
    "#mydata1.reset_index(drop=True,inplace=True)\n",
    "#mydata2 = data.loc[data['debt'] == 0]['purpose_category']\n",
    "#mydata2 = mydata2.value_counts().reset_index(name='non-debtors').sort_values(by='index')\n",
    "#mydata2 = mydata2.rename(columns = {'index':'purpose_category'})\n",
    "#mydata2.reset_index(drop=True,inplace=True)\n",
    "#ratio = pd.DataFrame(columns={'purpose_category', 'ratio'})\n",
    "#ratio['purpose_category'] = mydata1['purpose_category']\n",
    "#ratio['ratio'] = mydata1['debtors'] / mydata2['non-debtors']\n",
    "#print('Amount of debtors with corresponding purpose category\\n', mydata1, '\\n')\n",
    "#print('Amount of people without a debt with corresponding purpose category\\n',mydata2, '\\n')\n",
    "#print('Ratio of the number of debtors to the number of people without a debt')\n",
    "#print(ratio)\n",
    "table = pd.pivot_table(data, index=['purpose_category'], values=['debt'], aggfunc={'sum','count','mean'})\n",
    "table.loc[:,'debt']['mean']*=100\n",
    "table = table.reset_index(drop=False,col_fill='purpose_category').droplevel(0, axis=1)\n",
    "table = table.rename(columns={'count':'amount of people in this category', 'mean':'percentage of debtors', 'sum':'debtors'})\n",
    "table\n",
    "    "
   ]
  },
  {
   "cell_type": "markdown",
   "id": "fe27b3ec",
   "metadata": {
    "deletable": false,
    "id": "b4bb2ce6"
   },
   "source": [
    "**Вывод:** Я не вижу проблемы: процент должников наименьший(7,25%) в категории \"операции с недвижимостью\" => люди, берущие кредить именно на эти операции являются самыми надежными. Несколько хуже c операциями на проведение свадеб: 7,9%. Примерно одинаково плохо все в категориях \"операции с автомобилем\" и \"получение образования\" - там процент должников составялет 9,34% и 9,25% соответственно."
   ]
  },
  {
   "cell_type": "markdown",
   "id": "3d9070f8",
   "metadata": {},
   "source": [
    "<div class=\"alert alert-block alert-warning\">\n",
    "<b>Комментарий ревьюера:</b> \n",
    "\n",
    "⚠️ Почему по твоему самые надежные заемщики те, кто берет ипотеку? Здесь можно порасуждать в выводах)) "
   ]
  },
  {
   "cell_type": "markdown",
   "id": "3ba95f7a",
   "metadata": {},
   "source": [
    "<div class=\"alert alert-block alert-success\">\n",
    "<b>Комментарий ревьюера_V2:</b>\n",
    "\n",
    "✔️ Самые большие суммы при ипотеке, поэтому банки предъявляют самые жесткие требования к ипотечникам, поэтому их проверяют вдоль и поперек при выдаче кредитов, плюс собственность находится в залоге у банка, не будешь платить она вернется к банку)) \n",
    "   \n",
    "       \n",
    "  </div>"
   ]
  },
  {
   "cell_type": "markdown",
   "id": "d901c532",
   "metadata": {
    "deletable": false,
    "editable": false,
    "id": "09c3ac4c"
   },
   "source": [
    "#### 3.5 Приведите возможные причины появления пропусков в исходных данных."
   ]
  },
  {
   "cell_type": "markdown",
   "id": "de2d4d40",
   "metadata": {
    "deletable": false,
    "id": "9da2ceda"
   },
   "source": [
    "*Ответ:* Пропуски содержались в двух столбцах - \"трудовой стаж\" и \"ежемесячный доход\". Скорее всего пропуски появились не в результате ошибки. Такие люди либо пенсионеры, либо безработные. Так как количество пропусков в обоих столбцах совпадает, то вероятность ошибки очень мала."
   ]
  },
  {
   "cell_type": "markdown",
   "id": "e9f8b941",
   "metadata": {},
   "source": [
    "<div class=\"alert alert-block alert-warning\">\n",
    "<b>Комментарий ревьюера:</b>\n",
    "\n",
    "⚠️ Все верно, если пристально взглянуть на на наши данные, то увидим что пропуски в столбцах \"трудовой стаж\" и \"ежемесячный доход\" абсолютно идентичны. Количество ячеек с отсутствующими данными в обоих указанных столбцах совпадает и равно 2174. Почему такое могло возникнуть, еси мы не будем учитывать только человеческий фактор?)"
   ]
  },
  {
   "cell_type": "markdown",
   "id": "45bfaac9",
   "metadata": {},
   "source": [
    "<div class=\"alert alert-block alert-success\">\n",
    "<b>Комментарий ревьюера_V2:</b>\n",
    "\n",
    "✔️ Да, всё здраво. В принципе эти возможные причины сразу и приходят в голову. \n",
    "    \n",
    "Однако, если пристально взглянуть на на наши данные, то увидим что пропуски в столбцах \"трудовой стаж\" и \"ежемесячный доход\" абсолютно идентичны. Количество ячеек с отсутствующими данными в обоих указанных столбцах совпадает и равно 2174. Маловероятно, что специалисты по выдаче кредитов, заполнив все без исключения ячейки других столбцов по каждому кредитополучателю, оставляли незаполненными именно два показателя, и сделали это ровно 2174 раза в каждом столбце. Даже не проводя проверку, во всех ли случаях незаполненные ячейки находятся в одной и то же строке с высокой долей вероятности можно утверждать, что произошла техническая ошибка при формировании таблицы с исходными данными (либо некий сбой во время выгрузки данных на анализ, либо при объединении данных в единый файл, который также должен был передаваться на анализ, либо эти данные не собирались).\n",
    "</div>"
   ]
  },
  {
   "cell_type": "markdown",
   "id": "b4b3b688",
   "metadata": {
    "deletable": false,
    "editable": false,
    "id": "7b0487d6"
   },
   "source": [
    "#### 3.6 Объясните, почему заполнить пропуски медианным значением — лучшее решение для количественных переменных."
   ]
  },
  {
   "cell_type": "markdown",
   "id": "4b99bc6f",
   "metadata": {
    "deletable": false,
    "id": "7ecf2b8e"
   },
   "source": [
    "*Ответ:* Потому что в таком случае средняя зарплата и количество проработанных дней изменятся минимально, а мы не потеряем данные о пенсионерах и безработных. Медиана - это число, которое находится в середине некоторого набора. Если числа например 1,2,3,4,100 - то медианой будет число 3, а вот средним будет 22 - разница существенная."
   ]
  },
  {
   "cell_type": "markdown",
   "id": "0bb7a91c",
   "metadata": {},
   "source": [
    "<div class=\"alert alert-block alert-warning\">\n",
    "<b>Комментарий ревьюера:</b> \n",
    "\n",
    "⚠️ А в чем разница между средним и медианой?))"
   ]
  },
  {
   "cell_type": "markdown",
   "id": "1a960d2e",
   "metadata": {},
   "source": [
    "<div class=\"alert alert-block alert-success\">\n",
    "<b>Комментарий ревьюера_V2:</b>\n",
    "\n",
    "✔️ Медиана не подвержена выбросам, все верно)) "
   ]
  },
  {
   "cell_type": "markdown",
   "id": "275e09cb",
   "metadata": {
    "deletable": false,
    "editable": false,
    "id": "6db5255a"
   },
   "source": [
    "### Шаг 4: общий вывод."
   ]
  },
  {
   "cell_type": "markdown",
   "id": "3ef8375f",
   "metadata": {
    "deletable": false,
    "id": "bad65432"
   },
   "source": [
    "1. Зависимость между количество детей и возвратом кредита в срок есть: процент должников увеличивается с ростом числа детей(0 - 7,5%, 1 - 9,2%, 2 - 9,4%. Остальные выборки слишком малы.\n",
    "2. Зависимость между семейным положением и возвратом кредита в срок также есть: чем серьезнее у людей отношения с партнером, тем лучше они возвращают долги: доля должников у не женатых/не замужних 9,8%, в группе \"гражданский брак\" 9,3%, а вот у женатых/замужних 7,6%. Остальные выборки слишком малы.\n",
    "3. Зависимость между уровнем дохода и возвратом кредита в срок тоже имеется: люди с бОльшим доходом лучше возвращают займ. У категории B(200001-1000000) 7,1%, а у категории C(50001-200000) 8,5%.\n",
    "4. Процент должников наименьший(7,25%) в категории \"операции с недвижимостью\" => люди, берущие кредить именно на эти операции являются самыми надежными. Несколько хуже c операциями на проведение свадеб: 7,9%. Примерно одинаково плохо все в категориях \"операции с автомобилем\" и \"получение образования\" - там процент должников составялет 9,34% и 9,25% соответственно.\n",
    "- Необходимо собирать больше данных для категорий, где выборка сравнительно невелика(например, люди с 3-мя, 4-мя, 5-ю детьми).\n"
   ]
  },
  {
   "cell_type": "markdown",
   "id": "acba3b41",
   "metadata": {},
   "source": [
    " <div class=\"alert alert-block alert-success\">\n",
    "<b>Комментарий ревьюера_V2:</b>\n",
    "\n",
    "✔️ Выводы хорошо переработал, молодец)) Рекомендации даны банку, исследование проведено))\n",
    "  \n",
    "  \n",
    "</div>"
   ]
  },
  {
   "cell_type": "markdown",
   "id": "ec1b7b0e",
   "metadata": {},
   "source": [
    "<div class=\"alert alert-block alert-danger\">\n",
    "<b>Комментарий ревьюера:</b> \n",
    "\n",
    "❌ Выводы должны быть детальными:\n",
    "- Отвечаешь на вопрос \"Есть ли зависимость между количеством детей и возвратом кредита в срок?\"\n",
    "- Отвечаешь на вопрос  \"Есть ли зависимость между семейным положением и возвратом кредита в срок?\"\n",
    "- Отвечаешь на вопрос  \"Есть ли зависимость между уровнем дохода и возвратом кредита в срок?\"\n",
    "- Отвечаешь на вопрос  \"Как разные цели кредита влияют на его возврат в срок?\"\n",
    "- Даешь рекомендацией банку по улучшению сбора данных и скоринга.\n",
    "\n",
    "Общий вывод - резюме этой работы. Большинство заказчиков посмотрят сначала его (а некоторые только его). Чтобы выводы не огорошивали заказчика своей очевидностью, стоит добавить в них цифр, всяких корреляций, процентов итд :) Сделай так, чтобы вся найденная в данных информация была отражена в выводе))"
   ]
  },
  {
   "cell_type": "markdown",
   "id": "a9f1ae9a",
   "metadata": {},
   "source": [
    "<div class=\"alert alert-block alert-success\">\n",
    "<b>Комментарий ревьюера:</b>\n",
    "    \n",
    "Артем, отлично поработал, видно что умеешь работать с кодом,  в общем молодец, но нужно будет оптимизировать код при изучении взаимосвязей и поработать над выводами)) \n",
    "<br> Жду исправленного варианта)\n",
    "  </div>"
   ]
  },
  {
   "cell_type": "markdown",
   "id": "f90d95cf",
   "metadata": {},
   "source": [
    "<div class=\"alert alert-block alert-success\">\n",
    "<b>Комментарий ревьюера_V2:</b>\n",
    "    \n",
    "Артем,  отлично поработал, можно двигаться дальше)) Успехов в дальнейшем обучении)) \n",
    "  </div>"
   ]
  }
 ],
 "metadata": {
  "ExecuteTimeLog": [
   {
    "duration": 43,
    "start_time": "2023-02-14T06:38:40.893Z"
   },
   {
    "duration": 648,
    "start_time": "2023-02-14T06:38:51.696Z"
   },
   {
    "duration": 21,
    "start_time": "2023-02-14T06:38:52.346Z"
   },
   {
    "duration": 15,
    "start_time": "2023-02-14T06:38:52.368Z"
   },
   {
    "duration": 9,
    "start_time": "2023-02-14T06:38:52.385Z"
   },
   {
    "duration": 54,
    "start_time": "2023-02-14T06:38:52.396Z"
   },
   {
    "duration": 4,
    "start_time": "2023-02-14T06:38:52.452Z"
   },
   {
    "duration": 11,
    "start_time": "2023-02-14T06:38:52.457Z"
   },
   {
    "duration": 4,
    "start_time": "2023-02-14T06:38:52.470Z"
   },
   {
    "duration": 18,
    "start_time": "2023-02-14T06:38:52.476Z"
   },
   {
    "duration": 5,
    "start_time": "2023-02-14T06:38:52.497Z"
   },
   {
    "duration": 46,
    "start_time": "2023-02-14T06:38:52.503Z"
   },
   {
    "duration": 9,
    "start_time": "2023-02-14T06:38:52.551Z"
   },
   {
    "duration": 6,
    "start_time": "2023-02-14T06:38:52.561Z"
   },
   {
    "duration": 23,
    "start_time": "2023-02-14T06:38:52.569Z"
   },
   {
    "duration": 21,
    "start_time": "2023-02-14T06:38:52.593Z"
   },
   {
    "duration": 16,
    "start_time": "2023-02-14T06:38:52.616Z"
   },
   {
    "duration": 3,
    "start_time": "2023-02-14T06:38:52.633Z"
   },
   {
    "duration": 9,
    "start_time": "2023-02-14T06:38:52.648Z"
   },
   {
    "duration": 5,
    "start_time": "2023-02-14T06:38:52.659Z"
   },
   {
    "duration": 3,
    "start_time": "2023-02-14T06:38:52.666Z"
   },
   {
    "duration": 13,
    "start_time": "2023-02-14T06:38:52.670Z"
   },
   {
    "duration": 16,
    "start_time": "2023-02-14T06:39:00.966Z"
   },
   {
    "duration": 21,
    "start_time": "2023-02-14T06:39:14.710Z"
   },
   {
    "duration": 12,
    "start_time": "2023-02-14T06:41:31.609Z"
   },
   {
    "duration": 20,
    "start_time": "2023-02-14T06:41:41.714Z"
   },
   {
    "duration": 1030,
    "start_time": "2023-02-14T06:44:38.754Z"
   },
   {
    "duration": 306,
    "start_time": "2023-02-14T06:44:47.923Z"
   },
   {
    "duration": 36,
    "start_time": "2023-02-14T06:48:21.277Z"
   },
   {
    "duration": 242,
    "start_time": "2023-02-14T06:48:42.427Z"
   },
   {
    "duration": 188,
    "start_time": "2023-02-14T06:49:00.660Z"
   },
   {
    "duration": 27208,
    "start_time": "2023-02-14T06:49:28.970Z"
   },
   {
    "duration": 15,
    "start_time": "2023-02-14T06:50:20.855Z"
   },
   {
    "duration": 10,
    "start_time": "2023-02-14T06:53:03.886Z"
   },
   {
    "duration": 10,
    "start_time": "2023-02-14T06:54:16.445Z"
   },
   {
    "duration": 10,
    "start_time": "2023-02-14T06:54:31.748Z"
   },
   {
    "duration": 9,
    "start_time": "2023-02-14T06:54:54.919Z"
   },
   {
    "duration": 8,
    "start_time": "2023-02-14T06:55:17.928Z"
   },
   {
    "duration": 13,
    "start_time": "2023-02-14T06:55:24.984Z"
   },
   {
    "duration": 10,
    "start_time": "2023-02-14T06:55:52.765Z"
   },
   {
    "duration": 8,
    "start_time": "2023-02-14T06:57:27.300Z"
   },
   {
    "duration": 10,
    "start_time": "2023-02-14T06:57:32.935Z"
   },
   {
    "duration": 11,
    "start_time": "2023-02-14T07:00:54.506Z"
   },
   {
    "duration": 11,
    "start_time": "2023-02-14T07:01:03.326Z"
   },
   {
    "duration": 13,
    "start_time": "2023-02-14T07:01:30.932Z"
   },
   {
    "duration": 11,
    "start_time": "2023-02-14T07:02:30.276Z"
   },
   {
    "duration": 15,
    "start_time": "2023-02-14T07:02:35.431Z"
   },
   {
    "duration": 502,
    "start_time": "2023-02-22T21:17:22.002Z"
   },
   {
    "duration": 23,
    "start_time": "2023-02-22T21:17:22.506Z"
   },
   {
    "duration": 15,
    "start_time": "2023-02-22T21:17:22.530Z"
   },
   {
    "duration": 34,
    "start_time": "2023-02-22T21:17:22.547Z"
   },
   {
    "duration": 50,
    "start_time": "2023-02-22T21:17:22.583Z"
   },
   {
    "duration": 3,
    "start_time": "2023-02-22T21:17:22.635Z"
   },
   {
    "duration": 16,
    "start_time": "2023-02-22T21:17:22.640Z"
   },
   {
    "duration": 5,
    "start_time": "2023-02-22T21:17:22.658Z"
   },
   {
    "duration": 35,
    "start_time": "2023-02-22T21:17:22.664Z"
   },
   {
    "duration": 7,
    "start_time": "2023-02-22T21:17:22.702Z"
   },
   {
    "duration": 49,
    "start_time": "2023-02-22T21:17:22.710Z"
   },
   {
    "duration": 9,
    "start_time": "2023-02-22T21:17:22.761Z"
   },
   {
    "duration": 17,
    "start_time": "2023-02-22T21:17:22.772Z"
   },
   {
    "duration": 29,
    "start_time": "2023-02-22T21:17:22.791Z"
   },
   {
    "duration": 23,
    "start_time": "2023-02-22T21:17:22.822Z"
   },
   {
    "duration": 19,
    "start_time": "2023-02-22T21:17:22.846Z"
   },
   {
    "duration": 4,
    "start_time": "2023-02-22T21:17:22.867Z"
   },
   {
    "duration": 19,
    "start_time": "2023-02-22T21:17:22.874Z"
   },
   {
    "duration": 11,
    "start_time": "2023-02-22T21:17:22.896Z"
   },
   {
    "duration": 5,
    "start_time": "2023-02-22T21:17:22.908Z"
   },
   {
    "duration": 18,
    "start_time": "2023-02-22T21:17:22.914Z"
   },
   {
    "duration": 143,
    "start_time": "2023-02-22T21:17:22.933Z"
   },
   {
    "duration": 0,
    "start_time": "2023-02-22T21:17:23.078Z"
   },
   {
    "duration": 11,
    "start_time": "2023-02-22T21:26:15.575Z"
   },
   {
    "duration": 12,
    "start_time": "2023-02-22T21:26:21.422Z"
   },
   {
    "duration": 8,
    "start_time": "2023-02-22T21:26:44.672Z"
   },
   {
    "duration": 15,
    "start_time": "2023-02-22T21:26:48.914Z"
   },
   {
    "duration": 11,
    "start_time": "2023-02-22T21:26:59.136Z"
   },
   {
    "duration": 10,
    "start_time": "2023-02-22T21:27:13.019Z"
   },
   {
    "duration": 1752,
    "start_time": "2023-02-22T21:30:26.666Z"
   },
   {
    "duration": 103,
    "start_time": "2023-02-22T21:33:28.979Z"
   },
   {
    "duration": 15,
    "start_time": "2023-02-22T21:33:34.636Z"
   },
   {
    "duration": 20,
    "start_time": "2023-02-22T22:20:04.877Z"
   },
   {
    "duration": 11,
    "start_time": "2023-02-22T22:20:22.775Z"
   },
   {
    "duration": 10,
    "start_time": "2023-02-22T22:20:59.562Z"
   },
   {
    "duration": 11,
    "start_time": "2023-02-22T22:21:10.598Z"
   },
   {
    "duration": 105,
    "start_time": "2023-02-22T22:21:36.976Z"
   },
   {
    "duration": 13,
    "start_time": "2023-02-22T22:21:42.866Z"
   },
   {
    "duration": 19,
    "start_time": "2023-02-22T22:23:38.923Z"
   },
   {
    "duration": 23,
    "start_time": "2023-02-22T22:23:57.523Z"
   },
   {
    "duration": 21,
    "start_time": "2023-02-22T22:24:13.096Z"
   },
   {
    "duration": 16,
    "start_time": "2023-02-22T22:24:33.610Z"
   },
   {
    "duration": 5,
    "start_time": "2023-02-22T22:26:01.447Z"
   },
   {
    "duration": 26,
    "start_time": "2023-02-22T22:26:19.206Z"
   },
   {
    "duration": 38,
    "start_time": "2023-02-22T22:26:37.375Z"
   },
   {
    "duration": 609,
    "start_time": "2023-02-25T14:52:54.118Z"
   },
   {
    "duration": 23,
    "start_time": "2023-02-25T14:52:54.729Z"
   },
   {
    "duration": 14,
    "start_time": "2023-02-25T14:52:54.754Z"
   },
   {
    "duration": 11,
    "start_time": "2023-02-25T14:52:54.770Z"
   },
   {
    "duration": 46,
    "start_time": "2023-02-25T14:52:54.783Z"
   },
   {
    "duration": 3,
    "start_time": "2023-02-25T14:52:54.831Z"
   },
   {
    "duration": 11,
    "start_time": "2023-02-25T14:52:54.836Z"
   },
   {
    "duration": 5,
    "start_time": "2023-02-25T14:52:54.849Z"
   },
   {
    "duration": 9,
    "start_time": "2023-02-25T14:52:54.856Z"
   },
   {
    "duration": 6,
    "start_time": "2023-02-25T14:52:54.867Z"
   },
   {
    "duration": 72,
    "start_time": "2023-02-25T14:52:54.875Z"
   },
   {
    "duration": 9,
    "start_time": "2023-02-25T14:52:54.949Z"
   },
   {
    "duration": 11,
    "start_time": "2023-02-25T14:52:54.961Z"
   },
   {
    "duration": 21,
    "start_time": "2023-02-25T14:52:54.976Z"
   },
   {
    "duration": 31,
    "start_time": "2023-02-25T14:52:54.999Z"
   },
   {
    "duration": 16,
    "start_time": "2023-02-25T14:52:55.032Z"
   },
   {
    "duration": 4,
    "start_time": "2023-02-25T14:52:55.050Z"
   },
   {
    "duration": 18,
    "start_time": "2023-02-25T14:52:55.055Z"
   },
   {
    "duration": 9,
    "start_time": "2023-02-25T14:52:55.074Z"
   },
   {
    "duration": 40,
    "start_time": "2023-02-25T14:52:55.085Z"
   },
   {
    "duration": 12,
    "start_time": "2023-02-25T14:52:55.127Z"
   },
   {
    "duration": 5,
    "start_time": "2023-02-25T14:52:55.142Z"
   },
   {
    "duration": 115,
    "start_time": "2023-02-25T14:54:57.981Z"
   },
   {
    "duration": 50,
    "start_time": "2023-03-01T07:40:28.980Z"
   },
   {
    "duration": 552,
    "start_time": "2023-03-01T07:40:40.328Z"
   },
   {
    "duration": 25,
    "start_time": "2023-03-01T07:40:40.882Z"
   },
   {
    "duration": 14,
    "start_time": "2023-03-01T07:40:40.909Z"
   },
   {
    "duration": 20,
    "start_time": "2023-03-01T07:40:40.925Z"
   },
   {
    "duration": 36,
    "start_time": "2023-03-01T07:40:40.947Z"
   },
   {
    "duration": 4,
    "start_time": "2023-03-01T07:40:40.985Z"
   },
   {
    "duration": 12,
    "start_time": "2023-03-01T07:40:40.991Z"
   },
   {
    "duration": 5,
    "start_time": "2023-03-01T07:40:41.005Z"
   },
   {
    "duration": 11,
    "start_time": "2023-03-01T07:40:41.011Z"
   },
   {
    "duration": 6,
    "start_time": "2023-03-01T07:40:41.034Z"
   },
   {
    "duration": 46,
    "start_time": "2023-03-01T07:40:41.041Z"
   },
   {
    "duration": 10,
    "start_time": "2023-03-01T07:40:41.089Z"
   },
   {
    "duration": 4,
    "start_time": "2023-03-01T07:40:41.100Z"
   },
   {
    "duration": 16,
    "start_time": "2023-03-01T07:40:41.106Z"
   },
   {
    "duration": 34,
    "start_time": "2023-03-01T07:40:41.123Z"
   },
   {
    "duration": 25,
    "start_time": "2023-03-01T07:40:41.158Z"
   },
   {
    "duration": 3,
    "start_time": "2023-03-01T07:40:41.185Z"
   },
   {
    "duration": 14,
    "start_time": "2023-03-01T07:40:41.190Z"
   },
   {
    "duration": 36,
    "start_time": "2023-03-01T07:40:41.206Z"
   },
   {
    "duration": 13,
    "start_time": "2023-03-01T07:40:41.243Z"
   },
   {
    "duration": 15,
    "start_time": "2023-03-01T07:40:41.258Z"
   },
   {
    "duration": 6,
    "start_time": "2023-03-01T07:40:41.275Z"
   },
   {
    "duration": 4,
    "start_time": "2023-03-01T07:40:43.323Z"
   },
   {
    "duration": 8,
    "start_time": "2023-03-01T07:40:44.178Z"
   },
   {
    "duration": 11,
    "start_time": "2023-03-01T07:41:27.692Z"
   },
   {
    "duration": 7,
    "start_time": "2023-03-01T07:43:44.579Z"
   },
   {
    "duration": 8,
    "start_time": "2023-03-01T07:43:48.820Z"
   },
   {
    "duration": 2868,
    "start_time": "2023-03-01T07:45:01.118Z"
   },
   {
    "duration": 14,
    "start_time": "2023-03-01T07:45:31.558Z"
   },
   {
    "duration": 15,
    "start_time": "2023-03-01T07:46:09.293Z"
   },
   {
    "duration": 25,
    "start_time": "2023-03-01T07:46:19.721Z"
   },
   {
    "duration": 16,
    "start_time": "2023-03-01T07:46:36.516Z"
   },
   {
    "duration": 14,
    "start_time": "2023-03-01T07:46:42.575Z"
   },
   {
    "duration": 2053,
    "start_time": "2023-03-01T07:50:24.323Z"
   },
   {
    "duration": 17,
    "start_time": "2023-03-01T07:50:39.591Z"
   },
   {
    "duration": 16,
    "start_time": "2023-03-01T07:52:16.970Z"
   },
   {
    "duration": 17,
    "start_time": "2023-03-01T07:52:34.692Z"
   },
   {
    "duration": 19,
    "start_time": "2023-03-01T07:52:40.030Z"
   },
   {
    "duration": 17,
    "start_time": "2023-03-01T07:53:17.572Z"
   },
   {
    "duration": 17,
    "start_time": "2023-03-01T07:53:36.571Z"
   },
   {
    "duration": 38,
    "start_time": "2023-03-01T07:54:38.127Z"
   },
   {
    "duration": 29,
    "start_time": "2023-03-01T07:55:00.330Z"
   },
   {
    "duration": 18,
    "start_time": "2023-03-01T08:00:13.558Z"
   },
   {
    "duration": 16,
    "start_time": "2023-03-01T08:00:29.905Z"
   },
   {
    "duration": 18,
    "start_time": "2023-03-01T08:00:57.967Z"
   },
   {
    "duration": 19,
    "start_time": "2023-03-01T08:01:05.062Z"
   },
   {
    "duration": 20,
    "start_time": "2023-03-01T08:01:21.362Z"
   },
   {
    "duration": 25,
    "start_time": "2023-03-01T08:04:57.547Z"
   },
   {
    "duration": 18,
    "start_time": "2023-03-01T08:06:13.365Z"
   },
   {
    "duration": 2016,
    "start_time": "2023-03-01T08:07:20.569Z"
   },
   {
    "duration": 17,
    "start_time": "2023-03-01T08:07:35.861Z"
   },
   {
    "duration": 5,
    "start_time": "2023-03-01T08:23:58.465Z"
   },
   {
    "duration": 20,
    "start_time": "2023-03-01T08:25:23.449Z"
   },
   {
    "duration": 19,
    "start_time": "2023-03-01T08:25:40.984Z"
   },
   {
    "duration": 20,
    "start_time": "2023-03-01T08:26:03.083Z"
   },
   {
    "duration": 20,
    "start_time": "2023-03-01T08:26:20.360Z"
   },
   {
    "duration": 21,
    "start_time": "2023-03-01T08:27:31.628Z"
   },
   {
    "duration": 26,
    "start_time": "2023-03-01T08:27:42.158Z"
   },
   {
    "duration": 16,
    "start_time": "2023-03-01T08:27:59.683Z"
   },
   {
    "duration": 20,
    "start_time": "2023-03-01T08:29:39.179Z"
   },
   {
    "duration": 26,
    "start_time": "2023-03-01T08:34:24.273Z"
   },
   {
    "duration": 19,
    "start_time": "2023-03-01T08:36:53.295Z"
   },
   {
    "duration": 22,
    "start_time": "2023-03-01T08:36:59.699Z"
   },
   {
    "duration": 22,
    "start_time": "2023-03-01T08:37:29.704Z"
   },
   {
    "duration": 33,
    "start_time": "2023-03-01T08:37:38.333Z"
   },
   {
    "duration": 18,
    "start_time": "2023-03-01T08:38:40.693Z"
   },
   {
    "duration": 20,
    "start_time": "2023-03-01T08:38:53.367Z"
   },
   {
    "duration": 26,
    "start_time": "2023-03-01T08:38:59.526Z"
   },
   {
    "duration": 2136,
    "start_time": "2023-03-01T08:45:38.990Z"
   },
   {
    "duration": 30,
    "start_time": "2023-03-01T08:45:56.549Z"
   },
   {
    "duration": 21,
    "start_time": "2023-03-01T08:47:17.359Z"
   },
   {
    "duration": 24,
    "start_time": "2023-03-01T08:48:06.299Z"
   },
   {
    "duration": 13,
    "start_time": "2023-03-01T08:49:53.259Z"
   },
   {
    "duration": 18,
    "start_time": "2023-03-01T08:51:09.129Z"
   },
   {
    "duration": 15,
    "start_time": "2023-03-01T08:51:27.481Z"
   },
   {
    "duration": 21,
    "start_time": "2023-03-01T08:52:32.283Z"
   },
   {
    "duration": 34,
    "start_time": "2023-03-01T08:52:38.413Z"
   },
   {
    "duration": 21,
    "start_time": "2023-03-01T08:52:57.797Z"
   },
   {
    "duration": 23,
    "start_time": "2023-03-01T08:53:18.659Z"
   },
   {
    "duration": 20,
    "start_time": "2023-03-01T08:53:26.958Z"
   },
   {
    "duration": 21,
    "start_time": "2023-03-01T08:55:05.091Z"
   },
   {
    "duration": 21,
    "start_time": "2023-03-01T08:55:26.919Z"
   },
   {
    "duration": 28,
    "start_time": "2023-03-01T08:55:34.393Z"
   },
   {
    "duration": 535,
    "start_time": "2023-03-01T15:04:14.732Z"
   },
   {
    "duration": 25,
    "start_time": "2023-03-01T15:04:15.269Z"
   },
   {
    "duration": 21,
    "start_time": "2023-03-01T15:04:15.296Z"
   },
   {
    "duration": 20,
    "start_time": "2023-03-01T15:04:15.320Z"
   },
   {
    "duration": 35,
    "start_time": "2023-03-01T15:04:15.341Z"
   },
   {
    "duration": 4,
    "start_time": "2023-03-01T15:04:15.378Z"
   },
   {
    "duration": 12,
    "start_time": "2023-03-01T15:04:15.383Z"
   },
   {
    "duration": 18,
    "start_time": "2023-03-01T15:04:15.397Z"
   },
   {
    "duration": 12,
    "start_time": "2023-03-01T15:04:15.418Z"
   },
   {
    "duration": 5,
    "start_time": "2023-03-01T15:04:15.432Z"
   },
   {
    "duration": 39,
    "start_time": "2023-03-01T15:04:15.439Z"
   },
   {
    "duration": 11,
    "start_time": "2023-03-01T15:04:15.479Z"
   },
   {
    "duration": 17,
    "start_time": "2023-03-01T15:04:15.491Z"
   },
   {
    "duration": 26,
    "start_time": "2023-03-01T15:04:15.511Z"
   },
   {
    "duration": 28,
    "start_time": "2023-03-01T15:04:15.539Z"
   },
   {
    "duration": 18,
    "start_time": "2023-03-01T15:04:15.569Z"
   },
   {
    "duration": 4,
    "start_time": "2023-03-01T15:04:15.588Z"
   },
   {
    "duration": 35,
    "start_time": "2023-03-01T15:04:15.594Z"
   },
   {
    "duration": 9,
    "start_time": "2023-03-01T15:04:15.631Z"
   },
   {
    "duration": 5,
    "start_time": "2023-03-01T15:04:15.642Z"
   },
   {
    "duration": 23,
    "start_time": "2023-03-01T15:04:15.649Z"
   },
   {
    "duration": 27,
    "start_time": "2023-03-01T15:04:15.674Z"
   },
   {
    "duration": 28,
    "start_time": "2023-03-01T15:04:15.703Z"
   },
   {
    "duration": 25,
    "start_time": "2023-03-01T15:04:15.733Z"
   },
   {
    "duration": 32,
    "start_time": "2023-03-01T15:05:49.989Z"
   },
   {
    "duration": 9,
    "start_time": "2023-03-01T15:16:15.875Z"
   },
   {
    "duration": 10,
    "start_time": "2023-03-01T15:17:59.831Z"
   },
   {
    "duration": 7,
    "start_time": "2023-03-01T15:18:08.871Z"
   },
   {
    "duration": 518,
    "start_time": "2023-03-08T12:26:56.223Z"
   },
   {
    "duration": 36,
    "start_time": "2023-03-08T12:26:56.743Z"
   },
   {
    "duration": 15,
    "start_time": "2023-03-08T12:26:56.781Z"
   },
   {
    "duration": 8,
    "start_time": "2023-03-08T12:26:56.798Z"
   },
   {
    "duration": 75,
    "start_time": "2023-03-08T12:26:56.809Z"
   },
   {
    "duration": 4,
    "start_time": "2023-03-08T12:26:56.886Z"
   },
   {
    "duration": 11,
    "start_time": "2023-03-08T12:26:56.891Z"
   },
   {
    "duration": 5,
    "start_time": "2023-03-08T12:26:56.904Z"
   },
   {
    "duration": 16,
    "start_time": "2023-03-08T12:26:56.911Z"
   },
   {
    "duration": 41,
    "start_time": "2023-03-08T12:26:56.929Z"
   },
   {
    "duration": 37,
    "start_time": "2023-03-08T12:26:56.973Z"
   },
   {
    "duration": 10,
    "start_time": "2023-03-08T12:26:57.012Z"
   },
   {
    "duration": 9,
    "start_time": "2023-03-08T12:26:57.023Z"
   },
   {
    "duration": 22,
    "start_time": "2023-03-08T12:26:57.036Z"
   },
   {
    "duration": 33,
    "start_time": "2023-03-08T12:26:57.061Z"
   },
   {
    "duration": 19,
    "start_time": "2023-03-08T12:26:57.096Z"
   },
   {
    "duration": 4,
    "start_time": "2023-03-08T12:26:57.117Z"
   },
   {
    "duration": 48,
    "start_time": "2023-03-08T12:26:57.123Z"
   },
   {
    "duration": 8,
    "start_time": "2023-03-08T12:26:57.174Z"
   },
   {
    "duration": 5,
    "start_time": "2023-03-08T12:26:57.184Z"
   },
   {
    "duration": 21,
    "start_time": "2023-03-08T12:26:57.191Z"
   },
   {
    "duration": 73,
    "start_time": "2023-03-08T12:26:59.150Z"
   },
   {
    "duration": 10,
    "start_time": "2023-03-08T12:27:10.760Z"
   },
   {
    "duration": 8,
    "start_time": "2023-03-08T12:27:41.340Z"
   },
   {
    "duration": 14,
    "start_time": "2023-03-08T12:28:48.969Z"
   },
   {
    "duration": 10,
    "start_time": "2023-03-08T12:28:54.233Z"
   },
   {
    "duration": 13,
    "start_time": "2023-03-08T12:29:00.964Z"
   },
   {
    "duration": 10,
    "start_time": "2023-03-08T12:29:22.180Z"
   },
   {
    "duration": 26,
    "start_time": "2023-03-08T12:29:51.834Z"
   },
   {
    "duration": 29,
    "start_time": "2023-03-08T12:29:57.652Z"
   },
   {
    "duration": 1670,
    "start_time": "2023-03-08T12:30:43.545Z"
   },
   {
    "duration": 1586,
    "start_time": "2023-03-08T12:31:55.622Z"
   },
   {
    "duration": 19,
    "start_time": "2023-03-08T12:32:16.207Z"
   },
   {
    "duration": 29,
    "start_time": "2023-03-08T12:32:31.454Z"
   },
   {
    "duration": 19,
    "start_time": "2023-03-08T12:32:38.708Z"
   },
   {
    "duration": 24,
    "start_time": "2023-03-08T12:32:42.672Z"
   },
   {
    "duration": 24,
    "start_time": "2023-03-08T12:33:29.524Z"
   },
   {
    "duration": 27,
    "start_time": "2023-03-08T12:38:49.308Z"
   },
   {
    "duration": 26,
    "start_time": "2023-03-08T12:39:34.439Z"
   },
   {
    "duration": 29,
    "start_time": "2023-03-08T12:39:42.751Z"
   },
   {
    "duration": 32,
    "start_time": "2023-03-08T12:39:47.116Z"
   },
   {
    "duration": 36,
    "start_time": "2023-03-08T12:40:33.150Z"
   },
   {
    "duration": 26,
    "start_time": "2023-03-08T12:42:54.651Z"
   },
   {
    "duration": 24,
    "start_time": "2023-03-08T12:44:26.013Z"
   },
   {
    "duration": 40,
    "start_time": "2023-03-08T12:44:47.131Z"
   },
   {
    "duration": 26,
    "start_time": "2023-03-08T12:44:56.976Z"
   },
   {
    "duration": 30,
    "start_time": "2023-03-08T12:45:06.611Z"
   },
   {
    "duration": 26,
    "start_time": "2023-03-08T12:45:09.212Z"
   },
   {
    "duration": 27,
    "start_time": "2023-03-08T12:45:25.276Z"
   },
   {
    "duration": 22,
    "start_time": "2023-03-08T12:45:56.371Z"
   },
   {
    "duration": 32,
    "start_time": "2023-03-08T12:46:34.053Z"
   },
   {
    "duration": 22,
    "start_time": "2023-03-08T12:46:41.109Z"
   },
   {
    "duration": 21,
    "start_time": "2023-03-08T12:46:45.197Z"
   },
   {
    "duration": 23,
    "start_time": "2023-03-08T12:47:16.337Z"
   },
   {
    "duration": 23,
    "start_time": "2023-03-08T12:47:21.512Z"
   },
   {
    "duration": 35,
    "start_time": "2023-03-08T12:47:26.517Z"
   },
   {
    "duration": 27,
    "start_time": "2023-03-08T12:47:38.122Z"
   },
   {
    "duration": 504,
    "start_time": "2023-03-11T21:12:57.485Z"
   },
   {
    "duration": 21,
    "start_time": "2023-03-11T21:12:57.991Z"
   },
   {
    "duration": 14,
    "start_time": "2023-03-11T21:12:58.013Z"
   },
   {
    "duration": 9,
    "start_time": "2023-03-11T21:12:58.029Z"
   },
   {
    "duration": 31,
    "start_time": "2023-03-11T21:12:58.039Z"
   },
   {
    "duration": 3,
    "start_time": "2023-03-11T21:12:58.071Z"
   },
   {
    "duration": 7,
    "start_time": "2023-03-11T21:12:58.076Z"
   },
   {
    "duration": 4,
    "start_time": "2023-03-11T21:12:58.084Z"
   },
   {
    "duration": 36,
    "start_time": "2023-03-11T21:12:58.089Z"
   },
   {
    "duration": 6,
    "start_time": "2023-03-11T21:12:58.127Z"
   },
   {
    "duration": 34,
    "start_time": "2023-03-11T21:12:58.135Z"
   },
   {
    "duration": 9,
    "start_time": "2023-03-11T21:12:58.171Z"
   },
   {
    "duration": 4,
    "start_time": "2023-03-11T21:12:58.181Z"
   },
   {
    "duration": 16,
    "start_time": "2023-03-11T21:12:58.187Z"
   },
   {
    "duration": 18,
    "start_time": "2023-03-11T21:12:58.224Z"
   },
   {
    "duration": 16,
    "start_time": "2023-03-11T21:12:58.244Z"
   },
   {
    "duration": 3,
    "start_time": "2023-03-11T21:12:58.262Z"
   },
   {
    "duration": 12,
    "start_time": "2023-03-11T21:12:58.266Z"
   },
   {
    "duration": 5,
    "start_time": "2023-03-11T21:12:58.280Z"
   },
   {
    "duration": 3,
    "start_time": "2023-03-11T21:12:58.287Z"
   },
   {
    "duration": 36,
    "start_time": "2023-03-11T21:12:58.291Z"
   },
   {
    "duration": 26,
    "start_time": "2023-03-11T21:13:03.916Z"
   },
   {
    "duration": 28,
    "start_time": "2023-03-11T21:16:40.541Z"
   },
   {
    "duration": 25,
    "start_time": "2023-03-11T21:22:39.557Z"
   },
   {
    "duration": 26,
    "start_time": "2023-03-11T21:24:31.402Z"
   },
   {
    "duration": 26,
    "start_time": "2023-03-11T21:28:26.397Z"
   },
   {
    "duration": 28,
    "start_time": "2023-03-11T21:32:45.324Z"
   },
   {
    "duration": 29,
    "start_time": "2023-03-11T21:34:31.849Z"
   },
   {
    "duration": 32,
    "start_time": "2023-03-11T21:34:58.927Z"
   },
   {
    "duration": 76,
    "start_time": "2023-03-11T21:39:10.879Z"
   },
   {
    "duration": 23,
    "start_time": "2023-03-11T21:39:34.467Z"
   },
   {
    "duration": 25,
    "start_time": "2023-03-11T21:39:55.083Z"
   },
   {
    "duration": 34,
    "start_time": "2023-03-11T21:40:18.970Z"
   },
   {
    "duration": 25,
    "start_time": "2023-03-11T21:40:31.675Z"
   },
   {
    "duration": 33,
    "start_time": "2023-03-11T22:01:33.313Z"
   }
  ],
  "colab": {
   "name": "dpp_template_part2.ipynb",
   "provenance": []
  },
  "kernelspec": {
   "display_name": "Python 3 (ipykernel)",
   "language": "python",
   "name": "python3"
  },
  "language_info": {
   "codemirror_mode": {
    "name": "ipython",
    "version": 3
   },
   "file_extension": ".py",
   "mimetype": "text/x-python",
   "name": "python",
   "nbconvert_exporter": "python",
   "pygments_lexer": "ipython3",
   "version": "3.9.5"
  },
  "toc": {
   "base_numbering": 1,
   "nav_menu": {},
   "number_sections": true,
   "sideBar": true,
   "skip_h1_title": true,
   "title_cell": "Table of Contents",
   "title_sidebar": "Contents",
   "toc_cell": false,
   "toc_position": {},
   "toc_section_display": true,
   "toc_window_display": false
  }
 },
 "nbformat": 4,
 "nbformat_minor": 5
}

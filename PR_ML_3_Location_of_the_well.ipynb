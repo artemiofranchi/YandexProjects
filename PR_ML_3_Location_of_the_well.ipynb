{
 "cells": [
  {
   "cell_type": "markdown",
   "metadata": {},
   "source": [
    "<div class=\"alert alert-block alert-success\">\n",
    "<b>Комментарий ревьюера v2:</b>\n",
    "\n",
    "<b>Артем, привет еще раз</b> \n",
    "    \n",
    "Критических замечаний нет. Спасибо за проект! Удачи в дальнейшем обучении!"
   ]
  },
  {
   "cell_type": "markdown",
   "metadata": {},
   "source": [
    "<b>Привет, Артем!</b>\n",
    "\n",
    "Меня зовут Евгений Лукашин, я буду проверять твой проект, постараемся вместе сделать его ещё лучше. Предлагаю обращаться к друг другу на «ты», если для тебя это будет комфортно. Иначе дай знать, и мы сразу перейдём на «вы».\n",
    "\n",
    "Желательно отвечать на каждый мой комментарий ('исправил', 'не понятно как исправить ошибку' и т.д.) выделять их каким-либо цветом, например, так:\n",
    "\n",
    "\n",
    "<div class=\"alert alert-block alert-info\">\n",
    "<b>Комментарий студента:</b> Исправил.\n",
    "</div>\n",
    "\n",
    "\n",
    "Пожалуйста, не удаляй мои комментарии, так как они повышают качество повторного ревью, и позволят мне быстрее проверить твой проект.\n",
    "\n",
    "<br>\n",
    "Мои комментарии будут выглядеть так:\n",
    "\n",
    "<div class=\"alert alert-block alert-success\">\n",
    "<b>Комментарий ревьюера:</b>\n",
    "\n",
    "<b>✅«Отлично»:</b> Если все сделано правильно\n",
    "</div>\n",
    "\n",
    "<div class=\"alert alert-warning\" role=\"alert\">\n",
    "<b>Комментарий ревьюера:</b>\n",
    "\n",
    "<b>⚠️«Можно лучше»: </b> Если можно немного улучшить\n",
    "</div>\n",
    "\n",
    "<div class=\"alert alert-block alert-danger\">\n",
    "<b>Комментарий ревьюера:</b>\n",
    "\n",
    "<b>⛔️«Надо исправить»:</b> Если требуются исправления. Работа не может быть принята с красными комментариями.\n",
    "</div>\n",
    "\n",
    "Помни, что у нас общая цель - подготовить тебя к успешной работе Data Science  специалистом!"
   ]
  },
  {
   "cell_type": "markdown",
   "metadata": {},
   "source": [
    "# Выбор локации для скважины"
   ]
  },
  {
   "cell_type": "markdown",
   "metadata": {},
   "source": [
    "Допустим, вы работаете в добывающей компании «ГлавРосГосНефть». Нужно решить, где бурить новую скважину.\n",
    "\n",
    "Вам предоставлены пробы нефти в трёх регионах: в каждом 10 000 месторождений, где измерили качество нефти и объём её запасов. Постройте модель машинного обучения, которая поможет определить регион, где добыча принесёт наибольшую прибыль. Проанализируйте возможную прибыль и риски техникой *Bootstrap.*\n",
    "\n",
    "Шаги для выбора локации:\n",
    "\n",
    "- В избранном регионе ищут месторождения, для каждого определяют значения признаков;\n",
    "- Строят модель и оценивают объём запасов;\n",
    "- Выбирают месторождения с самым высокими оценками значений. Количество месторождений зависит от бюджета компании и стоимости разработки одной скважины;\n",
    "- Прибыль равна суммарной прибыли отобранных месторождений."
   ]
  },
  {
   "cell_type": "markdown",
   "metadata": {},
   "source": [
    "## Загрузка и подготовка данных"
   ]
  },
  {
   "cell_type": "code",
   "execution_count": 1,
   "metadata": {},
   "outputs": [],
   "source": [
    "import pandas as pd\n",
    "import numpy as np\n",
    "import matplotlib.pyplot as plt\n",
    "import seaborn as sns\n",
    "from numpy.random import RandomState\n",
    "from scipy import stats\n",
    "from sklearn.preprocessing import StandardScaler\n",
    "from sklearn.model_selection import train_test_split\n",
    "from sklearn.linear_model import LinearRegression\n",
    "from sklearn.metrics import mean_squared_error"
   ]
  },
  {
   "cell_type": "markdown",
   "metadata": {},
   "source": [
    "### Загрузка данных"
   ]
  },
  {
   "cell_type": "code",
   "execution_count": 2,
   "metadata": {},
   "outputs": [
    {
     "data": {
      "text/html": [
       "<div>\n",
       "<style scoped>\n",
       "    .dataframe tbody tr th:only-of-type {\n",
       "        vertical-align: middle;\n",
       "    }\n",
       "\n",
       "    .dataframe tbody tr th {\n",
       "        vertical-align: top;\n",
       "    }\n",
       "\n",
       "    .dataframe thead th {\n",
       "        text-align: right;\n",
       "    }\n",
       "</style>\n",
       "<table border=\"1\" class=\"dataframe\">\n",
       "  <thead>\n",
       "    <tr style=\"text-align: right;\">\n",
       "      <th></th>\n",
       "      <th>id</th>\n",
       "      <th>f0</th>\n",
       "      <th>f1</th>\n",
       "      <th>f2</th>\n",
       "      <th>product</th>\n",
       "    </tr>\n",
       "  </thead>\n",
       "  <tbody>\n",
       "    <tr>\n",
       "      <th>0</th>\n",
       "      <td>txEyH</td>\n",
       "      <td>0.705745</td>\n",
       "      <td>-0.497823</td>\n",
       "      <td>1.221170</td>\n",
       "      <td>105.280062</td>\n",
       "    </tr>\n",
       "    <tr>\n",
       "      <th>1</th>\n",
       "      <td>2acmU</td>\n",
       "      <td>1.334711</td>\n",
       "      <td>-0.340164</td>\n",
       "      <td>4.365080</td>\n",
       "      <td>73.037750</td>\n",
       "    </tr>\n",
       "    <tr>\n",
       "      <th>2</th>\n",
       "      <td>409Wp</td>\n",
       "      <td>1.022732</td>\n",
       "      <td>0.151990</td>\n",
       "      <td>1.419926</td>\n",
       "      <td>85.265647</td>\n",
       "    </tr>\n",
       "    <tr>\n",
       "      <th>3</th>\n",
       "      <td>iJLyR</td>\n",
       "      <td>-0.032172</td>\n",
       "      <td>0.139033</td>\n",
       "      <td>2.978566</td>\n",
       "      <td>168.620776</td>\n",
       "    </tr>\n",
       "    <tr>\n",
       "      <th>4</th>\n",
       "      <td>Xdl7t</td>\n",
       "      <td>1.988431</td>\n",
       "      <td>0.155413</td>\n",
       "      <td>4.751769</td>\n",
       "      <td>154.036647</td>\n",
       "    </tr>\n",
       "  </tbody>\n",
       "</table>\n",
       "</div>"
      ],
      "text/plain": [
       "      id        f0        f1        f2     product\n",
       "0  txEyH  0.705745 -0.497823  1.221170  105.280062\n",
       "1  2acmU  1.334711 -0.340164  4.365080   73.037750\n",
       "2  409Wp  1.022732  0.151990  1.419926   85.265647\n",
       "3  iJLyR -0.032172  0.139033  2.978566  168.620776\n",
       "4  Xdl7t  1.988431  0.155413  4.751769  154.036647"
      ]
     },
     "metadata": {},
     "output_type": "display_data"
    },
    {
     "name": "stdout",
     "output_type": "stream",
     "text": [
      "<class 'pandas.core.frame.DataFrame'>\n",
      "RangeIndex: 100000 entries, 0 to 99999\n",
      "Data columns (total 5 columns):\n",
      " #   Column   Non-Null Count   Dtype  \n",
      "---  ------   --------------   -----  \n",
      " 0   id       100000 non-null  object \n",
      " 1   f0       100000 non-null  float64\n",
      " 2   f1       100000 non-null  float64\n",
      " 3   f2       100000 non-null  float64\n",
      " 4   product  100000 non-null  float64\n",
      "dtypes: float64(4), object(1)\n",
      "memory usage: 3.8+ MB\n"
     ]
    },
    {
     "data": {
      "text/plain": [
       "None"
      ]
     },
     "metadata": {},
     "output_type": "display_data"
    },
    {
     "data": {
      "text/plain": [
       "0"
      ]
     },
     "metadata": {},
     "output_type": "display_data"
    },
    {
     "data": {
      "text/html": [
       "<div>\n",
       "<style scoped>\n",
       "    .dataframe tbody tr th:only-of-type {\n",
       "        vertical-align: middle;\n",
       "    }\n",
       "\n",
       "    .dataframe tbody tr th {\n",
       "        vertical-align: top;\n",
       "    }\n",
       "\n",
       "    .dataframe thead th {\n",
       "        text-align: right;\n",
       "    }\n",
       "</style>\n",
       "<table border=\"1\" class=\"dataframe\">\n",
       "  <thead>\n",
       "    <tr style=\"text-align: right;\">\n",
       "      <th></th>\n",
       "      <th>id</th>\n",
       "      <th>f0</th>\n",
       "      <th>f1</th>\n",
       "      <th>f2</th>\n",
       "      <th>product</th>\n",
       "    </tr>\n",
       "  </thead>\n",
       "  <tbody>\n",
       "    <tr>\n",
       "      <th>0</th>\n",
       "      <td>kBEdx</td>\n",
       "      <td>-15.001348</td>\n",
       "      <td>-8.276000</td>\n",
       "      <td>-0.005876</td>\n",
       "      <td>3.179103</td>\n",
       "    </tr>\n",
       "    <tr>\n",
       "      <th>1</th>\n",
       "      <td>62mP7</td>\n",
       "      <td>14.272088</td>\n",
       "      <td>-3.475083</td>\n",
       "      <td>0.999183</td>\n",
       "      <td>26.953261</td>\n",
       "    </tr>\n",
       "    <tr>\n",
       "      <th>2</th>\n",
       "      <td>vyE1P</td>\n",
       "      <td>6.263187</td>\n",
       "      <td>-5.948386</td>\n",
       "      <td>5.001160</td>\n",
       "      <td>134.766305</td>\n",
       "    </tr>\n",
       "    <tr>\n",
       "      <th>3</th>\n",
       "      <td>KcrkZ</td>\n",
       "      <td>-13.081196</td>\n",
       "      <td>-11.506057</td>\n",
       "      <td>4.999415</td>\n",
       "      <td>137.945408</td>\n",
       "    </tr>\n",
       "    <tr>\n",
       "      <th>4</th>\n",
       "      <td>AHL4O</td>\n",
       "      <td>12.702195</td>\n",
       "      <td>-8.147433</td>\n",
       "      <td>5.004363</td>\n",
       "      <td>134.766305</td>\n",
       "    </tr>\n",
       "  </tbody>\n",
       "</table>\n",
       "</div>"
      ],
      "text/plain": [
       "      id         f0         f1        f2     product\n",
       "0  kBEdx -15.001348  -8.276000 -0.005876    3.179103\n",
       "1  62mP7  14.272088  -3.475083  0.999183   26.953261\n",
       "2  vyE1P   6.263187  -5.948386  5.001160  134.766305\n",
       "3  KcrkZ -13.081196 -11.506057  4.999415  137.945408\n",
       "4  AHL4O  12.702195  -8.147433  5.004363  134.766305"
      ]
     },
     "metadata": {},
     "output_type": "display_data"
    },
    {
     "name": "stdout",
     "output_type": "stream",
     "text": [
      "<class 'pandas.core.frame.DataFrame'>\n",
      "RangeIndex: 100000 entries, 0 to 99999\n",
      "Data columns (total 5 columns):\n",
      " #   Column   Non-Null Count   Dtype  \n",
      "---  ------   --------------   -----  \n",
      " 0   id       100000 non-null  object \n",
      " 1   f0       100000 non-null  float64\n",
      " 2   f1       100000 non-null  float64\n",
      " 3   f2       100000 non-null  float64\n",
      " 4   product  100000 non-null  float64\n",
      "dtypes: float64(4), object(1)\n",
      "memory usage: 3.8+ MB\n"
     ]
    },
    {
     "data": {
      "text/plain": [
       "None"
      ]
     },
     "metadata": {},
     "output_type": "display_data"
    },
    {
     "data": {
      "text/plain": [
       "0"
      ]
     },
     "metadata": {},
     "output_type": "display_data"
    },
    {
     "data": {
      "text/html": [
       "<div>\n",
       "<style scoped>\n",
       "    .dataframe tbody tr th:only-of-type {\n",
       "        vertical-align: middle;\n",
       "    }\n",
       "\n",
       "    .dataframe tbody tr th {\n",
       "        vertical-align: top;\n",
       "    }\n",
       "\n",
       "    .dataframe thead th {\n",
       "        text-align: right;\n",
       "    }\n",
       "</style>\n",
       "<table border=\"1\" class=\"dataframe\">\n",
       "  <thead>\n",
       "    <tr style=\"text-align: right;\">\n",
       "      <th></th>\n",
       "      <th>id</th>\n",
       "      <th>f0</th>\n",
       "      <th>f1</th>\n",
       "      <th>f2</th>\n",
       "      <th>product</th>\n",
       "    </tr>\n",
       "  </thead>\n",
       "  <tbody>\n",
       "    <tr>\n",
       "      <th>0</th>\n",
       "      <td>fwXo0</td>\n",
       "      <td>-1.146987</td>\n",
       "      <td>0.963328</td>\n",
       "      <td>-0.828965</td>\n",
       "      <td>27.758673</td>\n",
       "    </tr>\n",
       "    <tr>\n",
       "      <th>1</th>\n",
       "      <td>WJtFt</td>\n",
       "      <td>0.262778</td>\n",
       "      <td>0.269839</td>\n",
       "      <td>-2.530187</td>\n",
       "      <td>56.069697</td>\n",
       "    </tr>\n",
       "    <tr>\n",
       "      <th>2</th>\n",
       "      <td>ovLUW</td>\n",
       "      <td>0.194587</td>\n",
       "      <td>0.289035</td>\n",
       "      <td>-5.586433</td>\n",
       "      <td>62.871910</td>\n",
       "    </tr>\n",
       "    <tr>\n",
       "      <th>3</th>\n",
       "      <td>q6cA6</td>\n",
       "      <td>2.236060</td>\n",
       "      <td>-0.553760</td>\n",
       "      <td>0.930038</td>\n",
       "      <td>114.572842</td>\n",
       "    </tr>\n",
       "    <tr>\n",
       "      <th>4</th>\n",
       "      <td>WPMUX</td>\n",
       "      <td>-0.515993</td>\n",
       "      <td>1.716266</td>\n",
       "      <td>5.899011</td>\n",
       "      <td>149.600746</td>\n",
       "    </tr>\n",
       "  </tbody>\n",
       "</table>\n",
       "</div>"
      ],
      "text/plain": [
       "      id        f0        f1        f2     product\n",
       "0  fwXo0 -1.146987  0.963328 -0.828965   27.758673\n",
       "1  WJtFt  0.262778  0.269839 -2.530187   56.069697\n",
       "2  ovLUW  0.194587  0.289035 -5.586433   62.871910\n",
       "3  q6cA6  2.236060 -0.553760  0.930038  114.572842\n",
       "4  WPMUX -0.515993  1.716266  5.899011  149.600746"
      ]
     },
     "metadata": {},
     "output_type": "display_data"
    },
    {
     "name": "stdout",
     "output_type": "stream",
     "text": [
      "<class 'pandas.core.frame.DataFrame'>\n",
      "RangeIndex: 100000 entries, 0 to 99999\n",
      "Data columns (total 5 columns):\n",
      " #   Column   Non-Null Count   Dtype  \n",
      "---  ------   --------------   -----  \n",
      " 0   id       100000 non-null  object \n",
      " 1   f0       100000 non-null  float64\n",
      " 2   f1       100000 non-null  float64\n",
      " 3   f2       100000 non-null  float64\n",
      " 4   product  100000 non-null  float64\n",
      "dtypes: float64(4), object(1)\n",
      "memory usage: 3.8+ MB\n"
     ]
    },
    {
     "data": {
      "text/plain": [
       "None"
      ]
     },
     "metadata": {},
     "output_type": "display_data"
    },
    {
     "data": {
      "text/plain": [
       "0"
      ]
     },
     "metadata": {},
     "output_type": "display_data"
    }
   ],
   "source": [
    "data0 = pd.read_csv('/datasets/geo_data_0.csv')\n",
    "data1 = pd.read_csv('/datasets/geo_data_1.csv')\n",
    "data2 = pd.read_csv('/datasets/geo_data_2.csv')\n",
    "\n",
    "def data_info(data):\n",
    "    display(data.head())\n",
    "    display(data.info())\n",
    "    display(sum(data.duplicated()))\n",
    "            \n",
    "data_info(data0)\n",
    "data_info(data1)\n",
    "data_info(data2)"
   ]
  },
  {
   "cell_type": "markdown",
   "metadata": {},
   "source": [
    "<div class=\"alert alert-warning\" role=\"alert\">\n",
    "<b>Комментарий ревьюера:</b>\n",
    "\n",
    "<b>⚠️«Можно лучше»: </b> Было бы здорво использовать функцию или цикл, чтобы не дублировать код"
   ]
  },
  {
   "cell_type": "markdown",
   "metadata": {},
   "source": [
    "<div class=\"alert alert-block alert-info\">\n",
    "<b>Комментарий студента:</b> Исправил.\n",
    "</div>"
   ]
  },
  {
   "cell_type": "markdown",
   "metadata": {},
   "source": [
    "<div class=\"alert alert-block alert-success\">\n",
    "<b>Комментарий ревьюера v2:</b>\n",
    "\n",
    "<b>✅«Отлично»:</b> 👍"
   ]
  },
  {
   "cell_type": "markdown",
   "metadata": {},
   "source": [
    "**Посмотрим на неявные дубликаты: если всё, кроме id, совпало**"
   ]
  },
  {
   "cell_type": "code",
   "execution_count": 3,
   "metadata": {},
   "outputs": [
    {
     "data": {
      "text/plain": [
       "0"
      ]
     },
     "metadata": {},
     "output_type": "display_data"
    },
    {
     "data": {
      "text/plain": [
       "0"
      ]
     },
     "metadata": {},
     "output_type": "display_data"
    },
    {
     "data": {
      "text/plain": [
       "0"
      ]
     },
     "metadata": {},
     "output_type": "display_data"
    }
   ],
   "source": [
    "def duplicates(data):\n",
    "    data_new = data.drop(['id'], axis=1)\n",
    "    display(sum(data_new.duplicated()))\n",
    "    \n",
    "duplicates(data0)\n",
    "duplicates(data1)\n",
    "duplicates(data2)"
   ]
  },
  {
   "cell_type": "markdown",
   "metadata": {},
   "source": [
    "**Неявных дубликатов тоже нет**"
   ]
  },
  {
   "cell_type": "markdown",
   "metadata": {},
   "source": [
    "### Графики"
   ]
  },
  {
   "cell_type": "code",
   "execution_count": 4,
   "metadata": {},
   "outputs": [],
   "source": [
    "def graphics(data, feature):\n",
    "    plt.figure(figsize=(20,5))\n",
    "    ax11 = plt.subplot(1,2,1)\n",
    "    ax11 = sns.boxplot(x=data)\n",
    "    ax11.set_title(f'Диаграмма размаха {feature}', fontsize=16)\n",
    "    ax12 = plt.subplot(1,2,2)\n",
    "    ax12 = sns.histplot(x=data)\n",
    "    ax12.set_title(f'Плотность распределения {feature}', fontsize=16)\n",
    "    plt.show()\n"
   ]
  },
  {
   "cell_type": "markdown",
   "metadata": {},
   "source": [
    "<div class=\"alert alert-block alert-success\">\n",
    "<b>Комментарий ревьюера:</b>\n",
    "\n",
    "<b>✅«Отлично»:</b> Молодец, что используешь функции. Так код более лаконичен, его удобнее читать и в случае необходимости вносить изменения.\n",
    "</div>"
   ]
  },
  {
   "cell_type": "markdown",
   "metadata": {},
   "source": [
    "#### Data0. 1 регион"
   ]
  },
  {
   "cell_type": "code",
   "execution_count": 5,
   "metadata": {},
   "outputs": [
    {
     "data": {
      "image/png": "[encoded data removed]",
      "text/plain": [
       "<Figure size 1440x360 with 2 Axes>"
      ]
     },
     "metadata": {
      "needs_background": "light"
     },
     "output_type": "display_data"
    },
    {
     "data": {
      "image/png": "[encoded data removed]",
      "text/plain": [
       "<Figure size 1440x360 with 2 Axes>"
      ]
     },
     "metadata": {
      "needs_background": "light"
     },
     "output_type": "display_data"
    },
    {
     "data": {
      "image/png": "[encoded data removed]",
      "text/plain": [
       "<Figure size 1440x360 with 2 Axes>"
      ]
     },
     "metadata": {
      "needs_background": "light"
     },
     "output_type": "display_data"
    },
    {
     "data": {
      "image/png": "[encoded data removed]",
      "text/plain": [
       "<Figure size 1440x360 with 2 Axes>"
      ]
     },
     "metadata": {
      "needs_background": "light"
     },
     "output_type": "display_data"
    }
   ],
   "source": [
    "for i in ['f0', 'f1', 'f2', 'product']:\n",
    "    graphics(data0[i], i)"
   ]
  },
  {
   "cell_type": "markdown",
   "metadata": {},
   "source": [
    "#### Data1. 2 регион"
   ]
  },
  {
   "cell_type": "code",
   "execution_count": 6,
   "metadata": {},
   "outputs": [
    {
     "data": {
      "image/png": "[encoded data removed]",
      "text/plain": [
       "<Figure size 1440x360 with 2 Axes>"
      ]
     },
     "metadata": {
      "needs_background": "light"
     },
     "output_type": "display_data"
    },
    {
     "data": {
      "image/png": "[encoded data removed]",
      "text/plain": [
       "<Figure size 1440x360 with 2 Axes>"
      ]
     },
     "metadata": {
      "needs_background": "light"
     },
     "output_type": "display_data"
    },
    {
     "data": {
      "image/png": "[encoded data removed]",
      "text/plain": [
       "<Figure size 1440x360 with 2 Axes>"
      ]
     },
     "metadata": {
      "needs_background": "light"
     },
     "output_type": "display_data"
    },
    {
     "data": {
      "image/png": "[encoded data removed]",
      "text/plain": [
       "<Figure size 1440x360 with 2 Axes>"
      ]
     },
     "metadata": {
      "needs_background": "light"
     },
     "output_type": "display_data"
    }
   ],
   "source": [
    "for i in ['f0', 'f1', 'f2', 'product']:\n",
    "    graphics(data1[i], i)"
   ]
  },
  {
   "cell_type": "markdown",
   "metadata": {},
   "source": [
    "#### Data2. 3 регион"
   ]
  },
  {
   "cell_type": "code",
   "execution_count": 7,
   "metadata": {},
   "outputs": [
    {
     "data": {
      "image/png": "[encoded data removed]",
      "text/plain": [
       "<Figure size 1440x360 with 2 Axes>"
      ]
     },
     "metadata": {
      "needs_background": "light"
     },
     "output_type": "display_data"
    },
    {
     "data": {
      "image/png": "[encoded data removed]",
      "text/plain": [
       "<Figure size 1440x360 with 2 Axes>"
      ]
     },
     "metadata": {
      "needs_background": "light"
     },
     "output_type": "display_data"
    },
    {
     "data": {
      "image/png": "[encoded data removed]",
      "text/plain": [
       "<Figure size 1440x360 with 2 Axes>"
      ]
     },
     "metadata": {
      "needs_background": "light"
     },
     "output_type": "display_data"
    },
    {
     "data": {
      "image/png": "[encoded data removed]",
      "text/plain": [
       "<Figure size 1440x360 with 2 Axes>"
      ]
     },
     "metadata": {
      "needs_background": "light"
     },
     "output_type": "display_data"
    }
   ],
   "source": [
    "for i in ['f0', 'f1', 'f2', 'product']:\n",
    "    graphics(data2[i], i)"
   ]
  },
  {
   "cell_type": "markdown",
   "metadata": {},
   "source": [
    "### Выводы"
   ]
  },
  {
   "cell_type": "markdown",
   "metadata": {},
   "source": [
    "- Данные успешно загружены. Пропусков нет. Дубликатов тоже нет.\n",
    "- f0, f1, f2 признаки сильно разнятся - в 3 регионе все три распределены нормально, во втором лишь f1 распределен нормально, а в первом лишь f0.\n",
    "- Все признаки имеют примерно одинаковый масштаб.\n",
    "- В первом регионе выбросы присутствуют в f2 признаке, во втором регионе в f1, а в третьем в f1, f2, f3"
   ]
  },
  {
   "cell_type": "markdown",
   "metadata": {},
   "source": [
    "<div class=\"alert alert-warning\" role=\"alert\">\n",
    "<b>Комментарий ревьюера:</b>\n",
    "\n",
    "<b>⚠️«Можно лучше»: </b> А как насчет не явных дубликатов?"
   ]
  },
  {
   "cell_type": "markdown",
   "metadata": {},
   "source": [
    "<div class=\"alert alert-block alert-info\">\n",
    "<b>Комментарий студента:</b> Исправил. См. перед пунктом 1.2\n",
    "</div>"
   ]
  },
  {
   "cell_type": "markdown",
   "metadata": {},
   "source": [
    "<div class=\"alert alert-warning\" role=\"alert\">\n",
    "<b>Комментарий ревьюера v2:</b>\n",
    "\n",
    "<b>⚠️«Можно лучше»: </b> На самом деле они есть как раз по id"
   ]
  },
  {
   "cell_type": "markdown",
   "metadata": {},
   "source": [
    "## Обучение и проверка модели"
   ]
  },
  {
   "cell_type": "markdown",
   "metadata": {},
   "source": [
    "### Разделение на тренировочные и валидационные выборки. Обучение и прогноз."
   ]
  },
  {
   "cell_type": "markdown",
   "metadata": {},
   "source": [
    "Целевым признаком будет product, так как объем запасов в скважине напрямую влияет на прибыль"
   ]
  },
  {
   "cell_type": "code",
   "execution_count": 8,
   "metadata": {},
   "outputs": [],
   "source": [
    "def splitting(data):\n",
    "    features = data[['f0', 'f1', 'f2']]\n",
    "    target = data['product']\n",
    "    return features, target\n",
    "\n",
    "features0, target0 = splitting(data0)\n",
    "features1, target1 = splitting(data1)\n",
    "features2, target2 = splitting(data2)\n",
    "\n",
    "state = np.random.RandomState(12345)"
   ]
  },
  {
   "cell_type": "markdown",
   "metadata": {},
   "source": [
    "<div class=\"alert alert-block alert-success\">\n",
    "<b>Комментарий ревьюера:</b>\n",
    "\n",
    "<b>✅«Отлично»:</b> Молодец, что не берешь id в обучение Код выше тоже было бы здорово оформит в функцию или цикл"
   ]
  },
  {
   "cell_type": "code",
   "execution_count": 9,
   "metadata": {},
   "outputs": [],
   "source": [
    "def model_spl_tr_pr(features, target, rs=12345):\n",
    "    features_train, features_valid, target_train, target_valid = train_test_split(features, target, test_size=0.25, random_state=state)\n",
    "    model = LinearRegression()\n",
    "    model.fit(features_train, target_train)\n",
    "    prediction = model.predict(features_valid)\n",
    "    prediction_mean = prediction.mean()\n",
    "    rmse = mean_squared_error(target_valid, prediction)**0.5\n",
    "    print('predicted average oil reserves: ', prediction_mean)\n",
    "    print('root mean squared error', rmse)\n",
    "    return target_valid, prediction\n"
   ]
  },
  {
   "cell_type": "markdown",
   "metadata": {},
   "source": [
    "<div class=\"alert alert-block alert-success\">\n",
    "<b>Комментарий ревьюера:</b>\n",
    "\n",
    "<b>✅«Отлично»:</b> Отличная фнкция 👍"
   ]
  },
  {
   "cell_type": "markdown",
   "metadata": {},
   "source": [
    "### 1 регион"
   ]
  },
  {
   "cell_type": "code",
   "execution_count": 10,
   "metadata": {},
   "outputs": [
    {
     "name": "stdout",
     "output_type": "stream",
     "text": [
      "predicted average oil reserves:  92.59256778438035\n",
      "root mean squared error 37.5794217150813\n"
     ]
    }
   ],
   "source": [
    "target0_valid, prediction0 = model_spl_tr_pr(features0, target0)"
   ]
  },
  {
   "cell_type": "markdown",
   "metadata": {},
   "source": [
    "### 2 регион "
   ]
  },
  {
   "cell_type": "code",
   "execution_count": 11,
   "metadata": {},
   "outputs": [
    {
     "name": "stdout",
     "output_type": "stream",
     "text": [
      "predicted average oil reserves:  68.76995145799754\n",
      "root mean squared error 0.889736773768065\n"
     ]
    }
   ],
   "source": [
    "target1_valid, prediction1 = model_spl_tr_pr(features1, target1)"
   ]
  },
  {
   "cell_type": "markdown",
   "metadata": {},
   "source": [
    "### 3 регион"
   ]
  },
  {
   "cell_type": "code",
   "execution_count": 12,
   "metadata": {},
   "outputs": [
    {
     "name": "stdout",
     "output_type": "stream",
     "text": [
      "predicted average oil reserves:  95.087528122523\n",
      "root mean squared error 39.958042459521614\n"
     ]
    }
   ],
   "source": [
    "target2_valid, prediction2 = model_spl_tr_pr(features2, target2)"
   ]
  },
  {
   "cell_type": "markdown",
   "metadata": {},
   "source": [
    "### Выводы"
   ]
  },
  {
   "cell_type": "markdown",
   "metadata": {},
   "source": [
    "- В первом и третьем регионе высокие средние показатели запасов нефти(90+), но при это среднеквадратичная ошибка очень большая(около 40). Поэтому нельзя однозначно заявить, что эти регионы самые подходящие для бурения новой скважины.\n",
    "- Во втором регионе показатель запасов пониже - 68, но при этом ошибка всего 0.89. Регион гораздо более предсказуем."
   ]
  },
  {
   "cell_type": "markdown",
   "metadata": {},
   "source": [
    "<div class=\"alert alert-block alert-success\">\n",
    "<b>Комментарий ревьюера:</b>\n",
    "\n",
    "<b>✅«Отлично»:</b> Полностью с тобой согласен"
   ]
  },
  {
   "cell_type": "markdown",
   "metadata": {},
   "source": [
    "## Подготовка к расчёту прибыли"
   ]
  },
  {
   "cell_type": "markdown",
   "metadata": {},
   "source": [
    "Бюджет - 10 млрд рублей. При нынешних ценах один баррель сырья приносит 450 рублей дохода. Доход с каждой единицы продукта составляет 450 тыс. рублей, поскольку объём указан в тысячах баррелей."
   ]
  },
  {
   "cell_type": "code",
   "execution_count": 13,
   "metadata": {},
   "outputs": [
    {
     "name": "stdout",
     "output_type": "stream",
     "text": [
      "111.11\n"
     ]
    }
   ],
   "source": [
    "BUDGET = 10**10\n",
    "BOREHOLES = 500\n",
    "BEST_BOREHOLES = 200\n",
    "INCOME_FOR_ONE = 450000\n",
    "\n",
    "required_product = BUDGET / (INCOME_FOR_ONE*BEST_BOREHOLES)\n",
    "print('{:.2f}'.format(required_product))"
   ]
  },
  {
   "cell_type": "markdown",
   "metadata": {},
   "source": [
    "<div class=\"alert alert-warning\" role=\"alert\">\n",
    "<b>Комментарий ревьюера:</b>\n",
    "\n",
    "<b>⚠️«Можно лучше»: </b> В соответствии с [PEP 8](https://pythonworld.ru/osnovy/pep-8-rukovodstvo-po-napisaniyu-koda-na-python.html) константы необходимо именовать прописными (заглавными) буквами."
   ]
  },
  {
   "cell_type": "markdown",
   "metadata": {},
   "source": [
    "<div class=\"alert alert-block alert-info\">\n",
    "<b>Комментарий студента:</b> Исправил.\n",
    "</div>"
   ]
  },
  {
   "cell_type": "markdown",
   "metadata": {},
   "source": [
    "<div class=\"alert alert-block alert-success\">\n",
    "<b>Комментарий ревьюера v2:</b>\n",
    "\n",
    "<b>✅«Отлично»:</b> 👍"
   ]
  },
  {
   "cell_type": "markdown",
   "metadata": {},
   "source": [
    "**Вывод:**\n",
    "- Для безубыточной разработки новой скважины необходимый объем - 111.11 тыс. баррелей \n",
    "- Этот результат выше средних показателей во всех регионах"
   ]
  },
  {
   "cell_type": "markdown",
   "metadata": {},
   "source": [
    "## Расчёт прибыли и рисков "
   ]
  },
  {
   "cell_type": "markdown",
   "metadata": {},
   "source": [
    "Необходимо для каждого региона случайным образом выбрать 500 точек, из которых выбрать 200 лучших и написать для них прогнозируемую прибыль."
   ]
  },
  {
   "cell_type": "code",
   "execution_count": 14,
   "metadata": {},
   "outputs": [],
   "source": [
    "prediction0 = pd.Series(prediction0)\n",
    "prediction1 = pd.Series(prediction1)\n",
    "prediction2 = pd.Series(prediction2)"
   ]
  },
  {
   "cell_type": "code",
   "execution_count": 15,
   "metadata": {},
   "outputs": [],
   "source": [
    "target0_valid = pd.Series(target0_valid).reset_index(drop=True)\n",
    "target1_valid = pd.Series(target1_valid).reset_index(drop=True)\n",
    "target2_valid = pd.Series(target2_valid).reset_index(drop=True)"
   ]
  },
  {
   "cell_type": "code",
   "execution_count": 16,
   "metadata": {},
   "outputs": [],
   "source": [
    "def predicted_income(prediction, target, printing=True):\n",
    "    prediction_new = prediction.sample(n=BOREHOLES, replace=True, random_state=state)\n",
    "    prediction_sorted = prediction_new.sort_values(ascending=False)\n",
    "    prediction_sorted = prediction_sorted[:BEST_BOREHOLES]\n",
    "    target_sorted = target[prediction_sorted.index]\n",
    "    product_target_sum = sum(target_sorted)\n",
    "    projected_income = product_target_sum * INCOME_FOR_ONE - BUDGET\n",
    "    if printing==True:\n",
    "        print('Суммарный объем 200 лучших точек:{:.2f}'.format(product_target_sum))\n",
    "        print('Предсказанная прибыль на 200 лучших точках будет:{:.2f}'.format(projected_income))\n",
    "        print('Средний объем запасов на 200 лучших точках:{:.2f}'.format(target_sorted.mean()))\n",
    "    else:\n",
    "        return projected_income"
   ]
  },
  {
   "cell_type": "markdown",
   "metadata": {},
   "source": [
    "<div class=\"alert alert-block alert-danger\">\n",
    "<b>Комментарий ревьюера:</b>\n",
    "\n",
    "<b>⛔️«Надо исправить»:</b> Сэмплирование без возвращения не даёт независимые подвыборки: чем больше размер подвыборки, тем выраженнее будет зависимость."
   ]
  },
  {
   "cell_type": "markdown",
   "metadata": {},
   "source": [
    "<div class=\"alert alert-block alert-info\">\n",
    "<b>Комментарий студента:</b> Исправил.\n",
    "</div>"
   ]
  },
  {
   "cell_type": "markdown",
   "metadata": {},
   "source": [
    "<div class=\"alert alert-block alert-success\">\n",
    "<b>Комментарий ревьюера v2:</b>\n",
    "\n",
    "<b>✅«Отлично»:</b> 👍"
   ]
  },
  {
   "cell_type": "markdown",
   "metadata": {},
   "source": [
    "### 1 регион"
   ]
  },
  {
   "cell_type": "code",
   "execution_count": 17,
   "metadata": {},
   "outputs": [
    {
     "name": "stdout",
     "output_type": "stream",
     "text": [
      "Суммарный объем 200 лучших точек:22965.57\n",
      "Предсказанная прибыль на 200 лучших точках будет:334507827.64\n",
      "Средний объем запасов на 200 лучших точках:114.83\n"
     ]
    }
   ],
   "source": [
    "predicted_income(prediction0, target0_valid)"
   ]
  },
  {
   "cell_type": "markdown",
   "metadata": {},
   "source": [
    "### 2 регион"
   ]
  },
  {
   "cell_type": "code",
   "execution_count": 18,
   "metadata": {},
   "outputs": [
    {
     "name": "stdout",
     "output_type": "stream",
     "text": [
      "Суммарный объем 200 лучших точек:22974.68\n",
      "Предсказанная прибыль на 200 лучших точках будет:338607466.81\n",
      "Средний объем запасов на 200 лучших точках:114.87\n"
     ]
    }
   ],
   "source": [
    "predicted_income(prediction1, target1_valid)"
   ]
  },
  {
   "cell_type": "markdown",
   "metadata": {},
   "source": [
    "### 3 регион"
   ]
  },
  {
   "cell_type": "code",
   "execution_count": 19,
   "metadata": {},
   "outputs": [
    {
     "name": "stdout",
     "output_type": "stream",
     "text": [
      "Суммарный объем 200 лучших точек:23128.83\n",
      "Предсказанная прибыль на 200 лучших точках будет:407973646.25\n",
      "Средний объем запасов на 200 лучших точках:115.64\n"
     ]
    }
   ],
   "source": [
    "predicted_income(prediction2, target2_valid)"
   ]
  },
  {
   "cell_type": "markdown",
   "metadata": {},
   "source": [
    "**Выводы:**\n",
    "- Спрогнозированная прибыль на 200 лучших точках среди 500 случайных в третьем регионе прибыль оказалась выше, чем в двух других. Но результат может быть далек от истины, нужно воспользоваться бутстрепом для корректной оценки."
   ]
  },
  {
   "cell_type": "markdown",
   "metadata": {},
   "source": [
    "<div class=\"alert alert-warning\" role=\"alert\">\n",
    "<b>Комментарий ревьюера:</b>\n",
    "\n",
    "<b>⚠️«Можно лучше»: </b> На самом деле расчитывать прибыль на основе предсказаний не совсем корректно. Это обрадовало бы бизнес (хорошо, когда прибыль полностью прогнозируема 😉), но в действительности так не бывает, только если наша модель идеальна. Поэтому мы и используем бутстрап."
   ]
  },
  {
   "cell_type": "markdown",
   "metadata": {},
   "source": [
    "<div class=\"alert alert-block alert-info\">\n",
    "<b>Комментарий студента:</b> Исправил. Если я правильно понял.\n",
    "</div>"
   ]
  },
  {
   "cell_type": "markdown",
   "metadata": {},
   "source": [
    "<div class=\"alert alert-block alert-success\">\n",
    "<b>Комментарий ревьюера v2:</b>\n",
    "\n",
    "<b>✅«Отлично»:</b> Смысл комментария в том что пункты 4.1, 4.2, 4.3 можер не делать"
   ]
  },
  {
   "cell_type": "markdown",
   "metadata": {},
   "source": [
    "### Bootstrap"
   ]
  },
  {
   "cell_type": "markdown",
   "metadata": {},
   "source": [
    "Теперь нужно оценить нашу прибыль: возьмем 1000 выборок и на каждой из них посчитаем прибыль. Дальше возьмем среднюю и посмотрим 95% доверительный интервал, оценим риски."
   ]
  },
  {
   "cell_type": "code",
   "execution_count": 20,
   "metadata": {},
   "outputs": [],
   "source": [
    "def bootstrap(target, prediction, samples=1000):\n",
    "    incomes = []\n",
    "    negative_income = 0\n",
    "    for i in range(samples):\n",
    "        sample_income = predicted_income(prediction, target, printing=False)\n",
    "        incomes.append(sample_income)\n",
    "        if sample_income < 0:\n",
    "            negative_income += 1\n",
    "    incomes = pd.Series(incomes)\n",
    "    mean_income = incomes.mean()\n",
    "    lower = incomes.quantile(0.025)\n",
    "    upper = incomes.quantile(0.975)\n",
    "    print('Средняя прибыль на 1000 случайных выборках:', mean_income)\n",
    "    print('95%-й доверительный интервал: [', lower, ';', upper, ']')\n",
    "    risks = negative_income / samples\n",
    "    print('Риск получить отрицательную прибыль: ', risks)         "
   ]
  },
  {
   "cell_type": "markdown",
   "metadata": {},
   "source": [
    "### 1 регион bootstrap"
   ]
  },
  {
   "cell_type": "code",
   "execution_count": 21,
   "metadata": {},
   "outputs": [
    {
     "name": "stdout",
     "output_type": "stream",
     "text": [
      "Средняя прибыль на 1000 случайных выборках: 394141461.383843\n",
      "95%-й доверительный интервал: [ -69450566.85671547 ; 915496165.8311473 ]\n",
      "Риск получить отрицательную прибыль:  0.061\n"
     ]
    }
   ],
   "source": [
    "bootstrap(target0_valid, prediction0)"
   ]
  },
  {
   "cell_type": "markdown",
   "metadata": {},
   "source": [
    "### 2 регион bootstrap"
   ]
  },
  {
   "cell_type": "code",
   "execution_count": 22,
   "metadata": {},
   "outputs": [
    {
     "name": "stdout",
     "output_type": "stream",
     "text": [
      "Средняя прибыль на 1000 случайных выборках: 454458201.4435338\n",
      "95%-й доверительный интервал: [ 64528567.02500654 ; 855133541.236831 ]\n",
      "Риск получить отрицательную прибыль:  0.007\n"
     ]
    }
   ],
   "source": [
    "bootstrap(target1_valid, prediction1)"
   ]
  },
  {
   "cell_type": "markdown",
   "metadata": {},
   "source": [
    "### 3 регион bootstrap"
   ]
  },
  {
   "cell_type": "code",
   "execution_count": 23,
   "metadata": {},
   "outputs": [
    {
     "name": "stdout",
     "output_type": "stream",
     "text": [
      "Средняя прибыль на 1000 случайных выборках: 353740729.6529695\n",
      "95%-й доверительный интервал: [ -162650946.9422945 ; 847761844.5147644 ]\n",
      "Риск получить отрицательную прибыль:  0.076\n"
     ]
    }
   ],
   "source": [
    "bootstrap(target2_valid, prediction2)"
   ]
  },
  {
   "cell_type": "markdown",
   "metadata": {},
   "source": [
    "### Выводы:"
   ]
  },
  {
   "cell_type": "markdown",
   "metadata": {},
   "source": [
    "- Суммарный объем во всех трех регионах на 200 лучших точках среди 500 случайных +-500 тыс. баррелей одинаков(22400-22900)\n",
    "- Предсказанная прибыль сначала оказалась самой высокой в первом регионе - 330 млн, средний объем запасов там также самый высокий(около 114 тыс. баррелей). Стоит отметить, что во всех трех регионах объем запасов превышает необходимый(111.11) для окупаемости.\n",
    "- После применения метода bootstrap выяснилось: средняя прибыль на 1000 случайных выборках наивысшая во втором регионе, около 463 млн\n",
    "- Риск получить отрицательную прибыль наименьший у второго региона - около 1 процента, в то время как в первом регионе 6, а в третьем 8.\n",
    "- По доверительным 95% интервалам видно, что 95% \"прибылей\" в первом регионе попадут в положительный интервал, в то время как в первом и третьем регионе разброс сильно больше и там фигурирует отрицательная прибыль.\n",
    "- **Рекомендуется открывать точку во втором регионе**"
   ]
  },
  {
   "cell_type": "markdown",
   "metadata": {},
   "source": [
    "## Выводы по проекту:"
   ]
  },
  {
   "cell_type": "markdown",
   "metadata": {},
   "source": [
    "- Изначальные данные успешно загружены и находятся в надлежащем виде. Некоторые признаки распределены нормально, некоторые с небольшими отклонениями. Признаки не требуют масштабирования.\n",
    "- В первом и третьем регионе довольно высокие средние показатели запасов нефти(90+ тыс.), но при этом имеют крайне высокую среднеквадратичную ошибку(около 40). В то же время во втором регионе показатель запасов ниже(68), но при этом среднеквадратичная ошибка очень мала(0.9).\n",
    "- Выяснилось, что для безубыточной разработки новой скважины необходимый объем - 111.11 тыс. баррелей\n",
    "- Средний объем запасов на случайных точках оказался во всех трех регионах оказался выше необходимых 111.11\n",
    "- Второй регион оказался самым потенциально прибыльным и менее рисковым - доверительный 95% интервал там (67 млн, 851 млн), а прогнозируемая средняя прибыль на 1000 случайных точках оказалась 463 млн. В первом и третьем регионах есть немалые риски убытков.\n",
    "- **Точку рекомендуется открывать во втором регионе**"
   ]
  },
  {
   "cell_type": "markdown",
   "metadata": {},
   "source": [
    "<div class=\"alert alert-block alert-success\">\n",
    "<b>Комментарий ревьюера:</b>\n",
    "\n",
    "<b>✅«Отлично»:</b> Хороший развернутый вывод"
   ]
  },
  {
   "cell_type": "markdown",
   "metadata": {},
   "source": [
    "<div style=\"border:solid Chocolate 2px; padding: 40px\">\n",
    "\n",
    "**Общий вывод по проекту**\n",
    "\n",
    "Спасибо за твой проект! У тебя хорошая работа!\n",
    "\n",
    "**Положительные моменты проекта**: \n",
    "* Все пункты выполнены\n",
    "* Шаги последовательные, есть комментарии шагов\n",
    "* Проводится аналитика\n",
    "* Регион определен верно\n",
    "* Наглядное сравнение результатво по регионам\n",
    "* Подробные выводы\n",
    "    \n",
    "**Что можно улучшить:**\n",
    "* Попытаться убрать дублирование кода\n",
    "* Найти и убрать неявные дубликаты\n",
    "    \n",
    "**Обязательные исправления отмечены красными комментариями, без них, к сожалению, не получится принять работу:**\n",
    "* Бутстрап без возвращения\n",
    "\n",
    "**Желаю удачи и жду твой проект на повторное ревью!**😉"
   ]
  },
  {
   "cell_type": "markdown",
   "metadata": {},
   "source": [
    "## Чек-лист готовности проекта"
   ]
  },
  {
   "cell_type": "markdown",
   "metadata": {},
   "source": [
    "Поставьте 'x' в выполненных пунктах. Далее нажмите Shift+Enter."
   ]
  },
  {
   "cell_type": "markdown",
   "metadata": {},
   "source": [
    "- [x]  Jupyter Notebook открыт\n",
    "- [x]  Весь код выполняется без ошибок\n",
    "- [x]  Ячейки с кодом расположены в порядке исполнения\n",
    "- [x]  Выполнен шаг 1: данные подготовлены\n",
    "- [x]  Выполнен шаг 2: модели обучены и проверены\n",
    "    - [x]  Данные корректно разбиты на обучающую и валидационную выборки\n",
    "    - [x]  Модели обучены, предсказания сделаны\n",
    "    - [x]  Предсказания и правильные ответы на валидационной выборке сохранены\n",
    "    - [x]  На экране напечатаны результаты\n",
    "    - [x]  Сделаны выводы\n",
    "- [x]  Выполнен шаг 3: проведена подготовка к расчёту прибыли\n",
    "    - [x]  Для всех ключевых значений созданы константы Python\n",
    "    - [x]  Посчитано минимальное среднее количество продукта в месторождениях региона, достаточное для разработки\n",
    "    - [x]  По предыдущему пункту сделаны выводы\n",
    "    - [x]  Написана функция расчёта прибыли\n",
    "- [x]  Выполнен шаг 4: посчитаны риски и прибыль\n",
    "    - [x]  Проведена процедура *Bootstrap*\n",
    "    - [x]  Все параметры бутстрепа соответствуют условию\n",
    "    - [x]  Найдены все нужные величины\n",
    "    - [x]  Предложен регион для разработки месторождения\n",
    "    - [x]  Выбор региона обоснован"
   ]
  },
  {
   "cell_type": "code",
   "execution_count": null,
   "metadata": {},
   "outputs": [],
   "source": []
  }
 ],
 "metadata": {
  "ExecuteTimeLog": [
   {
    "duration": 1731,
    "start_time": "2023-07-27T11:23:00.270Z"
   },
   {
    "duration": 873,
    "start_time": "2023-07-27T11:23:02.910Z"
   },
   {
    "duration": 4,
    "start_time": "2023-07-27T11:44:35.161Z"
   },
   {
    "duration": 1237,
    "start_time": "2023-07-27T11:44:36.004Z"
   },
   {
    "duration": 1257,
    "start_time": "2023-07-27T11:48:34.381Z"
   },
   {
    "duration": 1289,
    "start_time": "2023-07-27T11:48:46.665Z"
   },
   {
    "duration": 1361,
    "start_time": "2023-07-27T11:50:56.249Z"
   },
   {
    "duration": 1514,
    "start_time": "2023-07-27T11:50:59.826Z"
   },
   {
    "duration": 1421,
    "start_time": "2023-07-27T11:53:29.421Z"
   },
   {
    "duration": 1486,
    "start_time": "2023-07-27T11:53:31.181Z"
   },
   {
    "duration": 1711,
    "start_time": "2023-07-27T11:53:32.669Z"
   },
   {
    "duration": 656,
    "start_time": "2023-07-27T12:08:54.719Z"
   },
   {
    "duration": 1821,
    "start_time": "2023-07-27T19:48:57.200Z"
   },
   {
    "duration": 5,
    "start_time": "2023-07-27T19:49:19.961Z"
   },
   {
    "duration": 17,
    "start_time": "2023-07-28T08:58:28.412Z"
   },
   {
    "duration": 2047,
    "start_time": "2023-07-28T10:01:00.112Z"
   },
   {
    "duration": 2116,
    "start_time": "2023-07-28T10:01:02.161Z"
   },
   {
    "duration": 7,
    "start_time": "2023-07-28T10:01:04.280Z"
   },
   {
    "duration": 1750,
    "start_time": "2023-07-28T10:01:04.290Z"
   },
   {
    "duration": 1735,
    "start_time": "2023-07-28T10:01:06.043Z"
   },
   {
    "duration": 2016,
    "start_time": "2023-07-28T10:01:07.780Z"
   },
   {
    "duration": 15,
    "start_time": "2023-07-28T10:01:09.798Z"
   },
   {
    "duration": 9,
    "start_time": "2023-07-28T10:01:09.816Z"
   },
   {
    "duration": 159,
    "start_time": "2023-07-28T10:01:09.827Z"
   },
   {
    "duration": 7,
    "start_time": "2023-07-28T10:01:26.818Z"
   },
   {
    "duration": 43,
    "start_time": "2023-07-28T10:01:27.339Z"
   },
   {
    "duration": 33,
    "start_time": "2023-07-28T10:24:16.235Z"
   },
   {
    "duration": 28,
    "start_time": "2023-07-28T10:24:17.128Z"
   },
   {
    "duration": 6,
    "start_time": "2023-07-28T11:15:01.637Z"
   },
   {
    "duration": 4,
    "start_time": "2023-07-28T11:15:48.693Z"
   },
   {
    "duration": 302,
    "start_time": "2023-07-28T11:16:16.945Z"
   },
   {
    "duration": 15,
    "start_time": "2023-07-28T11:16:41.507Z"
   },
   {
    "duration": 7,
    "start_time": "2023-07-28T11:16:46.709Z"
   },
   {
    "duration": 7,
    "start_time": "2023-07-28T11:58:38.212Z"
   },
   {
    "duration": 8,
    "start_time": "2023-07-28T11:59:00.227Z"
   },
   {
    "duration": 7,
    "start_time": "2023-07-28T12:00:20.809Z"
   },
   {
    "duration": 8,
    "start_time": "2023-07-28T12:01:04.139Z"
   },
   {
    "duration": 8,
    "start_time": "2023-07-28T12:02:08.174Z"
   },
   {
    "duration": 7,
    "start_time": "2023-07-28T12:02:08.691Z"
   },
   {
    "duration": 6,
    "start_time": "2023-07-28T12:11:12.732Z"
   },
   {
    "duration": 28,
    "start_time": "2023-07-28T12:11:13.332Z"
   },
   {
    "duration": 5,
    "start_time": "2023-07-28T12:11:24.548Z"
   },
   {
    "duration": 14,
    "start_time": "2023-07-28T12:11:25.094Z"
   },
   {
    "duration": 6,
    "start_time": "2023-07-28T12:14:41.523Z"
   },
   {
    "duration": 4,
    "start_time": "2023-07-28T12:14:42.828Z"
   },
   {
    "duration": 5,
    "start_time": "2023-07-28T12:14:43.170Z"
   },
   {
    "duration": 7,
    "start_time": "2023-07-28T12:14:43.757Z"
   },
   {
    "duration": 7,
    "start_time": "2023-07-28T12:18:00.599Z"
   },
   {
    "duration": 11,
    "start_time": "2023-07-28T12:18:01.167Z"
   },
   {
    "duration": 4,
    "start_time": "2023-07-28T12:19:29.240Z"
   },
   {
    "duration": 11,
    "start_time": "2023-07-28T12:19:29.789Z"
   },
   {
    "duration": 11,
    "start_time": "2023-07-28T12:20:22.365Z"
   },
   {
    "duration": 10,
    "start_time": "2023-07-28T12:20:38.406Z"
   },
   {
    "duration": 6,
    "start_time": "2023-07-28T12:23:20.081Z"
   },
   {
    "duration": 8,
    "start_time": "2023-07-28T12:23:21.934Z"
   },
   {
    "duration": 10,
    "start_time": "2023-07-28T12:23:23.262Z"
   },
   {
    "duration": 12,
    "start_time": "2023-07-28T12:23:24.153Z"
   },
   {
    "duration": 6,
    "start_time": "2023-07-28T12:42:30.837Z"
   },
   {
    "duration": 7,
    "start_time": "2023-07-28T12:42:32.510Z"
   },
   {
    "duration": 8,
    "start_time": "2023-07-28T12:42:35.743Z"
   },
   {
    "duration": 8,
    "start_time": "2023-07-28T12:42:36.513Z"
   },
   {
    "duration": 10,
    "start_time": "2023-07-28T13:07:22.366Z"
   },
   {
    "duration": 14,
    "start_time": "2023-07-28T13:07:23.162Z"
   },
   {
    "duration": 8,
    "start_time": "2023-07-28T13:07:23.945Z"
   },
   {
    "duration": 10,
    "start_time": "2023-07-28T13:07:25.508Z"
   },
   {
    "duration": 26,
    "start_time": "2023-07-28T17:59:16.453Z"
   },
   {
    "duration": 1864,
    "start_time": "2023-07-28T17:59:21.758Z"
   },
   {
    "duration": 1154,
    "start_time": "2023-07-28T17:59:23.625Z"
   },
   {
    "duration": 4,
    "start_time": "2023-07-28T17:59:24.781Z"
   },
   {
    "duration": 1714,
    "start_time": "2023-07-28T17:59:24.787Z"
   },
   {
    "duration": 1714,
    "start_time": "2023-07-28T17:59:26.503Z"
   },
   {
    "duration": 2040,
    "start_time": "2023-07-28T17:59:28.219Z"
   },
   {
    "duration": 14,
    "start_time": "2023-07-28T17:59:30.260Z"
   },
   {
    "duration": 54,
    "start_time": "2023-07-28T17:59:30.275Z"
   },
   {
    "duration": 115,
    "start_time": "2023-07-28T17:59:30.331Z"
   },
   {
    "duration": 198,
    "start_time": "2023-07-28T17:59:30.458Z"
   },
   {
    "duration": 192,
    "start_time": "2023-07-28T17:59:30.663Z"
   },
   {
    "duration": 273,
    "start_time": "2023-07-28T17:59:30.861Z"
   },
   {
    "duration": 0,
    "start_time": "2023-07-28T17:59:31.137Z"
   },
   {
    "duration": 0,
    "start_time": "2023-07-28T17:59:31.142Z"
   },
   {
    "duration": 0,
    "start_time": "2023-07-28T17:59:31.144Z"
   },
   {
    "duration": 0,
    "start_time": "2023-07-28T17:59:31.148Z"
   },
   {
    "duration": 0,
    "start_time": "2023-07-28T17:59:31.154Z"
   },
   {
    "duration": 0,
    "start_time": "2023-07-28T17:59:31.155Z"
   },
   {
    "duration": 0,
    "start_time": "2023-07-28T17:59:31.156Z"
   },
   {
    "duration": 4,
    "start_time": "2023-07-28T17:59:44.895Z"
   },
   {
    "duration": 4,
    "start_time": "2023-07-28T17:59:47.032Z"
   },
   {
    "duration": 5,
    "start_time": "2023-07-28T17:59:47.413Z"
   },
   {
    "duration": 5,
    "start_time": "2023-07-28T17:59:47.789Z"
   },
   {
    "duration": 9,
    "start_time": "2023-07-28T17:59:48.723Z"
   },
   {
    "duration": 8,
    "start_time": "2023-07-28T17:59:49.977Z"
   },
   {
    "duration": 9,
    "start_time": "2023-07-28T17:59:54.605Z"
   },
   {
    "duration": 190,
    "start_time": "2023-07-28T18:01:08.782Z"
   },
   {
    "duration": 5,
    "start_time": "2023-07-28T18:01:13.789Z"
   },
   {
    "duration": 7,
    "start_time": "2023-07-28T18:01:14.944Z"
   },
   {
    "duration": 19,
    "start_time": "2023-07-28T18:01:17.046Z"
   },
   {
    "duration": 7,
    "start_time": "2023-07-28T18:01:17.805Z"
   },
   {
    "duration": 11,
    "start_time": "2023-07-28T18:13:45.682Z"
   },
   {
    "duration": 7,
    "start_time": "2023-07-28T18:13:48.441Z"
   },
   {
    "duration": 26,
    "start_time": "2023-07-28T18:13:49.381Z"
   },
   {
    "duration": 5,
    "start_time": "2023-07-28T18:14:19.192Z"
   },
   {
    "duration": 1462,
    "start_time": "2023-07-28T18:14:21.121Z"
   },
   {
    "duration": 8,
    "start_time": "2023-07-28T18:14:36.871Z"
   },
   {
    "duration": 1505,
    "start_time": "2023-07-28T18:14:37.545Z"
   },
   {
    "duration": 5,
    "start_time": "2023-07-28T18:14:56.511Z"
   },
   {
    "duration": 1752,
    "start_time": "2023-07-28T18:14:56.928Z"
   },
   {
    "duration": 1540,
    "start_time": "2023-07-28T18:15:00.898Z"
   },
   {
    "duration": 1488,
    "start_time": "2023-07-28T18:15:04.409Z"
   },
   {
    "duration": 192,
    "start_time": "2023-07-28T18:16:27.516Z"
   },
   {
    "duration": 7,
    "start_time": "2023-07-28T18:16:55.339Z"
   },
   {
    "duration": 11,
    "start_time": "2023-07-28T18:16:57.507Z"
   },
   {
    "duration": 6,
    "start_time": "2023-07-28T18:17:22.395Z"
   },
   {
    "duration": 11,
    "start_time": "2023-07-28T18:17:23.345Z"
   },
   {
    "duration": 6,
    "start_time": "2023-07-28T18:17:24.826Z"
   },
   {
    "duration": 8,
    "start_time": "2023-07-28T18:17:25.914Z"
   },
   {
    "duration": 6,
    "start_time": "2023-07-28T18:17:28.696Z"
   },
   {
    "duration": 1291,
    "start_time": "2023-07-28T18:17:30.764Z"
   },
   {
    "duration": 1273,
    "start_time": "2023-07-28T18:17:35.119Z"
   },
   {
    "duration": 1663,
    "start_time": "2023-07-28T18:18:28.162Z"
   },
   {
    "duration": 698,
    "start_time": "2023-07-28T18:18:29.827Z"
   },
   {
    "duration": 4,
    "start_time": "2023-07-28T18:18:30.527Z"
   },
   {
    "duration": 1741,
    "start_time": "2023-07-28T18:18:30.533Z"
   },
   {
    "duration": 1670,
    "start_time": "2023-07-28T18:18:32.277Z"
   },
   {
    "duration": 1952,
    "start_time": "2023-07-28T18:18:33.949Z"
   },
   {
    "duration": 12,
    "start_time": "2023-07-28T18:18:35.902Z"
   },
   {
    "duration": 13,
    "start_time": "2023-07-28T18:18:35.916Z"
   },
   {
    "duration": 42,
    "start_time": "2023-07-28T18:18:35.932Z"
   },
   {
    "duration": 193,
    "start_time": "2023-07-28T18:18:35.976Z"
   },
   {
    "duration": 182,
    "start_time": "2023-07-28T18:18:36.173Z"
   },
   {
    "duration": 112,
    "start_time": "2023-07-28T18:18:36.362Z"
   },
   {
    "duration": 12,
    "start_time": "2023-07-28T18:18:36.476Z"
   },
   {
    "duration": 11,
    "start_time": "2023-07-28T18:18:36.491Z"
   },
   {
    "duration": 9,
    "start_time": "2023-07-28T18:18:36.503Z"
   },
   {
    "duration": 15,
    "start_time": "2023-07-28T18:18:36.514Z"
   },
   {
    "duration": 10,
    "start_time": "2023-07-28T18:18:36.531Z"
   },
   {
    "duration": 11,
    "start_time": "2023-07-28T18:18:36.542Z"
   },
   {
    "duration": 20,
    "start_time": "2023-07-28T18:18:36.554Z"
   },
   {
    "duration": 1212,
    "start_time": "2023-07-28T18:18:36.576Z"
   },
   {
    "duration": 1778,
    "start_time": "2023-07-28T18:18:37.790Z"
   },
   {
    "duration": 1923,
    "start_time": "2023-07-28T18:18:39.570Z"
   },
   {
    "duration": 6,
    "start_time": "2023-07-28T18:23:56.348Z"
   },
   {
    "duration": 1210,
    "start_time": "2023-07-28T18:23:56.971Z"
   },
   {
    "duration": 1288,
    "start_time": "2023-07-28T18:23:58.183Z"
   },
   {
    "duration": 1221,
    "start_time": "2023-07-28T18:23:59.473Z"
   },
   {
    "duration": 1215,
    "start_time": "2023-07-28T18:24:26.767Z"
   },
   {
    "duration": 1972,
    "start_time": "2023-07-29T08:08:32.715Z"
   },
   {
    "duration": 1015,
    "start_time": "2023-07-29T08:08:34.689Z"
   },
   {
    "duration": 4,
    "start_time": "2023-07-29T08:08:35.706Z"
   },
   {
    "duration": 1555,
    "start_time": "2023-07-29T08:08:35.712Z"
   },
   {
    "duration": 1593,
    "start_time": "2023-07-29T08:08:37.270Z"
   },
   {
    "duration": 1802,
    "start_time": "2023-07-29T08:08:38.864Z"
   },
   {
    "duration": 13,
    "start_time": "2023-07-29T08:08:40.667Z"
   },
   {
    "duration": 8,
    "start_time": "2023-07-29T08:08:40.682Z"
   },
   {
    "duration": 62,
    "start_time": "2023-07-29T08:08:40.691Z"
   },
   {
    "duration": 112,
    "start_time": "2023-07-29T08:08:40.755Z"
   },
   {
    "duration": 185,
    "start_time": "2023-07-29T08:08:40.869Z"
   },
   {
    "duration": 97,
    "start_time": "2023-07-29T08:08:41.058Z"
   },
   {
    "duration": 7,
    "start_time": "2023-07-29T08:08:41.157Z"
   },
   {
    "duration": 8,
    "start_time": "2023-07-29T08:08:41.166Z"
   },
   {
    "duration": 8,
    "start_time": "2023-07-29T08:08:41.175Z"
   },
   {
    "duration": 12,
    "start_time": "2023-07-29T08:08:41.185Z"
   },
   {
    "duration": 7,
    "start_time": "2023-07-29T08:08:41.198Z"
   },
   {
    "duration": 10,
    "start_time": "2023-07-29T08:08:41.206Z"
   },
   {
    "duration": 8,
    "start_time": "2023-07-29T08:08:41.217Z"
   },
   {
    "duration": 1247,
    "start_time": "2023-07-29T08:08:41.226Z"
   },
   {
    "duration": 1148,
    "start_time": "2023-07-29T08:08:42.475Z"
   },
   {
    "duration": 1126,
    "start_time": "2023-07-29T08:08:43.625Z"
   },
   {
    "duration": 1689,
    "start_time": "2023-07-29T08:55:26.461Z"
   },
   {
    "duration": 872,
    "start_time": "2023-07-29T08:55:29.594Z"
   },
   {
    "duration": 190,
    "start_time": "2023-07-29T08:55:38.579Z"
   },
   {
    "duration": 106,
    "start_time": "2023-07-29T08:58:08.253Z"
   },
   {
    "duration": 110,
    "start_time": "2023-07-29T08:58:21.853Z"
   },
   {
    "duration": 108,
    "start_time": "2023-07-29T08:58:32.419Z"
   },
   {
    "duration": 316,
    "start_time": "2023-07-29T09:00:09.205Z"
   },
   {
    "duration": 1402,
    "start_time": "2023-07-29T09:06:34.777Z"
   },
   {
    "duration": 535,
    "start_time": "2023-07-29T09:06:36.180Z"
   },
   {
    "duration": 105,
    "start_time": "2023-07-29T09:06:36.716Z"
   },
   {
    "duration": 3,
    "start_time": "2023-07-29T09:06:36.823Z"
   },
   {
    "duration": 1326,
    "start_time": "2023-07-29T09:06:36.828Z"
   },
   {
    "duration": 1301,
    "start_time": "2023-07-29T09:06:38.155Z"
   },
   {
    "duration": 1630,
    "start_time": "2023-07-29T09:06:39.458Z"
   },
   {
    "duration": 17,
    "start_time": "2023-07-29T09:06:41.090Z"
   },
   {
    "duration": 9,
    "start_time": "2023-07-29T09:06:41.108Z"
   },
   {
    "duration": 33,
    "start_time": "2023-07-29T09:06:41.120Z"
   },
   {
    "duration": 148,
    "start_time": "2023-07-29T09:06:41.154Z"
   },
   {
    "duration": 120,
    "start_time": "2023-07-29T09:06:41.304Z"
   },
   {
    "duration": 4,
    "start_time": "2023-07-29T09:06:41.500Z"
   },
   {
    "duration": 105,
    "start_time": "2023-07-29T09:06:41.506Z"
   },
   {
    "duration": 9,
    "start_time": "2023-07-29T09:06:41.612Z"
   },
   {
    "duration": 10,
    "start_time": "2023-07-29T09:06:41.622Z"
   },
   {
    "duration": 16,
    "start_time": "2023-07-29T09:06:41.634Z"
   },
   {
    "duration": 15,
    "start_time": "2023-07-29T09:06:41.652Z"
   },
   {
    "duration": 21,
    "start_time": "2023-07-29T09:06:41.669Z"
   },
   {
    "duration": 23,
    "start_time": "2023-07-29T09:06:41.692Z"
   },
   {
    "duration": 943,
    "start_time": "2023-07-29T09:06:41.716Z"
   },
   {
    "duration": 966,
    "start_time": "2023-07-29T09:06:42.661Z"
   },
   {
    "duration": 1484,
    "start_time": "2023-07-29T09:06:43.629Z"
   },
   {
    "duration": 1534,
    "start_time": "2023-07-29T09:10:19.381Z"
   },
   {
    "duration": 536,
    "start_time": "2023-07-29T09:10:20.916Z"
   },
   {
    "duration": 112,
    "start_time": "2023-07-29T09:10:21.454Z"
   },
   {
    "duration": 4,
    "start_time": "2023-07-29T09:10:21.568Z"
   },
   {
    "duration": 1278,
    "start_time": "2023-07-29T09:10:21.575Z"
   },
   {
    "duration": 1277,
    "start_time": "2023-07-29T09:10:22.855Z"
   },
   {
    "duration": 1448,
    "start_time": "2023-07-29T09:10:24.134Z"
   },
   {
    "duration": 9,
    "start_time": "2023-07-29T09:10:25.584Z"
   },
   {
    "duration": 15,
    "start_time": "2023-07-29T09:10:25.599Z"
   },
   {
    "duration": 42,
    "start_time": "2023-07-29T09:10:25.615Z"
   },
   {
    "duration": 156,
    "start_time": "2023-07-29T09:10:25.658Z"
   },
   {
    "duration": 192,
    "start_time": "2023-07-29T09:10:25.817Z"
   },
   {
    "duration": 196,
    "start_time": "2023-07-29T09:10:26.011Z"
   },
   {
    "duration": 33,
    "start_time": "2023-07-29T09:10:26.210Z"
   },
   {
    "duration": 22,
    "start_time": "2023-07-29T09:10:26.244Z"
   },
   {
    "duration": 21,
    "start_time": "2023-07-29T09:10:26.267Z"
   },
   {
    "duration": 18,
    "start_time": "2023-07-29T09:10:26.289Z"
   },
   {
    "duration": 24,
    "start_time": "2023-07-29T09:10:26.309Z"
   },
   {
    "duration": 41,
    "start_time": "2023-07-29T09:10:26.334Z"
   },
   {
    "duration": 32,
    "start_time": "2023-07-29T09:10:26.377Z"
   },
   {
    "duration": 885,
    "start_time": "2023-07-29T09:10:26.411Z"
   },
   {
    "duration": 1302,
    "start_time": "2023-07-29T09:10:27.297Z"
   },
   {
    "duration": 1403,
    "start_time": "2023-07-29T09:10:28.601Z"
   },
   {
    "duration": 84,
    "start_time": "2023-07-29T09:16:38.982Z"
   },
   {
    "duration": 1465,
    "start_time": "2023-07-29T09:16:47.722Z"
   },
   {
    "duration": 541,
    "start_time": "2023-07-29T09:16:49.189Z"
   },
   {
    "duration": 111,
    "start_time": "2023-07-29T09:16:49.732Z"
   },
   {
    "duration": 4,
    "start_time": "2023-07-29T09:16:49.844Z"
   },
   {
    "duration": 1317,
    "start_time": "2023-07-29T09:16:49.850Z"
   },
   {
    "duration": 1276,
    "start_time": "2023-07-29T09:16:51.169Z"
   },
   {
    "duration": 1484,
    "start_time": "2023-07-29T09:16:52.447Z"
   },
   {
    "duration": 10,
    "start_time": "2023-07-29T09:16:53.933Z"
   },
   {
    "duration": 9,
    "start_time": "2023-07-29T09:16:53.944Z"
   },
   {
    "duration": 51,
    "start_time": "2023-07-29T09:16:53.954Z"
   },
   {
    "duration": 98,
    "start_time": "2023-07-29T09:16:54.007Z"
   },
   {
    "duration": 107,
    "start_time": "2023-07-29T09:16:54.107Z"
   },
   {
    "duration": 83,
    "start_time": "2023-07-29T09:16:54.216Z"
   },
   {
    "duration": 14,
    "start_time": "2023-07-29T09:16:54.302Z"
   },
   {
    "duration": 97,
    "start_time": "2023-07-29T09:16:54.318Z"
   },
   {
    "duration": 18,
    "start_time": "2023-07-29T09:16:54.417Z"
   },
   {
    "duration": 20,
    "start_time": "2023-07-29T09:16:54.437Z"
   },
   {
    "duration": 22,
    "start_time": "2023-07-29T09:16:54.458Z"
   },
   {
    "duration": 19,
    "start_time": "2023-07-29T09:16:54.481Z"
   },
   {
    "duration": 13,
    "start_time": "2023-07-29T09:16:54.502Z"
   },
   {
    "duration": 483,
    "start_time": "2023-07-29T09:16:54.517Z"
   },
   {
    "duration": 479,
    "start_time": "2023-07-29T09:16:55.002Z"
   },
   {
    "duration": 457,
    "start_time": "2023-07-29T09:16:55.483Z"
   }
  ],
  "kernelspec": {
   "display_name": "Python 3 (ipykernel)",
   "language": "python",
   "name": "python3"
  },
  "language_info": {
   "codemirror_mode": {
    "name": "ipython",
    "version": 3
   },
   "file_extension": ".py",
   "mimetype": "text/x-python",
   "name": "python",
   "nbconvert_exporter": "python",
   "pygments_lexer": "ipython3",
   "version": "3.9.5"
  },
  "toc": {
   "base_numbering": 1,
   "nav_menu": {},
   "number_sections": true,
   "sideBar": true,
   "skip_h1_title": true,
   "title_cell": "Table of Contents",
   "title_sidebar": "Contents",
   "toc_cell": false,
   "toc_position": {},
   "toc_section_display": true,
   "toc_window_display": true
  }
 },
 "nbformat": 4,
 "nbformat_minor": 2
}
